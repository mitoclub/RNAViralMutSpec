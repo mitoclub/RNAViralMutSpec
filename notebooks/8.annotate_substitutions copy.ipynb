{
 "cells": [
  {
   "cell_type": "markdown",
   "id": "swiss-portugal",
   "metadata": {},
   "source": [
    "## Здесь формируется таблица для Саньки\n",
    "\n",
    "## А также идет проверка на вшивость замен с дерева"
   ]
  },
  {
   "cell_type": "markdown",
   "id": "coral-click",
   "metadata": {},
   "source": [
    "## *RefNuc* у Саньки это отцовский"
   ]
  },
  {
   "cell_type": "code",
   "execution_count": 1,
   "id": "french-ethiopia",
   "metadata": {
    "ExecuteTime": {
     "end_time": "2021-06-03T20:32:37.026286Z",
     "start_time": "2021-06-03T20:32:35.833033Z"
    }
   },
   "outputs": [],
   "source": [
    "from collections import defaultdict\n",
    "import json\n",
    "import os\n",
    "import sys\n",
    "import time\n",
    "\n",
    "from scipy.stats import mannwhitneyu\n",
    "import numpy as np\n",
    "import networkx as nx\n",
    "import pandas as pd\n",
    "import matplotlib.pyplot as plt\n",
    "import seaborn as sns\n",
    "from ete3 import PhyloTree\n",
    "from rna_tools.SecondaryStructure import parse_vienna_to_pairs\n",
    "import tqdm\n",
    "\n",
    "from Bio import SeqIO\n",
    "from Bio.Seq import Seq\n",
    "from Bio.SeqRecord import SeqRecord\n",
    "\n",
    "from src.utils import FastaStorage, node_parent, read_fasta_generator"
   ]
  },
  {
   "cell_type": "code",
   "execution_count": 15,
   "id": "46c5c603",
   "metadata": {},
   "outputs": [
    {
     "data": {
      "text/html": [
       "<div>\n",
       "<style scoped>\n",
       "    .dataframe tbody tr th:only-of-type {\n",
       "        vertical-align: middle;\n",
       "    }\n",
       "\n",
       "    .dataframe tbody tr th {\n",
       "        vertical-align: top;\n",
       "    }\n",
       "\n",
       "    .dataframe thead th {\n",
       "        text-align: right;\n",
       "    }\n",
       "</style>\n",
       "<table border=\"1\" class=\"dataframe\">\n",
       "  <thead>\n",
       "    <tr style=\"text-align: right;\">\n",
       "      <th></th>\n",
       "      <th>mut_id</th>\n",
       "      <th>pos</th>\n",
       "      <th>parent_nucl</th>\n",
       "      <th>child_nucl</th>\n",
       "      <th>parent_nucl_context</th>\n",
       "      <th>child_nucl_context</th>\n",
       "      <th>parent_node</th>\n",
       "      <th>child_node</th>\n",
       "      <th>topology_dist</th>\n",
       "    </tr>\n",
       "  </thead>\n",
       "  <tbody>\n",
       "    <tr>\n",
       "      <th>0</th>\n",
       "      <td>0</td>\n",
       "      <td>1086</td>\n",
       "      <td>G</td>\n",
       "      <td>A</td>\n",
       "      <td>gtGtt</td>\n",
       "      <td>gtAtt</td>\n",
       "      <td>#54520#</td>\n",
       "      <td>#54519#</td>\n",
       "      <td>0</td>\n",
       "    </tr>\n",
       "    <tr>\n",
       "      <th>1</th>\n",
       "      <td>1</td>\n",
       "      <td>3676</td>\n",
       "      <td>T</td>\n",
       "      <td>C</td>\n",
       "      <td>atTtt</td>\n",
       "      <td>atCtt</td>\n",
       "      <td>#54520#</td>\n",
       "      <td>#54519#</td>\n",
       "      <td>0</td>\n",
       "    </tr>\n",
       "  </tbody>\n",
       "</table>\n",
       "</div>"
      ],
      "text/plain": [
       "   mut_id   pos parent_nucl child_nucl parent_nucl_context child_nucl_context  \\\n",
       "0       0  1086           G          A               gtGtt              gtAtt   \n",
       "1       1  3676           T          C               atTtt              atCtt   \n",
       "\n",
       "  parent_node child_node  topology_dist  \n",
       "0     #54520#    #54519#              0  \n",
       "1     #54520#    #54519#              0  "
      ]
     },
     "execution_count": 15,
     "metadata": {},
     "output_type": "execute_result"
    }
   ],
   "source": [
    "PATH_TO_MUT = \"../data/mutation_dists.filtered.csv\"\n",
    "\n",
    "mut = pd.read_csv(PATH_TO_MUT)\n",
    "mut.head(2)"
   ]
  },
  {
   "cell_type": "code",
   "execution_count": 3,
   "id": "3b86c427",
   "metadata": {},
   "outputs": [
    {
     "data": {
      "image/png": "[encoded data removed]",
      "text/plain": [
       "<Figure size 432x288 with 1 Axes>"
      ]
     },
     "metadata": {
      "needs_background": "light"
     },
     "output_type": "display_data"
    }
   ],
   "source": [
    "vc = mut.pos.value_counts()\n",
    "\n",
    "plt.scatter(vc.index, vc.values, s=.4);"
   ]
  },
  {
   "cell_type": "code",
   "execution_count": 4,
   "id": "31868ede",
   "metadata": {},
   "outputs": [
    {
     "name": "stderr",
     "output_type": "stream",
     "text": [
      "/tmp/ipykernel_12246/1640980281.py:2: SettingWithCopyWarning: \n",
      "A value is trying to be set on a copy of a slice from a DataFrame.\n",
      "Try using .loc[row_indexer,col_indexer] = value instead\n",
      "\n",
      "See the caveats in the documentation: https://pandas.pydata.org/pandas-docs/stable/user_guide/indexing.html#returning-a-view-versus-a-copy\n",
      "  most_mut[\"mut\"] = most_mut.parent_nucl + \">\" + most_mut.child_nucl\n"
     ]
    }
   ],
   "source": [
    "most_mut = mut[mut.pos.isin(vc[vc > 1000].index)]\n",
    "most_mut[\"mut\"] = most_mut.parent_nucl + \">\" + most_mut.child_nucl"
   ]
  },
  {
   "cell_type": "code",
   "execution_count": 5,
   "id": "2b98cf19",
   "metadata": {},
   "outputs": [
    {
     "data": {
      "text/plain": [
       "pos    mut\n",
       "1819   A>G    0.472686\n",
       "       G>A    0.517451\n",
       "10322  A>G    0.505105\n",
       "       G>A    0.494895\n",
       "11082  G>T    0.528713\n",
       "       T>G    0.467697\n",
       "11749  C>T    0.501199\n",
       "       T>C    0.488409\n",
       "16886  C>T    0.502087\n",
       "       T>C    0.497913\n",
       "19523  C>T    0.496524\n",
       "       T>C    0.479643\n",
       "21136  A>G    0.504274\n",
       "       G>A    0.492308\n",
       "21574  C>T    0.501995\n",
       "       T>C    0.495346\n",
       "21845  C>T    0.491803\n",
       "       T>C    0.482923\n",
       "21986  A>G    0.476115\n",
       "       G>A    0.512180\n",
       "23011  A>G    0.397018\n",
       "       G>A    0.432432\n",
       "23603  A>C    0.317806\n",
       "       C>A    0.306536\n",
       "24409  A>G    0.468921\n",
       "       G>A    0.484918\n",
       "26680  C>T    0.507222\n",
       "       T>C    0.492778\n",
       "28094  A>T    0.502015\n",
       "       T>A    0.486704\n",
       "Name: mut, dtype: float64"
      ]
     },
     "execution_count": 5,
     "metadata": {},
     "output_type": "execute_result"
    }
   ],
   "source": [
    "most_mut.groupby(\"pos\").mut.value_counts(normalize=True).sort_values(ascending=False).head(30).sort_index()"
   ]
  },
  {
   "cell_type": "code",
   "execution_count": 11,
   "id": "6b3e10e8",
   "metadata": {},
   "outputs": [
    {
     "data": {
      "text/plain": [
       "21986    9483\n",
       "11082    3622\n",
       "21574    3008\n",
       "24409    2188\n",
       "10322    2057\n",
       "16886    1677\n",
       "21845    1464\n",
       "23603    1331\n",
       "1819     1318\n",
       "11749    1251\n",
       "Name: pos, dtype: int64"
      ]
     },
     "execution_count": 11,
     "metadata": {},
     "output_type": "execute_result"
    }
   ],
   "source": [
    "vc.head(10)"
   ]
  },
  {
   "cell_type": "code",
   "execution_count": 95,
   "id": "601bfff5",
   "metadata": {},
   "outputs": [],
   "source": [
    "mut = pd.read_csv(PATH_TO_MUT)\n",
    "annot = pd.read_csv(\"../data/gisaid/metadata_clean.csv\")\n"
   ]
  },
  {
   "cell_type": "code",
   "execution_count": 96,
   "id": "e613b029",
   "metadata": {},
   "outputs": [
    {
     "data": {
      "text/plain": [
       "(558991, 9)"
      ]
     },
     "execution_count": 96,
     "metadata": {},
     "output_type": "execute_result"
    }
   ],
   "source": [
    "# only terminal mutations\n",
    "mut = mut[~mut.child_node.str.startswith(\"#\")]\n",
    "mut.shape"
   ]
  },
  {
   "cell_type": "code",
   "execution_count": 97,
   "id": "26649955",
   "metadata": {},
   "outputs": [
    {
     "name": "stdout",
     "output_type": "stream",
     "text": [
      "(4187537, 12)\n"
     ]
    }
   ],
   "source": [
    "\n",
    "# remove ambiguous records from annot table \n",
    "_annot_vc = annot.strain.value_counts()\n",
    "amb_strains = set(_annot_vc[(_annot_vc > 1)].index)\n",
    "annot = annot[~annot.strain.isin(amb_strains)]\n",
    "print(annot.shape)\n"
   ]
  },
  {
   "cell_type": "code",
   "execution_count": 98,
   "id": "c57dcd2a",
   "metadata": {},
   "outputs": [],
   "source": [
    "mut2 = pd.merge(\n",
    "    mut, \n",
    "    annot[[\"strain\", \"date\"]], \n",
    "    left_on=\"child_node\", \n",
    "    right_on=\"strain\"\n",
    ")\n",
    "mut2.drop(\"strain\", axis=1, inplace=True)"
   ]
  },
  {
   "cell_type": "code",
   "execution_count": 99,
   "id": "5859e9b4",
   "metadata": {},
   "outputs": [
    {
     "data": {
      "text/plain": [
       "((557634, 10), (558991, 9))"
      ]
     },
     "execution_count": 99,
     "metadata": {},
     "output_type": "execute_result"
    }
   ],
   "source": [
    "mut2.shape, mut.shape"
   ]
  },
  {
   "cell_type": "code",
   "execution_count": 114,
   "id": "93283bfa",
   "metadata": {},
   "outputs": [
    {
     "data": {
      "text/plain": [
       "(542768, 11)"
      ]
     },
     "execution_count": 114,
     "metadata": {},
     "output_type": "execute_result"
    }
   ],
   "source": [
    "mut2 = mut2[mut2.date.str.count(\"-\") > 1]\n",
    "mut2[\"month\"] = mut2.date.str.extract(\"(20..-..)\")\n",
    "mut2.shape"
   ]
  },
  {
   "cell_type": "code",
   "execution_count": null,
   "id": "92c9fedb",
   "metadata": {},
   "outputs": [],
   "source": [
    "\n",
    "# month      number_of_mutations\n",
    "# 2019-12       18\n",
    "# 2020-01      215\n",
    "# 2020-02      283\n",
    "# 2020-03     7241\n",
    "# 2020-04     7294\n",
    "\n",
    "# 2020-05     4470\n",
    "# 2020-06     5076\n",
    "# 2020-07     6501\n",
    "\n",
    "# 2020-08     6653\n",
    "# 2020-09     8345\n",
    "# 2020-10    12203\n",
    "\n",
    "# 2020-11    16789\n",
    "# 2020-12    23739\n",
    "\n",
    "# 2021-01    41988\n",
    "# 2021-02    43626\n",
    "\n",
    "# 2021-03    55907\n",
    "# 2021-04    59357\n",
    "\n",
    "# 2021-05    42112\n",
    "# 2021-06    29576\n",
    "\n",
    "# 2021-07    54306\n",
    "# 2021-08    70428\n",
    "\n",
    "# 2021-09    43771\n",
    "# 2021-10     2870"
   ]
  },
  {
   "cell_type": "code",
   "execution_count": null,
   "id": "3d08804f",
   "metadata": {},
   "outputs": [],
   "source": []
  },
  {
   "cell_type": "code",
   "execution_count": null,
   "id": "d75b71e7",
   "metadata": {},
   "outputs": [],
   "source": []
  },
  {
   "cell_type": "code",
   "execution_count": 4,
   "id": "bad69bcd",
   "metadata": {},
   "outputs": [],
   "source": [
    "import scipy\n",
    "import scipy.stats"
   ]
  },
  {
   "cell_type": "code",
   "execution_count": 7,
   "id": "b22b3d4d",
   "metadata": {},
   "outputs": [
    {
     "name": "stdout",
     "output_type": "stream",
     "text": [
      "\u001b[0;31mSignature:\u001b[0m \u001b[0mscipy\u001b[0m\u001b[0;34m.\u001b[0m\u001b[0mstats\u001b[0m\u001b[0;34m.\u001b[0m\u001b[0mbinomtest\u001b[0m\u001b[0;34m(\u001b[0m\u001b[0mk\u001b[0m\u001b[0;34m,\u001b[0m \u001b[0mn\u001b[0m\u001b[0;34m,\u001b[0m \u001b[0mp\u001b[0m\u001b[0;34m=\u001b[0m\u001b[0;36m0.5\u001b[0m\u001b[0;34m,\u001b[0m \u001b[0malternative\u001b[0m\u001b[0;34m=\u001b[0m\u001b[0;34m'two-sided'\u001b[0m\u001b[0;34m)\u001b[0m\u001b[0;34m\u001b[0m\u001b[0;34m\u001b[0m\u001b[0m\n",
      "\u001b[0;31mDocstring:\u001b[0m\n",
      "Perform a test that the probability of success is p.\n",
      "\n",
      "The binomial test [1]_ is a test of the null hypothesis that the\n",
      "probability of success in a Bernoulli experiment is `p`.\n",
      "\n",
      "Details of the test can be found in many texts on statistics, such\n",
      "as section 24.5 of [2]_.\n",
      "\n",
      "Parameters\n",
      "----------\n",
      "k : int\n",
      "    The number of successes.\n",
      "n : int\n",
      "    The number of trials.\n",
      "p : float, optional\n",
      "    The hypothesized probability of success, i.e. the expected\n",
      "    proportion of successes.  The value must be in the interval\n",
      "    ``0 <= p <= 1``. The default value is ``p = 0.5``.\n",
      "alternative : {'two-sided', 'greater', 'less'}, optional\n",
      "    Indicates the alternative hypothesis. The default value is\n",
      "    'two-sided'.\n",
      "\n",
      "Returns\n",
      "-------\n",
      "result : `~scipy.stats._result_classes.BinomTestResult` instance\n",
      "    The return value is an object with the following attributes:\n",
      "\n",
      "    k : int\n",
      "        The number of successes (copied from `binomtest` input).\n",
      "    n : int\n",
      "        The number of trials (copied from `binomtest` input).\n",
      "    alternative : str\n",
      "        Indicates the alternative hypothesis specified in the input\n",
      "        to `binomtest`.  It will be one of ``'two-sided'``, ``'greater'``,\n",
      "        or ``'less'``.\n",
      "    pvalue : float\n",
      "        The p-value of the hypothesis test.\n",
      "    proportion_estimate : float\n",
      "        The estimate of the proportion of successes.\n",
      "\n",
      "    The object has the following methods:\n",
      "\n",
      "    proportion_ci(confidence_level=0.95, method='exact') :\n",
      "        Compute the confidence interval for ``proportion_estimate``.\n",
      "\n",
      "Notes\n",
      "-----\n",
      ".. versionadded:: 1.7.0\n",
      "\n",
      "References\n",
      "----------\n",
      ".. [1] Binomial test, https://en.wikipedia.org/wiki/Binomial_test\n",
      ".. [2] Jerrold H. Zar, Biostatistical Analysis (fifth edition),\n",
      "       Prentice Hall, Upper Saddle River, New Jersey USA (2010)\n",
      "\n",
      "Examples\n",
      "--------\n",
      ">>> from scipy.stats import binomtest\n",
      "\n",
      "A car manufacturer claims that no more than 10% of their cars are unsafe.\n",
      "15 cars are inspected for safety, 3 were found to be unsafe. Test the\n",
      "manufacturer's claim:\n",
      "\n",
      ">>> result = binomtest(3, n=15, p=0.1, alternative='greater')\n",
      ">>> result.pvalue\n",
      "0.18406106910639114\n",
      "\n",
      "The null hypothesis cannot be rejected at the 5% level of significance\n",
      "because the returned p-value is greater than the critical value of 5%.\n",
      "\n",
      "The estimated proportion is simply ``3/15``:\n",
      "\n",
      ">>> result.proportion_estimate\n",
      "0.2\n",
      "\n",
      "We can use the `proportion_ci()` method of the result to compute the\n",
      "confidence interval of the estimate:\n",
      "\n",
      ">>> result.proportion_ci(confidence_level=0.95)\n",
      "ConfidenceInterval(low=0.05684686759024681, high=1.0)\n",
      "\u001b[0;31mFile:\u001b[0m      ~/sars-cov-2/env_sars/lib/python3.8/site-packages/scipy/stats/_binomtest.py\n",
      "\u001b[0;31mType:\u001b[0m      function\n"
     ]
    }
   ],
   "source": [
    "scipy.stats.binomtest?"
   ]
  },
  {
   "cell_type": "code",
   "execution_count": null,
   "id": "86510f3f",
   "metadata": {},
   "outputs": [],
   "source": []
  },
  {
   "cell_type": "code",
   "execution_count": null,
   "id": "d21b88eb",
   "metadata": {},
   "outputs": [],
   "source": []
  },
  {
   "cell_type": "code",
   "execution_count": null,
   "id": "da27f621",
   "metadata": {},
   "outputs": [],
   "source": []
  },
  {
   "cell_type": "code",
   "execution_count": 2,
   "id": "speaking-reverse",
   "metadata": {
    "ExecuteTime": {
     "end_time": "2021-06-03T20:32:37.033520Z",
     "start_time": "2021-06-03T20:32:37.029477Z"
    }
   },
   "outputs": [],
   "source": [
    "REFSEQ_PATH = \"../data/covid_ref.fasta\"\n",
    "GENEBANK_PATH = \"../data/external/NC_045512.2.gb\"\n",
    "SUBSTITUTIONS_PATH = \"../data/overall_mutations_with_context2.json\"\n",
    "# FILTERES_SUBSTITUTIONS_PATH = \"../data/overall_mutations_2_filtered.json\"\n",
    "\n",
    "SEC_STRUCT_PATH_v1 = \"../data/structure_data/SARSCoV2-RNA.ss\"\n",
    "SEC_STRUCT_PATH_from_site = \"../data/structure_data/SARSCoV2-RNA_from_site_0based.ss\"\n",
    "MUTSPEC_TABLE_PATH = '../data/ideal_table_of_sasha.csv'\n",
    "# DISTANCES_TABLE_PATH = \"../data/new_final_fantasy_Fri_Mar_19_19:36:39_2021.csv\"\n",
    "\n",
    "# CUTOFF = 44"
   ]
  },
  {
   "cell_type": "code",
   "execution_count": 3,
   "id": "understood-adventure",
   "metadata": {
    "ExecuteTime": {
     "end_time": "2021-06-03T20:32:38.222202Z",
     "start_time": "2021-06-03T20:32:37.037703Z"
    }
   },
   "outputs": [
    {
     "name": "stdout",
     "output_type": "stream",
     "text": [
      "29903\n",
      "109134\n"
     ]
    }
   ],
   "source": [
    "refseq = next(read_fasta_generator(REFSEQ_PATH))[1].replace('\\n', '')\n",
    "print(len(refseq))\n",
    "\n",
    "with open(SUBSTITUTIONS_PATH) as fin:\n",
    "    substitutions = json.load(fin)\n",
    "    print(len(substitutions))\n",
    "\n",
    "# substitutions = [x for x in substitutions if len(x[-1]) < CUTOFF]\n",
    "# print(len(substitutions))\n",
    "\n",
    "# with open(FILTERES_SUBSTITUTIONS_PATH) as fin:\n",
    "#     filtered_subst = json.load(fin)\n",
    "#     print(len(filtered_subst))"
   ]
  },
  {
   "cell_type": "code",
   "execution_count": 4,
   "id": "lasting-contents",
   "metadata": {
    "ExecuteTime": {
     "end_time": "2021-06-03T20:32:39.099798Z",
     "start_time": "2021-06-03T20:32:38.225045Z"
    }
   },
   "outputs": [
    {
     "name": "stdout",
     "output_type": "stream",
     "text": [
      "631407\n",
      "631299\n"
     ]
    },
    {
     "data": {
      "text/html": [
       "<div>\n",
       "<style scoped>\n",
       "    .dataframe tbody tr th:only-of-type {\n",
       "        vertical-align: middle;\n",
       "    }\n",
       "\n",
       "    .dataframe tbody tr th {\n",
       "        vertical-align: top;\n",
       "    }\n",
       "\n",
       "    .dataframe thead th {\n",
       "        text-align: right;\n",
       "    }\n",
       "</style>\n",
       "<table border=\"1\" class=\"dataframe\">\n",
       "  <thead>\n",
       "    <tr style=\"text-align: right;\">\n",
       "      <th></th>\n",
       "      <th>pos</th>\n",
       "      <th>parent_nucl</th>\n",
       "      <th>child_nucl</th>\n",
       "      <th>parent_nucl_context</th>\n",
       "      <th>child_nucl_context</th>\n",
       "      <th>parent_node</th>\n",
       "      <th>child_node</th>\n",
       "    </tr>\n",
       "  </thead>\n",
       "  <tbody>\n",
       "    <tr>\n",
       "      <th>0</th>\n",
       "      <td>240</td>\n",
       "      <td>C</td>\n",
       "      <td>T</td>\n",
       "      <td>ttCgt</td>\n",
       "      <td>ttTgt</td>\n",
       "      <td>#54567#</td>\n",
       "      <td>#51858#</td>\n",
       "    </tr>\n",
       "    <tr>\n",
       "      <th>1</th>\n",
       "      <td>9168</td>\n",
       "      <td>C</td>\n",
       "      <td>T</td>\n",
       "      <td>taCct</td>\n",
       "      <td>taTct</td>\n",
       "      <td>#54567#</td>\n",
       "      <td>#51858#</td>\n",
       "    </tr>\n",
       "    <tr>\n",
       "      <th>2</th>\n",
       "      <td>10318</td>\n",
       "      <td>T</td>\n",
       "      <td>C</td>\n",
       "      <td>agTtt</td>\n",
       "      <td>agCtt</td>\n",
       "      <td>#54567#</td>\n",
       "      <td>#51858#</td>\n",
       "    </tr>\n",
       "    <tr>\n",
       "      <th>3</th>\n",
       "      <td>11172</td>\n",
       "      <td>A</td>\n",
       "      <td>C</td>\n",
       "      <td>ctAtg</td>\n",
       "      <td>ctCtg</td>\n",
       "      <td>#54567#</td>\n",
       "      <td>#51858#</td>\n",
       "    </tr>\n",
       "    <tr>\n",
       "      <th>4</th>\n",
       "      <td>12622</td>\n",
       "      <td>T</td>\n",
       "      <td>C</td>\n",
       "      <td>caTct</td>\n",
       "      <td>caCct</td>\n",
       "      <td>#54567#</td>\n",
       "      <td>#51858#</td>\n",
       "    </tr>\n",
       "  </tbody>\n",
       "</table>\n",
       "</div>"
      ],
      "text/plain": [
       "     pos parent_nucl child_nucl parent_nucl_context child_nucl_context  \\\n",
       "0    240           C          T               ttCgt              ttTgt   \n",
       "1   9168           C          T               taCct              taTct   \n",
       "2  10318           T          C               agTtt              agCtt   \n",
       "3  11172           A          C               ctAtg              ctCtg   \n",
       "4  12622           T          C               caTct              caCct   \n",
       "\n",
       "  parent_node child_node  \n",
       "0     #54567#    #51858#  \n",
       "1     #54567#    #51858#  \n",
       "2     #54567#    #51858#  \n",
       "3     #54567#    #51858#  \n",
       "4     #54567#    #51858#  "
      ]
     },
     "execution_count": 4,
     "metadata": {},
     "output_type": "execute_result"
    }
   ],
   "source": [
    "subs_df = converter(substitutions)\n",
    "# delete substs from gene overlay\n",
    "print(subs_df.shape[0])\n",
    "subs_df = subs_df[(subs_df.pos < 27755) | (subs_df.pos > 27758)]\n",
    "print(subs_df.shape[0])\n",
    "subs_df.head()"
   ]
  },
  {
   "cell_type": "code",
   "execution_count": 5,
   "id": "dramatic-nurse",
   "metadata": {
    "ExecuteTime": {
     "end_time": "2021-06-03T20:32:39.325026Z",
     "start_time": "2021-06-03T20:32:39.104077Z"
    }
   },
   "outputs": [
    {
     "name": "stdout",
     "output_type": "stream",
     "text": [
      "618019 однонуклеотидных замещений\n"
     ]
    }
   ],
   "source": [
    "_nSNP = subs_df[(subs_df.parent_nucl != '-') & (subs_df.child_nucl != '-')].shape[0]\n",
    "print(f\"{_nSNP} однонуклеотидных замещений\")"
   ]
  },
  {
   "cell_type": "code",
   "execution_count": 6,
   "id": "absolute-imaging",
   "metadata": {
    "ExecuteTime": {
     "end_time": "2021-06-03T20:32:39.511998Z",
     "start_time": "2021-06-03T20:32:39.329122Z"
    }
   },
   "outputs": [
    {
     "name": "stdout",
     "output_type": "stream",
     "text": [
      "(89709, 16)\n"
     ]
    },
    {
     "name": "stderr",
     "output_type": "stream",
     "text": [
      "/home/mr/.local/lib/python3.7/site-packages/IPython/core/interactiveshell.py:3156: DtypeWarning: Columns (5) have mixed types.Specify dtype option on import or set low_memory=False.\n",
      "  interactivity=interactivity, compiler=compiler, result=result)\n"
     ]
    },
    {
     "data": {
      "text/html": [
       "<div>\n",
       "<style scoped>\n",
       "    .dataframe tbody tr th:only-of-type {\n",
       "        vertical-align: middle;\n",
       "    }\n",
       "\n",
       "    .dataframe tbody tr th {\n",
       "        vertical-align: top;\n",
       "    }\n",
       "\n",
       "    .dataframe thead th {\n",
       "        text-align: right;\n",
       "    }\n",
       "</style>\n",
       "<table border=\"1\" class=\"dataframe\">\n",
       "  <thead>\n",
       "    <tr style=\"text-align: right;\">\n",
       "      <th></th>\n",
       "      <th>Pos</th>\n",
       "      <th>RefNuc</th>\n",
       "      <th>GenName</th>\n",
       "      <th>GenType</th>\n",
       "      <th>CodonNumber</th>\n",
       "      <th>RefCodon</th>\n",
       "      <th>RefAa</th>\n",
       "      <th>NucInCodon</th>\n",
       "      <th>AltNuc</th>\n",
       "      <th>AltCodon</th>\n",
       "      <th>AltAa</th>\n",
       "      <th>AaSub</th>\n",
       "      <th>NeighL</th>\n",
       "      <th>NeighR</th>\n",
       "      <th>MutExp</th>\n",
       "      <th>MutObsNC</th>\n",
       "    </tr>\n",
       "  </thead>\n",
       "  <tbody>\n",
       "    <tr>\n",
       "      <th>5998</th>\n",
       "      <td>2000</td>\n",
       "      <td>A</td>\n",
       "      <td>ORF1ab</td>\n",
       "      <td>translated</td>\n",
       "      <td>579</td>\n",
       "      <td>AGA</td>\n",
       "      <td>R</td>\n",
       "      <td>1</td>\n",
       "      <td>G</td>\n",
       "      <td>GGA</td>\n",
       "      <td>G</td>\n",
       "      <td>NS</td>\n",
       "      <td>G</td>\n",
       "      <td>G</td>\n",
       "      <td>NaN</td>\n",
       "      <td>4.0</td>\n",
       "    </tr>\n",
       "    <tr>\n",
       "      <th>5999</th>\n",
       "      <td>2000</td>\n",
       "      <td>A</td>\n",
       "      <td>ORF1ab</td>\n",
       "      <td>translated</td>\n",
       "      <td>579</td>\n",
       "      <td>AGA</td>\n",
       "      <td>R</td>\n",
       "      <td>1</td>\n",
       "      <td>C</td>\n",
       "      <td>CGA</td>\n",
       "      <td>R</td>\n",
       "      <td>S</td>\n",
       "      <td>G</td>\n",
       "      <td>G</td>\n",
       "      <td>NaN</td>\n",
       "      <td>2.0</td>\n",
       "    </tr>\n",
       "  </tbody>\n",
       "</table>\n",
       "</div>"
      ],
      "text/plain": [
       "       Pos RefNuc GenName     GenType CodonNumber RefCodon RefAa NucInCodon  \\\n",
       "5998  2000      A  ORF1ab  translated         579      AGA     R          1   \n",
       "5999  2000      A  ORF1ab  translated         579      AGA     R          1   \n",
       "\n",
       "     AltNuc AltCodon AltAa AaSub NeighL NeighR  MutExp  MutObsNC  \n",
       "5998      G      GGA     G    NS      G      G     NaN       4.0  \n",
       "5999      C      CGA     R     S      G      G     NaN       2.0  "
      ]
     },
     "execution_count": 6,
     "metadata": {},
     "output_type": "execute_result"
    }
   ],
   "source": [
    "sasha_table = pd.read_csv(MUTSPEC_TABLE_PATH, index_col=0)\n",
    "print(sasha_table.shape)\n",
    "sasha_table.head(6000).tail(2)"
   ]
  },
  {
   "cell_type": "code",
   "execution_count": 7,
   "id": "stainless-badge",
   "metadata": {
    "ExecuteTime": {
     "end_time": "2021-06-03T20:32:47.480813Z",
     "start_time": "2021-06-03T20:32:39.515537Z"
    }
   },
   "outputs": [],
   "source": [
    "ref_cols = \"Pos RefNuc GenName GenType CodonNumber RefCodon RefAa NucInCodon\".split()\n",
    "gr = sasha_table[ref_cols].groupby('Pos')\n",
    "ref_annot = gr.apply(lambda d: d.iloc[0])[ref_cols[1:]].reset_index()\n",
    "ref_annot[\"Pos\"] -= 1\n",
    "\n",
    "assert ''.join(ref_annot.RefNuc) == refseq\n",
    "assert np.all(ref_annot[\"Pos\"] < 29903)\n",
    "assert np.any(ref_annot[\"Pos\"] == 0)"
   ]
  },
  {
   "cell_type": "code",
   "execution_count": 8,
   "id": "found-coating",
   "metadata": {
    "ExecuteTime": {
     "end_time": "2021-06-03T20:32:47.498383Z",
     "start_time": "2021-06-03T20:32:47.483149Z"
    }
   },
   "outputs": [
    {
     "data": {
      "text/html": [
       "<div>\n",
       "<style scoped>\n",
       "    .dataframe tbody tr th:only-of-type {\n",
       "        vertical-align: middle;\n",
       "    }\n",
       "\n",
       "    .dataframe tbody tr th {\n",
       "        vertical-align: top;\n",
       "    }\n",
       "\n",
       "    .dataframe thead th {\n",
       "        text-align: right;\n",
       "    }\n",
       "</style>\n",
       "<table border=\"1\" class=\"dataframe\">\n",
       "  <thead>\n",
       "    <tr style=\"text-align: right;\">\n",
       "      <th></th>\n",
       "      <th>Pos</th>\n",
       "      <th>RefNuc</th>\n",
       "      <th>GenName</th>\n",
       "      <th>GenType</th>\n",
       "      <th>CodonNumber</th>\n",
       "      <th>RefCodon</th>\n",
       "      <th>RefAa</th>\n",
       "      <th>NucInCodon</th>\n",
       "    </tr>\n",
       "  </thead>\n",
       "  <tbody>\n",
       "    <tr>\n",
       "      <th>26998</th>\n",
       "      <td>26998</td>\n",
       "      <td>T</td>\n",
       "      <td>M</td>\n",
       "      <td>translated</td>\n",
       "      <td>8883</td>\n",
       "      <td>TGT</td>\n",
       "      <td>C</td>\n",
       "      <td>3</td>\n",
       "    </tr>\n",
       "    <tr>\n",
       "      <th>26999</th>\n",
       "      <td>26999</td>\n",
       "      <td>G</td>\n",
       "      <td>M</td>\n",
       "      <td>translated</td>\n",
       "      <td>8884</td>\n",
       "      <td>GAC</td>\n",
       "      <td>D</td>\n",
       "      <td>1</td>\n",
       "    </tr>\n",
       "  </tbody>\n",
       "</table>\n",
       "</div>"
      ],
      "text/plain": [
       "         Pos RefNuc GenName     GenType CodonNumber RefCodon RefAa NucInCodon\n",
       "26998  26998      T       M  translated        8883      TGT     C          3\n",
       "26999  26999      G       M  translated        8884      GAC     D          1"
      ]
     },
     "execution_count": 8,
     "metadata": {},
     "output_type": "execute_result"
    }
   ],
   "source": [
    "ref_annot.head(27000).tail(2)"
   ]
  },
  {
   "cell_type": "code",
   "execution_count": 9,
   "id": "employed-polls",
   "metadata": {
    "ExecuteTime": {
     "end_time": "2021-06-03T20:32:49.375116Z",
     "start_time": "2021-06-03T20:32:47.502030Z"
    }
   },
   "outputs": [],
   "source": [
    "merged_table = pd.merge(subs_df, ref_annot, left_on='pos', right_on='Pos')  # correct pos indextins 0-based\n",
    "merged_table.drop('Pos', axis=1, inplace=True)\n",
    "_mapper = {'None': np.nan, '1':1, '2':2, '3':3}\n",
    "merged_table['NucInCodon'] = merged_table.NucInCodon.map(_mapper)\n",
    "\n",
    "assert merged_table.shape[0] == subs_df.shape[0]\n",
    "#check that table rows are equivalent\n",
    "assert set(merged_table[~merged_table.RefAa.isna()].RefAa.apply(len)) == {1}\n",
    "assert set(merged_table[~merged_table.RefCodon.isna()].RefCodon.apply(len)) == {3}"
   ]
  },
  {
   "cell_type": "code",
   "execution_count": 10,
   "id": "veterinary-tower",
   "metadata": {
    "ExecuteTime": {
     "end_time": "2021-06-03T20:32:49.387134Z",
     "start_time": "2021-06-03T20:32:49.379965Z"
    }
   },
   "outputs": [],
   "source": [
    "def context2codon(context, nuc_in_codon):\n",
    "    \"\"\"convert context to codon\n",
    "    \n",
    "    params:\n",
    "        - context: interested nucl and 2 radial context nucls\n",
    "        - nuc_in_codon: idx of interested nucl in RefCodon, {1,2,3}\n",
    "    \"\"\"\n",
    "    if nuc_in_codon not in {1, 2, 3}:\n",
    "        return np.nan\n",
    "    nuc_in_codon = int(nuc_in_codon)\n",
    "    start = 3 - nuc_in_codon\n",
    "    codon = context[start: start + 3].upper()\n",
    "    return codon\n",
    "\n",
    "\n",
    "def codon2aa(codon):\n",
    "    if not isinstance(codon, str) or len(set(codon).difference('ATGCatgc')) != 0:\n",
    "        return np.nan\n",
    "    codon = Seq(codon)\n",
    "    aa = codon.translate()\n",
    "    return str(aa)"
   ]
  },
  {
   "cell_type": "code",
   "execution_count": 11,
   "id": "activated-beach",
   "metadata": {
    "ExecuteTime": {
     "end_time": "2021-06-03T20:33:47.126728Z",
     "start_time": "2021-06-03T20:32:49.391320Z"
    }
   },
   "outputs": [],
   "source": [
    "merged_table[\"child_codon\"] = merged_table.apply(\n",
    "    lambda d: context2codon(d.child_nucl_context, d.NucInCodon), \n",
    "    axis=1\n",
    ")\n",
    "merged_table[\"parent_codon\"] = merged_table.apply(\n",
    "    lambda d: context2codon(d.parent_nucl_context, d.NucInCodon), \n",
    "    axis=1\n",
    ")\n",
    "merged_table[\"child_aa\"] = merged_table.child_codon.apply(codon2aa)\n",
    "merged_table[\"parent_aa\"] = merged_table.parent_codon.apply(codon2aa)"
   ]
  },
  {
   "cell_type": "code",
   "execution_count": 12,
   "id": "plastic-toner",
   "metadata": {
    "ExecuteTime": {
     "end_time": "2021-06-03T20:33:47.679358Z",
     "start_time": "2021-06-03T20:33:47.129268Z"
    }
   },
   "outputs": [],
   "source": [
    "merged_table.drop('CodonNumber', axis=1, inplace=True)\n",
    "merged_table['NucInCodon'] = merged_table['NucInCodon'].fillna(-1).astype(int)"
   ]
  },
  {
   "cell_type": "code",
   "execution_count": 13,
   "id": "indoor-folks",
   "metadata": {
    "ExecuteTime": {
     "end_time": "2021-06-03T20:33:47.706011Z",
     "start_time": "2021-06-03T20:33:47.682008Z"
    }
   },
   "outputs": [
    {
     "data": {
      "text/html": [
       "<div>\n",
       "<style scoped>\n",
       "    .dataframe tbody tr th:only-of-type {\n",
       "        vertical-align: middle;\n",
       "    }\n",
       "\n",
       "    .dataframe tbody tr th {\n",
       "        vertical-align: top;\n",
       "    }\n",
       "\n",
       "    .dataframe thead th {\n",
       "        text-align: right;\n",
       "    }\n",
       "</style>\n",
       "<table border=\"1\" class=\"dataframe\">\n",
       "  <thead>\n",
       "    <tr style=\"text-align: right;\">\n",
       "      <th></th>\n",
       "      <th>pos</th>\n",
       "      <th>parent_nucl</th>\n",
       "      <th>child_nucl</th>\n",
       "      <th>parent_nucl_context</th>\n",
       "      <th>child_nucl_context</th>\n",
       "      <th>parent_node</th>\n",
       "      <th>child_node</th>\n",
       "      <th>RefNuc</th>\n",
       "      <th>GenName</th>\n",
       "      <th>GenType</th>\n",
       "      <th>RefCodon</th>\n",
       "      <th>RefAa</th>\n",
       "      <th>NucInCodon</th>\n",
       "      <th>child_codon</th>\n",
       "      <th>parent_codon</th>\n",
       "      <th>child_aa</th>\n",
       "      <th>parent_aa</th>\n",
       "    </tr>\n",
       "  </thead>\n",
       "  <tbody>\n",
       "    <tr>\n",
       "      <th>631297</th>\n",
       "      <td>25157</td>\n",
       "      <td>A</td>\n",
       "      <td>T</td>\n",
       "      <td>cgAtc</td>\n",
       "      <td>cgTtc</td>\n",
       "      <td>#8302#</td>\n",
       "      <td>hCoV-19/Luxembourg/LNS2198752/2020|EPI_ISL_740...</td>\n",
       "      <td>A</td>\n",
       "      <td>S</td>\n",
       "      <td>translated</td>\n",
       "      <td>GAT</td>\n",
       "      <td>D</td>\n",
       "      <td>2</td>\n",
       "      <td>GTT</td>\n",
       "      <td>GAT</td>\n",
       "      <td>V</td>\n",
       "      <td>D</td>\n",
       "    </tr>\n",
       "    <tr>\n",
       "      <th>631298</th>\n",
       "      <td>17918</td>\n",
       "      <td>T</td>\n",
       "      <td>C</td>\n",
       "      <td>ttTaa</td>\n",
       "      <td>ttCaa</td>\n",
       "      <td>#8300#</td>\n",
       "      <td>hCoV-19/USA/TX-HMH-MCoV-11229/2020|EPI_ISL_789...</td>\n",
       "      <td>T</td>\n",
       "      <td>ORF1ab</td>\n",
       "      <td>translated</td>\n",
       "      <td>TTT</td>\n",
       "      <td>F</td>\n",
       "      <td>3</td>\n",
       "      <td>TTC</td>\n",
       "      <td>TTT</td>\n",
       "      <td>F</td>\n",
       "      <td>F</td>\n",
       "    </tr>\n",
       "  </tbody>\n",
       "</table>\n",
       "</div>"
      ],
      "text/plain": [
       "          pos parent_nucl child_nucl parent_nucl_context child_nucl_context  \\\n",
       "631297  25157           A          T               cgAtc              cgTtc   \n",
       "631298  17918           T          C               ttTaa              ttCaa   \n",
       "\n",
       "       parent_node                                         child_node RefNuc  \\\n",
       "631297      #8302#  hCoV-19/Luxembourg/LNS2198752/2020|EPI_ISL_740...      A   \n",
       "631298      #8300#  hCoV-19/USA/TX-HMH-MCoV-11229/2020|EPI_ISL_789...      T   \n",
       "\n",
       "       GenName     GenType RefCodon RefAa  NucInCodon child_codon  \\\n",
       "631297       S  translated      GAT     D           2         GTT   \n",
       "631298  ORF1ab  translated      TTT     F           3         TTC   \n",
       "\n",
       "       parent_codon child_aa parent_aa  \n",
       "631297          GAT        V         D  \n",
       "631298          TTT        F         F  "
      ]
     },
     "execution_count": 13,
     "metadata": {},
     "output_type": "execute_result"
    }
   ],
   "source": [
    "merged_table.tail(2)"
   ]
  },
  {
   "cell_type": "markdown",
   "id": "third-argentina",
   "metadata": {},
   "source": [
    "### For Sasha"
   ]
  },
  {
   "cell_type": "code",
   "execution_count": 14,
   "id": "convertible-earthquake",
   "metadata": {
    "ExecuteTime": {
     "end_time": "2021-06-03T20:33:47.726538Z",
     "start_time": "2021-06-03T20:33:47.709839Z"
    }
   },
   "outputs": [],
   "source": [
    "# _cols = ['pos', 'parent_nucl', 'child_nucl', 'parent_node', 'child_node', 'GenName',\n",
    "#        'GenType', 'CodonNumber', 'child_codon', 'parent_codon', 'child_aa', 'parent_aa']\n",
    "# merged_table[_cols].head(6000).tail()\n",
    "# merged_table[_cols].to_csv(\"../data/gisaid_mutations_annotation.csv\", index=None)"
   ]
  },
  {
   "cell_type": "markdown",
   "id": "instructional-acrylic",
   "metadata": {},
   "source": [
    "-------------"
   ]
  },
  {
   "cell_type": "code",
   "execution_count": 15,
   "id": "handed-failure",
   "metadata": {
    "ExecuteTime": {
     "end_time": "2021-06-03T20:33:47.746741Z",
     "start_time": "2021-06-03T20:33:47.729237Z"
    }
   },
   "outputs": [],
   "source": [
    "def count_mut_types(d, parent_col='parent_aa', child_col='child_aa'):\n",
    "    # only genes and only without gaps in nucleotides\n",
    "    d = d[\n",
    "        (d['GenType'] == 'translated') & \n",
    "        (~d[parent_col].isna()) & \n",
    "        (~d[child_col].isna())\n",
    "    ]\n",
    "    par_aa = d[parent_col].values\n",
    "    ch_aa = d[child_col].values\n",
    "    \n",
    "    nSyn = np.sum(par_aa == ch_aa)\n",
    "    nNonSyn = np.sum((par_aa != ch_aa) & (par_aa != \"*\") & (ch_aa != \"*\"))\n",
    "    \n",
    "    nFromStop = np.sum((par_aa != ch_aa) & (par_aa == \"*\") & (ch_aa != \"*\"))\n",
    "    nToStop = np.sum((par_aa != ch_aa) & (par_aa != \"*\") & (ch_aa == \"*\"))\n",
    "    \n",
    "    types_data = {\n",
    "        'Syn': nSyn,\n",
    "        'NonSyn': nNonSyn,\n",
    "        'ToStop': nToStop,\n",
    "        'FromStop': nFromStop,\n",
    "    }\n",
    "    types_df = pd.Series(types_data)\n",
    "    \n",
    "    return types_df"
   ]
  },
  {
   "cell_type": "code",
   "execution_count": 16,
   "id": "referenced-operation",
   "metadata": {
    "ExecuteTime": {
     "end_time": "2021-06-03T20:33:48.423464Z",
     "start_time": "2021-06-03T20:33:47.749813Z"
    }
   },
   "outputs": [
    {
     "data": {
      "text/plain": [
       "Syn         242172\n",
       "NonSyn      336681\n",
       "ToStop        1217\n",
       "FromStop      1101\n",
       "dtype: int64"
      ]
     },
     "execution_count": 16,
     "metadata": {},
     "output_type": "execute_result"
    }
   ],
   "source": [
    "# for all genes\n",
    "count_mut_types(merged_table[merged_table.GenType == 'translated'])\n",
    "# Syn         267602\n",
    "# NonSyn      375112\n",
    "# ToStop        1329\n",
    "# FromStop      1255"
   ]
  },
  {
   "cell_type": "code",
   "execution_count": 17,
   "id": "further-louisiana",
   "metadata": {
    "ExecuteTime": {
     "end_time": "2021-06-03T20:33:49.342640Z",
     "start_time": "2021-06-03T20:33:48.427124Z"
    }
   },
   "outputs": [],
   "source": [
    "mut_types_table = merged_table[merged_table.GenType == 'translated'].groupby('GenName').apply(count_mut_types)\n",
    "mut_types_table = mut_types_table.sort_index()\n",
    "mut_types_table['DnDs'] = mut_types_table.NonSyn / mut_types_table.Syn\n",
    "\n",
    "# Count (#ToStop + #FromStop) / (#Syn + #NonSyn)\n",
    "# mut_types_table['FromStop2NS'] = mut_types_table.FromStop / mut_types_table.NonSyn\n",
    "# mut_types_table['ToStop2NS'] = mut_types_table.ToStop / mut_types_table.NonSyn"
   ]
  },
  {
   "cell_type": "markdown",
   "id": "unauthorized-sharp",
   "metadata": {},
   "source": [
    "### Если есть желание посчитать честный Kn/Ks, то вот [преза](https://en.ppt-online.org/125380), в которой на 17-18 слайдах кошерно расписано, как считать\n"
   ]
  },
  {
   "cell_type": "code",
   "execution_count": 18,
   "id": "documentary-sunset",
   "metadata": {
    "ExecuteTime": {
     "end_time": "2021-06-03T20:33:49.349427Z",
     "start_time": "2021-06-03T20:33:49.344869Z"
    }
   },
   "outputs": [
    {
     "name": "stdout",
     "output_type": "stream",
     "text": [
      "['E', 'M', 'N', 'ORF10', 'ORF1ab', 'ORF3a', 'ORF6', 'ORF7a', 'ORF7b', 'ORF8', 'S']\n"
     ]
    }
   ],
   "source": [
    "print(list(mut_types_table.index))"
   ]
  },
  {
   "cell_type": "code",
   "execution_count": 21,
   "id": "social-cotton",
   "metadata": {
    "ExecuteTime": {
     "end_time": "2021-06-03T20:34:05.075291Z",
     "start_time": "2021-06-03T20:34:05.052092Z"
    }
   },
   "outputs": [
    {
     "data": {
      "text/html": [
       "<div>\n",
       "<style scoped>\n",
       "    .dataframe tbody tr th:only-of-type {\n",
       "        vertical-align: middle;\n",
       "    }\n",
       "\n",
       "    .dataframe tbody tr th {\n",
       "        vertical-align: top;\n",
       "    }\n",
       "\n",
       "    .dataframe thead th {\n",
       "        text-align: right;\n",
       "    }\n",
       "</style>\n",
       "<table border=\"1\" class=\"dataframe\">\n",
       "  <thead>\n",
       "    <tr style=\"text-align: right;\">\n",
       "      <th></th>\n",
       "      <th>Syn</th>\n",
       "      <th>NonSyn</th>\n",
       "      <th>ToStop</th>\n",
       "      <th>FromStop</th>\n",
       "      <th>DnDs</th>\n",
       "    </tr>\n",
       "    <tr>\n",
       "      <th>GenName</th>\n",
       "      <th></th>\n",
       "      <th></th>\n",
       "      <th></th>\n",
       "      <th></th>\n",
       "      <th></th>\n",
       "    </tr>\n",
       "  </thead>\n",
       "  <tbody>\n",
       "    <tr>\n",
       "      <th>ORF1ab</th>\n",
       "      <td>165591</td>\n",
       "      <td>204012</td>\n",
       "      <td>40</td>\n",
       "      <td>40</td>\n",
       "      <td>1.232023</td>\n",
       "    </tr>\n",
       "    <tr>\n",
       "      <th>S</th>\n",
       "      <td>28258</td>\n",
       "      <td>46002</td>\n",
       "      <td>16</td>\n",
       "      <td>17</td>\n",
       "      <td>1.627928</td>\n",
       "    </tr>\n",
       "    <tr>\n",
       "      <th>E</th>\n",
       "      <td>1530</td>\n",
       "      <td>2377</td>\n",
       "      <td>0</td>\n",
       "      <td>0</td>\n",
       "      <td>1.553595</td>\n",
       "    </tr>\n",
       "    <tr>\n",
       "      <th>M</th>\n",
       "      <td>10075</td>\n",
       "      <td>5007</td>\n",
       "      <td>0</td>\n",
       "      <td>0</td>\n",
       "      <td>0.496973</td>\n",
       "    </tr>\n",
       "    <tr>\n",
       "      <th>N</th>\n",
       "      <td>17044</td>\n",
       "      <td>30032</td>\n",
       "      <td>4</td>\n",
       "      <td>4</td>\n",
       "      <td>1.762028</td>\n",
       "    </tr>\n",
       "    <tr>\n",
       "      <th>ORF10</th>\n",
       "      <td>1050</td>\n",
       "      <td>2224</td>\n",
       "      <td>88</td>\n",
       "      <td>87</td>\n",
       "      <td>2.118095</td>\n",
       "    </tr>\n",
       "    <tr>\n",
       "      <th>ORF3a</th>\n",
       "      <td>8068</td>\n",
       "      <td>26621</td>\n",
       "      <td>73</td>\n",
       "      <td>60</td>\n",
       "      <td>3.299579</td>\n",
       "    </tr>\n",
       "    <tr>\n",
       "      <th>ORF6</th>\n",
       "      <td>1979</td>\n",
       "      <td>2242</td>\n",
       "      <td>70</td>\n",
       "      <td>65</td>\n",
       "      <td>1.132895</td>\n",
       "    </tr>\n",
       "    <tr>\n",
       "      <th>ORF7a</th>\n",
       "      <td>3412</td>\n",
       "      <td>7006</td>\n",
       "      <td>250</td>\n",
       "      <td>225</td>\n",
       "      <td>2.053341</td>\n",
       "    </tr>\n",
       "    <tr>\n",
       "      <th>ORF7b</th>\n",
       "      <td>1046</td>\n",
       "      <td>2283</td>\n",
       "      <td>177</td>\n",
       "      <td>153</td>\n",
       "      <td>2.182600</td>\n",
       "    </tr>\n",
       "    <tr>\n",
       "      <th>ORF8</th>\n",
       "      <td>4119</td>\n",
       "      <td>8875</td>\n",
       "      <td>499</td>\n",
       "      <td>450</td>\n",
       "      <td>2.154649</td>\n",
       "    </tr>\n",
       "  </tbody>\n",
       "</table>\n",
       "</div>"
      ],
      "text/plain": [
       "            Syn  NonSyn  ToStop  FromStop      DnDs\n",
       "GenName                                            \n",
       "ORF1ab   165591  204012      40        40  1.232023\n",
       "S         28258   46002      16        17  1.627928\n",
       "E          1530    2377       0         0  1.553595\n",
       "M         10075    5007       0         0  0.496973\n",
       "N         17044   30032       4         4  1.762028\n",
       "ORF10      1050    2224      88        87  2.118095\n",
       "ORF3a      8068   26621      73        60  3.299579\n",
       "ORF6       1979    2242      70        65  1.132895\n",
       "ORF7a      3412    7006     250       225  2.053341\n",
       "ORF7b      1046    2283     177       153  2.182600\n",
       "ORF8       4119    8875     499       450  2.154649"
      ]
     },
     "execution_count": 21,
     "metadata": {},
     "output_type": "execute_result"
    }
   ],
   "source": [
    "gorder = ['ORF1ab', 'S', 'E', 'M', 'N', 'ORF10', 'ORF3a', 'ORF6', 'ORF7a', 'ORF7b', 'ORF8']\n",
    "mut_types_table.loc[gorder]\n",
    "# mut_types_table.loc[gorder].to_csv('../data/mut_types_table_gisaid.csv')"
   ]
  },
  {
   "cell_type": "code",
   "execution_count": null,
   "id": "offensive-differential",
   "metadata": {},
   "outputs": [],
   "source": []
  },
  {
   "cell_type": "code",
   "execution_count": null,
   "id": "prerequisite-courtesy",
   "metadata": {},
   "outputs": [],
   "source": []
  },
  {
   "cell_type": "markdown",
   "id": "brazilian-science",
   "metadata": {},
   "source": [
    "### Search who jumps to stopcodon and returns"
   ]
  },
  {
   "cell_type": "code",
   "execution_count": 20,
   "id": "vocational-humor",
   "metadata": {
    "ExecuteTime": {
     "end_time": "2021-06-03T20:33:49.999734Z",
     "start_time": "2021-06-03T20:33:49.380325Z"
    }
   },
   "outputs": [],
   "source": [
    "merged_table['IsSym'] = (merged_table.child_aa == merged_table.parent_aa).astype(int)\n",
    "merged_table['IsNonSym'] = (\n",
    "    (merged_table.parent_aa != merged_table.child_aa) & \n",
    "    (merged_table.parent_aa != \"*\") & \n",
    "    (merged_table.child_aa != \"*\") &\n",
    "    (~merged_table.child_aa.isna()) &\n",
    "    (~merged_table.parent_aa.isna())\n",
    ").astype(int)\n",
    "\n",
    "merged_table['IsToStop'] = (\n",
    "    (merged_table.parent_aa != merged_table.child_aa) & \n",
    "    (merged_table.parent_aa != \"*\") & \n",
    "    (merged_table.child_aa == \"*\") & \n",
    "    (~merged_table.child_aa.isna()) &\n",
    "    (~merged_table.parent_aa.isna())\n",
    ").astype('int')\n",
    "\n",
    "merged_table['IsFromStop'] = (\n",
    "    (merged_table.parent_aa != merged_table.child_aa) & \n",
    "    (merged_table.parent_aa == \"*\") & \n",
    "    (merged_table.child_aa != \"*\") & \n",
    "    (~merged_table.child_aa.isna()) &\n",
    "    (~merged_table.parent_aa.isna())\n",
    ").astype(int)"
   ]
  },
  {
   "cell_type": "code",
   "execution_count": 31,
   "id": "understanding-tender",
   "metadata": {
    "ExecuteTime": {
     "end_time": "2021-04-28T12:49:31.925303Z",
     "start_time": "2021-04-28T12:49:27.440271Z"
    }
   },
   "outputs": [],
   "source": [
    "# merged_table.to_csv('../data/full_gisaid_substitutions_annotation.csv', index=None)"
   ]
  },
  {
   "cell_type": "code",
   "execution_count": 23,
   "id": "another-night",
   "metadata": {
    "ExecuteTime": {
     "end_time": "2021-04-28T12:46:34.445565Z",
     "start_time": "2021-04-28T12:46:34.404007Z"
    }
   },
   "outputs": [
    {
     "data": {
      "text/plain": [
       "IsSym         242172\n",
       "IsNonSym      336681\n",
       "IsToStop        1217\n",
       "IsFromStop      1101\n",
       "dtype: int64"
      ]
     },
     "execution_count": 23,
     "metadata": {},
     "output_type": "execute_result"
    }
   ],
   "source": [
    "merged_table[['IsSym', 'IsNonSym', 'IsToStop', 'IsFromStop']].sum()"
   ]
  },
  {
   "cell_type": "code",
   "execution_count": null,
   "id": "expressed-infrastructure",
   "metadata": {},
   "outputs": [],
   "source": []
  },
  {
   "cell_type": "code",
   "execution_count": 31,
   "id": "demographic-business",
   "metadata": {
    "ExecuteTime": {
     "end_time": "2021-04-27T21:54:00.633776Z",
     "start_time": "2021-04-27T21:54:00.622293Z"
    }
   },
   "outputs": [
    {
     "data": {
      "text/plain": [
       "False    640\n",
       "True     461\n",
       "Name: child_node, dtype: int64"
      ]
     },
     "execution_count": 31,
     "metadata": {},
     "output_type": "execute_result"
    }
   ],
   "source": [
    "# Number of IsFromStop in leaves\n",
    "merged_table[merged_table.IsFromStop == 1].child_node.str.startswith('#').value_counts()"
   ]
  },
  {
   "cell_type": "code",
   "execution_count": 32,
   "id": "remarkable-melissa",
   "metadata": {
    "ExecuteTime": {
     "end_time": "2021-04-27T21:54:02.305440Z",
     "start_time": "2021-04-27T21:54:02.293186Z"
    }
   },
   "outputs": [
    {
     "data": {
      "text/plain": [
       "False    760\n",
       "True     457\n",
       "Name: child_node, dtype: int64"
      ]
     },
     "execution_count": 32,
     "metadata": {},
     "output_type": "execute_result"
    }
   ],
   "source": [
    "# Number of IsToStop in leaves\n",
    "merged_table[merged_table.IsToStop == 1].child_node.str.startswith('#').value_counts()"
   ]
  },
  {
   "cell_type": "code",
   "execution_count": null,
   "id": "effective-ultimate",
   "metadata": {},
   "outputs": [],
   "source": []
  },
  {
   "cell_type": "code",
   "execution_count": null,
   "id": "jewish-discharge",
   "metadata": {},
   "outputs": [],
   "source": []
  },
  {
   "cell_type": "markdown",
   "id": "small-patch",
   "metadata": {},
   "source": [
    "#### Nodes to visualizate on tree stop-codon jumping"
   ]
  },
  {
   "cell_type": "code",
   "execution_count": null,
   "id": "strategic-eight",
   "metadata": {},
   "outputs": [],
   "source": []
  },
  {
   "cell_type": "code",
   "execution_count": null,
   "id": "thirty-summer",
   "metadata": {},
   "outputs": [],
   "source": []
  },
  {
   "cell_type": "markdown",
   "id": "silent-grave",
   "metadata": {},
   "source": [
    "## Nexststrain"
   ]
  },
  {
   "cell_type": "code",
   "execution_count": 22,
   "id": "complicated-architect",
   "metadata": {
    "ExecuteTime": {
     "end_time": "2021-05-31T16:26:13.598422Z",
     "start_time": "2021-05-31T16:26:13.545390Z"
    }
   },
   "outputs": [
    {
     "name": "stdout",
     "output_type": "stream",
     "text": [
      "(23168, 5)\n"
     ]
    },
    {
     "data": {
      "text/html": [
       "<div>\n",
       "<style scoped>\n",
       "    .dataframe tbody tr th:only-of-type {\n",
       "        vertical-align: middle;\n",
       "    }\n",
       "\n",
       "    .dataframe tbody tr th {\n",
       "        vertical-align: top;\n",
       "    }\n",
       "\n",
       "    .dataframe thead th {\n",
       "        text-align: right;\n",
       "    }\n",
       "</style>\n",
       "<table border=\"1\" class=\"dataframe\">\n",
       "  <thead>\n",
       "    <tr style=\"text-align: right;\">\n",
       "      <th></th>\n",
       "      <th>Pos</th>\n",
       "      <th>RefNuc</th>\n",
       "      <th>AltNuc</th>\n",
       "      <th>MutCount</th>\n",
       "      <th>NucInCodon</th>\n",
       "    </tr>\n",
       "  </thead>\n",
       "  <tbody>\n",
       "    <tr>\n",
       "      <th>0</th>\n",
       "      <td>6968</td>\n",
       "      <td>C</td>\n",
       "      <td>A</td>\n",
       "      <td>1</td>\n",
       "      <td>1</td>\n",
       "    </tr>\n",
       "    <tr>\n",
       "      <th>1</th>\n",
       "      <td>11764</td>\n",
       "      <td>T</td>\n",
       "      <td>A</td>\n",
       "      <td>1</td>\n",
       "      <td>3</td>\n",
       "    </tr>\n",
       "  </tbody>\n",
       "</table>\n",
       "</div>"
      ],
      "text/plain": [
       "     Pos RefNuc AltNuc  MutCount NucInCodon\n",
       "0   6968      C      A         1          1\n",
       "1  11764      T      A         1          3"
      ]
     },
     "execution_count": 22,
     "metadata": {},
     "output_type": "execute_result"
    }
   ],
   "source": [
    "_use_cols = ['Pos', 'RefNuc', 'AltNuc', 'MutCount', 'NucInCodon']\n",
    "MutNumNextstrain = pd.read_csv(\n",
    "    \"../data/norm_data_modernized_nextstrain.csv\", \n",
    "    usecols=_use_cols\n",
    ")\n",
    "print(MutNumNextstrain.shape)\n",
    "MutNumNextstrain.head(2)"
   ]
  },
  {
   "cell_type": "code",
   "execution_count": 23,
   "id": "intermediate-stability",
   "metadata": {
    "ExecuteTime": {
     "end_time": "2021-05-31T16:26:14.469606Z",
     "start_time": "2021-05-31T16:26:14.382336Z"
    }
   },
   "outputs": [
    {
     "name": "stdout",
     "output_type": "stream",
     "text": [
      "(18550, 12)\n"
     ]
    },
    {
     "data": {
      "text/html": [
       "<div>\n",
       "<style scoped>\n",
       "    .dataframe tbody tr th:only-of-type {\n",
       "        vertical-align: middle;\n",
       "    }\n",
       "\n",
       "    .dataframe tbody tr th {\n",
       "        vertical-align: top;\n",
       "    }\n",
       "\n",
       "    .dataframe thead th {\n",
       "        text-align: right;\n",
       "    }\n",
       "</style>\n",
       "<table border=\"1\" class=\"dataframe\">\n",
       "  <thead>\n",
       "    <tr style=\"text-align: right;\">\n",
       "      <th></th>\n",
       "      <th>Pos</th>\n",
       "      <th>RefNuc</th>\n",
       "      <th>AltNuc</th>\n",
       "      <th>MutCount</th>\n",
       "      <th>NucInCodon</th>\n",
       "      <th>GenName</th>\n",
       "      <th>GenType</th>\n",
       "      <th>RefCodon</th>\n",
       "      <th>RefAa</th>\n",
       "      <th>AltCodon</th>\n",
       "      <th>AltAa</th>\n",
       "      <th>AaSub</th>\n",
       "    </tr>\n",
       "  </thead>\n",
       "  <tbody>\n",
       "    <tr>\n",
       "      <th>0</th>\n",
       "      <td>6968</td>\n",
       "      <td>C</td>\n",
       "      <td>A</td>\n",
       "      <td>1</td>\n",
       "      <td>1</td>\n",
       "      <td>ORF1ab</td>\n",
       "      <td>translated</td>\n",
       "      <td>CTA</td>\n",
       "      <td>L</td>\n",
       "      <td>ATA</td>\n",
       "      <td>I</td>\n",
       "      <td>NS</td>\n",
       "    </tr>\n",
       "    <tr>\n",
       "      <th>1</th>\n",
       "      <td>11764</td>\n",
       "      <td>T</td>\n",
       "      <td>A</td>\n",
       "      <td>1</td>\n",
       "      <td>3</td>\n",
       "      <td>ORF1ab</td>\n",
       "      <td>translated</td>\n",
       "      <td>AAT</td>\n",
       "      <td>N</td>\n",
       "      <td>AAA</td>\n",
       "      <td>K</td>\n",
       "      <td>NS</td>\n",
       "    </tr>\n",
       "  </tbody>\n",
       "</table>\n",
       "</div>"
      ],
      "text/plain": [
       "     Pos RefNuc AltNuc  MutCount NucInCodon GenName     GenType RefCodon  \\\n",
       "0   6968      C      A         1          1  ORF1ab  translated      CTA   \n",
       "1  11764      T      A         1          3  ORF1ab  translated      AAT   \n",
       "\n",
       "  RefAa AltCodon AltAa AaSub  \n",
       "0     L      ATA     I    NS  \n",
       "1     N      AAA     K    NS  "
      ]
     },
     "execution_count": 23,
     "metadata": {},
     "output_type": "execute_result"
    }
   ],
   "source": [
    "_cols = 'Pos RefNuc GenName GenType RefCodon RefAa AltNuc AltCodon AltAa AaSub'.split()\n",
    "MutNumNextstrainExpanded = pd.merge(MutNumNextstrain, sasha_table[_cols], on=['Pos', 'RefNuc', 'AltNuc'])\n",
    "print(MutNumNextstrainExpanded.shape)\n",
    "MutNumNextstrainExpanded.head(2)"
   ]
  },
  {
   "cell_type": "code",
   "execution_count": 26,
   "id": "limiting-scheduling",
   "metadata": {
    "ExecuteTime": {
     "end_time": "2021-05-31T16:27:50.653362Z",
     "start_time": "2021-05-31T16:27:50.600816Z"
    }
   },
   "outputs": [],
   "source": [
    "mut_types_table_nexts = MutNumNextstrainExpanded[\n",
    "    MutNumNextstrainExpanded.GenType == 'translated'].groupby('GenName').apply(\n",
    "    lambda d: count_mut_types(d, 'RefAa', 'AltAa')).sort_index()\n",
    "\n",
    "mut_types_table_nexts['DnDs'] = mut_types_table_nexts.NonSyn / mut_types_table_nexts.Syn\n",
    "\n",
    "# Count (#ToStop + #FromStop) / (#Syn + #NonSyn)\n",
    "# mut_types_table_nexts['FromStop2NS'] = mut_types_table_nexts.FromStop / mut_types_table_nexts.NonSyn\n",
    "# mut_types_table_nexts['ToStop2NS'] = mut_types_table_nexts.ToStop / mut_types_table_nexts.NonSyn\n",
    "mut_types_table_nexts.loc[gorder]\n",
    "# mut_types_table_nexts.loc[gorder].to_csv('../data/mut_types_table_nextstrain.csv')"
   ]
  },
  {
   "cell_type": "markdown",
   "id": "julian-opportunity",
   "metadata": {},
   "source": [
    "### Check `DnDs` stat diference between our tree and nextstrain"
   ]
  },
  {
   "cell_type": "code",
   "execution_count": 38,
   "id": "incomplete-intranet",
   "metadata": {
    "ExecuteTime": {
     "end_time": "2021-05-25T00:54:14.954299Z",
     "start_time": "2021-05-25T00:54:14.944761Z"
    }
   },
   "outputs": [
    {
     "name": "stdout",
     "output_type": "stream",
     "text": [
      "ShapiroResult(statistic=0.9545800685882568, pvalue=0.7027790546417236)\n",
      "ShapiroResult(statistic=0.951161801815033, pvalue=0.6588314175605774)\n",
      "Normal data\n",
      "\n",
      "Ttest_indResult(statistic=0.44668081541215887, pvalue=0.6599047301324578)\n",
      "No difference\n",
      "Win\n",
      "\n",
      "MannwhitneyuResult(statistic=50.0, pvalue=0.2557029609250582)\n",
      "No difference\n",
      "Win\n"
     ]
    }
   ],
   "source": [
    "from scipy import stats\n",
    "\n",
    "print(stats.shapiro(mut_types_table.DnDs))\n",
    "print(stats.shapiro(mut_types_table_nexts.DnDs))\n",
    "print('Normal data\\n')\n",
    "\n",
    "print(stats.ttest_ind(\n",
    "    mut_types_table.DnDs,\n",
    "    mut_types_table_nexts.DnDs\n",
    "))\n",
    "print('No difference')\n",
    "print('Win\\n')\n",
    "\n",
    "print(stats.mannwhitneyu(\n",
    "    mut_types_table.DnDs,\n",
    "    mut_types_table_nexts.DnDs\n",
    "))\n",
    "print('No difference')\n",
    "print('Win')"
   ]
  },
  {
   "cell_type": "markdown",
   "id": "through-glory",
   "metadata": {},
   "source": [
    "### Check difference in `Stop2Base`"
   ]
  },
  {
   "cell_type": "code",
   "execution_count": 41,
   "id": "stopped-postcard",
   "metadata": {
    "ExecuteTime": {
     "end_time": "2021-05-25T00:55:02.304273Z",
     "start_time": "2021-05-25T00:55:02.296045Z"
    }
   },
   "outputs": [
    {
     "name": "stdout",
     "output_type": "stream",
     "text": [
      "MannwhitneyuResult(statistic=16.0, pvalue=0.0008018236312070514)\n",
      "Yes difference - FromStop2NS\n",
      "\n",
      "MannwhitneyuResult(statistic=55.0, pvalue=0.3706263872341172)\n",
      "No difference - ToStop2NS\n"
     ]
    }
   ],
   "source": [
    "print(stats.mannwhitneyu(\n",
    "    mut_types_table.FromStop2NS,\n",
    "    mut_types_table_nexts.FromStop2NS,\n",
    "))\n",
    "print('Yes difference - FromStop2NS')\n",
    "print()\n",
    "\n",
    "print(stats.mannwhitneyu(\n",
    "    mut_types_table.ToStop2NS,\n",
    "    mut_types_table_nexts.ToStop2NS,\n",
    "))\n",
    "print('No difference - ToStop2NS')"
   ]
  },
  {
   "cell_type": "code",
   "execution_count": 29,
   "id": "prompt-egyptian",
   "metadata": {
    "ExecuteTime": {
     "end_time": "2021-04-27T15:20:13.713270Z",
     "start_time": "2021-04-27T15:20:13.447477Z"
    }
   },
   "outputs": [
    {
     "data": {
      "text/plain": [
       "<AxesSubplot:ylabel='Frequency'>"
      ]
     },
     "execution_count": 29,
     "metadata": {},
     "output_type": "execute_result"
    },
    {
     "data": {
      "image/png": "[encoded data removed]",
      "text/plain": [
       "<Figure size 432x288 with 1 Axes>"
      ]
     },
     "metadata": {
      "needs_background": "light"
     },
     "output_type": "display_data"
    }
   ],
   "source": [
    "mut_types_table.DnDs.plot.hist(alpha=.5)\n",
    "mut_types_table_nexts.DnDs.hist(alpha=.5)"
   ]
  },
  {
   "cell_type": "code",
   "execution_count": null,
   "id": "metallic-travel",
   "metadata": {},
   "outputs": [],
   "source": []
  },
  {
   "cell_type": "code",
   "execution_count": null,
   "id": "enormous-ethnic",
   "metadata": {},
   "outputs": [],
   "source": []
  },
  {
   "cell_type": "code",
   "execution_count": null,
   "id": "differential-bunny",
   "metadata": {},
   "outputs": [],
   "source": []
  },
  {
   "cell_type": "code",
   "execution_count": null,
   "id": "agreed-religious",
   "metadata": {},
   "outputs": [],
   "source": []
  },
  {
   "cell_type": "code",
   "execution_count": 22,
   "id": "palestinian-evaluation",
   "metadata": {
    "ExecuteTime": {
     "end_time": "2021-03-25T13:28:47.582525Z",
     "start_time": "2021-03-25T13:28:47.525349Z"
    }
   },
   "outputs": [],
   "source": [
    "rec = [rec for rec in SeqIO.parse(GENEBANK_PATH, \"genbank\")][0]\n",
    "assert rec.seq == refseq"
   ]
  },
  {
   "cell_type": "code",
   "execution_count": 46,
   "id": "conscious-dressing",
   "metadata": {
    "ExecuteTime": {
     "end_time": "2021-03-25T13:33:55.447274Z",
     "start_time": "2021-03-25T13:33:55.437716Z"
    }
   },
   "outputs": [],
   "source": [
    "genes_aa_merged_seq = \"\".join([str(fea.translate(rec.seq)) for fea in rec.features if fea.type == 'gene'])"
   ]
  },
  {
   "cell_type": "code",
   "execution_count": 47,
   "id": "unavailable-canadian",
   "metadata": {
    "ExecuteTime": {
     "end_time": "2021-03-25T13:33:55.835014Z",
     "start_time": "2021-03-25T13:33:55.830774Z"
    }
   },
   "outputs": [],
   "source": [
    "from collections import Counter"
   ]
  },
  {
   "cell_type": "code",
   "execution_count": 55,
   "id": "broad-biology",
   "metadata": {
    "ExecuteTime": {
     "end_time": "2021-03-25T13:37:44.391471Z",
     "start_time": "2021-03-25T13:37:44.385273Z"
    }
   },
   "outputs": [
    {
     "data": {
      "text/plain": [
       "array([0.03126922, 0.04018864, 0.06868977, 0.12364158, 0.08027476,\n",
       "       0.03424236, 0.04910806, 0.04572483, 0.05003076, 0.05556695,\n",
       "       0.07227804, 0.02347755, 0.04008612, 0.03198688, 0.03834324,\n",
       "       0.05546442, 0.02850113, 0.04121386, 0.06089809, 0.01035473,\n",
       "       0.01865901])"
      ]
     },
     "execution_count": 55,
     "metadata": {},
     "output_type": "execute_result"
    }
   ],
   "source": [
    "aa_counts = np.array(list(Counter(genes_aa_merged_seq).values()))\n",
    "aa_counts = aa_counts / aa_counts.sum()\n",
    "aa_counts"
   ]
  },
  {
   "cell_type": "code",
   "execution_count": 58,
   "id": "dutch-muscle",
   "metadata": {
    "ExecuteTime": {
     "end_time": "2021-03-25T13:38:42.326940Z",
     "start_time": "2021-03-25T13:38:42.317101Z"
    }
   },
   "outputs": [
    {
     "data": {
      "text/plain": [
       "41954.39091375119"
      ]
     },
     "execution_count": 58,
     "metadata": {},
     "output_type": "execute_result"
    }
   ],
   "source": [
    "np.sum(aa_counts ** 2) * 700_000"
   ]
  },
  {
   "cell_type": "code",
   "execution_count": null,
   "id": "hydraulic-touch",
   "metadata": {},
   "outputs": [],
   "source": []
  },
  {
   "cell_type": "code",
   "execution_count": null,
   "id": "surrounded-burlington",
   "metadata": {},
   "outputs": [],
   "source": []
  },
  {
   "cell_type": "code",
   "execution_count": null,
   "id": "isolated-tyler",
   "metadata": {},
   "outputs": [],
   "source": []
  },
  {
   "cell_type": "code",
   "execution_count": null,
   "id": "trying-muslim",
   "metadata": {},
   "outputs": [],
   "source": []
  },
  {
   "cell_type": "code",
   "execution_count": 28,
   "id": "documented-andrew",
   "metadata": {
    "ExecuteTime": {
     "end_time": "2021-03-25T13:30:38.450678Z",
     "start_time": "2021-03-25T13:30:38.436111Z"
    }
   },
   "outputs": [
    {
     "name": "stdout",
     "output_type": "stream",
     "text": [
      "ORF1ab\t 265\t 21554\n",
      "S\t 21562\t 25383\n",
      "ORF3a\t 25392\t 26219\n",
      "E\t 26244\t 26471\n",
      "M\t 26522\t 27190\n",
      "ORF6\t 27201\t 27386\n",
      "ORF7a\t 27393\t 27758\n",
      "ORF7b\t 27755\t 27886\n",
      "--------------------\n",
      "27758 27755\n",
      "type: gene\n",
      "location: [27755:27887](+)\n",
      "qualifiers:\n",
      "    Key: db_xref, Value: ['GeneID:43740574']\n",
      "    Key: gene, Value: ['ORF7b']\n",
      "    Key: locus_tag, Value: ['GU280_gp08']\n",
      "\n",
      "--------------------\n",
      "ORF8\t 27893\t 28258\n",
      "N\t 28273\t 29532\n",
      "ORF10\t 29557\t 29673\n"
     ]
    }
   ],
   "source": [
    "past_start, past_end = 0, 0\n",
    "\n",
    "for fea in rec.features:\n",
    "    if fea.type == \"gene\":\n",
    "        cur_start = fea.location.start \n",
    "        cur_end = fea.location.end - 1\n",
    "        gene_name = fea.qualifiers['gene'][0]\n",
    "        print(f\"{gene_name}\\t {cur_start}\\t {cur_end}\")\n",
    "        \n",
    "        if cur_start <= past_end:\n",
    "            print('-'*20)\n",
    "            print(past_end, cur_start)\n",
    "            print(fea)\n",
    "            print('-'*20)\n",
    "            \n",
    "        past_start, past_end = cur_start, cur_end"
   ]
  },
  {
   "cell_type": "code",
   "execution_count": null,
   "id": "bronze-label",
   "metadata": {},
   "outputs": [],
   "source": []
  },
  {
   "cell_type": "code",
   "execution_count": null,
   "id": "everyday-alloy",
   "metadata": {},
   "outputs": [],
   "source": []
  }
 ],
 "metadata": {
  "kernelspec": {
   "display_name": "Python 3.9.5 ('env_bio')",
   "language": "python",
   "name": "python3"
  },
  "language_info": {
   "codemirror_mode": {
    "name": "ipython",
    "version": 3
   },
   "file_extension": ".py",
   "mimetype": "text/x-python",
   "name": "python",
   "nbconvert_exporter": "python",
   "pygments_lexer": "ipython3",
   "version": "3.9.5"
  },
  "vscode": {
   "interpreter": {
    "hash": "c737589ac25c2b5207a58295544dae93bde342e9f173b68ed1d9625ade55517f"
   }
  }
 },
 "nbformat": 4,
 "nbformat_minor": 5
}
