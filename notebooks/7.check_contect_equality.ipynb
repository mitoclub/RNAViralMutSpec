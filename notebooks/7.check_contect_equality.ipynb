{
 "cells": [
  {
   "cell_type": "markdown",
   "metadata": {},
   "source": [
    "### Substitutions contexts of parent and child sequences must be equal\n",
    "\n",
    "Here we check the numbers of filtered mutations such way"
   ]
  },
  {
   "cell_type": "code",
   "execution_count": 1,
   "metadata": {},
   "outputs": [],
   "source": [
    "import numpy as np\n",
    "import pandas as pd\n",
    "import matplotlib.pyplot as plt"
   ]
  },
  {
   "cell_type": "code",
   "execution_count": 36,
   "metadata": {},
   "outputs": [
    {
     "data": {
      "text/plain": [
       "(1097172, 10)"
      ]
     },
     "execution_count": 36,
     "metadata": {},
     "output_type": "execute_result"
    }
   ],
   "source": [
    "path_to_mut = \"../data/mutation_dists.csv\"\n",
    "mut = pd.read_csv(path_to_mut)\n",
    "mut.shape"
   ]
  },
  {
   "cell_type": "code",
   "execution_count": 35,
   "metadata": {},
   "outputs": [
    {
     "data": {
      "text/html": [
       "<div>\n",
       "<style scoped>\n",
       "    .dataframe tbody tr th:only-of-type {\n",
       "        vertical-align: middle;\n",
       "    }\n",
       "\n",
       "    .dataframe tbody tr th {\n",
       "        vertical-align: top;\n",
       "    }\n",
       "\n",
       "    .dataframe thead th {\n",
       "        text-align: right;\n",
       "    }\n",
       "</style>\n",
       "<table border=\"1\" class=\"dataframe\">\n",
       "  <thead>\n",
       "    <tr style=\"text-align: right;\">\n",
       "      <th></th>\n",
       "      <th>mut_id</th>\n",
       "      <th>pos</th>\n",
       "      <th>parent_nucl</th>\n",
       "      <th>child_nucl</th>\n",
       "      <th>parent_nucl_context</th>\n",
       "      <th>child_nucl_context</th>\n",
       "      <th>parent_node</th>\n",
       "      <th>child_node</th>\n",
       "      <th>phylo_dist</th>\n",
       "      <th>topology_dist</th>\n",
       "    </tr>\n",
       "  </thead>\n",
       "  <tbody>\n",
       "    <tr>\n",
       "      <th>0</th>\n",
       "      <td>0</td>\n",
       "      <td>1086</td>\n",
       "      <td>G</td>\n",
       "      <td>A</td>\n",
       "      <td>gtGtt</td>\n",
       "      <td>gtAtt</td>\n",
       "      <td>#54520#</td>\n",
       "      <td>#54519#</td>\n",
       "      <td>0.1</td>\n",
       "      <td>0</td>\n",
       "    </tr>\n",
       "    <tr>\n",
       "      <th>1</th>\n",
       "      <td>1</td>\n",
       "      <td>3676</td>\n",
       "      <td>T</td>\n",
       "      <td>C</td>\n",
       "      <td>atTtt</td>\n",
       "      <td>atCtt</td>\n",
       "      <td>#54520#</td>\n",
       "      <td>#54519#</td>\n",
       "      <td>0.1</td>\n",
       "      <td>0</td>\n",
       "    </tr>\n",
       "    <tr>\n",
       "      <th>2</th>\n",
       "      <td>2</td>\n",
       "      <td>7118</td>\n",
       "      <td>C</td>\n",
       "      <td>T</td>\n",
       "      <td>ttCta</td>\n",
       "      <td>ttTta</td>\n",
       "      <td>#54520#</td>\n",
       "      <td>#54519#</td>\n",
       "      <td>0.1</td>\n",
       "      <td>0</td>\n",
       "    </tr>\n",
       "    <tr>\n",
       "      <th>3</th>\n",
       "      <td>3</td>\n",
       "      <td>9564</td>\n",
       "      <td>C</td>\n",
       "      <td>T</td>\n",
       "      <td>ttCtt</td>\n",
       "      <td>ttTtt</td>\n",
       "      <td>#54520#</td>\n",
       "      <td>#54519#</td>\n",
       "      <td>0.1</td>\n",
       "      <td>0</td>\n",
       "    </tr>\n",
       "    <tr>\n",
       "      <th>4</th>\n",
       "      <td>4</td>\n",
       "      <td>10322</td>\n",
       "      <td>A</td>\n",
       "      <td>G</td>\n",
       "      <td>taAgg</td>\n",
       "      <td>taGgg</td>\n",
       "      <td>#54520#</td>\n",
       "      <td>#54519#</td>\n",
       "      <td>0.1</td>\n",
       "      <td>0</td>\n",
       "    </tr>\n",
       "  </tbody>\n",
       "</table>\n",
       "</div>"
      ],
      "text/plain": [
       "   mut_id    pos parent_nucl child_nucl parent_nucl_context  \\\n",
       "0       0   1086           G          A               gtGtt   \n",
       "1       1   3676           T          C               atTtt   \n",
       "2       2   7118           C          T               ttCta   \n",
       "3       3   9564           C          T               ttCtt   \n",
       "4       4  10322           A          G               taAgg   \n",
       "\n",
       "  child_nucl_context parent_node child_node  phylo_dist  topology_dist  \n",
       "0              gtAtt     #54520#    #54519#         0.1              0  \n",
       "1              atCtt     #54520#    #54519#         0.1              0  \n",
       "2              ttTta     #54520#    #54519#         0.1              0  \n",
       "3              ttTtt     #54520#    #54519#         0.1              0  \n",
       "4              taGgg     #54520#    #54519#         0.1              0  "
      ]
     },
     "execution_count": 35,
     "metadata": {},
     "output_type": "execute_result"
    }
   ],
   "source": [
    "mut.head(5)"
   ]
  },
  {
   "cell_type": "code",
   "execution_count": 37,
   "metadata": {},
   "outputs": [
    {
     "data": {
      "text/plain": [
       "(959951, 10)"
      ]
     },
     "execution_count": 37,
     "metadata": {},
     "output_type": "execute_result"
    }
   ],
   "source": [
    "mut = mut[(~mut.parent_nucl_context.str.contains('-')) & (~mut.child_nucl_context.str.contains('-'))]\n",
    "mut.shape"
   ]
  },
  {
   "cell_type": "code",
   "execution_count": 32,
   "metadata": {},
   "outputs": [],
   "source": [
    "small_parent_context = mut.parent_nucl_context.str.slice(1, 4, 2)\n",
    "large_parent_context = mut.parent_nucl_context.str.slice(0, 2) + mut.parent_nucl_context.str.slice(3, 5)\n",
    "\n",
    "small_child_context = mut.child_nucl_context.str.slice(1, 4, 2)\n",
    "large_child_context = mut.child_nucl_context.str.slice(0, 2) + mut.child_nucl_context.str.slice(3, 5)"
   ]
  },
  {
   "cell_type": "code",
   "execution_count": 38,
   "metadata": {},
   "outputs": [
    {
     "name": "stderr",
     "output_type": "stream",
     "text": [
      "/tmp/ipykernel_21452/4092376088.py:1: UserWarning: Boolean Series key will be reindexed to match DataFrame index.\n",
      "  mut[small_parent_context == small_child_context].shape\n"
     ]
    },
    {
     "data": {
      "text/plain": [
       "(932282, 10)"
      ]
     },
     "execution_count": 38,
     "metadata": {},
     "output_type": "execute_result"
    }
   ],
   "source": [
    "mut[small_parent_context == small_child_context].shape"
   ]
  },
  {
   "cell_type": "code",
   "execution_count": 39,
   "metadata": {},
   "outputs": [
    {
     "name": "stderr",
     "output_type": "stream",
     "text": [
      "/tmp/ipykernel_21452/673230866.py:1: UserWarning: Boolean Series key will be reindexed to match DataFrame index.\n",
      "  mut[large_parent_context == large_child_context].shape\n"
     ]
    },
    {
     "data": {
      "text/plain": [
       "(925938, 10)"
      ]
     },
     "execution_count": 39,
     "metadata": {},
     "output_type": "execute_result"
    }
   ],
   "source": [
    "mut[large_parent_context == large_child_context].shape"
   ]
  },
  {
   "cell_type": "code",
   "execution_count": 40,
   "metadata": {},
   "outputs": [
    {
     "name": "stderr",
     "output_type": "stream",
     "text": [
      "/tmp/ipykernel_21452/673843701.py:1: UserWarning: Boolean Series key will be reindexed to match DataFrame index.\n",
      "  mut[large_parent_context == large_child_context]\n"
     ]
    },
    {
     "data": {
      "text/html": [
       "<div>\n",
       "<style scoped>\n",
       "    .dataframe tbody tr th:only-of-type {\n",
       "        vertical-align: middle;\n",
       "    }\n",
       "\n",
       "    .dataframe tbody tr th {\n",
       "        vertical-align: top;\n",
       "    }\n",
       "\n",
       "    .dataframe thead th {\n",
       "        text-align: right;\n",
       "    }\n",
       "</style>\n",
       "<table border=\"1\" class=\"dataframe\">\n",
       "  <thead>\n",
       "    <tr style=\"text-align: right;\">\n",
       "      <th></th>\n",
       "      <th>mut_id</th>\n",
       "      <th>pos</th>\n",
       "      <th>parent_nucl</th>\n",
       "      <th>child_nucl</th>\n",
       "      <th>parent_nucl_context</th>\n",
       "      <th>child_nucl_context</th>\n",
       "      <th>parent_node</th>\n",
       "      <th>child_node</th>\n",
       "      <th>phylo_dist</th>\n",
       "      <th>topology_dist</th>\n",
       "    </tr>\n",
       "  </thead>\n",
       "  <tbody>\n",
       "    <tr>\n",
       "      <th>0</th>\n",
       "      <td>0</td>\n",
       "      <td>1086</td>\n",
       "      <td>G</td>\n",
       "      <td>A</td>\n",
       "      <td>gtGtt</td>\n",
       "      <td>gtAtt</td>\n",
       "      <td>#54520#</td>\n",
       "      <td>#54519#</td>\n",
       "      <td>0.1</td>\n",
       "      <td>0</td>\n",
       "    </tr>\n",
       "    <tr>\n",
       "      <th>1</th>\n",
       "      <td>1</td>\n",
       "      <td>3676</td>\n",
       "      <td>T</td>\n",
       "      <td>C</td>\n",
       "      <td>atTtt</td>\n",
       "      <td>atCtt</td>\n",
       "      <td>#54520#</td>\n",
       "      <td>#54519#</td>\n",
       "      <td>0.1</td>\n",
       "      <td>0</td>\n",
       "    </tr>\n",
       "    <tr>\n",
       "      <th>2</th>\n",
       "      <td>2</td>\n",
       "      <td>7118</td>\n",
       "      <td>C</td>\n",
       "      <td>T</td>\n",
       "      <td>ttCta</td>\n",
       "      <td>ttTta</td>\n",
       "      <td>#54520#</td>\n",
       "      <td>#54519#</td>\n",
       "      <td>0.1</td>\n",
       "      <td>0</td>\n",
       "    </tr>\n",
       "    <tr>\n",
       "      <th>3</th>\n",
       "      <td>3</td>\n",
       "      <td>9564</td>\n",
       "      <td>C</td>\n",
       "      <td>T</td>\n",
       "      <td>ttCtt</td>\n",
       "      <td>ttTtt</td>\n",
       "      <td>#54520#</td>\n",
       "      <td>#54519#</td>\n",
       "      <td>0.1</td>\n",
       "      <td>0</td>\n",
       "    </tr>\n",
       "    <tr>\n",
       "      <th>4</th>\n",
       "      <td>4</td>\n",
       "      <td>10322</td>\n",
       "      <td>A</td>\n",
       "      <td>G</td>\n",
       "      <td>taAgg</td>\n",
       "      <td>taGgg</td>\n",
       "      <td>#54520#</td>\n",
       "      <td>#54519#</td>\n",
       "      <td>0.1</td>\n",
       "      <td>0</td>\n",
       "    </tr>\n",
       "    <tr>\n",
       "      <th>...</th>\n",
       "      <td>...</td>\n",
       "      <td>...</td>\n",
       "      <td>...</td>\n",
       "      <td>...</td>\n",
       "      <td>...</td>\n",
       "      <td>...</td>\n",
       "      <td>...</td>\n",
       "      <td>...</td>\n",
       "      <td>...</td>\n",
       "      <td>...</td>\n",
       "    </tr>\n",
       "    <tr>\n",
       "      <th>1097167</th>\n",
       "      <td>1097167</td>\n",
       "      <td>25372</td>\n",
       "      <td>T</td>\n",
       "      <td>C</td>\n",
       "      <td>taTat</td>\n",
       "      <td>taCat</td>\n",
       "      <td>#1062#</td>\n",
       "      <td>hCoV-19/Japan/PG-42530/2021</td>\n",
       "      <td>19.4</td>\n",
       "      <td>193</td>\n",
       "    </tr>\n",
       "    <tr>\n",
       "      <th>1097168</th>\n",
       "      <td>1097168</td>\n",
       "      <td>23247</td>\n",
       "      <td>T</td>\n",
       "      <td>C</td>\n",
       "      <td>ttTca</td>\n",
       "      <td>ttCca</td>\n",
       "      <td>#1062#</td>\n",
       "      <td>hCoV-19/Japan/PG-54311/2021</td>\n",
       "      <td>19.4</td>\n",
       "      <td>193</td>\n",
       "    </tr>\n",
       "    <tr>\n",
       "      <th>1097169</th>\n",
       "      <td>1097169</td>\n",
       "      <td>25372</td>\n",
       "      <td>T</td>\n",
       "      <td>C</td>\n",
       "      <td>taTat</td>\n",
       "      <td>taCat</td>\n",
       "      <td>#1062#</td>\n",
       "      <td>hCoV-19/Japan/PG-54311/2021</td>\n",
       "      <td>19.4</td>\n",
       "      <td>193</td>\n",
       "    </tr>\n",
       "    <tr>\n",
       "      <th>1097170</th>\n",
       "      <td>1097170</td>\n",
       "      <td>27311</td>\n",
       "      <td>T</td>\n",
       "      <td>A</td>\n",
       "      <td>atTaa</td>\n",
       "      <td>atAaa</td>\n",
       "      <td>#1062#</td>\n",
       "      <td>hCoV-19/Japan/PG-54311/2021</td>\n",
       "      <td>19.4</td>\n",
       "      <td>193</td>\n",
       "    </tr>\n",
       "    <tr>\n",
       "      <th>1097171</th>\n",
       "      <td>1097171</td>\n",
       "      <td>28723</td>\n",
       "      <td>C</td>\n",
       "      <td>T</td>\n",
       "      <td>atCct</td>\n",
       "      <td>atTct</td>\n",
       "      <td>#1062#</td>\n",
       "      <td>hCoV-19/Japan/PG-54311/2021</td>\n",
       "      <td>19.4</td>\n",
       "      <td>193</td>\n",
       "    </tr>\n",
       "  </tbody>\n",
       "</table>\n",
       "<p>925938 rows × 10 columns</p>\n",
       "</div>"
      ],
      "text/plain": [
       "          mut_id    pos parent_nucl child_nucl parent_nucl_context  \\\n",
       "0              0   1086           G          A               gtGtt   \n",
       "1              1   3676           T          C               atTtt   \n",
       "2              2   7118           C          T               ttCta   \n",
       "3              3   9564           C          T               ttCtt   \n",
       "4              4  10322           A          G               taAgg   \n",
       "...          ...    ...         ...        ...                 ...   \n",
       "1097167  1097167  25372           T          C               taTat   \n",
       "1097168  1097168  23247           T          C               ttTca   \n",
       "1097169  1097169  25372           T          C               taTat   \n",
       "1097170  1097170  27311           T          A               atTaa   \n",
       "1097171  1097171  28723           C          T               atCct   \n",
       "\n",
       "        child_nucl_context parent_node                   child_node  \\\n",
       "0                    gtAtt     #54520#                      #54519#   \n",
       "1                    atCtt     #54520#                      #54519#   \n",
       "2                    ttTta     #54520#                      #54519#   \n",
       "3                    ttTtt     #54520#                      #54519#   \n",
       "4                    taGgg     #54520#                      #54519#   \n",
       "...                    ...         ...                          ...   \n",
       "1097167              taCat      #1062#  hCoV-19/Japan/PG-42530/2021   \n",
       "1097168              ttCca      #1062#  hCoV-19/Japan/PG-54311/2021   \n",
       "1097169              taCat      #1062#  hCoV-19/Japan/PG-54311/2021   \n",
       "1097170              atAaa      #1062#  hCoV-19/Japan/PG-54311/2021   \n",
       "1097171              atTct      #1062#  hCoV-19/Japan/PG-54311/2021   \n",
       "\n",
       "         phylo_dist  topology_dist  \n",
       "0               0.1              0  \n",
       "1               0.1              0  \n",
       "2               0.1              0  \n",
       "3               0.1              0  \n",
       "4               0.1              0  \n",
       "...             ...            ...  \n",
       "1097167        19.4            193  \n",
       "1097168        19.4            193  \n",
       "1097169        19.4            193  \n",
       "1097170        19.4            193  \n",
       "1097171        19.4            193  \n",
       "\n",
       "[925938 rows x 10 columns]"
      ]
     },
     "execution_count": 40,
     "metadata": {},
     "output_type": "execute_result"
    }
   ],
   "source": [
    "mut = mut[large_parent_context == large_child_context]"
   ]
  }
 ],
 "metadata": {
  "interpreter": {
   "hash": "f926bf7556c295ab82e6443b319baccf5be120cc7de983f3fcc354a1358adec5"
  },
  "kernelspec": {
   "display_name": "Python 3.8.10 64-bit ('env_sars': venv)",
   "language": "python",
   "name": "python3"
  },
  "language_info": {
   "codemirror_mode": {
    "name": "ipython",
    "version": 3
   },
   "file_extension": ".py",
   "mimetype": "text/x-python",
   "name": "python",
   "nbconvert_exporter": "python",
   "pygments_lexer": "ipython3",
   "version": "3.8.10"
  },
  "orig_nbformat": 4
 },
 "nbformat": 4,
 "nbformat_minor": 2
}
