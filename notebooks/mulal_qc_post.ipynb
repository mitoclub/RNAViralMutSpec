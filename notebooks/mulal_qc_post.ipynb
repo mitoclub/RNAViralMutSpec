{
 "cells": [
  {
   "cell_type": "code",
   "execution_count": 2,
   "id": "artistic-wildlife",
   "metadata": {
    "ExecuteTime": {
     "end_time": "2021-06-02T18:12:14.212264Z",
     "start_time": "2021-06-02T18:12:14.204252Z"
    }
   },
   "outputs": [],
   "source": [
    "import tqdm\n",
    "import pandas as pd\n",
    "from Bio import SeqIO\n",
    "from ete3 import PhyloTree\n",
    "\n",
    "from src.utils import release_mutations_from_two_seqs"
   ]
  },
  {
   "cell_type": "code",
   "execution_count": 3,
   "id": "about-latin",
   "metadata": {
    "ExecuteTime": {
     "end_time": "2021-06-02T18:12:15.891944Z",
     "start_time": "2021-06-02T18:12:15.885107Z"
    }
   },
   "outputs": [],
   "source": [
    "PATH_TO_DATA = '/media/mr/const1/projects/COVID19/data/'\n",
    "PATH_TO_MULAL = PATH_TO_DATA + 'mulal_gisaid_2021-01-22.filtered.fasta'\n",
    "PATH_TO_DISTRIBUTION_DF = '../data/mutation_number_distribution.csv'\n",
    "PATH_TO_TREE = '../data/mulal_gisaid_2021-01-22.filtered.fasta.tre.pruned-simple.resolved.wo_pakistan'\n",
    "PATH_NEW_MULAL = PATH_TO_DATA + 'mulal_gisaid_2021-01-22.filtered.twice.fasta'\n",
    "\n",
    "DIFFERENCE_CUTOFF = 38  # delete all seqs that >38 nucleotides differ from refenence"
   ]
  },
  {
   "cell_type": "code",
   "execution_count": 4,
   "id": "superb-graduate",
   "metadata": {
    "ExecuteTime": {
     "end_time": "2021-06-02T18:12:22.754863Z",
     "start_time": "2021-06-02T18:12:22.747807Z"
    }
   },
   "outputs": [],
   "source": [
    "def write_new_mulal():\n",
    "    df = pd.read_csv(PATH_TO_DISTRIBUTION_DF)\n",
    "    sub_df = df[(df.difference > DIFFERENCE_CUTOFF)]\n",
    "    nodes_to_delete = set(sub_df.name.values)\n",
    "\n",
    "    reader = SeqIO.parse(PATH_TO_MULAL, 'fasta')\n",
    "\n",
    "    with open(PATH_NEW_MULAL, 'w') as writer:\n",
    "        ndroped = 0\n",
    "        for i, record in tqdm.tqdm(enumerate(reader), total=164688):\n",
    "            if record.id in nodes_to_delete:\n",
    "                ndroped += 1\n",
    "                continue\n",
    "\n",
    "            header = record.id\n",
    "            seq = str(record.seq)\n",
    "\n",
    "            writer.write('>' + header + '\\n')\n",
    "            writer.write(seq + '\\n')\n",
    "\n",
    "    assert len(nodes_to_delete) == ndroped, (\n",
    "        f\"{len(nodes_to_delete)} != {ndroped}, smt doesn't deleted\"\n",
    "    )"
   ]
  },
  {
   "cell_type": "code",
   "execution_count": null,
   "id": "educational-symbol",
   "metadata": {},
   "outputs": [],
   "source": [
    "# write_new_mulal()\n",
    "\n",
    "# used_tree = PhyloTree(PATH_TO_TREE)\n",
    "\n",
    "# print('num of seqs to drop')\n",
    "# print(sub_df.shape[0])\n",
    "# print('num of seqs that in the tree')\n",
    "# print(len(set(nodes_to_delete).difference(used_tree.get_leaf_names())))"
   ]
  },
  {
   "cell_type": "code",
   "execution_count": 5,
   "id": "sudden-blocking",
   "metadata": {
    "ExecuteTime": {
     "end_time": "2021-06-02T18:12:27.793326Z",
     "start_time": "2021-06-02T18:12:27.786483Z"
    }
   },
   "outputs": [],
   "source": [
    "def look_at_3rd_mode_of_distribution():\n",
    "    \"\"\"print mutations of some seqs with determined num of mutations\"\"\"\n",
    "    reader = SeqIO.parse(PATH_TO_MULAL, 'fasta')\n",
    "    ref = next(reader)\n",
    "    assert ref.id == \"external/NC_045512.2\"\n",
    "    refseq = str(ref.seq)\n",
    "\n",
    "    df = pd.read_csv(PATH_TO_DISTRIBUTION_DF)\n",
    "    sub_df = df[(df.difference > 47) & (df.difference < 56)]\n",
    "\n",
    "    for name, dist in sub_df.values:\n",
    "        for record in reader:\n",
    "            if record.id == name:\n",
    "                break\n",
    "\n",
    "        cur_seq = str(record.seq)\n",
    "        mutations = release_mutations_from_two_seqs(refseq, cur_seq)\n",
    "        mutations = [x for x in mutations if x[2] == '-']\n",
    "        print(name, dist)\n",
    "        print(mutations)\n",
    "        print()"
   ]
  },
  {
   "cell_type": "code",
   "execution_count": null,
   "id": "center-earth",
   "metadata": {},
   "outputs": [],
   "source": []
  },
  {
   "cell_type": "code",
   "execution_count": 7,
   "id": "fixed-fundamental",
   "metadata": {
    "ExecuteTime": {
     "end_time": "2021-06-02T18:13:12.244899Z",
     "start_time": "2021-06-02T18:13:12.073556Z"
    }
   },
   "outputs": [],
   "source": [
    "df = pd.read_csv(PATH_TO_DISTRIBUTION_DF)"
   ]
  },
  {
   "cell_type": "code",
   "execution_count": 16,
   "id": "pleasant-prefix",
   "metadata": {
    "ExecuteTime": {
     "end_time": "2021-06-02T19:53:11.560621Z",
     "start_time": "2021-06-02T19:53:11.295956Z"
    }
   },
   "outputs": [
    {
     "data": {
      "text/plain": [
       "<AxesSubplot:ylabel='Frequency'>"
      ]
     },
     "execution_count": 16,
     "metadata": {},
     "output_type": "execute_result"
    },
    {
     "data": {
      "image/png": "[encoded data removed]",
      "text/plain": [
       "<Figure size 432x288 with 1 Axes>"
      ]
     },
     "metadata": {
      "needs_background": "light"
     },
     "output_type": "display_data"
    }
   ],
   "source": [
    "df[df.difference < 39].difference.plot.hist(bins=39)"
   ]
  },
  {
   "cell_type": "markdown",
   "id": "yellow-glossary",
   "metadata": {},
   "source": [
    "## Нарисовал в R"
   ]
  },
  {
   "cell_type": "code",
   "execution_count": null,
   "id": "broadband-makeup",
   "metadata": {},
   "outputs": [],
   "source": []
  },
  {
   "cell_type": "code",
   "execution_count": null,
   "id": "vietnamese-berry",
   "metadata": {},
   "outputs": [],
   "source": []
  },
  {
   "cell_type": "code",
   "execution_count": null,
   "id": "exempt-foundation",
   "metadata": {},
   "outputs": [],
   "source": []
  }
 ],
 "metadata": {
  "kernelspec": {
   "display_name": "Python 3.9.5 ('env_bio')",
   "language": "python",
   "name": "python3"
  },
  "language_info": {
   "codemirror_mode": {
    "name": "ipython",
    "version": 3
   },
   "file_extension": ".py",
   "mimetype": "text/x-python",
   "name": "python",
   "nbconvert_exporter": "python",
   "pygments_lexer": "ipython3",
   "version": "3.9.5"
  },
  "vscode": {
   "interpreter": {
    "hash": "c737589ac25c2b5207a58295544dae93bde342e9f173b68ed1d9625ade55517f"
   }
  }
 },
 "nbformat": 4,
 "nbformat_minor": 5
}
