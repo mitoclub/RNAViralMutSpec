{
 "cells": [
  {
   "cell_type": "code",
   "execution_count": 1,
   "id": "317733be",
   "metadata": {},
   "outputs": [],
   "source": [
    "import pandas as pd\n",
    "import matplotlib.pyplot as plt"
   ]
  },
  {
   "cell_type": "code",
   "execution_count": 2,
   "id": "55d6e144",
   "metadata": {},
   "outputs": [],
   "source": [
    "path_to_metadata = \"../data/gisaid/metadata.tsv\""
   ]
  },
  {
   "cell_type": "code",
   "execution_count": 6,
   "id": "64c64a59",
   "metadata": {},
   "outputs": [],
   "source": [
    "df = pd.read_csv(path_to_metadata, sep='\\t')"
   ]
  },
  {
   "cell_type": "code",
   "execution_count": 7,
   "id": "c6e16f3e",
   "metadata": {},
   "outputs": [
    {
     "data": {
      "text/plain": [
       "(4400645, 28)"
      ]
     },
     "execution_count": 7,
     "metadata": {},
     "output_type": "execute_result"
    }
   ],
   "source": [
    "df.shape"
   ]
  },
  {
   "cell_type": "code",
   "execution_count": 8,
   "id": "8329e222",
   "metadata": {},
   "outputs": [
    {
     "data": {
      "text/plain": [
       "Index(['strain', 'virus', 'gisaid_epi_isl', 'genbank_accession', 'date',\n",
       "       'region', 'country', 'division', 'location', 'region_exposure',\n",
       "       'country_exposure', 'division_exposure', 'segment', 'length', 'host',\n",
       "       'age', 'sex', 'Nextstrain_clade', 'pangolin_lineage', 'GISAID_clade',\n",
       "       'originating_lab', 'submitting_lab', 'authors', 'url', 'title',\n",
       "       'paper_url', 'date_submitted', 'purpose_of_sequencing'],\n",
       "      dtype='object')"
      ]
     },
     "execution_count": 8,
     "metadata": {},
     "output_type": "execute_result"
    }
   ],
   "source": [
    "df.columns"
   ]
  },
  {
   "cell_type": "code",
   "execution_count": 9,
   "id": "6321b8cb",
   "metadata": {},
   "outputs": [],
   "source": [
    "df_clean = df[\n",
    "    (df.virus == \"betacoronavirus\") &\n",
    "    (df.host == 'Human') &\n",
    "    (df.gisaid_epi_isl.str.startswith(\"EPI_ISL\"))\n",
    "#     (df.length > 29900)\n",
    "]"
   ]
  },
  {
   "cell_type": "code",
   "execution_count": 10,
   "id": "aacc3905",
   "metadata": {},
   "outputs": [
    {
     "data": {
      "text/plain": [
       "(4374452, 28)"
      ]
     },
     "execution_count": 10,
     "metadata": {},
     "output_type": "execute_result"
    }
   ],
   "source": [
    "df_clean.shape"
   ]
  },
  {
   "cell_type": "code",
   "execution_count": 12,
   "id": "c8fa97ce",
   "metadata": {},
   "outputs": [
    {
     "data": {
      "text/plain": [
       "12"
      ]
     },
     "execution_count": 12,
     "metadata": {},
     "output_type": "execute_result"
    }
   ],
   "source": [
    "useful_cols = [\n",
    "    \"strain\", \"gisaid_epi_isl\", \"date\", \"region\", \"country\", \n",
    "    \"length\", \"age\", \"sex\", \"pangolin_lineage\", \"GISAID_clade\", \n",
    "    \"originating_lab\", \"date_submitted\",\n",
    "]\n",
    "len(useful_cols)"
   ]
  },
  {
   "cell_type": "code",
   "execution_count": 13,
   "id": "68eaedbc",
   "metadata": {},
   "outputs": [],
   "source": [
    "df_clean[useful_cols].to_csv(path_to_metadata + \"1\", index=None)"
   ]
  },
  {
   "cell_type": "code",
   "execution_count": null,
   "id": "add29484",
   "metadata": {},
   "outputs": [],
   "source": []
  },
  {
   "cell_type": "code",
   "execution_count": 14,
   "id": "178c43ef",
   "metadata": {},
   "outputs": [],
   "source": [
    "df1 = pd.read_csv((path_to_metadata + \"1\"))"
   ]
  },
  {
   "cell_type": "code",
   "execution_count": 15,
   "id": "e65547a8",
   "metadata": {},
   "outputs": [
    {
     "name": "stdout",
     "output_type": "stream",
     "text": [
      "<class 'pandas.core.frame.DataFrame'>\n",
      "RangeIndex: 4374452 entries, 0 to 4374451\n",
      "Data columns (total 12 columns):\n",
      " #   Column            Dtype \n",
      "---  ------            ----- \n",
      " 0   strain            object\n",
      " 1   gisaid_epi_isl    object\n",
      " 2   date              object\n",
      " 3   region            object\n",
      " 4   country           object\n",
      " 5   length            int64 \n",
      " 6   age               object\n",
      " 7   sex               object\n",
      " 8   pangolin_lineage  object\n",
      " 9   GISAID_clade      object\n",
      " 10  originating_lab   object\n",
      " 11  date_submitted    object\n",
      "dtypes: int64(1), object(11)\n",
      "memory usage: 400.5+ MB\n"
     ]
    }
   ],
   "source": [
    "df1.info()"
   ]
  },
  {
   "cell_type": "code",
   "execution_count": 16,
   "id": "d200c63b",
   "metadata": {},
   "outputs": [
    {
     "data": {
      "text/html": [
       "<div>\n",
       "<style scoped>\n",
       "    .dataframe tbody tr th:only-of-type {\n",
       "        vertical-align: middle;\n",
       "    }\n",
       "\n",
       "    .dataframe tbody tr th {\n",
       "        vertical-align: top;\n",
       "    }\n",
       "\n",
       "    .dataframe thead th {\n",
       "        text-align: right;\n",
       "    }\n",
       "</style>\n",
       "<table border=\"1\" class=\"dataframe\">\n",
       "  <thead>\n",
       "    <tr style=\"text-align: right;\">\n",
       "      <th></th>\n",
       "      <th>strain</th>\n",
       "      <th>gisaid_epi_isl</th>\n",
       "      <th>date</th>\n",
       "      <th>region</th>\n",
       "      <th>country</th>\n",
       "      <th>length</th>\n",
       "      <th>age</th>\n",
       "      <th>sex</th>\n",
       "      <th>pangolin_lineage</th>\n",
       "      <th>GISAID_clade</th>\n",
       "      <th>originating_lab</th>\n",
       "      <th>date_submitted</th>\n",
       "    </tr>\n",
       "  </thead>\n",
       "  <tbody>\n",
       "    <tr>\n",
       "      <th>0</th>\n",
       "      <td>hCoV-19/Wuhan/IVDC-HB-01/2019</td>\n",
       "      <td>EPI_ISL_402119</td>\n",
       "      <td>2019-12-30</td>\n",
       "      <td>Asia</td>\n",
       "      <td>China</td>\n",
       "      <td>29891</td>\n",
       "      <td>49</td>\n",
       "      <td>Female</td>\n",
       "      <td>B</td>\n",
       "      <td>L</td>\n",
       "      <td>National Institute for Viral Disease Control a...</td>\n",
       "      <td>2020-01-10</td>\n",
       "    </tr>\n",
       "    <tr>\n",
       "      <th>1</th>\n",
       "      <td>hCoV-19/Wuhan/IVDC-HB-04/2020</td>\n",
       "      <td>EPI_ISL_402120</td>\n",
       "      <td>2020-01-01</td>\n",
       "      <td>Asia</td>\n",
       "      <td>China</td>\n",
       "      <td>29896</td>\n",
       "      <td>61</td>\n",
       "      <td>Male</td>\n",
       "      <td>B</td>\n",
       "      <td>L</td>\n",
       "      <td>National Institute for Viral Disease Control a...</td>\n",
       "      <td>2020-01-11</td>\n",
       "    </tr>\n",
       "    <tr>\n",
       "      <th>2</th>\n",
       "      <td>hCoV-19/Wuhan/IVDC-HB-05/2019</td>\n",
       "      <td>EPI_ISL_402121</td>\n",
       "      <td>2019-12-30</td>\n",
       "      <td>Asia</td>\n",
       "      <td>China</td>\n",
       "      <td>29891</td>\n",
       "      <td>32</td>\n",
       "      <td>Male</td>\n",
       "      <td>B</td>\n",
       "      <td>L</td>\n",
       "      <td>National Institute for Viral Disease Control a...</td>\n",
       "      <td>2020-01-10</td>\n",
       "    </tr>\n",
       "    <tr>\n",
       "      <th>3</th>\n",
       "      <td>hCoV-19/Wuhan/IPBCAMS-WH-01/2019</td>\n",
       "      <td>EPI_ISL_402123</td>\n",
       "      <td>2019-12-24</td>\n",
       "      <td>Asia</td>\n",
       "      <td>China</td>\n",
       "      <td>29899</td>\n",
       "      <td>65</td>\n",
       "      <td>Male</td>\n",
       "      <td>B</td>\n",
       "      <td>L</td>\n",
       "      <td>Institute of Pathogen Biology, Chinese Academy...</td>\n",
       "      <td>2020-01-11</td>\n",
       "    </tr>\n",
       "    <tr>\n",
       "      <th>4</th>\n",
       "      <td>hCoV-19/Wuhan/WIV04/2019</td>\n",
       "      <td>EPI_ISL_402124</td>\n",
       "      <td>2019-12-30</td>\n",
       "      <td>Asia</td>\n",
       "      <td>China</td>\n",
       "      <td>29891</td>\n",
       "      <td>49</td>\n",
       "      <td>Female</td>\n",
       "      <td>B</td>\n",
       "      <td>L</td>\n",
       "      <td>Wuhan Jinyintan Hospital</td>\n",
       "      <td>2020-01-11</td>\n",
       "    </tr>\n",
       "  </tbody>\n",
       "</table>\n",
       "</div>"
      ],
      "text/plain": [
       "                             strain  gisaid_epi_isl        date region  \\\n",
       "0     hCoV-19/Wuhan/IVDC-HB-01/2019  EPI_ISL_402119  2019-12-30   Asia   \n",
       "1     hCoV-19/Wuhan/IVDC-HB-04/2020  EPI_ISL_402120  2020-01-01   Asia   \n",
       "2     hCoV-19/Wuhan/IVDC-HB-05/2019  EPI_ISL_402121  2019-12-30   Asia   \n",
       "3  hCoV-19/Wuhan/IPBCAMS-WH-01/2019  EPI_ISL_402123  2019-12-24   Asia   \n",
       "4          hCoV-19/Wuhan/WIV04/2019  EPI_ISL_402124  2019-12-30   Asia   \n",
       "\n",
       "  country  length age     sex pangolin_lineage GISAID_clade  \\\n",
       "0   China   29891  49  Female                B            L   \n",
       "1   China   29896  61    Male                B            L   \n",
       "2   China   29891  32    Male                B            L   \n",
       "3   China   29899  65    Male                B            L   \n",
       "4   China   29891  49  Female                B            L   \n",
       "\n",
       "                                     originating_lab date_submitted  \n",
       "0  National Institute for Viral Disease Control a...     2020-01-10  \n",
       "1  National Institute for Viral Disease Control a...     2020-01-11  \n",
       "2  National Institute for Viral Disease Control a...     2020-01-10  \n",
       "3  Institute of Pathogen Biology, Chinese Academy...     2020-01-11  \n",
       "4                           Wuhan Jinyintan Hospital     2020-01-11  "
      ]
     },
     "execution_count": 16,
     "metadata": {},
     "output_type": "execute_result"
    }
   ],
   "source": [
    "df1.head()"
   ]
  },
  {
   "cell_type": "code",
   "execution_count": 23,
   "id": "296f23d1",
   "metadata": {},
   "outputs": [],
   "source": [
    "df2 = df1[df1.length > 29000]\n",
    "df2.to_csv(\"../data/gisaid/metadata_clean.tsv\", index=False)"
   ]
  },
  {
   "cell_type": "code",
   "execution_count": 5,
   "id": "8469d0df",
   "metadata": {},
   "outputs": [
    {
     "data": {
      "text/html": [
       "<div>\n",
       "<style scoped>\n",
       "    .dataframe tbody tr th:only-of-type {\n",
       "        vertical-align: middle;\n",
       "    }\n",
       "\n",
       "    .dataframe tbody tr th {\n",
       "        vertical-align: top;\n",
       "    }\n",
       "\n",
       "    .dataframe thead th {\n",
       "        text-align: right;\n",
       "    }\n",
       "</style>\n",
       "<table border=\"1\" class=\"dataframe\">\n",
       "  <thead>\n",
       "    <tr style=\"text-align: right;\">\n",
       "      <th></th>\n",
       "      <th>strain</th>\n",
       "      <th>gisaid_epi_isl</th>\n",
       "      <th>date</th>\n",
       "      <th>region</th>\n",
       "      <th>country</th>\n",
       "      <th>length</th>\n",
       "      <th>age</th>\n",
       "      <th>sex</th>\n",
       "      <th>pangolin_lineage</th>\n",
       "      <th>GISAID_clade</th>\n",
       "      <th>originating_lab</th>\n",
       "      <th>date_submitted</th>\n",
       "    </tr>\n",
       "  </thead>\n",
       "  <tbody>\n",
       "    <tr>\n",
       "      <th>0</th>\n",
       "      <td>hCoV-19/Wuhan/IVDC-HB-01/2019</td>\n",
       "      <td>EPI_ISL_402119</td>\n",
       "      <td>2019-12-30</td>\n",
       "      <td>Asia</td>\n",
       "      <td>China</td>\n",
       "      <td>29891</td>\n",
       "      <td>49</td>\n",
       "      <td>Female</td>\n",
       "      <td>B</td>\n",
       "      <td>L</td>\n",
       "      <td>National Institute for Viral Disease Control a...</td>\n",
       "      <td>2020-01-10</td>\n",
       "    </tr>\n",
       "    <tr>\n",
       "      <th>1</th>\n",
       "      <td>hCoV-19/Wuhan/IVDC-HB-04/2020</td>\n",
       "      <td>EPI_ISL_402120</td>\n",
       "      <td>2020-01-01</td>\n",
       "      <td>Asia</td>\n",
       "      <td>China</td>\n",
       "      <td>29896</td>\n",
       "      <td>61</td>\n",
       "      <td>Male</td>\n",
       "      <td>B</td>\n",
       "      <td>L</td>\n",
       "      <td>National Institute for Viral Disease Control a...</td>\n",
       "      <td>2020-01-11</td>\n",
       "    </tr>\n",
       "    <tr>\n",
       "      <th>2</th>\n",
       "      <td>hCoV-19/Wuhan/IVDC-HB-05/2019</td>\n",
       "      <td>EPI_ISL_402121</td>\n",
       "      <td>2019-12-30</td>\n",
       "      <td>Asia</td>\n",
       "      <td>China</td>\n",
       "      <td>29891</td>\n",
       "      <td>32</td>\n",
       "      <td>Male</td>\n",
       "      <td>B</td>\n",
       "      <td>L</td>\n",
       "      <td>National Institute for Viral Disease Control a...</td>\n",
       "      <td>2020-01-10</td>\n",
       "    </tr>\n",
       "    <tr>\n",
       "      <th>3</th>\n",
       "      <td>hCoV-19/Wuhan/IPBCAMS-WH-01/2019</td>\n",
       "      <td>EPI_ISL_402123</td>\n",
       "      <td>2019-12-24</td>\n",
       "      <td>Asia</td>\n",
       "      <td>China</td>\n",
       "      <td>29899</td>\n",
       "      <td>65</td>\n",
       "      <td>Male</td>\n",
       "      <td>B</td>\n",
       "      <td>L</td>\n",
       "      <td>Institute of Pathogen Biology, Chinese Academy...</td>\n",
       "      <td>2020-01-11</td>\n",
       "    </tr>\n",
       "    <tr>\n",
       "      <th>4</th>\n",
       "      <td>hCoV-19/Wuhan/WIV04/2019</td>\n",
       "      <td>EPI_ISL_402124</td>\n",
       "      <td>2019-12-30</td>\n",
       "      <td>Asia</td>\n",
       "      <td>China</td>\n",
       "      <td>29891</td>\n",
       "      <td>49</td>\n",
       "      <td>Female</td>\n",
       "      <td>B</td>\n",
       "      <td>L</td>\n",
       "      <td>Wuhan Jinyintan Hospital</td>\n",
       "      <td>2020-01-11</td>\n",
       "    </tr>\n",
       "  </tbody>\n",
       "</table>\n",
       "</div>"
      ],
      "text/plain": [
       "                             strain  gisaid_epi_isl        date region  \\\n",
       "0     hCoV-19/Wuhan/IVDC-HB-01/2019  EPI_ISL_402119  2019-12-30   Asia   \n",
       "1     hCoV-19/Wuhan/IVDC-HB-04/2020  EPI_ISL_402120  2020-01-01   Asia   \n",
       "2     hCoV-19/Wuhan/IVDC-HB-05/2019  EPI_ISL_402121  2019-12-30   Asia   \n",
       "3  hCoV-19/Wuhan/IPBCAMS-WH-01/2019  EPI_ISL_402123  2019-12-24   Asia   \n",
       "4          hCoV-19/Wuhan/WIV04/2019  EPI_ISL_402124  2019-12-30   Asia   \n",
       "\n",
       "  country  length age     sex pangolin_lineage GISAID_clade  \\\n",
       "0   China   29891  49  Female                B            L   \n",
       "1   China   29896  61    Male                B            L   \n",
       "2   China   29891  32    Male                B            L   \n",
       "3   China   29899  65    Male                B            L   \n",
       "4   China   29891  49  Female                B            L   \n",
       "\n",
       "                                     originating_lab date_submitted  \n",
       "0  National Institute for Viral Disease Control a...     2020-01-10  \n",
       "1  National Institute for Viral Disease Control a...     2020-01-11  \n",
       "2  National Institute for Viral Disease Control a...     2020-01-10  \n",
       "3  Institute of Pathogen Biology, Chinese Academy...     2020-01-11  \n",
       "4                           Wuhan Jinyintan Hospital     2020-01-11  "
      ]
     },
     "execution_count": 5,
     "metadata": {},
     "output_type": "execute_result"
    }
   ],
   "source": [
    "df2 = pd.read_csv(\"../data/raw/gisaid/metadata_clean.csv\")\n",
    "df2.head()"
   ]
  },
  {
   "cell_type": "code",
   "execution_count": 6,
   "id": "66d4adc0",
   "metadata": {},
   "outputs": [],
   "source": [
    "df2.strain.to_csv(\"../data/raw/gisaid/allowable_names.txt\", index=False, header=False)\n",
    "df2.gisaid_epi_isl.to_csv(\"../data/raw/gisaid/gisaid_epi_ids.txt\", index=False, header=False)"
   ]
  },
  {
   "cell_type": "code",
   "execution_count": 8,
   "id": "c43565d5",
   "metadata": {},
   "outputs": [
    {
     "name": "stdout",
     "output_type": "stream",
     "text": [
      "  4297086   4297086 148097290 ../data/raw/gisaid/allowable_names.txt\n"
     ]
    }
   ],
   "source": [
    "!wc ../data/raw/gisaid/allowable_names.txt"
   ]
  },
  {
   "cell_type": "code",
   "execution_count": null,
   "id": "4e5d0a92",
   "metadata": {},
   "outputs": [],
   "source": []
  },
  {
   "cell_type": "code",
   "execution_count": null,
   "id": "bebe9541",
   "metadata": {},
   "outputs": [],
   "source": []
  },
  {
   "cell_type": "code",
   "execution_count": null,
   "id": "29886867",
   "metadata": {},
   "outputs": [],
   "source": []
  },
  {
   "cell_type": "code",
   "execution_count": null,
   "id": "4fa6b68b",
   "metadata": {},
   "outputs": [],
   "source": []
  },
  {
   "cell_type": "code",
   "execution_count": null,
   "id": "d5397908",
   "metadata": {},
   "outputs": [],
   "source": []
  },
  {
   "cell_type": "code",
   "execution_count": null,
   "id": "b5a9daa9",
   "metadata": {},
   "outputs": [],
   "source": []
  },
  {
   "cell_type": "code",
   "execution_count": null,
   "id": "f79aa257",
   "metadata": {},
   "outputs": [],
   "source": []
  },
  {
   "cell_type": "code",
   "execution_count": null,
   "id": "901e5c6c",
   "metadata": {},
   "outputs": [],
   "source": []
  },
  {
   "cell_type": "code",
   "execution_count": null,
   "id": "57aff50a",
   "metadata": {},
   "outputs": [],
   "source": []
  },
  {
   "cell_type": "code",
   "execution_count": null,
   "id": "d419e20c",
   "metadata": {},
   "outputs": [],
   "source": []
  },
  {
   "cell_type": "code",
   "execution_count": null,
   "id": "1cd8395a",
   "metadata": {},
   "outputs": [],
   "source": []
  },
  {
   "cell_type": "code",
   "execution_count": null,
   "id": "63b3c397",
   "metadata": {},
   "outputs": [],
   "source": []
  },
  {
   "cell_type": "code",
   "execution_count": null,
   "id": "4725e47e",
   "metadata": {},
   "outputs": [],
   "source": []
  }
 ],
 "metadata": {
  "kernelspec": {
   "display_name": "Python 3.9.5 ('env_bio')",
   "language": "python",
   "name": "python3"
  },
  "language_info": {
   "codemirror_mode": {
    "name": "ipython",
    "version": 3
   },
   "file_extension": ".py",
   "mimetype": "text/x-python",
   "name": "python",
   "nbconvert_exporter": "python",
   "pygments_lexer": "ipython3",
   "version": "3.9.5"
  },
  "vscode": {
   "interpreter": {
    "hash": "c737589ac25c2b5207a58295544dae93bde342e9f173b68ed1d9625ade55517f"
   }
  }
 },
 "nbformat": 4,
 "nbformat_minor": 5
}
