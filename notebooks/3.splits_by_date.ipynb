{
 "cells": [
  {
   "cell_type": "code",
   "execution_count": 1,
   "id": "eb848827",
   "metadata": {},
   "outputs": [],
   "source": [
    "import pandas as pd\n",
    "from Bio import SeqIO\n"
   ]
  },
  {
   "cell_type": "code",
   "execution_count": 2,
   "id": "3af62a16",
   "metadata": {},
   "outputs": [],
   "source": [
    "cols = [\"strain\", \"gisaid_epi_isl\", \"date\"]\n",
    "data = pd.read_csv(\"../data/gisaid/metadata_clean.csv\", usecols=cols)"
   ]
  },
  {
   "cell_type": "code",
   "execution_count": 57,
   "id": "530e208b",
   "metadata": {},
   "outputs": [],
   "source": [
    "reader = SeqIO.parse(\"../data/mulal.fasta\", \"fasta\")\n",
    "\n",
    "idx = set()\n",
    "for rec in reader:\n",
    "    idx.add(rec.name)"
   ]
  },
  {
   "cell_type": "code",
   "execution_count": 59,
   "id": "f15508c0",
   "metadata": {},
   "outputs": [
    {
     "data": {
      "text/plain": [
       "1139388"
      ]
     },
     "execution_count": 59,
     "metadata": {},
     "output_type": "execute_result"
    }
   ],
   "source": [
    "len(idx)"
   ]
  },
  {
   "cell_type": "code",
   "execution_count": 66,
   "id": "65fcbe6e",
   "metadata": {},
   "outputs": [],
   "source": [
    "def filter_data(data: pd.DataFrame):\n",
    "    data = data.copy()\n",
    "    data = data[data.date.str.contains(\"\\d{4}(-\\d\\d){1,2}\")].sort_values(\"date\")\n",
    "    data = data[data.strain.isin(idx)]\n",
    "    data[\"month\"] = sdata.date.str.slice(0, 7)\n",
    "    return data"
   ]
  },
  {
   "cell_type": "code",
   "execution_count": 67,
   "id": "fb956246",
   "metadata": {},
   "outputs": [
    {
     "name": "stderr",
     "output_type": "stream",
     "text": [
      "/tmp/ipykernel_7554/3166216679.py:3: UserWarning: This pattern has match groups. To actually get the groups, use str.extract.\n",
      "  data = data[data.date.str.contains(\"\\d{4}(-\\d\\d){1,2}\")].sort_values(\"date\")\n"
     ]
    }
   ],
   "source": [
    "fdata = filter_data(data)"
   ]
  },
  {
   "cell_type": "code",
   "execution_count": 68,
   "id": "bed3fac3",
   "metadata": {},
   "outputs": [
    {
     "data": {
      "text/html": [
       "<div>\n",
       "<style scoped>\n",
       "    .dataframe tbody tr th:only-of-type {\n",
       "        vertical-align: middle;\n",
       "    }\n",
       "\n",
       "    .dataframe tbody tr th {\n",
       "        vertical-align: top;\n",
       "    }\n",
       "\n",
       "    .dataframe thead th {\n",
       "        text-align: right;\n",
       "    }\n",
       "</style>\n",
       "<table border=\"1\" class=\"dataframe\">\n",
       "  <thead>\n",
       "    <tr style=\"text-align: right;\">\n",
       "      <th></th>\n",
       "      <th>strain</th>\n",
       "      <th>gisaid_epi_isl</th>\n",
       "      <th>date</th>\n",
       "      <th>month</th>\n",
       "    </tr>\n",
       "  </thead>\n",
       "  <tbody>\n",
       "    <tr>\n",
       "      <th>3</th>\n",
       "      <td>hCoV-19/Wuhan/IPBCAMS-WH-01/2019</td>\n",
       "      <td>EPI_ISL_402123</td>\n",
       "      <td>2019-12-24</td>\n",
       "      <td>2019-12</td>\n",
       "    </tr>\n",
       "    <tr>\n",
       "      <th>59</th>\n",
       "      <td>hCoV-19/Wuhan/WH01/2019</td>\n",
       "      <td>EPI_ISL_406798</td>\n",
       "      <td>2019-12-26</td>\n",
       "      <td>2019-12</td>\n",
       "    </tr>\n",
       "    <tr>\n",
       "      <th>162</th>\n",
       "      <td>hCoV-19/Wuhan/HBCDC-HB-04/2019</td>\n",
       "      <td>EPI_ISL_412900</td>\n",
       "      <td>2019-12-30</td>\n",
       "      <td>2019-12</td>\n",
       "    </tr>\n",
       "    <tr>\n",
       "      <th>94526</th>\n",
       "      <td>hCoV-19/Wuhan/IME-WH05/2019</td>\n",
       "      <td>EPI_ISL_529217</td>\n",
       "      <td>2019-12-30</td>\n",
       "      <td>2019-12</td>\n",
       "    </tr>\n",
       "    <tr>\n",
       "      <th>94525</th>\n",
       "      <td>hCoV-19/Wuhan/IME-WH04/2019</td>\n",
       "      <td>EPI_ISL_529216</td>\n",
       "      <td>2019-12-30</td>\n",
       "      <td>2019-12</td>\n",
       "    </tr>\n",
       "    <tr>\n",
       "      <th>...</th>\n",
       "      <td>...</td>\n",
       "      <td>...</td>\n",
       "      <td>...</td>\n",
       "      <td>...</td>\n",
       "    </tr>\n",
       "    <tr>\n",
       "      <th>4293507</th>\n",
       "      <td>hCoV-19/Denmark/DCGC-181389/2021</td>\n",
       "      <td>EPI_ISL_5137834</td>\n",
       "      <td>2021-10-09</td>\n",
       "      <td>2021-10</td>\n",
       "    </tr>\n",
       "    <tr>\n",
       "      <th>4294991</th>\n",
       "      <td>hCoV-19/Denmark/DCGC-181972/2021</td>\n",
       "      <td>EPI_ISL_5141279</td>\n",
       "      <td>2021-10-09</td>\n",
       "      <td>2021-10</td>\n",
       "    </tr>\n",
       "    <tr>\n",
       "      <th>4206997</th>\n",
       "      <td>hCoV-19/Italy/SIC-CQRC-2392815/2021</td>\n",
       "      <td>EPI_ISL_5034242</td>\n",
       "      <td>2021-10-09</td>\n",
       "      <td>2021-10</td>\n",
       "    </tr>\n",
       "    <tr>\n",
       "      <th>4294733</th>\n",
       "      <td>hCoV-19/Denmark/DCGC-181860/2021</td>\n",
       "      <td>EPI_ISL_5140699</td>\n",
       "      <td>2021-10-09</td>\n",
       "      <td>2021-10</td>\n",
       "    </tr>\n",
       "    <tr>\n",
       "      <th>4295165</th>\n",
       "      <td>hCoV-19/Denmark/DCGC-182033/2021</td>\n",
       "      <td>EPI_ISL_5141707</td>\n",
       "      <td>2021-10-09</td>\n",
       "      <td>2021-10</td>\n",
       "    </tr>\n",
       "  </tbody>\n",
       "</table>\n",
       "<p>1180840 rows × 4 columns</p>\n",
       "</div>"
      ],
      "text/plain": [
       "                                      strain   gisaid_epi_isl        date  \\\n",
       "3           hCoV-19/Wuhan/IPBCAMS-WH-01/2019   EPI_ISL_402123  2019-12-24   \n",
       "59                   hCoV-19/Wuhan/WH01/2019   EPI_ISL_406798  2019-12-26   \n",
       "162           hCoV-19/Wuhan/HBCDC-HB-04/2019   EPI_ISL_412900  2019-12-30   \n",
       "94526            hCoV-19/Wuhan/IME-WH05/2019   EPI_ISL_529217  2019-12-30   \n",
       "94525            hCoV-19/Wuhan/IME-WH04/2019   EPI_ISL_529216  2019-12-30   \n",
       "...                                      ...              ...         ...   \n",
       "4293507     hCoV-19/Denmark/DCGC-181389/2021  EPI_ISL_5137834  2021-10-09   \n",
       "4294991     hCoV-19/Denmark/DCGC-181972/2021  EPI_ISL_5141279  2021-10-09   \n",
       "4206997  hCoV-19/Italy/SIC-CQRC-2392815/2021  EPI_ISL_5034242  2021-10-09   \n",
       "4294733     hCoV-19/Denmark/DCGC-181860/2021  EPI_ISL_5140699  2021-10-09   \n",
       "4295165     hCoV-19/Denmark/DCGC-182033/2021  EPI_ISL_5141707  2021-10-09   \n",
       "\n",
       "           month  \n",
       "3        2019-12  \n",
       "59       2019-12  \n",
       "162      2019-12  \n",
       "94526    2019-12  \n",
       "94525    2019-12  \n",
       "...          ...  \n",
       "4293507  2021-10  \n",
       "4294991  2021-10  \n",
       "4206997  2021-10  \n",
       "4294733  2021-10  \n",
       "4295165  2021-10  \n",
       "\n",
       "[1180840 rows x 4 columns]"
      ]
     },
     "execution_count": 68,
     "metadata": {},
     "output_type": "execute_result"
    }
   ],
   "source": [
    "fdata"
   ]
  },
  {
   "cell_type": "code",
   "execution_count": 72,
   "id": "f04d2755",
   "metadata": {},
   "outputs": [],
   "source": [
    "months = fdata.month.unique()"
   ]
  },
  {
   "cell_type": "code",
   "execution_count": 74,
   "id": "3fce0d30",
   "metadata": {},
   "outputs": [
    {
     "data": {
      "text/plain": [
       "23"
      ]
     },
     "execution_count": 74,
     "metadata": {},
     "output_type": "execute_result"
    }
   ],
   "source": [
    "len(months)"
   ]
  },
  {
   "cell_type": "code",
   "execution_count": 73,
   "id": "0aa0d0c3",
   "metadata": {},
   "outputs": [
    {
     "data": {
      "text/plain": [
       "2019-12        22\n",
       "2020-01       373\n",
       "2020-02       811\n",
       "2020-03     15388\n",
       "2020-04     15354\n",
       "2020-05      8660\n",
       "2020-06      9711\n",
       "2020-07     13836\n",
       "2020-08     12492\n",
       "2020-09     13795\n",
       "2020-10     21208\n",
       "2020-11     30200\n",
       "2020-12     41649\n",
       "2021-01     73883\n",
       "2021-02     81305\n",
       "2021-03    118164\n",
       "2021-04    129274\n",
       "2021-05    106315\n",
       "2021-06     78558\n",
       "2021-07    120123\n",
       "2021-08    173693\n",
       "2021-09    107823\n",
       "2021-10      8203\n",
       "Name: month, dtype: int64"
      ]
     },
     "execution_count": 73,
     "metadata": {},
     "output_type": "execute_result"
    }
   ],
   "source": [
    "fdata.month.value_counts().sort_index()"
   ]
  },
  {
   "cell_type": "code",
   "execution_count": 75,
   "id": "b9a3364d",
   "metadata": {},
   "outputs": [],
   "source": [
    "def split_by_date(df: pd.DataFrame, size=10000) -> list:\n",
    "    date_intervals = [\n",
    "        months[:4],     # head\n",
    "        months[10:11],  # intermediate\n",
    "        months[-2:],    # tail\n",
    "    ]\n",
    "    splits = [\n",
    "        df[df.month.isin(x)].sample(size) for x in date_intervals\n",
    "    ]\n",
    "    \n",
    "    return splits"
   ]
  },
  {
   "cell_type": "code",
   "execution_count": 76,
   "id": "e86de8e0",
   "metadata": {},
   "outputs": [],
   "source": [
    "s1, s2, s3 = split_by_date(sdata)"
   ]
  },
  {
   "cell_type": "code",
   "execution_count": 78,
   "id": "c2e92123",
   "metadata": {},
   "outputs": [
    {
     "data": {
      "text/html": [
       "<div>\n",
       "<style scoped>\n",
       "    .dataframe tbody tr th:only-of-type {\n",
       "        vertical-align: middle;\n",
       "    }\n",
       "\n",
       "    .dataframe tbody tr th {\n",
       "        vertical-align: top;\n",
       "    }\n",
       "\n",
       "    .dataframe thead th {\n",
       "        text-align: right;\n",
       "    }\n",
       "</style>\n",
       "<table border=\"1\" class=\"dataframe\">\n",
       "  <thead>\n",
       "    <tr style=\"text-align: right;\">\n",
       "      <th></th>\n",
       "      <th>strain</th>\n",
       "      <th>gisaid_epi_isl</th>\n",
       "      <th>date</th>\n",
       "      <th>month</th>\n",
       "    </tr>\n",
       "  </thead>\n",
       "  <tbody>\n",
       "    <tr>\n",
       "      <th>203007</th>\n",
       "      <td>hCoV-19/Wales/PHWC-486F01/2020</td>\n",
       "      <td>EPI_ISL_639147</td>\n",
       "      <td>2020-10-14</td>\n",
       "      <td>2020-10</td>\n",
       "    </tr>\n",
       "    <tr>\n",
       "      <th>308976</th>\n",
       "      <td>hCoV-19/Germany/BE-ChVir-D2029-8271/2020</td>\n",
       "      <td>EPI_ISL_753793</td>\n",
       "      <td>2020-10-15</td>\n",
       "      <td>2020-10</td>\n",
       "    </tr>\n",
       "    <tr>\n",
       "      <th>1510540</th>\n",
       "      <td>hCoV-19/India/RJ-4757/2020</td>\n",
       "      <td>EPI_ISL_2106847</td>\n",
       "      <td>2020-10-08</td>\n",
       "      <td>2020-10</td>\n",
       "    </tr>\n",
       "    <tr>\n",
       "      <th>761376</th>\n",
       "      <td>hCoV-19/Ghana/WACCBIP-GS357/2020</td>\n",
       "      <td>EPI_ISL_1255234</td>\n",
       "      <td>2020-10-26</td>\n",
       "      <td>2020-10</td>\n",
       "    </tr>\n",
       "    <tr>\n",
       "      <th>207041</th>\n",
       "      <td>hCoV-19/England/CAMC-B07B58/2020</td>\n",
       "      <td>EPI_ISL_643355</td>\n",
       "      <td>2020-10-29</td>\n",
       "      <td>2020-10</td>\n",
       "    </tr>\n",
       "    <tr>\n",
       "      <th>...</th>\n",
       "      <td>...</td>\n",
       "      <td>...</td>\n",
       "      <td>...</td>\n",
       "      <td>...</td>\n",
       "    </tr>\n",
       "    <tr>\n",
       "      <th>455480</th>\n",
       "      <td>hCoV-19/Sweden/21-00344/2020</td>\n",
       "      <td>EPI_ISL_913477</td>\n",
       "      <td>2020-10-05</td>\n",
       "      <td>2020-10</td>\n",
       "    </tr>\n",
       "    <tr>\n",
       "      <th>3243461</th>\n",
       "      <td>hCoV-19/USA/WY-WYPHL-20098168/2020</td>\n",
       "      <td>EPI_ISL_3905520</td>\n",
       "      <td>2020-10-14</td>\n",
       "      <td>2020-10</td>\n",
       "    </tr>\n",
       "    <tr>\n",
       "      <th>189450</th>\n",
       "      <td>hCoV-19/Wales/CAMC-A82D05/2020</td>\n",
       "      <td>EPI_ISL_625288</td>\n",
       "      <td>2020-10-13</td>\n",
       "      <td>2020-10</td>\n",
       "    </tr>\n",
       "    <tr>\n",
       "      <th>1510507</th>\n",
       "      <td>hCoV-19/India/RJ-4710/2020</td>\n",
       "      <td>EPI_ISL_2106814</td>\n",
       "      <td>2020-10-02</td>\n",
       "      <td>2020-10</td>\n",
       "    </tr>\n",
       "    <tr>\n",
       "      <th>444815</th>\n",
       "      <td>hCoV-19/Japan/PG-9820/2020</td>\n",
       "      <td>EPI_ISL_902530</td>\n",
       "      <td>2020-10-02</td>\n",
       "      <td>2020-10</td>\n",
       "    </tr>\n",
       "  </tbody>\n",
       "</table>\n",
       "<p>10000 rows × 4 columns</p>\n",
       "</div>"
      ],
      "text/plain": [
       "                                           strain   gisaid_epi_isl  \\\n",
       "203007             hCoV-19/Wales/PHWC-486F01/2020   EPI_ISL_639147   \n",
       "308976   hCoV-19/Germany/BE-ChVir-D2029-8271/2020   EPI_ISL_753793   \n",
       "1510540                hCoV-19/India/RJ-4757/2020  EPI_ISL_2106847   \n",
       "761376           hCoV-19/Ghana/WACCBIP-GS357/2020  EPI_ISL_1255234   \n",
       "207041           hCoV-19/England/CAMC-B07B58/2020   EPI_ISL_643355   \n",
       "...                                           ...              ...   \n",
       "455480               hCoV-19/Sweden/21-00344/2020   EPI_ISL_913477   \n",
       "3243461        hCoV-19/USA/WY-WYPHL-20098168/2020  EPI_ISL_3905520   \n",
       "189450             hCoV-19/Wales/CAMC-A82D05/2020   EPI_ISL_625288   \n",
       "1510507                hCoV-19/India/RJ-4710/2020  EPI_ISL_2106814   \n",
       "444815                 hCoV-19/Japan/PG-9820/2020   EPI_ISL_902530   \n",
       "\n",
       "               date    month  \n",
       "203007   2020-10-14  2020-10  \n",
       "308976   2020-10-15  2020-10  \n",
       "1510540  2020-10-08  2020-10  \n",
       "761376   2020-10-26  2020-10  \n",
       "207041   2020-10-29  2020-10  \n",
       "...             ...      ...  \n",
       "455480   2020-10-05  2020-10  \n",
       "3243461  2020-10-14  2020-10  \n",
       "189450   2020-10-13  2020-10  \n",
       "1510507  2020-10-02  2020-10  \n",
       "444815   2020-10-02  2020-10  \n",
       "\n",
       "[10000 rows x 4 columns]"
      ]
     },
     "execution_count": 78,
     "metadata": {},
     "output_type": "execute_result"
    }
   ],
   "source": [
    "s2"
   ]
  },
  {
   "cell_type": "code",
   "execution_count": 9,
   "id": "ecc117cd",
   "metadata": {},
   "outputs": [
    {
     "name": "stdout",
     "output_type": "stream",
     "text": [
      "1 ----- ['2020-03' '2020-01' '2020-02' '2019-12']\n",
      "2 ----- ['2020-10']\n",
      "3 ----- ['2021-09' '2021-10']\n"
     ]
    }
   ],
   "source": [
    "for i in range(3):\n",
    "    splitted = pd.read_csv(f\"../data/splits/metadata_{i + 1}.csv\")\n",
    "    print(i + 1, \"-----\", splitted.month.unique())"
   ]
  },
  {
   "cell_type": "code",
   "execution_count": null,
   "id": "440e1c56",
   "metadata": {},
   "outputs": [],
   "source": []
  },
  {
   "cell_type": "code",
   "execution_count": null,
   "id": "ce7439c4",
   "metadata": {},
   "outputs": [],
   "source": []
  },
  {
   "cell_type": "code",
   "execution_count": null,
   "id": "828ff648",
   "metadata": {},
   "outputs": [],
   "source": []
  },
  {
   "cell_type": "code",
   "execution_count": null,
   "id": "16d17868",
   "metadata": {},
   "outputs": [],
   "source": []
  }
 ],
 "metadata": {
  "interpreter": {
   "hash": "f926bf7556c295ab82e6443b319baccf5be120cc7de983f3fcc354a1358adec5"
  },
  "kernelspec": {
   "display_name": "Python 3.9.5 64-bit ('env': venv)",
   "language": "python",
   "name": "python3"
  },
  "language_info": {
   "codemirror_mode": {
    "name": "ipython",
    "version": 3
   },
   "file_extension": ".py",
   "mimetype": "text/x-python",
   "name": "python",
   "nbconvert_exporter": "python",
   "pygments_lexer": "ipython3",
   "version": "3.8.10"
  }
 },
 "nbformat": 4,
 "nbformat_minor": 5
}
