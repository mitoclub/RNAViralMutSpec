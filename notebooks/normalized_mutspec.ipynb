{
 "cells": [
  {
   "cell_type": "code",
   "execution_count": 1,
   "id": "posted-daniel",
   "metadata": {
    "ExecuteTime": {
     "end_time": "2021-05-18T12:04:39.442264Z",
     "start_time": "2021-05-18T12:04:38.115407Z"
    }
   },
   "outputs": [],
   "source": [
    "import json\n",
    "import os\n",
    "import sys\n",
    "\n",
    "import numpy as np\n",
    "import pandas as pd\n",
    "import matplotlib.pyplot as plt\n",
    "from Bio import SeqIO"
   ]
  },
  {
   "cell_type": "code",
   "execution_count": 8,
   "id": "canadian-society",
   "metadata": {
    "ExecuteTime": {
     "end_time": "2021-05-18T12:05:09.638660Z",
     "start_time": "2021-05-18T12:05:09.634433Z"
    }
   },
   "outputs": [],
   "source": [
    "REF_PATH = '../data/covid_ref.fasta'\n",
    "SUBST_PATH = '../data/overall_mutations_with_context2.json'\n",
    "ANNOT_PATH = '../data/ref_annot.csv'\n",
    "GISAID_ANNOT_PATH = '../data/full_gisaid_substitutions_annotation.csv'"
   ]
  },
  {
   "cell_type": "code",
   "execution_count": null,
   "id": "4e9c2094",
   "metadata": {},
   "outputs": [],
   "source": [
    "# from substs_json2csv import converter\n",
    "def read_json(path_to_json: str) -> list:\n",
    "    assert os.path.exists(path_to_json), f\"file {path_to_json} doesn't exist\"\n",
    "\n",
    "    with open(path_to_json) as fin:\n",
    "        substitutions = json.load(fin)\n",
    "    return substitutions\n",
    "\n",
    "\n",
    "def converter(substitutions=None, path_to_json=None) -> pd.DataFrame:\n",
    "    \"\"\"convert json file with substitutions to csv-table\n",
    "    params:\n",
    "        - substitutions: list of substitutions\n",
    "        - path_to_json: path to json file with substitutions\n",
    "    substitutions structure:\n",
    "    [\n",
    "        [parent, child, pair_substs[\n",
    "            pos(0-based), parent_nucl, child_cnucl\n",
    "        ]]\n",
    "    ]\n",
    "    \"\"\"\n",
    "    assert substitutions is not None or path_to_json is not None, \"pass something\"\n",
    "    substitutions = substitutions or read_json(path_to_json)\n",
    "\n",
    "    scollection = []\n",
    "    for parent, child, pair_substs in substitutions:\n",
    "        for pos, pnuc, cnuc, pnuc_con, cnuc_con in pair_substs:\n",
    "            scollection.append((pos, pnuc, cnuc, pnuc_con, cnuc_con, parent, child))\n",
    "\n",
    "    cols = [\"pos\", \"parent_nucl\", \"child_nucl\", \"parent_nucl_context\", \n",
    "            \"child_nucl_context\", \"parent_node\", \"child_node\"]\n",
    "    df = pd.DataFrame(scollection, columns=cols)\n",
    "    return df"
   ]
  },
  {
   "cell_type": "code",
   "execution_count": 9,
   "id": "exterior-forty",
   "metadata": {
    "ExecuteTime": {
     "end_time": "2021-05-18T12:05:16.411115Z",
     "start_time": "2021-05-18T12:05:11.932821Z"
    }
   },
   "outputs": [
    {
     "data": {
      "text/html": [
       "<div>\n",
       "<style scoped>\n",
       "    .dataframe tbody tr th:only-of-type {\n",
       "        vertical-align: middle;\n",
       "    }\n",
       "\n",
       "    .dataframe tbody tr th {\n",
       "        vertical-align: top;\n",
       "    }\n",
       "\n",
       "    .dataframe thead th {\n",
       "        text-align: right;\n",
       "    }\n",
       "</style>\n",
       "<table border=\"1\" class=\"dataframe\">\n",
       "  <thead>\n",
       "    <tr style=\"text-align: right;\">\n",
       "      <th></th>\n",
       "      <th>pos</th>\n",
       "      <th>parent_nucl</th>\n",
       "      <th>child_nucl</th>\n",
       "      <th>parent_nucl_context</th>\n",
       "      <th>child_nucl_context</th>\n",
       "      <th>parent_node</th>\n",
       "      <th>child_node</th>\n",
       "      <th>RefNuc</th>\n",
       "      <th>GenName</th>\n",
       "      <th>GenType</th>\n",
       "      <th>...</th>\n",
       "      <th>RefAa</th>\n",
       "      <th>NucInCodon</th>\n",
       "      <th>child_codon</th>\n",
       "      <th>parent_codon</th>\n",
       "      <th>child_aa</th>\n",
       "      <th>parent_aa</th>\n",
       "      <th>IsSym</th>\n",
       "      <th>IsNonSym</th>\n",
       "      <th>IsToStop</th>\n",
       "      <th>IsFromStop</th>\n",
       "    </tr>\n",
       "  </thead>\n",
       "  <tbody>\n",
       "    <tr>\n",
       "      <th>0</th>\n",
       "      <td>240</td>\n",
       "      <td>C</td>\n",
       "      <td>T</td>\n",
       "      <td>ttCgt</td>\n",
       "      <td>ttTgt</td>\n",
       "      <td>#54567#</td>\n",
       "      <td>#51858#</td>\n",
       "      <td>C</td>\n",
       "      <td>5UTR</td>\n",
       "      <td>untranslated</td>\n",
       "      <td>...</td>\n",
       "      <td>NaN</td>\n",
       "      <td>-1</td>\n",
       "      <td>NaN</td>\n",
       "      <td>NaN</td>\n",
       "      <td>NaN</td>\n",
       "      <td>NaN</td>\n",
       "      <td>0</td>\n",
       "      <td>0</td>\n",
       "      <td>0</td>\n",
       "      <td>0</td>\n",
       "    </tr>\n",
       "    <tr>\n",
       "      <th>1</th>\n",
       "      <td>240</td>\n",
       "      <td>C</td>\n",
       "      <td>T</td>\n",
       "      <td>ttCgt</td>\n",
       "      <td>ttTgt</td>\n",
       "      <td>#54567#</td>\n",
       "      <td>#54566#</td>\n",
       "      <td>C</td>\n",
       "      <td>5UTR</td>\n",
       "      <td>untranslated</td>\n",
       "      <td>...</td>\n",
       "      <td>NaN</td>\n",
       "      <td>-1</td>\n",
       "      <td>NaN</td>\n",
       "      <td>NaN</td>\n",
       "      <td>NaN</td>\n",
       "      <td>NaN</td>\n",
       "      <td>0</td>\n",
       "      <td>0</td>\n",
       "      <td>0</td>\n",
       "      <td>0</td>\n",
       "    </tr>\n",
       "    <tr>\n",
       "      <th>2</th>\n",
       "      <td>240</td>\n",
       "      <td>T</td>\n",
       "      <td>C</td>\n",
       "      <td>ttTgt</td>\n",
       "      <td>ttCgt</td>\n",
       "      <td>#48888#</td>\n",
       "      <td>#48203#</td>\n",
       "      <td>C</td>\n",
       "      <td>5UTR</td>\n",
       "      <td>untranslated</td>\n",
       "      <td>...</td>\n",
       "      <td>NaN</td>\n",
       "      <td>-1</td>\n",
       "      <td>NaN</td>\n",
       "      <td>NaN</td>\n",
       "      <td>NaN</td>\n",
       "      <td>NaN</td>\n",
       "      <td>0</td>\n",
       "      <td>0</td>\n",
       "      <td>0</td>\n",
       "      <td>0</td>\n",
       "    </tr>\n",
       "  </tbody>\n",
       "</table>\n",
       "<p>3 rows × 21 columns</p>\n",
       "</div>"
      ],
      "text/plain": [
       "   pos parent_nucl child_nucl parent_nucl_context child_nucl_context  \\\n",
       "0  240           C          T               ttCgt              ttTgt   \n",
       "1  240           C          T               ttCgt              ttTgt   \n",
       "2  240           T          C               ttTgt              ttCgt   \n",
       "\n",
       "  parent_node child_node RefNuc GenName       GenType  ... RefAa NucInCodon  \\\n",
       "0     #54567#    #51858#      C    5UTR  untranslated  ...   NaN         -1   \n",
       "1     #54567#    #54566#      C    5UTR  untranslated  ...   NaN         -1   \n",
       "2     #48888#    #48203#      C    5UTR  untranslated  ...   NaN         -1   \n",
       "\n",
       "   child_codon parent_codon child_aa parent_aa IsSym  IsNonSym  IsToStop  \\\n",
       "0          NaN          NaN      NaN       NaN     0         0         0   \n",
       "1          NaN          NaN      NaN       NaN     0         0         0   \n",
       "2          NaN          NaN      NaN       NaN     0         0         0   \n",
       "\n",
       "   IsFromStop  \n",
       "0           0  \n",
       "1           0  \n",
       "2           0  \n",
       "\n",
       "[3 rows x 21 columns]"
      ]
     },
     "execution_count": 9,
     "metadata": {},
     "output_type": "execute_result"
    }
   ],
   "source": [
    "ref = next(SeqIO.parse(REF_PATH, 'fasta'))\n",
    "subst_from_tree = converter(path_to_json=SUBST_PATH)\n",
    "_annot_df = pd.read_csv(ANNOT_PATH)\n",
    "annot_df = pd.read_csv(GISAID_ANNOT_PATH)\n",
    "annot_df.head(3)"
   ]
  },
  {
   "cell_type": "code",
   "execution_count": 91,
   "id": "rocky-italian",
   "metadata": {
    "ExecuteTime": {
     "end_time": "2021-05-18T13:17:05.227497Z",
     "start_time": "2021-05-18T13:17:05.210016Z"
    }
   },
   "outputs": [],
   "source": [
    "def substitutions_on_positions(full_subst_collection):\n",
    "    df = full_subst_collection\n",
    "    dfm = df[(df.parent_nucl.isin(set('ATCG'))) & (df.child_nucl.isin(set('ATCG')))]\n",
    "    dfm['n2n'] = dfm.parent_nucl + dfm.child_nucl\n",
    "    dfm = dfm[['pos', 'n2n']]\n",
    "    \n",
    "    gr = dfm.groupby('pos')\n",
    "    a = gr.n2n.value_counts()\n",
    "    a.name = 'count'\n",
    "    substitutions = a.reset_index()\n",
    "\n",
    "    assert dfm.shape[0] == substitutions['count'].sum()\n",
    "    return substitutions\n",
    "\n",
    "\n",
    "def naked_mutspec(substitutions, ref, positions=None):\n",
    "    assert set(substitutions.columns) == set(['pos', 'n2n', 'count'])\n",
    "    _refannot = refannot[(refannot.GenType == 'translated') & (refannot.NucInCodon == '3')]\n",
    "#     acgt_counts = [ref.seq.count(n) for n in 'ACGT'] # !!!!!!!!!!\n",
    "    acgt_counts = [list(_refannot.RefNuc).count(n) for n in 'ACGT']\n",
    "    acgt_counts_for_n2n = np.array([[x] * 3 for x in acgt_counts]).flatten()\n",
    "#     assert sum(acgt_counts) == len(ref)\n",
    "    \n",
    "    if positions is None:\n",
    "        positions = substitutions.pos.unique()\n",
    "    subst_sample = substitutions[substitutions.pos.isin(positions)]\n",
    "    \n",
    "    full_genome_n2n_counts = subst_sample.groupby('n2n')['count'].sum()\n",
    "    print(full_genome_n2n_counts)\n",
    "    n2n_counts_normalized = full_genome_n2n_counts / acgt_counts_for_n2n\n",
    "    n2n_counts_scaled = n2n_counts_normalized / n2n_counts_normalized.sum()\n",
    "    return n2n_counts_scaled"
   ]
  },
  {
   "cell_type": "code",
   "execution_count": 92,
   "id": "alert-trout",
   "metadata": {
    "ExecuteTime": {
     "end_time": "2021-05-18T13:17:06.313004Z",
     "start_time": "2021-05-18T13:17:06.278315Z"
    }
   },
   "outputs": [],
   "source": [
    "refannot = pd.read_csv('../data/ref_annot.csv')"
   ]
  },
  {
   "cell_type": "code",
   "execution_count": 93,
   "id": "viral-tolerance",
   "metadata": {
    "ExecuteTime": {
     "end_time": "2021-05-18T13:17:10.610984Z",
     "start_time": "2021-05-18T13:17:09.830412Z"
    }
   },
   "outputs": [
    {
     "name": "stderr",
     "output_type": "stream",
     "text": [
      "/home/mr/.local/lib/python3.7/site-packages/ipykernel_launcher.py:4: SettingWithCopyWarning: \n",
      "A value is trying to be set on a copy of a slice from a DataFrame.\n",
      "Try using .loc[row_indexer,col_indexer] = value instead\n",
      "\n",
      "See the caveats in the documentation: https://pandas.pydata.org/pandas-docs/stable/user_guide/indexing.html#returning-a-view-versus-a-copy\n",
      "  after removing the cwd from sys.path.\n"
     ]
    },
    {
     "name": "stdout",
     "output_type": "stream",
     "text": [
      "n2n\n",
      "AC     2838\n",
      "AG    15546\n",
      "AT     4702\n",
      "CA     2746\n",
      "CG     1215\n",
      "CT    82571\n",
      "GA    16020\n",
      "GC     1204\n",
      "GT    21386\n",
      "TA     4444\n",
      "TC    82877\n",
      "TG    18835\n",
      "Name: count, dtype: int64\n"
     ]
    }
   ],
   "source": [
    "positions3 = annot_df[\n",
    "    (annot_df.NucInCodon == 3) & \n",
    "    (annot_df.IsSym == 1) & \n",
    "    (annot_df.RefNuc == annot_df.parent_nucl)\n",
    "].pos.unique()\n",
    "substitutions = substitutions_on_positions(subst_from_tree)\n",
    "mutspec = naked_mutspec(substitutions, ref, positions3)"
   ]
  },
  {
   "cell_type": "code",
   "execution_count": 54,
   "id": "geological-beijing",
   "metadata": {
    "ExecuteTime": {
     "end_time": "2021-05-18T12:50:18.039547Z",
     "start_time": "2021-05-18T12:50:18.032175Z"
    }
   },
   "outputs": [],
   "source": [
    "    acgt_counts = [ref.seq.count(n) for n in 'ACGT']\n",
    "    acgt_counts_for_n2n = np.array([[x] * 3 for x in acgt_counts]).flatten()"
   ]
  },
  {
   "cell_type": "code",
   "execution_count": 55,
   "id": "twenty-niagara",
   "metadata": {
    "ExecuteTime": {
     "end_time": "2021-05-18T12:50:22.621714Z",
     "start_time": "2021-05-18T12:50:22.613394Z"
    }
   },
   "outputs": [
    {
     "data": {
      "text/plain": [
       "array([8954, 8954, 8954, 5492, 5492, 5492, 5863, 5863, 5863, 9594, 9594,\n",
       "       9594])"
      ]
     },
     "execution_count": 55,
     "metadata": {},
     "output_type": "execute_result"
    }
   ],
   "source": [
    "acgt_counts_for_n2n"
   ]
  },
  {
   "cell_type": "code",
   "execution_count": 59,
   "id": "periodic-welcome",
   "metadata": {
    "ExecuteTime": {
     "end_time": "2021-05-18T12:51:22.589901Z",
     "start_time": "2021-05-18T12:51:22.585089Z"
    }
   },
   "outputs": [
    {
     "data": {
      "text/plain": [
       "(14.909090909090908, 8.631578947368421, 3.6206896551724137)"
      ]
     },
     "execution_count": 59,
     "metadata": {},
     "output_type": "execute_result"
    }
   ],
   "source": [
    "82000/5500, 82000/9500, 21000/5800"
   ]
  },
  {
   "cell_type": "code",
   "execution_count": 50,
   "id": "supreme-titanium",
   "metadata": {
    "ExecuteTime": {
     "end_time": "2021-05-18T12:46:24.792460Z",
     "start_time": "2021-05-18T12:46:24.644388Z"
    }
   },
   "outputs": [
    {
     "data": {
      "text/html": [
       "<div>\n",
       "<style scoped>\n",
       "    .dataframe tbody tr th:only-of-type {\n",
       "        vertical-align: middle;\n",
       "    }\n",
       "\n",
       "    .dataframe tbody tr th {\n",
       "        vertical-align: top;\n",
       "    }\n",
       "\n",
       "    .dataframe thead th {\n",
       "        text-align: right;\n",
       "    }\n",
       "</style>\n",
       "<table border=\"1\" class=\"dataframe\">\n",
       "  <thead>\n",
       "    <tr style=\"text-align: right;\">\n",
       "      <th></th>\n",
       "      <th>pos</th>\n",
       "      <th>n2n</th>\n",
       "      <th>count</th>\n",
       "    </tr>\n",
       "  </thead>\n",
       "  <tbody>\n",
       "    <tr>\n",
       "      <th>0</th>\n",
       "      <td>0</td>\n",
       "      <td>TA</td>\n",
       "      <td>27</td>\n",
       "    </tr>\n",
       "    <tr>\n",
       "      <th>1</th>\n",
       "      <td>0</td>\n",
       "      <td>AT</td>\n",
       "      <td>19</td>\n",
       "    </tr>\n",
       "    <tr>\n",
       "      <th>2</th>\n",
       "      <td>0</td>\n",
       "      <td>CA</td>\n",
       "      <td>13</td>\n",
       "    </tr>\n",
       "    <tr>\n",
       "      <th>3</th>\n",
       "      <td>0</td>\n",
       "      <td>AC</td>\n",
       "      <td>12</td>\n",
       "    </tr>\n",
       "    <tr>\n",
       "      <th>4</th>\n",
       "      <td>0</td>\n",
       "      <td>AG</td>\n",
       "      <td>9</td>\n",
       "    </tr>\n",
       "  </tbody>\n",
       "</table>\n",
       "</div>"
      ],
      "text/plain": [
       "   pos n2n  count\n",
       "0    0  TA     27\n",
       "1    0  AT     19\n",
       "2    0  CA     13\n",
       "3    0  AC     12\n",
       "4    0  AG      9"
      ]
     },
     "execution_count": 50,
     "metadata": {},
     "output_type": "execute_result"
    }
   ],
   "source": [
    "substitutions.head()"
   ]
  },
  {
   "cell_type": "code",
   "execution_count": 47,
   "id": "roman-melissa",
   "metadata": {
    "ExecuteTime": {
     "end_time": "2021-05-18T12:21:09.436856Z",
     "start_time": "2021-05-18T12:21:09.331526Z"
    }
   },
   "outputs": [
    {
     "data": {
      "text/html": [
       "<div>\n",
       "<style scoped>\n",
       "    .dataframe tbody tr th:only-of-type {\n",
       "        vertical-align: middle;\n",
       "    }\n",
       "\n",
       "    .dataframe tbody tr th {\n",
       "        vertical-align: top;\n",
       "    }\n",
       "\n",
       "    .dataframe thead th {\n",
       "        text-align: right;\n",
       "    }\n",
       "</style>\n",
       "<table border=\"1\" class=\"dataframe\">\n",
       "  <thead>\n",
       "    <tr style=\"text-align: right;\">\n",
       "      <th></th>\n",
       "      <th>pos</th>\n",
       "      <th>parent_nucl</th>\n",
       "      <th>child_nucl</th>\n",
       "      <th>parent_nucl_context</th>\n",
       "      <th>child_nucl_context</th>\n",
       "      <th>parent_node</th>\n",
       "      <th>child_node</th>\n",
       "      <th>RefNuc</th>\n",
       "      <th>GenName</th>\n",
       "      <th>GenType</th>\n",
       "      <th>...</th>\n",
       "      <th>RefAa</th>\n",
       "      <th>NucInCodon</th>\n",
       "      <th>child_codon</th>\n",
       "      <th>parent_codon</th>\n",
       "      <th>child_aa</th>\n",
       "      <th>parent_aa</th>\n",
       "      <th>IsSym</th>\n",
       "      <th>IsNonSym</th>\n",
       "      <th>IsToStop</th>\n",
       "      <th>IsFromStop</th>\n",
       "    </tr>\n",
       "  </thead>\n",
       "  <tbody>\n",
       "    <tr>\n",
       "      <th>330</th>\n",
       "      <td>9168</td>\n",
       "      <td>C</td>\n",
       "      <td>T</td>\n",
       "      <td>taCct</td>\n",
       "      <td>taTct</td>\n",
       "      <td>#54567#</td>\n",
       "      <td>#51858#</td>\n",
       "      <td>C</td>\n",
       "      <td>ORF1ab</td>\n",
       "      <td>translated</td>\n",
       "      <td>...</td>\n",
       "      <td>Y</td>\n",
       "      <td>3</td>\n",
       "      <td>TAT</td>\n",
       "      <td>TAC</td>\n",
       "      <td>Y</td>\n",
       "      <td>Y</td>\n",
       "      <td>1</td>\n",
       "      <td>0</td>\n",
       "      <td>0</td>\n",
       "      <td>0</td>\n",
       "    </tr>\n",
       "    <tr>\n",
       "      <th>333</th>\n",
       "      <td>9168</td>\n",
       "      <td>C</td>\n",
       "      <td>T</td>\n",
       "      <td>taCct</td>\n",
       "      <td>taTct</td>\n",
       "      <td>#5#</td>\n",
       "      <td>hCoV-19/USA/UT-QDX-1795/2020|EPI_ISL_604125|20...</td>\n",
       "      <td>C</td>\n",
       "      <td>ORF1ab</td>\n",
       "      <td>translated</td>\n",
       "      <td>...</td>\n",
       "      <td>Y</td>\n",
       "      <td>3</td>\n",
       "      <td>TAT</td>\n",
       "      <td>TAC</td>\n",
       "      <td>Y</td>\n",
       "      <td>Y</td>\n",
       "      <td>1</td>\n",
       "      <td>0</td>\n",
       "      <td>0</td>\n",
       "      <td>0</td>\n",
       "    </tr>\n",
       "    <tr>\n",
       "      <th>334</th>\n",
       "      <td>9168</td>\n",
       "      <td>C</td>\n",
       "      <td>T</td>\n",
       "      <td>taCct</td>\n",
       "      <td>taTct</td>\n",
       "      <td>#50881#</td>\n",
       "      <td>#50477#</td>\n",
       "      <td>C</td>\n",
       "      <td>ORF1ab</td>\n",
       "      <td>translated</td>\n",
       "      <td>...</td>\n",
       "      <td>Y</td>\n",
       "      <td>3</td>\n",
       "      <td>TAT</td>\n",
       "      <td>TAC</td>\n",
       "      <td>Y</td>\n",
       "      <td>Y</td>\n",
       "      <td>1</td>\n",
       "      <td>0</td>\n",
       "      <td>0</td>\n",
       "      <td>0</td>\n",
       "    </tr>\n",
       "    <tr>\n",
       "      <th>337</th>\n",
       "      <td>9168</td>\n",
       "      <td>C</td>\n",
       "      <td>T</td>\n",
       "      <td>taCct</td>\n",
       "      <td>taTct</td>\n",
       "      <td>#1295#</td>\n",
       "      <td>hCoV-19/USA/GA-QDX-233/2020|EPI_ISL_498714|202...</td>\n",
       "      <td>C</td>\n",
       "      <td>ORF1ab</td>\n",
       "      <td>translated</td>\n",
       "      <td>...</td>\n",
       "      <td>Y</td>\n",
       "      <td>3</td>\n",
       "      <td>TAT</td>\n",
       "      <td>TAC</td>\n",
       "      <td>Y</td>\n",
       "      <td>Y</td>\n",
       "      <td>1</td>\n",
       "      <td>0</td>\n",
       "      <td>0</td>\n",
       "      <td>0</td>\n",
       "    </tr>\n",
       "    <tr>\n",
       "      <th>338</th>\n",
       "      <td>9168</td>\n",
       "      <td>C</td>\n",
       "      <td>T</td>\n",
       "      <td>taCct</td>\n",
       "      <td>taTct</td>\n",
       "      <td>#31141#</td>\n",
       "      <td>hCoV-19/Finland/9LS1BE5/2020|EPI_ISL_755956|20...</td>\n",
       "      <td>C</td>\n",
       "      <td>ORF1ab</td>\n",
       "      <td>translated</td>\n",
       "      <td>...</td>\n",
       "      <td>Y</td>\n",
       "      <td>3</td>\n",
       "      <td>TAT</td>\n",
       "      <td>TAC</td>\n",
       "      <td>Y</td>\n",
       "      <td>Y</td>\n",
       "      <td>1</td>\n",
       "      <td>0</td>\n",
       "      <td>0</td>\n",
       "      <td>0</td>\n",
       "    </tr>\n",
       "  </tbody>\n",
       "</table>\n",
       "<p>5 rows × 21 columns</p>\n",
       "</div>"
      ],
      "text/plain": [
       "      pos parent_nucl child_nucl parent_nucl_context child_nucl_context  \\\n",
       "330  9168           C          T               taCct              taTct   \n",
       "333  9168           C          T               taCct              taTct   \n",
       "334  9168           C          T               taCct              taTct   \n",
       "337  9168           C          T               taCct              taTct   \n",
       "338  9168           C          T               taCct              taTct   \n",
       "\n",
       "    parent_node                                         child_node RefNuc  \\\n",
       "330     #54567#                                            #51858#      C   \n",
       "333         #5#  hCoV-19/USA/UT-QDX-1795/2020|EPI_ISL_604125|20...      C   \n",
       "334     #50881#                                            #50477#      C   \n",
       "337      #1295#  hCoV-19/USA/GA-QDX-233/2020|EPI_ISL_498714|202...      C   \n",
       "338     #31141#  hCoV-19/Finland/9LS1BE5/2020|EPI_ISL_755956|20...      C   \n",
       "\n",
       "    GenName     GenType  ... RefAa NucInCodon  child_codon parent_codon  \\\n",
       "330  ORF1ab  translated  ...     Y          3          TAT          TAC   \n",
       "333  ORF1ab  translated  ...     Y          3          TAT          TAC   \n",
       "334  ORF1ab  translated  ...     Y          3          TAT          TAC   \n",
       "337  ORF1ab  translated  ...     Y          3          TAT          TAC   \n",
       "338  ORF1ab  translated  ...     Y          3          TAT          TAC   \n",
       "\n",
       "    child_aa parent_aa IsSym  IsNonSym  IsToStop  IsFromStop  \n",
       "330        Y         Y     1         0         0           0  \n",
       "333        Y         Y     1         0         0           0  \n",
       "334        Y         Y     1         0         0           0  \n",
       "337        Y         Y     1         0         0           0  \n",
       "338        Y         Y     1         0         0           0  \n",
       "\n",
       "[5 rows x 21 columns]"
      ]
     },
     "execution_count": 47,
     "metadata": {},
     "output_type": "execute_result"
    }
   ],
   "source": [
    "annot_df[\n",
    "    (annot_df.NucInCodon == 3) & \n",
    "    (annot_df.IsSym == 1) & \n",
    "    (annot_df.RefNuc == annot_df.parent_nucl)\n",
    "].head()"
   ]
  },
  {
   "cell_type": "code",
   "execution_count": 48,
   "id": "invalid-shore",
   "metadata": {
    "ExecuteTime": {
     "end_time": "2021-05-18T12:21:11.416196Z",
     "start_time": "2021-05-18T12:21:11.410318Z"
    }
   },
   "outputs": [
    {
     "data": {
      "text/plain": [
       "(n2n\n",
       " AC    0.008808\n",
       " AG    0.048249\n",
       " AT    0.014593\n",
       " CA    0.013895\n",
       " CG    0.006148\n",
       " CT    0.417813\n",
       " GA    0.075932\n",
       " GC    0.005707\n",
       " GT    0.101366\n",
       " TA    0.012872\n",
       " TC    0.240059\n",
       " TG    0.054557\n",
       " Name: count, dtype: float64,\n",
       " 1.0)"
      ]
     },
     "execution_count": 48,
     "metadata": {},
     "output_type": "execute_result"
    }
   ],
   "source": [
    "mutspec, mutspec.sum()"
   ]
  },
  {
   "cell_type": "code",
   "execution_count": 94,
   "id": "necessary-pennsylvania",
   "metadata": {
    "ExecuteTime": {
     "end_time": "2021-05-18T13:17:18.470149Z",
     "start_time": "2021-05-18T13:17:18.187372Z"
    }
   },
   "outputs": [
    {
     "data": {
      "image/png": "[encoded data removed]",
      "text/plain": [
       "<Figure size 432x288 with 1 Axes>"
      ]
     },
     "metadata": {
      "needs_background": "light"
     },
     "output_type": "display_data"
    }
   ],
   "source": [
    "plt.figure(figsize=(6, 4))\n",
    "\n",
    "mutspec.plot.bar()\n",
    "plt.title('Gisaid MutSpec')\n",
    "plt.show()"
   ]
  },
  {
   "cell_type": "code",
   "execution_count": 94,
   "id": "aggregate-judge",
   "metadata": {
    "ExecuteTime": {
     "end_time": "2021-04-28T13:00:08.604536Z",
     "start_time": "2021-04-28T13:00:08.371760Z"
    }
   },
   "outputs": [
    {
     "name": "stdout",
     "output_type": "stream",
     "text": [
      "Object `????????` not found.\n"
     ]
    }
   ],
   "source": [
    "??????????\n",
    "wrong annotation? check!"
   ]
  },
  {
   "cell_type": "code",
   "execution_count": null,
   "id": "figured-subscription",
   "metadata": {},
   "outputs": [],
   "source": []
  },
  {
   "cell_type": "code",
   "execution_count": null,
   "id": "present-engine",
   "metadata": {},
   "outputs": [],
   "source": []
  },
  {
   "cell_type": "code",
   "execution_count": null,
   "id": "martial-mountain",
   "metadata": {},
   "outputs": [],
   "source": []
  },
  {
   "cell_type": "code",
   "execution_count": 117,
   "id": "twenty-legislation",
   "metadata": {
    "ExecuteTime": {
     "end_time": "2021-04-12T09:18:25.574241Z",
     "start_time": "2021-04-12T09:18:25.517064Z"
    }
   },
   "outputs": [],
   "source": [
    "old_df = pd.read_csv('../data/past2/gisaid_sample_mutspec2.csv', index_col=0)"
   ]
  },
  {
   "cell_type": "code",
   "execution_count": 118,
   "id": "fifteen-worse",
   "metadata": {
    "ExecuteTime": {
     "end_time": "2021-04-12T09:18:26.274995Z",
     "start_time": "2021-04-12T09:18:26.075710Z"
    }
   },
   "outputs": [
    {
     "data": {
      "image/png": "[encoded data removed]",
      "text/plain": [
       "<Figure size 432x288 with 1 Axes>"
      ]
     },
     "metadata": {
      "needs_background": "light"
     },
     "output_type": "display_data"
    }
   ],
   "source": [
    "# plt.figure(figsize=(8, 4))\n",
    "cols = ['A2C', 'A2G', 'A2T', 'C2A', 'C2G', 'C2T', 'G2A', 'G2C', 'G2T', 'T2A', 'T2C', 'T2G']\n",
    "_ma = old_df[cols].sum(axis=0)\n",
    "plt.bar(_ma.index, _ma)\n",
    "plt.title(\"GISAID surface MutSpec\")\n",
    "plt.xticks(range(12), list(map(lambda s: s.replace(\"2\", \"\"), cols)))\n",
    "plt.show()"
   ]
  },
  {
   "cell_type": "code",
   "execution_count": null,
   "id": "conditional-wilson",
   "metadata": {},
   "outputs": [],
   "source": []
  }
 ],
 "metadata": {
  "kernelspec": {
   "display_name": "Python 3.9.5 ('env_bio')",
   "language": "python",
   "name": "python3"
  },
  "language_info": {
   "codemirror_mode": {
    "name": "ipython",
    "version": 3
   },
   "file_extension": ".py",
   "mimetype": "text/x-python",
   "name": "python",
   "nbconvert_exporter": "python",
   "pygments_lexer": "ipython3",
   "version": "3.9.5"
  },
  "vscode": {
   "interpreter": {
    "hash": "c737589ac25c2b5207a58295544dae93bde342e9f173b68ed1d9625ade55517f"
   }
  }
 },
 "nbformat": 4,
 "nbformat_minor": 5
}
