{
 "cells": [
  {
   "cell_type": "markdown",
   "id": "swiss-portugal",
   "metadata": {},
   "source": [
    "## Здесь формируется таблица для Саньки\n",
    "\n",
    "## А также идет проверка на вшивость замен с дерева"
   ]
  },
  {
   "cell_type": "markdown",
   "id": "coral-click",
   "metadata": {},
   "source": [
    "## *RefNuc* у Саньки это отцовский"
   ]
  },
  {
   "cell_type": "code",
   "execution_count": 1,
   "id": "french-ethiopia",
   "metadata": {
    "ExecuteTime": {
     "end_time": "2021-06-03T20:32:37.026286Z",
     "start_time": "2021-06-03T20:32:35.833033Z"
    }
   },
   "outputs": [],
   "source": [
    "from collections import defaultdict\n",
    "import json\n",
    "import os\n",
    "import sys\n",
    "import time\n",
    "\n",
    "import tqdm\n",
    "import numpy as np\n",
    "import pandas as pd\n",
    "import matplotlib.pyplot as plt\n",
    "import seaborn as sns\n",
    "import networkx as nx\n",
    "from scipy.stats import mannwhitneyu\n",
    "from ete3 import PhyloTree\n",
    "from rna_tools.SecondaryStructure import parse_vienna_to_pairs\n",
    "from Bio import SeqIO\n",
    "from Bio.Seq import Seq\n",
    "from Bio.SeqRecord import SeqRecord\n",
    "\n",
    "from src.utils import node_parent, read_fasta_generator"
   ]
  },
  {
   "cell_type": "code",
   "execution_count": 2,
   "id": "speaking-reverse",
   "metadata": {
    "ExecuteTime": {
     "end_time": "2021-06-03T20:32:37.033520Z",
     "start_time": "2021-06-03T20:32:37.029477Z"
    }
   },
   "outputs": [],
   "source": [
    "REFSEQ_PATH = \"../data/covid_ref.fasta\"\n",
    "GENEBANK_PATH = \"../data/external/NC_045512.2.gb\"\n",
    "SUBSTITUTIONS_PATH = \"../data/overall_mutations_with_context2.json\"\n",
    "# FILTERES_SUBSTITUTIONS_PATH = \"../data/overall_mutations_2_filtered.json\"\n",
    "\n",
    "SEC_STRUCT_PATH_v1 = \"../data/structure_data/SARSCoV2-RNA.ss\"\n",
    "SEC_STRUCT_PATH_from_site = \"../data/structure_data/SARSCoV2-RNA_from_site_0based.ss\"\n",
    "MUTSPEC_TABLE_PATH = '../data/ideal_table_of_sasha.csv'\n",
    "# DISTANCES_TABLE_PATH = \"../data/new_final_fantasy_Fri_Mar_19_19:36:39_2021.csv\"\n",
    "\n",
    "# CUTOFF = 44"
   ]
  },
  {
   "cell_type": "code",
   "execution_count": null,
   "id": "3a60b01f",
   "metadata": {},
   "outputs": [],
   "source": [
    "# from substs_json2csv import converter\n",
    "def read_json(path_to_json: str) -> list:\n",
    "    assert os.path.exists(path_to_json), f\"file {path_to_json} doesn't exist\"\n",
    "\n",
    "    with open(path_to_json) as fin:\n",
    "        substitutions = json.load(fin)\n",
    "    return substitutions\n",
    "\n",
    "\n",
    "def converter(substitutions=None, path_to_json=None) -> pd.DataFrame:\n",
    "    \"\"\"convert json file with substitutions to csv-table\n",
    "    params:\n",
    "        - substitutions: list of substitutions\n",
    "        - path_to_json: path to json file with substitutions\n",
    "    substitutions structure:\n",
    "    [\n",
    "        [parent, child, pair_substs[\n",
    "            pos(0-based), parent_nucl, child_cnucl\n",
    "        ]]\n",
    "    ]\n",
    "    \"\"\"\n",
    "    assert substitutions is not None or path_to_json is not None, \"pass something\"\n",
    "    substitutions = substitutions or read_json(path_to_json)\n",
    "\n",
    "    scollection = []\n",
    "    for parent, child, pair_substs in substitutions:\n",
    "        for pos, pnuc, cnuc, pnuc_con, cnuc_con in pair_substs:\n",
    "            scollection.append((pos, pnuc, cnuc, pnuc_con, cnuc_con, parent, child))\n",
    "\n",
    "    cols = [\"pos\", \"parent_nucl\", \"child_nucl\", \"parent_nucl_context\", \n",
    "            \"child_nucl_context\", \"parent_node\", \"child_node\"]\n",
    "    df = pd.DataFrame(scollection, columns=cols)\n",
    "    return df"
   ]
  },
  {
   "cell_type": "code",
   "execution_count": 3,
   "id": "understood-adventure",
   "metadata": {
    "ExecuteTime": {
     "end_time": "2021-06-03T20:32:38.222202Z",
     "start_time": "2021-06-03T20:32:37.037703Z"
    }
   },
   "outputs": [
    {
     "name": "stdout",
     "output_type": "stream",
     "text": [
      "29903\n",
      "109134\n"
     ]
    }
   ],
   "source": [
    "refseq = next(read_fasta_generator(REFSEQ_PATH))[1].replace('\\n', '')\n",
    "print(len(refseq))\n",
    "\n",
    "with open(SUBSTITUTIONS_PATH) as fin:\n",
    "    substitutions = json.load(fin)\n",
    "    print(len(substitutions))\n",
    "\n",
    "# substitutions = [x for x in substitutions if len(x[-1]) < CUTOFF]\n",
    "# print(len(substitutions))\n",
    "\n",
    "# with open(FILTERES_SUBSTITUTIONS_PATH) as fin:\n",
    "#     filtered_subst = json.load(fin)\n",
    "#     print(len(filtered_subst))"
   ]
  },
  {
   "cell_type": "code",
   "execution_count": 4,
   "id": "lasting-contents",
   "metadata": {
    "ExecuteTime": {
     "end_time": "2021-06-03T20:32:39.099798Z",
     "start_time": "2021-06-03T20:32:38.225045Z"
    }
   },
   "outputs": [
    {
     "name": "stdout",
     "output_type": "stream",
     "text": [
      "631407\n",
      "631299\n"
     ]
    },
    {
     "data": {
      "text/html": [
       "<div>\n",
       "<style scoped>\n",
       "    .dataframe tbody tr th:only-of-type {\n",
       "        vertical-align: middle;\n",
       "    }\n",
       "\n",
       "    .dataframe tbody tr th {\n",
       "        vertical-align: top;\n",
       "    }\n",
       "\n",
       "    .dataframe thead th {\n",
       "        text-align: right;\n",
       "    }\n",
       "</style>\n",
       "<table border=\"1\" class=\"dataframe\">\n",
       "  <thead>\n",
       "    <tr style=\"text-align: right;\">\n",
       "      <th></th>\n",
       "      <th>pos</th>\n",
       "      <th>parent_nucl</th>\n",
       "      <th>child_nucl</th>\n",
       "      <th>parent_nucl_context</th>\n",
       "      <th>child_nucl_context</th>\n",
       "      <th>parent_node</th>\n",
       "      <th>child_node</th>\n",
       "    </tr>\n",
       "  </thead>\n",
       "  <tbody>\n",
       "    <tr>\n",
       "      <th>0</th>\n",
       "      <td>240</td>\n",
       "      <td>C</td>\n",
       "      <td>T</td>\n",
       "      <td>ttCgt</td>\n",
       "      <td>ttTgt</td>\n",
       "      <td>#54567#</td>\n",
       "      <td>#51858#</td>\n",
       "    </tr>\n",
       "    <tr>\n",
       "      <th>1</th>\n",
       "      <td>9168</td>\n",
       "      <td>C</td>\n",
       "      <td>T</td>\n",
       "      <td>taCct</td>\n",
       "      <td>taTct</td>\n",
       "      <td>#54567#</td>\n",
       "      <td>#51858#</td>\n",
       "    </tr>\n",
       "    <tr>\n",
       "      <th>2</th>\n",
       "      <td>10318</td>\n",
       "      <td>T</td>\n",
       "      <td>C</td>\n",
       "      <td>agTtt</td>\n",
       "      <td>agCtt</td>\n",
       "      <td>#54567#</td>\n",
       "      <td>#51858#</td>\n",
       "    </tr>\n",
       "    <tr>\n",
       "      <th>3</th>\n",
       "      <td>11172</td>\n",
       "      <td>A</td>\n",
       "      <td>C</td>\n",
       "      <td>ctAtg</td>\n",
       "      <td>ctCtg</td>\n",
       "      <td>#54567#</td>\n",
       "      <td>#51858#</td>\n",
       "    </tr>\n",
       "    <tr>\n",
       "      <th>4</th>\n",
       "      <td>12622</td>\n",
       "      <td>T</td>\n",
       "      <td>C</td>\n",
       "      <td>caTct</td>\n",
       "      <td>caCct</td>\n",
       "      <td>#54567#</td>\n",
       "      <td>#51858#</td>\n",
       "    </tr>\n",
       "  </tbody>\n",
       "</table>\n",
       "</div>"
      ],
      "text/plain": [
       "     pos parent_nucl child_nucl parent_nucl_context child_nucl_context  \\\n",
       "0    240           C          T               ttCgt              ttTgt   \n",
       "1   9168           C          T               taCct              taTct   \n",
       "2  10318           T          C               agTtt              agCtt   \n",
       "3  11172           A          C               ctAtg              ctCtg   \n",
       "4  12622           T          C               caTct              caCct   \n",
       "\n",
       "  parent_node child_node  \n",
       "0     #54567#    #51858#  \n",
       "1     #54567#    #51858#  \n",
       "2     #54567#    #51858#  \n",
       "3     #54567#    #51858#  \n",
       "4     #54567#    #51858#  "
      ]
     },
     "execution_count": 4,
     "metadata": {},
     "output_type": "execute_result"
    }
   ],
   "source": [
    "subs_df = converter(substitutions)\n",
    "# delete substs from gene overlay\n",
    "print(subs_df.shape[0])\n",
    "subs_df = subs_df[(subs_df.pos < 27755) | (subs_df.pos > 27758)]\n",
    "print(subs_df.shape[0])\n",
    "subs_df.head()"
   ]
  },
  {
   "cell_type": "code",
   "execution_count": 5,
   "id": "dramatic-nurse",
   "metadata": {
    "ExecuteTime": {
     "end_time": "2021-06-03T20:32:39.325026Z",
     "start_time": "2021-06-03T20:32:39.104077Z"
    }
   },
   "outputs": [
    {
     "name": "stdout",
     "output_type": "stream",
     "text": [
      "618019 однонуклеотидных замещений\n"
     ]
    }
   ],
   "source": [
    "_nSNP = subs_df[(subs_df.parent_nucl != '-') & (subs_df.child_nucl != '-')].shape[0]\n",
    "print(f\"{_nSNP} однонуклеотидных замещений\")"
   ]
  },
  {
   "cell_type": "code",
   "execution_count": 6,
   "id": "absolute-imaging",
   "metadata": {
    "ExecuteTime": {
     "end_time": "2021-06-03T20:32:39.511998Z",
     "start_time": "2021-06-03T20:32:39.329122Z"
    }
   },
   "outputs": [
    {
     "name": "stdout",
     "output_type": "stream",
     "text": [
      "(89709, 16)\n"
     ]
    },
    {
     "name": "stderr",
     "output_type": "stream",
     "text": [
      "/home/mr/.local/lib/python3.7/site-packages/IPython/core/interactiveshell.py:3156: DtypeWarning: Columns (5) have mixed types.Specify dtype option on import or set low_memory=False.\n",
      "  interactivity=interactivity, compiler=compiler, result=result)\n"
     ]
    },
    {
     "data": {
      "text/html": [
       "<div>\n",
       "<style scoped>\n",
       "    .dataframe tbody tr th:only-of-type {\n",
       "        vertical-align: middle;\n",
       "    }\n",
       "\n",
       "    .dataframe tbody tr th {\n",
       "        vertical-align: top;\n",
       "    }\n",
       "\n",
       "    .dataframe thead th {\n",
       "        text-align: right;\n",
       "    }\n",
       "</style>\n",
       "<table border=\"1\" class=\"dataframe\">\n",
       "  <thead>\n",
       "    <tr style=\"text-align: right;\">\n",
       "      <th></th>\n",
       "      <th>Pos</th>\n",
       "      <th>RefNuc</th>\n",
       "      <th>GenName</th>\n",
       "      <th>GenType</th>\n",
       "      <th>CodonNumber</th>\n",
       "      <th>RefCodon</th>\n",
       "      <th>RefAa</th>\n",
       "      <th>NucInCodon</th>\n",
       "      <th>AltNuc</th>\n",
       "      <th>AltCodon</th>\n",
       "      <th>AltAa</th>\n",
       "      <th>AaSub</th>\n",
       "      <th>NeighL</th>\n",
       "      <th>NeighR</th>\n",
       "      <th>MutExp</th>\n",
       "      <th>MutObsNC</th>\n",
       "    </tr>\n",
       "  </thead>\n",
       "  <tbody>\n",
       "    <tr>\n",
       "      <th>5998</th>\n",
       "      <td>2000</td>\n",
       "      <td>A</td>\n",
       "      <td>ORF1ab</td>\n",
       "      <td>translated</td>\n",
       "      <td>579</td>\n",
       "      <td>AGA</td>\n",
       "      <td>R</td>\n",
       "      <td>1</td>\n",
       "      <td>G</td>\n",
       "      <td>GGA</td>\n",
       "      <td>G</td>\n",
       "      <td>NS</td>\n",
       "      <td>G</td>\n",
       "      <td>G</td>\n",
       "      <td>NaN</td>\n",
       "      <td>4.0</td>\n",
       "    </tr>\n",
       "    <tr>\n",
       "      <th>5999</th>\n",
       "      <td>2000</td>\n",
       "      <td>A</td>\n",
       "      <td>ORF1ab</td>\n",
       "      <td>translated</td>\n",
       "      <td>579</td>\n",
       "      <td>AGA</td>\n",
       "      <td>R</td>\n",
       "      <td>1</td>\n",
       "      <td>C</td>\n",
       "      <td>CGA</td>\n",
       "      <td>R</td>\n",
       "      <td>S</td>\n",
       "      <td>G</td>\n",
       "      <td>G</td>\n",
       "      <td>NaN</td>\n",
       "      <td>2.0</td>\n",
       "    </tr>\n",
       "  </tbody>\n",
       "</table>\n",
       "</div>"
      ],
      "text/plain": [
       "       Pos RefNuc GenName     GenType CodonNumber RefCodon RefAa NucInCodon  \\\n",
       "5998  2000      A  ORF1ab  translated         579      AGA     R          1   \n",
       "5999  2000      A  ORF1ab  translated         579      AGA     R          1   \n",
       "\n",
       "     AltNuc AltCodon AltAa AaSub NeighL NeighR  MutExp  MutObsNC  \n",
       "5998      G      GGA     G    NS      G      G     NaN       4.0  \n",
       "5999      C      CGA     R     S      G      G     NaN       2.0  "
      ]
     },
     "execution_count": 6,
     "metadata": {},
     "output_type": "execute_result"
    }
   ],
   "source": [
    "sasha_table = pd.read_csv(MUTSPEC_TABLE_PATH, index_col=0)\n",
    "print(sasha_table.shape)\n",
    "sasha_table.head(6000).tail(2)"
   ]
  },
  {
   "cell_type": "code",
   "execution_count": 7,
   "id": "stainless-badge",
   "metadata": {
    "ExecuteTime": {
     "end_time": "2021-06-03T20:32:47.480813Z",
     "start_time": "2021-06-03T20:32:39.515537Z"
    }
   },
   "outputs": [],
   "source": [
    "ref_cols = \"Pos RefNuc GenName GenType CodonNumber RefCodon RefAa NucInCodon\".split()\n",
    "gr = sasha_table[ref_cols].groupby('Pos')\n",
    "ref_annot = gr.apply(lambda d: d.iloc[0])[ref_cols[1:]].reset_index()\n",
    "ref_annot[\"Pos\"] -= 1\n",
    "\n",
    "assert ''.join(ref_annot.RefNuc) == refseq\n",
    "assert np.all(ref_annot[\"Pos\"] < 29903)\n",
    "assert np.any(ref_annot[\"Pos\"] == 0)"
   ]
  },
  {
   "cell_type": "code",
   "execution_count": 8,
   "id": "found-coating",
   "metadata": {
    "ExecuteTime": {
     "end_time": "2021-06-03T20:32:47.498383Z",
     "start_time": "2021-06-03T20:32:47.483149Z"
    }
   },
   "outputs": [
    {
     "data": {
      "text/html": [
       "<div>\n",
       "<style scoped>\n",
       "    .dataframe tbody tr th:only-of-type {\n",
       "        vertical-align: middle;\n",
       "    }\n",
       "\n",
       "    .dataframe tbody tr th {\n",
       "        vertical-align: top;\n",
       "    }\n",
       "\n",
       "    .dataframe thead th {\n",
       "        text-align: right;\n",
       "    }\n",
       "</style>\n",
       "<table border=\"1\" class=\"dataframe\">\n",
       "  <thead>\n",
       "    <tr style=\"text-align: right;\">\n",
       "      <th></th>\n",
       "      <th>Pos</th>\n",
       "      <th>RefNuc</th>\n",
       "      <th>GenName</th>\n",
       "      <th>GenType</th>\n",
       "      <th>CodonNumber</th>\n",
       "      <th>RefCodon</th>\n",
       "      <th>RefAa</th>\n",
       "      <th>NucInCodon</th>\n",
       "    </tr>\n",
       "  </thead>\n",
       "  <tbody>\n",
       "    <tr>\n",
       "      <th>26998</th>\n",
       "      <td>26998</td>\n",
       "      <td>T</td>\n",
       "      <td>M</td>\n",
       "      <td>translated</td>\n",
       "      <td>8883</td>\n",
       "      <td>TGT</td>\n",
       "      <td>C</td>\n",
       "      <td>3</td>\n",
       "    </tr>\n",
       "    <tr>\n",
       "      <th>26999</th>\n",
       "      <td>26999</td>\n",
       "      <td>G</td>\n",
       "      <td>M</td>\n",
       "      <td>translated</td>\n",
       "      <td>8884</td>\n",
       "      <td>GAC</td>\n",
       "      <td>D</td>\n",
       "      <td>1</td>\n",
       "    </tr>\n",
       "  </tbody>\n",
       "</table>\n",
       "</div>"
      ],
      "text/plain": [
       "         Pos RefNuc GenName     GenType CodonNumber RefCodon RefAa NucInCodon\n",
       "26998  26998      T       M  translated        8883      TGT     C          3\n",
       "26999  26999      G       M  translated        8884      GAC     D          1"
      ]
     },
     "execution_count": 8,
     "metadata": {},
     "output_type": "execute_result"
    }
   ],
   "source": [
    "ref_annot.head(27000).tail(2)"
   ]
  },
  {
   "cell_type": "code",
   "execution_count": 9,
   "id": "employed-polls",
   "metadata": {
    "ExecuteTime": {
     "end_time": "2021-06-03T20:32:49.375116Z",
     "start_time": "2021-06-03T20:32:47.502030Z"
    }
   },
   "outputs": [],
   "source": [
    "merged_table = pd.merge(subs_df, ref_annot, left_on='pos', right_on='Pos')  # correct pos indextins 0-based\n",
    "merged_table.drop('Pos', axis=1, inplace=True)\n",
    "_mapper = {'None': np.nan, '1':1, '2':2, '3':3}\n",
    "merged_table['NucInCodon'] = merged_table.NucInCodon.map(_mapper)\n",
    "\n",
    "assert merged_table.shape[0] == subs_df.shape[0]\n",
    "#check that table rows are equivalent\n",
    "assert set(merged_table[~merged_table.RefAa.isna()].RefAa.apply(len)) == {1}\n",
    "assert set(merged_table[~merged_table.RefCodon.isna()].RefCodon.apply(len)) == {3}"
   ]
  },
  {
   "cell_type": "code",
   "execution_count": 10,
   "id": "veterinary-tower",
   "metadata": {
    "ExecuteTime": {
     "end_time": "2021-06-03T20:32:49.387134Z",
     "start_time": "2021-06-03T20:32:49.379965Z"
    }
   },
   "outputs": [],
   "source": [
    "def context2codon(context, nuc_in_codon):\n",
    "    \"\"\"convert context to codon\n",
    "    \n",
    "    params:\n",
    "        - context: interested nucl and 2 radial context nucls\n",
    "        - nuc_in_codon: idx of interested nucl in RefCodon, {1,2,3}\n",
    "    \"\"\"\n",
    "    if nuc_in_codon not in {1, 2, 3}:\n",
    "        return np.nan\n",
    "    nuc_in_codon = int(nuc_in_codon)\n",
    "    start = 3 - nuc_in_codon\n",
    "    codon = context[start: start + 3].upper()\n",
    "    return codon\n",
    "\n",
    "\n",
    "def codon2aa(codon):\n",
    "    if not isinstance(codon, str) or len(set(codon).difference('ATGCatgc')) != 0:\n",
    "        return np.nan\n",
    "    codon = Seq(codon)\n",
    "    aa = codon.translate()\n",
    "    return str(aa)"
   ]
  },
  {
   "cell_type": "code",
   "execution_count": 11,
   "id": "activated-beach",
   "metadata": {
    "ExecuteTime": {
     "end_time": "2021-06-03T20:33:47.126728Z",
     "start_time": "2021-06-03T20:32:49.391320Z"
    }
   },
   "outputs": [],
   "source": [
    "merged_table[\"child_codon\"] = merged_table.apply(\n",
    "    lambda d: context2codon(d.child_nucl_context, d.NucInCodon), \n",
    "    axis=1\n",
    ")\n",
    "merged_table[\"parent_codon\"] = merged_table.apply(\n",
    "    lambda d: context2codon(d.parent_nucl_context, d.NucInCodon), \n",
    "    axis=1\n",
    ")\n",
    "merged_table[\"child_aa\"] = merged_table.child_codon.apply(codon2aa)\n",
    "merged_table[\"parent_aa\"] = merged_table.parent_codon.apply(codon2aa)"
   ]
  },
  {
   "cell_type": "code",
   "execution_count": 12,
   "id": "plastic-toner",
   "metadata": {
    "ExecuteTime": {
     "end_time": "2021-06-03T20:33:47.679358Z",
     "start_time": "2021-06-03T20:33:47.129268Z"
    }
   },
   "outputs": [],
   "source": [
    "merged_table.drop('CodonNumber', axis=1, inplace=True)\n",
    "merged_table['NucInCodon'] = merged_table['NucInCodon'].fillna(-1).astype(int)"
   ]
  },
  {
   "cell_type": "code",
   "execution_count": 13,
   "id": "indoor-folks",
   "metadata": {
    "ExecuteTime": {
     "end_time": "2021-06-03T20:33:47.706011Z",
     "start_time": "2021-06-03T20:33:47.682008Z"
    }
   },
   "outputs": [
    {
     "data": {
      "text/html": [
       "<div>\n",
       "<style scoped>\n",
       "    .dataframe tbody tr th:only-of-type {\n",
       "        vertical-align: middle;\n",
       "    }\n",
       "\n",
       "    .dataframe tbody tr th {\n",
       "        vertical-align: top;\n",
       "    }\n",
       "\n",
       "    .dataframe thead th {\n",
       "        text-align: right;\n",
       "    }\n",
       "</style>\n",
       "<table border=\"1\" class=\"dataframe\">\n",
       "  <thead>\n",
       "    <tr style=\"text-align: right;\">\n",
       "      <th></th>\n",
       "      <th>pos</th>\n",
       "      <th>parent_nucl</th>\n",
       "      <th>child_nucl</th>\n",
       "      <th>parent_nucl_context</th>\n",
       "      <th>child_nucl_context</th>\n",
       "      <th>parent_node</th>\n",
       "      <th>child_node</th>\n",
       "      <th>RefNuc</th>\n",
       "      <th>GenName</th>\n",
       "      <th>GenType</th>\n",
       "      <th>RefCodon</th>\n",
       "      <th>RefAa</th>\n",
       "      <th>NucInCodon</th>\n",
       "      <th>child_codon</th>\n",
       "      <th>parent_codon</th>\n",
       "      <th>child_aa</th>\n",
       "      <th>parent_aa</th>\n",
       "    </tr>\n",
       "  </thead>\n",
       "  <tbody>\n",
       "    <tr>\n",
       "      <th>631297</th>\n",
       "      <td>25157</td>\n",
       "      <td>A</td>\n",
       "      <td>T</td>\n",
       "      <td>cgAtc</td>\n",
       "      <td>cgTtc</td>\n",
       "      <td>#8302#</td>\n",
       "      <td>hCoV-19/Luxembourg/LNS2198752/2020|EPI_ISL_740...</td>\n",
       "      <td>A</td>\n",
       "      <td>S</td>\n",
       "      <td>translated</td>\n",
       "      <td>GAT</td>\n",
       "      <td>D</td>\n",
       "      <td>2</td>\n",
       "      <td>GTT</td>\n",
       "      <td>GAT</td>\n",
       "      <td>V</td>\n",
       "      <td>D</td>\n",
       "    </tr>\n",
       "    <tr>\n",
       "      <th>631298</th>\n",
       "      <td>17918</td>\n",
       "      <td>T</td>\n",
       "      <td>C</td>\n",
       "      <td>ttTaa</td>\n",
       "      <td>ttCaa</td>\n",
       "      <td>#8300#</td>\n",
       "      <td>hCoV-19/USA/TX-HMH-MCoV-11229/2020|EPI_ISL_789...</td>\n",
       "      <td>T</td>\n",
       "      <td>ORF1ab</td>\n",
       "      <td>translated</td>\n",
       "      <td>TTT</td>\n",
       "      <td>F</td>\n",
       "      <td>3</td>\n",
       "      <td>TTC</td>\n",
       "      <td>TTT</td>\n",
       "      <td>F</td>\n",
       "      <td>F</td>\n",
       "    </tr>\n",
       "  </tbody>\n",
       "</table>\n",
       "</div>"
      ],
      "text/plain": [
       "          pos parent_nucl child_nucl parent_nucl_context child_nucl_context  \\\n",
       "631297  25157           A          T               cgAtc              cgTtc   \n",
       "631298  17918           T          C               ttTaa              ttCaa   \n",
       "\n",
       "       parent_node                                         child_node RefNuc  \\\n",
       "631297      #8302#  hCoV-19/Luxembourg/LNS2198752/2020|EPI_ISL_740...      A   \n",
       "631298      #8300#  hCoV-19/USA/TX-HMH-MCoV-11229/2020|EPI_ISL_789...      T   \n",
       "\n",
       "       GenName     GenType RefCodon RefAa  NucInCodon child_codon  \\\n",
       "631297       S  translated      GAT     D           2         GTT   \n",
       "631298  ORF1ab  translated      TTT     F           3         TTC   \n",
       "\n",
       "       parent_codon child_aa parent_aa  \n",
       "631297          GAT        V         D  \n",
       "631298          TTT        F         F  "
      ]
     },
     "execution_count": 13,
     "metadata": {},
     "output_type": "execute_result"
    }
   ],
   "source": [
    "merged_table.tail(2)"
   ]
  },
  {
   "cell_type": "markdown",
   "id": "third-argentina",
   "metadata": {},
   "source": [
    "### For Sasha"
   ]
  },
  {
   "cell_type": "code",
   "execution_count": 14,
   "id": "convertible-earthquake",
   "metadata": {
    "ExecuteTime": {
     "end_time": "2021-06-03T20:33:47.726538Z",
     "start_time": "2021-06-03T20:33:47.709839Z"
    }
   },
   "outputs": [],
   "source": [
    "# _cols = ['pos', 'parent_nucl', 'child_nucl', 'parent_node', 'child_node', 'GenName',\n",
    "#        'GenType', 'CodonNumber', 'child_codon', 'parent_codon', 'child_aa', 'parent_aa']\n",
    "# merged_table[_cols].head(6000).tail()\n",
    "# merged_table[_cols].to_csv(\"../data/gisaid_mutations_annotation.csv\", index=None)"
   ]
  },
  {
   "cell_type": "markdown",
   "id": "instructional-acrylic",
   "metadata": {},
   "source": [
    "-------------"
   ]
  },
  {
   "cell_type": "code",
   "execution_count": 15,
   "id": "handed-failure",
   "metadata": {
    "ExecuteTime": {
     "end_time": "2021-06-03T20:33:47.746741Z",
     "start_time": "2021-06-03T20:33:47.729237Z"
    }
   },
   "outputs": [],
   "source": [
    "def count_mut_types(d, parent_col='parent_aa', child_col='child_aa'):\n",
    "    # only genes and only without gaps in nucleotides\n",
    "    d = d[\n",
    "        (d['GenType'] == 'translated') & \n",
    "        (~d[parent_col].isna()) & \n",
    "        (~d[child_col].isna())\n",
    "    ]\n",
    "    par_aa = d[parent_col].values\n",
    "    ch_aa = d[child_col].values\n",
    "    \n",
    "    nSyn = np.sum(par_aa == ch_aa)\n",
    "    nNonSyn = np.sum((par_aa != ch_aa) & (par_aa != \"*\") & (ch_aa != \"*\"))\n",
    "    \n",
    "    nFromStop = np.sum((par_aa != ch_aa) & (par_aa == \"*\") & (ch_aa != \"*\"))\n",
    "    nToStop = np.sum((par_aa != ch_aa) & (par_aa != \"*\") & (ch_aa == \"*\"))\n",
    "    \n",
    "    types_data = {\n",
    "        'Syn': nSyn,\n",
    "        'NonSyn': nNonSyn,\n",
    "        'ToStop': nToStop,\n",
    "        'FromStop': nFromStop,\n",
    "    }\n",
    "    types_df = pd.Series(types_data)\n",
    "    \n",
    "    return types_df"
   ]
  },
  {
   "cell_type": "code",
   "execution_count": 16,
   "id": "referenced-operation",
   "metadata": {
    "ExecuteTime": {
     "end_time": "2021-06-03T20:33:48.423464Z",
     "start_time": "2021-06-03T20:33:47.749813Z"
    }
   },
   "outputs": [
    {
     "data": {
      "text/plain": [
       "Syn         242172\n",
       "NonSyn      336681\n",
       "ToStop        1217\n",
       "FromStop      1101\n",
       "dtype: int64"
      ]
     },
     "execution_count": 16,
     "metadata": {},
     "output_type": "execute_result"
    }
   ],
   "source": [
    "# for all genes\n",
    "count_mut_types(merged_table[merged_table.GenType == 'translated'])\n",
    "# Syn         267602\n",
    "# NonSyn      375112\n",
    "# ToStop        1329\n",
    "# FromStop      1255"
   ]
  },
  {
   "cell_type": "code",
   "execution_count": 17,
   "id": "further-louisiana",
   "metadata": {
    "ExecuteTime": {
     "end_time": "2021-06-03T20:33:49.342640Z",
     "start_time": "2021-06-03T20:33:48.427124Z"
    }
   },
   "outputs": [],
   "source": [
    "mut_types_table = merged_table[merged_table.GenType == 'translated'].groupby('GenName').apply(count_mut_types)\n",
    "mut_types_table = mut_types_table.sort_index()\n",
    "mut_types_table['DnDs'] = mut_types_table.NonSyn / mut_types_table.Syn\n",
    "\n",
    "# Count (#ToStop + #FromStop) / (#Syn + #NonSyn)\n",
    "# mut_types_table['FromStop2NS'] = mut_types_table.FromStop / mut_types_table.NonSyn\n",
    "# mut_types_table['ToStop2NS'] = mut_types_table.ToStop / mut_types_table.NonSyn"
   ]
  },
  {
   "cell_type": "markdown",
   "id": "unauthorized-sharp",
   "metadata": {},
   "source": [
    "### Если есть желание посчитать честный Kn/Ks, то вот [преза](https://en.ppt-online.org/125380), в которой на 17-18 слайдах кошерно расписано, как считать\n"
   ]
  },
  {
   "cell_type": "code",
   "execution_count": 18,
   "id": "documentary-sunset",
   "metadata": {
    "ExecuteTime": {
     "end_time": "2021-06-03T20:33:49.349427Z",
     "start_time": "2021-06-03T20:33:49.344869Z"
    }
   },
   "outputs": [
    {
     "name": "stdout",
     "output_type": "stream",
     "text": [
      "['E', 'M', 'N', 'ORF10', 'ORF1ab', 'ORF3a', 'ORF6', 'ORF7a', 'ORF7b', 'ORF8', 'S']\n"
     ]
    }
   ],
   "source": [
    "print(list(mut_types_table.index))"
   ]
  },
  {
   "cell_type": "code",
   "execution_count": 21,
   "id": "social-cotton",
   "metadata": {
    "ExecuteTime": {
     "end_time": "2021-06-03T20:34:05.075291Z",
     "start_time": "2021-06-03T20:34:05.052092Z"
    }
   },
   "outputs": [
    {
     "data": {
      "text/html": [
       "<div>\n",
       "<style scoped>\n",
       "    .dataframe tbody tr th:only-of-type {\n",
       "        vertical-align: middle;\n",
       "    }\n",
       "\n",
       "    .dataframe tbody tr th {\n",
       "        vertical-align: top;\n",
       "    }\n",
       "\n",
       "    .dataframe thead th {\n",
       "        text-align: right;\n",
       "    }\n",
       "</style>\n",
       "<table border=\"1\" class=\"dataframe\">\n",
       "  <thead>\n",
       "    <tr style=\"text-align: right;\">\n",
       "      <th></th>\n",
       "      <th>Syn</th>\n",
       "      <th>NonSyn</th>\n",
       "      <th>ToStop</th>\n",
       "      <th>FromStop</th>\n",
       "      <th>DnDs</th>\n",
       "    </tr>\n",
       "    <tr>\n",
       "      <th>GenName</th>\n",
       "      <th></th>\n",
       "      <th></th>\n",
       "      <th></th>\n",
       "      <th></th>\n",
       "      <th></th>\n",
       "    </tr>\n",
       "  </thead>\n",
       "  <tbody>\n",
       "    <tr>\n",
       "      <th>ORF1ab</th>\n",
       "      <td>165591</td>\n",
       "      <td>204012</td>\n",
       "      <td>40</td>\n",
       "      <td>40</td>\n",
       "      <td>1.232023</td>\n",
       "    </tr>\n",
       "    <tr>\n",
       "      <th>S</th>\n",
       "      <td>28258</td>\n",
       "      <td>46002</td>\n",
       "      <td>16</td>\n",
       "      <td>17</td>\n",
       "      <td>1.627928</td>\n",
       "    </tr>\n",
       "    <tr>\n",
       "      <th>E</th>\n",
       "      <td>1530</td>\n",
       "      <td>2377</td>\n",
       "      <td>0</td>\n",
       "      <td>0</td>\n",
       "      <td>1.553595</td>\n",
       "    </tr>\n",
       "    <tr>\n",
       "      <th>M</th>\n",
       "      <td>10075</td>\n",
       "      <td>5007</td>\n",
       "      <td>0</td>\n",
       "      <td>0</td>\n",
       "      <td>0.496973</td>\n",
       "    </tr>\n",
       "    <tr>\n",
       "      <th>N</th>\n",
       "      <td>17044</td>\n",
       "      <td>30032</td>\n",
       "      <td>4</td>\n",
       "      <td>4</td>\n",
       "      <td>1.762028</td>\n",
       "    </tr>\n",
       "    <tr>\n",
       "      <th>ORF10</th>\n",
       "      <td>1050</td>\n",
       "      <td>2224</td>\n",
       "      <td>88</td>\n",
       "      <td>87</td>\n",
       "      <td>2.118095</td>\n",
       "    </tr>\n",
       "    <tr>\n",
       "      <th>ORF3a</th>\n",
       "      <td>8068</td>\n",
       "      <td>26621</td>\n",
       "      <td>73</td>\n",
       "      <td>60</td>\n",
       "      <td>3.299579</td>\n",
       "    </tr>\n",
       "    <tr>\n",
       "      <th>ORF6</th>\n",
       "      <td>1979</td>\n",
       "      <td>2242</td>\n",
       "      <td>70</td>\n",
       "      <td>65</td>\n",
       "      <td>1.132895</td>\n",
       "    </tr>\n",
       "    <tr>\n",
       "      <th>ORF7a</th>\n",
       "      <td>3412</td>\n",
       "      <td>7006</td>\n",
       "      <td>250</td>\n",
       "      <td>225</td>\n",
       "      <td>2.053341</td>\n",
       "    </tr>\n",
       "    <tr>\n",
       "      <th>ORF7b</th>\n",
       "      <td>1046</td>\n",
       "      <td>2283</td>\n",
       "      <td>177</td>\n",
       "      <td>153</td>\n",
       "      <td>2.182600</td>\n",
       "    </tr>\n",
       "    <tr>\n",
       "      <th>ORF8</th>\n",
       "      <td>4119</td>\n",
       "      <td>8875</td>\n",
       "      <td>499</td>\n",
       "      <td>450</td>\n",
       "      <td>2.154649</td>\n",
       "    </tr>\n",
       "  </tbody>\n",
       "</table>\n",
       "</div>"
      ],
      "text/plain": [
       "            Syn  NonSyn  ToStop  FromStop      DnDs\n",
       "GenName                                            \n",
       "ORF1ab   165591  204012      40        40  1.232023\n",
       "S         28258   46002      16        17  1.627928\n",
       "E          1530    2377       0         0  1.553595\n",
       "M         10075    5007       0         0  0.496973\n",
       "N         17044   30032       4         4  1.762028\n",
       "ORF10      1050    2224      88        87  2.118095\n",
       "ORF3a      8068   26621      73        60  3.299579\n",
       "ORF6       1979    2242      70        65  1.132895\n",
       "ORF7a      3412    7006     250       225  2.053341\n",
       "ORF7b      1046    2283     177       153  2.182600\n",
       "ORF8       4119    8875     499       450  2.154649"
      ]
     },
     "execution_count": 21,
     "metadata": {},
     "output_type": "execute_result"
    }
   ],
   "source": [
    "gorder = ['ORF1ab', 'S', 'E', 'M', 'N', 'ORF10', 'ORF3a', 'ORF6', 'ORF7a', 'ORF7b', 'ORF8']\n",
    "mut_types_table.loc[gorder]\n",
    "# mut_types_table.loc[gorder].to_csv('../data/mut_types_table_gisaid.csv')"
   ]
  },
  {
   "cell_type": "code",
   "execution_count": null,
   "id": "offensive-differential",
   "metadata": {},
   "outputs": [],
   "source": []
  },
  {
   "cell_type": "code",
   "execution_count": null,
   "id": "prerequisite-courtesy",
   "metadata": {},
   "outputs": [],
   "source": []
  },
  {
   "cell_type": "markdown",
   "id": "brazilian-science",
   "metadata": {},
   "source": [
    "### Search who jumps to stopcodon and returns"
   ]
  },
  {
   "cell_type": "code",
   "execution_count": 20,
   "id": "vocational-humor",
   "metadata": {
    "ExecuteTime": {
     "end_time": "2021-06-03T20:33:49.999734Z",
     "start_time": "2021-06-03T20:33:49.380325Z"
    }
   },
   "outputs": [],
   "source": [
    "merged_table['IsSym'] = (merged_table.child_aa == merged_table.parent_aa).astype(int)\n",
    "merged_table['IsNonSym'] = (\n",
    "    (merged_table.parent_aa != merged_table.child_aa) & \n",
    "    (merged_table.parent_aa != \"*\") & \n",
    "    (merged_table.child_aa != \"*\") &\n",
    "    (~merged_table.child_aa.isna()) &\n",
    "    (~merged_table.parent_aa.isna())\n",
    ").astype(int)\n",
    "\n",
    "merged_table['IsToStop'] = (\n",
    "    (merged_table.parent_aa != merged_table.child_aa) & \n",
    "    (merged_table.parent_aa != \"*\") & \n",
    "    (merged_table.child_aa == \"*\") & \n",
    "    (~merged_table.child_aa.isna()) &\n",
    "    (~merged_table.parent_aa.isna())\n",
    ").astype('int')\n",
    "\n",
    "merged_table['IsFromStop'] = (\n",
    "    (merged_table.parent_aa != merged_table.child_aa) & \n",
    "    (merged_table.parent_aa == \"*\") & \n",
    "    (merged_table.child_aa != \"*\") & \n",
    "    (~merged_table.child_aa.isna()) &\n",
    "    (~merged_table.parent_aa.isna())\n",
    ").astype(int)"
   ]
  },
  {
   "cell_type": "code",
   "execution_count": 31,
   "id": "understanding-tender",
   "metadata": {
    "ExecuteTime": {
     "end_time": "2021-04-28T12:49:31.925303Z",
     "start_time": "2021-04-28T12:49:27.440271Z"
    }
   },
   "outputs": [],
   "source": [
    "# merged_table.to_csv('../data/full_gisaid_substitutions_annotation.csv', index=None)"
   ]
  },
  {
   "cell_type": "code",
   "execution_count": 23,
   "id": "another-night",
   "metadata": {
    "ExecuteTime": {
     "end_time": "2021-04-28T12:46:34.445565Z",
     "start_time": "2021-04-28T12:46:34.404007Z"
    }
   },
   "outputs": [
    {
     "data": {
      "text/plain": [
       "IsSym         242172\n",
       "IsNonSym      336681\n",
       "IsToStop        1217\n",
       "IsFromStop      1101\n",
       "dtype: int64"
      ]
     },
     "execution_count": 23,
     "metadata": {},
     "output_type": "execute_result"
    }
   ],
   "source": [
    "merged_table[['IsSym', 'IsNonSym', 'IsToStop', 'IsFromStop']].sum()"
   ]
  },
  {
   "cell_type": "code",
   "execution_count": 24,
   "id": "tamil-chart",
   "metadata": {
    "ExecuteTime": {
     "end_time": "2021-04-28T12:46:36.958922Z",
     "start_time": "2021-04-28T12:46:36.947902Z"
    }
   },
   "outputs": [
    {
     "data": {
      "text/plain": [
       "27944    127\n",
       "27869     89\n",
       "29641     77\n",
       "27576     65\n",
       "27971     63\n",
       "        ... \n",
       "27841      2\n",
       "27912      2\n",
       "16266      2\n",
       "28198      1\n",
       "27663      1\n",
       "Name: pos, Length: 88, dtype: int64"
      ]
     },
     "execution_count": 24,
     "metadata": {},
     "output_type": "execute_result"
    }
   ],
   "source": [
    "merged_table[merged_table.IsToStop == 1].pos.value_counts()"
   ]
  },
  {
   "cell_type": "code",
   "execution_count": 25,
   "id": "ordered-advertiser",
   "metadata": {
    "ExecuteTime": {
     "end_time": "2021-04-28T12:46:39.634024Z",
     "start_time": "2021-04-28T12:46:39.622369Z"
    }
   },
   "outputs": [
    {
     "data": {
      "text/plain": [
       "27944    122\n",
       "27869     78\n",
       "29641     75\n",
       "27576     64\n",
       "27971     62\n",
       "        ... \n",
       "27841      2\n",
       "27912      2\n",
       "5408       2\n",
       "16266      2\n",
       "25381      1\n",
       "Name: pos, Length: 87, dtype: int64"
      ]
     },
     "execution_count": 25,
     "metadata": {},
     "output_type": "execute_result"
    }
   ],
   "source": [
    "merged_table[merged_table.IsFromStop == 1].pos.value_counts()"
   ]
  },
  {
   "cell_type": "code",
   "execution_count": null,
   "id": "expressed-infrastructure",
   "metadata": {},
   "outputs": [],
   "source": []
  },
  {
   "cell_type": "code",
   "execution_count": 31,
   "id": "demographic-business",
   "metadata": {
    "ExecuteTime": {
     "end_time": "2021-04-27T21:54:00.633776Z",
     "start_time": "2021-04-27T21:54:00.622293Z"
    }
   },
   "outputs": [
    {
     "data": {
      "text/plain": [
       "False    640\n",
       "True     461\n",
       "Name: child_node, dtype: int64"
      ]
     },
     "execution_count": 31,
     "metadata": {},
     "output_type": "execute_result"
    }
   ],
   "source": [
    "# Number of IsFromStop in leaves\n",
    "merged_table[merged_table.IsFromStop == 1].child_node.str.startswith('#').value_counts()"
   ]
  },
  {
   "cell_type": "code",
   "execution_count": 32,
   "id": "remarkable-melissa",
   "metadata": {
    "ExecuteTime": {
     "end_time": "2021-04-27T21:54:02.305440Z",
     "start_time": "2021-04-27T21:54:02.293186Z"
    }
   },
   "outputs": [
    {
     "data": {
      "text/plain": [
       "False    760\n",
       "True     457\n",
       "Name: child_node, dtype: int64"
      ]
     },
     "execution_count": 32,
     "metadata": {},
     "output_type": "execute_result"
    }
   ],
   "source": [
    "# Number of IsToStop in leaves\n",
    "merged_table[merged_table.IsToStop == 1].child_node.str.startswith('#').value_counts()"
   ]
  },
  {
   "cell_type": "code",
   "execution_count": null,
   "id": "effective-ultimate",
   "metadata": {},
   "outputs": [],
   "source": []
  },
  {
   "cell_type": "code",
   "execution_count": null,
   "id": "jewish-discharge",
   "metadata": {},
   "outputs": [],
   "source": []
  },
  {
   "cell_type": "markdown",
   "id": "small-patch",
   "metadata": {},
   "source": [
    "#### Nodes to visualizate on tree stop-codon jumping"
   ]
  },
  {
   "cell_type": "code",
   "execution_count": 42,
   "id": "level-edinburgh",
   "metadata": {
    "ExecuteTime": {
     "end_time": "2021-04-27T19:25:48.277682Z",
     "start_time": "2021-04-27T19:25:48.253413Z"
    },
    "collapsed": true
   },
   "outputs": [
    {
     "name": "stdout",
     "output_type": "stream",
     "text": [
      "(1217, 2)\n",
      "2248\n",
      "#6062#,#44546#,hCoV-19/Beijing/DT-travelUK02/2020|EPI_ISL_452335|2020-03-16,#16742#,hCoV-19/England/ALDP-AA33C0/2020|EPI_ISL_624983|2020-10-22,#36598#,hCoV-19/England/CAMC-9C1C77/2020|EPI_ISL_572714|2020-09-10,hCoV-19/England/ALDP-B84591/2020|EPI_ISL_675168|2020-11-14,#50222#,#35346#,#15379#,hCoV-19/England/ALDP-A6E1E5/2020|EPI_ISL_607811|2020-10-15,hCoV-19/USA/WA-S2960/2020|EPI_ISL_806890|2020-09-04,#9112#,#1644#,hCoV-19/USA/CA-CHLA-PLM29469835/2020|EPI_ISL_753555|2020-11-30,#36347#,#36341#,#41622#,#47009#,hCoV-19/Australia/VIC10124/2020|EPI_ISL_562172|2020-08-29,#15423#,#48264#,#2511#,#10282#,#12894#,#6859#,#576#,#11702#,#9038#,#49610#,#30433#,#9018#,hCoV-19/Hungary/UD-7364/2020|EPI_ISL_477012|2020-04-08,#2267#,hCoV-19/England/QEUH-9B9F88/2020|EPI_ISL_572727|2020-09-07,#52578#,hCoV-19/Denmark/DCGC-10778/2020|EPI_ISL_669544|2020-11-02,hCoV-19/Scotland/QEUH-9F705E/2020|EPI_ISL_595656|2020-09-27,#17854#,#37563#,#1890#,#9896#,#21975#,#33915#,#48099#,hCoV-19/England/ALDP-68E0E6/2020|EPI_ISL_558200|2020-07-02,hCoV-19/Spain/CT-HUVH-86270/2020|EPI_ISL_825327|2020-11-27,#38233#,#39664#,#6822#,hCoV-19/England/CAMC-B07068/2020|EPI_ISL_643776|2020-10-29,#22866#,#6065#,#14500#,hCoV-19/Australia/SAP558/2020|EPI_ISL_654801|2020-11-16,#49914#,#45216#,#11146#,#4545#,#54117#,#33149#,#33934#,#18565#,#44184#,#41028#,#42865#,hCoV-19/England/205140697/2020|EPI_ISL_766229|2020-12-16,#44085#,#17034#,#20431#,#54018#,#49441#,hCoV-19/England/ALDP-B757AC/2020|EPI_ISL_740923|2020-11-12,hCoV-19/England/MILK-B3A6F1/2020|EPI_ISL_704872|2020-11-01,#9496#,hCoV-19/England/NOTT-113115/2020|EPI_ISL_540702|2020-09-10,#27205#,hCoV-19/Denmark/DCGC-24489/2020|EPI_ISL_795215|2020-12-28,#27482#,#1850#,#44224#,#30355#,hCoV-19/England/ALDP-CE232D/2020|EPI_ISL_800481|2020-12-27,#22706#,#36867#,#41133#,hCoV-19/England/QEUH-AE1E3E/2020|EPI_ISL_633628|2020-10-27,#5785#,#5550#,#32084#,hCoV-19/USA/WA-S2340/2020|EPI_ISL_496972|2020-06-10,hCoV-19/England/OXON-AEEDD/2020|EPI_ISL_448793|2020-04-08,hCoV-19/Denmark/DCGC-2632/2020|EPI_ISL_616511|2020-08-17,#16944#,#22696#,#3032#,hCoV-19/England/MILK-4C40D7/2020|EPI_ISL_559174|2020-06-06,hCoV-19/England/MILK-B8E00F/2020|EPI_ISL_674602|2020-11-13,#5999#,#41755#,#22471#,hCoV-19/Netherlands/NH-EMC-67/2020|EPI_ISL_577863|2020-09-11,#33278#,hCoV-19/England/ALDP-DA022D/2020|EPI_ISL_796922|2020-12-30,hCoV-19/England/QEUH-9DDBD5/2020|EPI_ISL_599751|2020-09-21,#29995#,#20437#,hCoV-19/USA/WA-S2107/2020|EPI_ISL_497535|2020-06-07,hCoV-19/France/PAC-MEPHI-1666/2020|EPI_ISL_644394|2020-09-15,hCoV-19/Mexico/CMX-INER-0213/2020|EPI_ISL_837603|2020-08-24,hCoV-19/Luxembourg/LNS5490337/2020|EPI_ISL_744240|2020-11-07,#12404#,#21143#,#9387#,#23662#,hCoV-19/England/BRIS-12CF2E/2020|EPI_ISL_481914|2020-04-24,#20006#,#14120#,#29001#,#42189#,hCoV-19/Netherlands/NB-EMC-484/2020|EPI_ISL_763143|2020-08-07,#39439#,#50259#,#37844#,hCoV-19/Denmark/DCGC-28984/2021|EPI_ISL_844973|2021-01-04,#22300#,hCoV-19/Spain/AR-IBV-98008013/2020|EPI_ISL_654422|2020-09-30,#51555#,hCoV-19/Switzerland/BS-42222240/2020|EPI_ISL_581682|2020-04-06,#33208#,hCoV-19/USA/WA-UW-10883/2020|EPI_ISL_776663|2020-06-14,#37465#,#13795#,#32244#,hCoV-19/Wales/PHWC-48DB42/2020|EPI_ISL_680730|2020-11-01,hCoV-19/USA/NY-NYCPHL-000981/2020|EPI_ISL_633008|2020-10-07,#7757#,#16940#,#11499#,hCoV-19/England/ALDP-A93624/2020|EPI_ISL_611090|2020-10-20,hCoV-19/England/QEUH-B9EA68/2020|EPI_ISL_719900|2020-11-18,hCoV-19/England/MILK-BAFB16/2020|EPI_ISL_783124|2020-11-17,#53897#,#30813#,#4420#,#40608#,hCoV-19/Denmark/DCGC-16309/2020|EPI_ISL_714271|2020-11-16,#22894#,#32077#,#50234#,#46792#,#5808#,#28017#,#17033#,hCoV-19/Jordan/AM-ALSR-5016/2020|EPI_ISL_730289|2020-10-05,#52976#,hCoV-19/USA/WA-S2092/2020|EPI_ISL_497520|2020-06-05,#45421#,hCoV-19/England/ALDP-6901C0/2020|EPI_ISL_558043|2020-07-02,#15831#,#26959#,#8835#,hCoV-19/India/GJ-GBRC-364b/2020|EPI_ISL_524717|2020-06-18,hCoV-19/USA/PA-MGEL-00445/2020|EPI_ISL_681933|2020-07-25,hCoV-19/USA/WA-S2209/2020|EPI_ISL_497637|2020-06-08,hCoV-19/England/CAMC-B0A51B/2020|EPI_ISL_673140|2020-10-30,hCoV-19/Australia/NSW2979/2020|EPI_ISL_707901|2020-10-27,#33184#,#54367#,#15857#,hCoV-19/Netherlands/Utrecht_31/2020|EPI_ISL_461229|2020-04-23,hCoV-19/England/MILK-9A83BD/2020|EPI_ISL_550181|2020-09-02,#30045#,#20935#,#14184#,#15839#,#44030#,#32479#,#30262#,#53795#,#24099#,#403#,#20242#,#52571#,#4530#,hCoV-19/England/ALDP-AA57E0/2020|EPI_ISL_625184|2020-10-22,#36122#,#9150#,#31145#,hCoV-19/USA/WA-S977/2020|EPI_ISL_463467|2020-05-01,#54386#,#35928#,#5270#,#1545#,hCoV-19/Denmark/DCGC-15898/2020|EPI_ISL_713271|2020-11-23,#10702#,#18320#,hCoV-19/England/LIVE-99998/2020|EPI_ISL_439780|2020-04-09,#21851#,#27236#,#40010#,hCoV-19/Denmark/DCGC-24333/2020|EPI_ISL_795213|2020-12-28,hCoV-19/Japan/IC-0059/2020|EPI_ISL_591401|2020-06,hCoV-19/Netherlands/NB-RIVM-20530/2020|EPI_ISL_728745|2020-12-02,hCoV-19/Netherlands/ZH-EMC-451/2020|EPI_ISL_523789|2020-08-12,#46470#,#14943#,#30460#,hCoV-19/England/MILK-BDC0D5/2020|EPI_ISL_709619|2020-11-26,hCoV-19/England/MILK-BA9EF5/2020|EPI_ISL_681354|2020-11-18,#36673#,#51387#,#24670#,#19076#,#31446#,hCoV-19/USA/WA-UW-1948/2020|EPI_ISL_424301|2020-03-24,#8734#,hCoV-19/USA/TX-HMH-3150/2020|EPI_ISL_544028|2020-06-10,hCoV-19/USA/WA-S1183/2020|EPI_ISL_463673|2020-05-05,#2865#,hCoV-19/Germany/HE-Cento-36174529/2020|EPI_ISL_815260|2020-07-15,#5029#,hCoV-19/England/QEUH-A0AEB7/2020|EPI_ISL_599340|2020-10-03,#11943#,#46655#,#1193#,#26844#,#25612#,hCoV-19/Wales/PHWC-483F13/2020|EPI_ISL_627086|2020-10-24,#1650#,hCoV-19/USA/WA-S771/2020|EPI_ISL_449941|2020-04-13,#1854#,hCoV-19/USA/UT-UPHL-2009650/2020|EPI_ISL_605325|2020-07-27,hCoV-19/England/CAMB-1AE7A4/2020|EPI_ISL_524577|2020-04-30,hCoV-19/England/BIRM-6527C/2020|EPI_ISL_594543|2020-09-29,#47665#,hCoV-19/England/QEUH-B7F3DB/2020|EPI_ISL_661666|2020-11-14,#50816#,hCoV-19/Scotland/CVR2213/2020|EPI_ISL_477874|2020-04-11,#34284#,#30669#,#16436#,#24224#,#21620#,#1189#,#9445#,#22927#,#780#,#18634#,hCoV-19/England/MILK-A47DDF/2020|EPI_ISL_598284|2020-10-05,#16769#,hCoV-19/Argentina/INEI095845/2020|EPI_ISL_849364|2020-10-22,hCoV-19/Netherlands/ZH-EMC-709/2020|EPI_ISL_632389|2020-09-29,hCoV-19/USA/TX-HMH-MCoV-11704/2020|EPI_ISL_789940|2020-09-13,hCoV-19/England/BRIS-12D242/2020|EPI_ISL_481893|2020-05-04,#11291#,#30074#,#21114#,#5287#,hCoV-19/USA/LA-EVTL674/2020|EPI_ISL_653366|2020-07-13,#33322#,#48400#,hCoV-19/Switzerland/BL-42473987/2020|EPI_ISL_830747|2020-10-07,#24456#,hCoV-19/England/CAMC-B34141/2020|EPI_ISL_659429|2020-11-05,#45699#,#17262#,#28648#,#33721#,hCoV-19/England/CAMC-B51472/2020|EPI_ISL_657983|2020-11-08,hCoV-19/Denmark/DCGC-29694/2020|EPI_ISL_843741|2020-12-28,hCoV-19/Wales/PHWC-483E34/2020|EPI_ISL_627088|2020-10-17,#11860#,#43877#,hCoV-19/Denmark/DCGC-12949/2020|EPI_ISL_712250|2020-12-07,hCoV-19/England/QEUH-B9E813/2020|EPI_ISL_719909|2020-11-18,#40844#,#49482#,#30884#,#39448#,#31817#,#23783#,#5136#,#33488#,#9257#,#21725#,#28065#,#34597#,#8217#,#43226#,#34408#,#35015#,#2228#,hCoV-19/USA/CA-ALSR-3380/2020|EPI_ISL_635991|2020-05-29,#15463#,#54418#,#4614#,hCoV-19/USA/CA-CZB-3764/2020|EPI_ISL_548480|2020-04-14,#47237#,hCoV-19/Denmark/DCGC-4135/2020|EPI_ISL_621955|2020-09-21,hCoV-19/England/ALDP-BBA8A8/2020|EPI_ISL_701814|2020-11-20,hCoV-19/Netherlands/NH-RIVM-21095/2020|EPI_ISL_823990|2020-12-31,hCoV-19/England/CAMC-B3673E/2020|EPI_ISL_645358|2020-11-05,#22954#,#43179#,hCoV-19/USA/WA-S1346/2020|EPI_ISL_495796|2020-05-13,#31316#,#34495#,#50178#,hCoV-19/Spain/IB-IBV-99011561/2020|EPI_ISL_779869|2020-12-14,hCoV-19/England/QEUH-A8A839/2020|EPI_ISL_638850|2020-10-16,#17691#,hCoV-19/Belgium/rega-10151117/2020|EPI_ISL_734495|2020-10-15,#40022#,#5996#,#38966#,#27855#,#25843#,hCoV-19/Japan/PG-2253/2020|EPI_ISL_685858|2020-04,#50136#,hCoV-19/England/NORW-220B8F/2020|EPI_ISL_741490|2020-12-16,#7340#,#7675#,#25923#,#42086#,#39101#,#21593#,hCoV-19/Bangladesh/BCSIR-NILMRC-307/2020|EPI_ISL_498787|2020-07-18,#47497#,#4613#,hCoV-19/USA/TX-HMH-5815/2020|EPI_ISL_547037|2020-06-19,#15634#,hCoV-19/England/MILK-9704BB/2020|EPI_ISL_553009|2020-08-18,#16741#,#18279#,#26566#,#10641#,#38477#,#31459#,#6122#,hCoV-19/Hungary/US-32505w/2020|EPI_ISL_677749|2020-09-02,#34634#,hCoV-19/Russia/SPE-RII-30769S/2020|EPI_ISL_596228|2020-08-20,#22466#,#9499#,#25524#,#9497#,#53597#,#3785#,#16553#,#3949#,#11358#,#10766#,hCoV-19/USA/WA-UW-49302/2020|EPI_ISL_837511|2020-12-21,#20681#,#7193#,#4494#,#22242#,#6496#,hCoV-19/England/ALDP-925813/2020|EPI_ISL_552843|2020-06-23,#19806#,#22520#,hCoV-19/England/BRIS-12B3BA/2020|EPI_ISL_487545|2020-05-01,#39763#,#3387#,hCoV-19/Latvia/162/2020|EPI_ISL_639659|2020-08-26,hCoV-19/England/QEUH-9FA7CF/2020|EPI_ISL_588251|2020-09-28,#22568#,#10422#,hCoV-19/Sweden/20-53093/2020|EPI_ISL_676495|2020-07-10,hCoV-19/Finland/22ES13AD6/2020|EPI_ISL_757383|2020-08-22,hCoV-19/England/QEUH-AAE3E3/2020|EPI_ISL_741774|2020-10-20,hCoV-19/England/ALDP-A962C3/2020|EPI_ISL_624821|2020-10-19,#15126#,hCoV-19/Denmark/DCGC-24712/2020|EPI_ISL_795226|2020-12-28,#54153#,hCoV-19/Netherlands/Gelderland_48/2020|EPI_ISL_460948|2020-03-26,#18249#,#48#,#40634#,hCoV-19/England/QEUH-9D1B3B/2020|EPI_ISL_572725|2020-09-14,#30384#,#33260#,#10994#,#45422#,#16458#,#37248#,#16723#,#16745#,#17185#,#54532#,#45591#,#44283#,#7563#,#50683#,#46409#,hCoV-19/England/QEUH-AAB44D/2020|EPI_ISL_651104|2020-10-21,#34412#,#3774#,hCoV-19/England/BRIS-12D5A3/2020|EPI_ISL_481870|2020-05-05,#17928#,#34143#,#50645#,#1839#,#27604#,#3116#,#7741#,hCoV-19/Denmark/DCGC-26657/2020|EPI_ISL_817336|2020-12-28,#23314#,hCoV-19/Denmark/DCGC-19063/2020|EPI_ISL_748324|2020-12-07,hCoV-19/England/ALDP-92992B/2020|EPI_ISL_552807|2020-06-22,#36287#,#37932#,hCoV-19/USA/WA-S2815/2020|EPI_ISL_574657|2020-09-05,hCoV-19/England/MILK-ABB2C8/2020|EPI_ISL_623493|2020-10-22,hCoV-19/England/ALDP-A2FB00/2020|EPI_ISL_586938|2020-10-05,hCoV-19/Japan/PG-5865/2020|EPI_ISL_688613|2020-08,#23307#,hCoV-19/USA/TX-HMH-MCoV-8145/2020|EPI_ISL_783570|2020-06-30,hCoV-19/USA/MI-UM-2006S000881/2020|EPI_ISL_484731|2020-03-28,hCoV-19/England/ALDP-E3514D/2021|EPI_ISL_821221|2021-01-02,hCoV-19/England/ALDP-95656D/2020|EPI_ISL_554027|2020-06-08,hCoV-19/England/MILK-EC04B7/2021|EPI_ISL_836021|2021-01-03,#19859#,#38239#,#2321#,hCoV-19/USA/PA-MGSC36-05/2020|EPI_ISL_436485|2020-03-27,hCoV-19/England/MILK-99A187/2020|EPI_ISL_550341|2020-08-30,#28580#,#21977#,hCoV-19/England/ALDP-E30388/2021|EPI_ISL_821209|2021-01-02,hCoV-19/Mexico/CMX-INER-0205/2020|EPI_ISL_843192|2020-08-13,#53197#,#9151#,hCoV-19/Denmark/DCGC-15265/2020|EPI_ISL_713294|2020-11-23,hCoV-19/Netherlands/UT-EMC-151/2020|EPI_ISL_722371|2020-11-15,hCoV-19/Denmark/DCGC-3582/2020|EPI_ISL_615910|2020-07-27,#44666#,hCoV-19/England/MILK-B8E55B/2020|EPI_ISL_673972|2020-11-13,#33748#,#8129#,#41943#,#26406#,#15408#,#52185#,hCoV-19/England/ALDP-A6E288/2020|EPI_ISL_607136|2020-10-15,#10910#,#39256#,hCoV-19/Netherlands/UT-RIVM-21343/2020|EPI_ISL_823993|2020-12-12,#40361#,#30596#,hCoV-19/USA/MD-MDH-0104/2020|EPI_ISL_522839|2020-05-27,hCoV-19/Bangladesh/BCSIR-NILMRC-322/2020|EPI_ISL_498790|2020-05-31,hCoV-19/Netherlands/UT-RIVM-10064/2020|EPI_ISL_547519|2020-04-08,#36273#,#43362#,#9535#,#53202#,#33894#,#44075#,hCoV-19/England/SHEF-10C5DEF/2020|EPI_ISL_727866|2020-12-10,hCoV-19/Netherlands/NoordHolland_10002/2020|EPI_ISL_454751|2020-02-28,#14383#,#9538#,#38642#,#27377#,#17971#,hCoV-19/Denmark/DCGC-15900/2020|EPI_ISL_713272|2020-11-23,#35441#,#43176#,#1544#,hCoV-19/England/MILK-957283/2020|EPI_ISL_554143|2020-06-13,#25837#,#33261#,#16950#,hCoV-19/Latvia/137/2020|EPI_ISL_639634|2020-09-04,#49838#,hCoV-19/England/QEUH-9C834E/2020|EPI_ISL_567182|2020-09-10,hCoV-19/India/GJ-GBRC-397b/2020|EPI_ISL_525422|2020-06-25,#43949#,#41290#,#23496#,#28937#,#18858#,#27542#,#8748#,#20836#,#48174#,#27290#,#34786#,#36699#,#36799#,#14336#,#12379#,hCoV-19/Denmark/DCGC-23298/2020|EPI_ISL_793218|2020-12-21,#51686#,#40993#,#25978#,#46056#,hCoV-19/England/QEUH-9F5B40/2020|EPI_ISL_588435|2020-09-25,#48009#,hCoV-19/England/CAMC-B348C4/2020|EPI_ISL_659498|2020-11-05,#33939#,hCoV-19/England/OXON-B3628/2020|EPI_ISL_534874|2020-04-06,#16946#,#7916#,hCoV-19/England/QEUH-998918/2020|EPI_ISL_540104|2020-08-24,#44287#,#7385#,#23316#,#11847#,hCoV-19/Spain/AN-IBV-98001687/2020|EPI_ISL_538127|2020-04-12,hCoV-19/India/WB-IICB-013/2020|EPI_ISL_578181|2020-09-10,#44408#,#20235#,#44083#,hCoV-19/Luxembourg/LNS0601879/2020|EPI_ISL_739804|2020-10-21,#17206#,hCoV-19/Canada/AB-25842/2020|EPI_ISL_805866|2020-04-11,hCoV-19/Netherlands/ZH-EMC-1193/2020|EPI_ISL_763266|2020-12-21,#25300#,#38341#,hCoV-19/Australia/VIC5347/2020|EPI_ISL_520110|2020-07-17,#39144#,#45925#,#9501#,#40300#,hCoV-19/England/MILK-999F51/2020|EPI_ISL_550280|2020-08-29,#22604#,hCoV-19/England/CAMC-C984AB/2020|EPI_ISL_777581|2020-12-18,hCoV-19/USA/MA-MGH-03345/2020|EPI_ISL_765795|2020-11-05,#25476#,hCoV-19/Latvia/133/2020|EPI_ISL_534223|2020-08-26,#47042#,#9292#,#50793#,#14849#,#42032#,#48190#,#7546#,#28429#,#30079#,#27609#,#29530#,hCoV-19/Switzerland/GE-32860303/2021|EPI_ISL_860241|2021-01-03,#27792#,#29672#,#49682#,hCoV-19/Netherlands/GE-RIVM-20680/2020|EPI_ISL_790577|2020-12-17,#21646#,#41556#,hCoV-19/Netherlands/NB-RIVM-20670/2020|EPI_ISL_790576|2020-12-18,hCoV-19/Japan/PG-3438/2020|EPI_ISL_690616|2020-06,#24524#,#29815#,#48248#,hCoV-19/England/ALDP-C3B1A3/2020|EPI_ISL_730741|2020-12-09,#11150#,#32927#,#26296#,hCoV-19/England/QEUH-AD0667/2020|EPI_ISL_629868|2020-10-23,#16469#,hCoV-19/Argentina/PAIS-E0100/2020|EPI_ISL_792522|2020-12-14,hCoV-19/USA/NY-NYCPHL-001503/2020|EPI_ISL_745409|2020-11-30,#35571#,#46023#,hCoV-19/Germany/BY-MVP-0009/2020|EPI_ISL_437210|2020-03-07,#13221#,#20258#,hCoV-19/Wales/PHWC-483F40/2020|EPI_ISL_627089|2020-10-17,hCoV-19/USA/NY-MSHSPSP-PV19038/2020|EPI_ISL_801942|2020-09-25,hCoV-19/England/QEUH-AAE3F2/2020|EPI_ISL_741775|2020-10-20,hCoV-19/England/ALDP-CB4597/2020|EPI_ISL_760897|2020-12-19,#24734#,hCoV-19/Australia/VIC17309/2020|EPI_ISL_663440|2020-07-21,#14992#,hCoV-19/Wales/PHWC-48E8E0/2020|EPI_ISL_680929|2020-11-13,hCoV-19/England/ALDP-94DDCB/2020|EPI_ISL_555579|2020-06-20,#8117#,#48417#,hCoV-19/Denmark/DCGC-12979/2020|EPI_ISL_712251|2020-12-07,#12857#,hCoV-19/England/LIVE-DC19C7/2020|EPI_ISL_704905|2020-11-19,hCoV-19/England/MILK-9A6935/2020|EPI_ISL_550103|2020-09-01,#29131#,#6941#,hCoV-19/USA/WA-S2954/2020|EPI_ISL_806884|2020-09-03,hCoV-19/Scotland/EDB5629/2020|EPI_ISL_487822|2020-03-24,#13768#,#43499#,hCoV-19/England/QEUH-C92E76/2020|EPI_ISL_762150|2020-12-17,hCoV-19/England/CAMC-AB18DF/2020|EPI_ISL_623658|2020-10-23,hCoV-19/England/ALDP-9229AA/2020|EPI_ISL_551451|2020-06-23,hCoV-19/England/ALDP-BB3D28/2020|EPI_ISL_701835|2020-11-20,#17855#,#51623#,#12124#,#7382#,hCoV-19/England/OXON-B4DE6/2020|EPI_ISL_535017|2020-05-03,hCoV-19/Italy/APU-IZSPB_287PT/2020|EPI_ISL_653779|2020-11-02,hCoV-19/England/20189157501/2020|EPI_ISL_465558|2020-05-02,hCoV-19/Malaysia/2813/2020|EPI_ISL_501197|2020-03-28,hCoV-19/France/BRE-5374/2020|EPI_ISL_443274|2020-03-25,#45149#,#20382#,#17338#,#31443#,#6077#,hCoV-19/Denmark/DCGC-14983/2020|EPI_ISL_713274|2020-11-23,#1529#,hCoV-19/Denmark/DCGC-2148/2020|EPI_ISL_617446|2020-08-10,#44114#,#44877#,#13914#,hCoV-19/England/CAMC-B21068/2020|EPI_ISL_647382|2020-11-02,hCoV-19/England/CAMC-B22DBB/2020|EPI_ISL_647299|2020-11-02,hCoV-19/England/ALDP-C3B273/2020|EPI_ISL_731592|2020-12-09,#32049#,#46977#,#21292#,#8949#,#21295#,#9394#,hCoV-19/India/GJ-GBRC290b/2020|EPI_ISL_495028|2020-06-15,#9357#,#18344#,#7218#,hCoV-19/Taiwan/TSGH-26/2020|EPI_ISL_447252|2020-02-25,#47390#,#44788#,#43741#,hCoV-19/Hungary/US-31848w/2020|EPI_ISL_677736|2020-08-31,#8541#,#32314#,hCoV-19/Denmark/DCGC-21599/2020|EPI_ISL_757910|2020-12-21,#3359#,hCoV-19/USA/WA-UW-48210/2020|EPI_ISL_824866|2020-12-20,#12859#,hCoV-19/Japan/PG-8508/2020|EPI_ISL_687607|2020-09,#36059#,hCoV-19/USA/WI-WSLH-201301/2020|EPI_ISL_803528|2020-09-17,#33938#,#16672#,#48762#,hCoV-19/England/QEUH-7A4BBB/2020|EPI_ISL_533060|2020-07-14,#11946#,hCoV-19/England/MILK-AB7D16/2020|EPI_ISL_623669|2020-10-21,#20828#,#7765#,hCoV-19/England/ALDP-6D56DF/2020|EPI_ISL_556099|2020-07-02,hCoV-19/USA/GA-EHC-430P/2021|EPI_ISL_845776|2021-01-07,hCoV-19/England/MILK-97678F/2020|EPI_ISL_552781|2020-08-21,hCoV-19/England/MILK-A18D22/2020|EPI_ISL_611969|2020-10-01,#6827#,#34100#,#3736#,hCoV-19/Bolivia/26937/2020|EPI_ISL_837554|2020-08-03,hCoV-19/Scotland/QEUH-960445/2020|EPI_ISL_531877|2020-08-06,#31436#,#30857#,#44802#,hCoV-19/USA/WA-S2540/2020|EPI_ISL_497172|2020-06-17,hCoV-19/Denmark/DCGC-23639/2020|EPI_ISL_793202|2020-12-21,#23949#,#23238#,#40000#,#30455#,#42781#,hCoV-19/England/MILK-ACC8FF/2020|EPI_ISL_629158|2020-10-21,#52820#,hCoV-19/USA/CA-CZB-1570/2020|EPI_ISL_468503|2020-04-07,#26794#,hCoV-19/Denmark/DCGC-28890/2021|EPI_ISL_844795|2021-01-04,#14406#,#3215#,#4324#,#29442#,#2829#,hCoV-19/England/MILK-ACC26A/2020|EPI_ISL_629326|2020-10-21,#13119#,hCoV-19/USA/CA-CZB-5745/2020|EPI_ISL_672087|2020-07-14,#27854#,#21860#,#46900#,#52972#,#34509#,#14322#,hCoV-19/USA/CA-ALSR-4664/2020|EPI_ISL_667064|2020-11-11,#2463#,#9352#,hCoV-19/England/MILK-95897E/2020|EPI_ISL_554660|2020-06-15,hCoV-19/Denmark/DCGC-7963/2020|EPI_ISL_616954|2020-10-26,#27421#,#19976#,hCoV-19/Netherlands/NA_31/2020|EPI_ISL_415488|2020-03-13,#122#,#21914#,#18433#,#49477#,#24476#,hCoV-19/England/QEUH-E4CE5B/2021|EPI_ISL_811257|2021-01-04,#47396#,#42403#,#33432#,#44474#,#19300#,hCoV-19/France/PAC-IHU-1488/2020|EPI_ISL_569179|2020-08-11,#11723#,#28003#,hCoV-19/USA/TX-HMH-MCoV-10834/2020|EPI_ISL_789196|2020-07-05,hCoV-19/Japan/IC-0276/2020|EPI_ISL_667705|2020-11,#11889#,hCoV-19/England/CAMC-DED4D3/2020|EPI_ISL_797439|2020-12-29,hCoV-19/USA/WA-S2560/2020|EPI_ISL_497192|2020-06-17,#30588#,hCoV-19/USA/CA-ALSR-2635/2020|EPI_ISL_635601|2020-07-11,#17534#,#8491#,hCoV-19/Spain/IB-IBV-99010774/2020|EPI_ISL_691667|2020-09-30,#3451#,#50832#,hCoV-19/Latvia/148/2020|EPI_ISL_639645|2020-09-11,#26665#,#13796#,hCoV-19/Pakistan/JRCGR-KHI32/2020|EPI_ISL_779280|2020-06-14,hCoV-19/Iceland/374/2020|EPI_ISL_424398|2020-03-19,#49424#,#29805#,#18135#,#16984#,#54198#,hCoV-19/England/ALDP-B8509F/2020|EPI_ISL_675924|2020-11-14,hCoV-19/Denmark/DCGC-23282/2020|EPI_ISL_793203|2020-12-21,#45499#,#22743#,#38332#,#50356#,hCoV-19/England/CAMC-B07AA6/2020|EPI_ISL_643534|2020-10-29,#51462#,#36754#,#39291#,#54023#,#52268#,#42321#,#38251#,hCoV-19/England/MILK-BAAC18/2020|EPI_ISL_681397|2020-11-18,#40068#,hCoV-19/Luxembourg/LNS2222126/2020|EPI_ISL_740082|2020-10-26,#11804#,#6843#,#22858#,hCoV-19/Portugal/PT1752/2020|EPI_ISL_765212|2020-11-11,#25189#,#39427#,#7968#,hCoV-19/USA/CA-CSMC250/2020|EPI_ISL_824555|2020-12-21,#14977#,hCoV-19/England/NORT-291E80/2020|EPI_ISL_489081|2020-05-06,hCoV-19/England/ALDP-C3D675/2020|EPI_ISL_731761|2020-12-10,hCoV-19/Denmark/DCGC-28464/2021|EPI_ISL_844777|2021-01-04,#38641#,#44175#,#36277#,hCoV-19/Spain/AN-ISCIII-201257/2020|EPI_ISL_455314|2020-02-28,#3488#,hCoV-19/England/ALDP-A94025/2020|EPI_ISL_611092|2020-10-19,#7339#,hCoV-19/England/QEUH-9B0D3C/2020|EPI_ISL_559864|2020-09-03,#40153#,#45371#,hCoV-19/England/ALDP-CBDE0C/2020|EPI_ISL_760623|2020-12-19,hCoV-19/England/QEUH-C149E4/2020|EPI_ISL_709443|2020-12-06,#6665#,#26227#,hCoV-19/India/TG-CCMB-OM27/2020|EPI_ISL_644721|2020-09-20,#53433#,#15865#,#7911#,#39932#,#2595#,hCoV-19/Japan/IC-0634/2020|EPI_ISL_803918|2020-11,hCoV-19/Greece/51/2020|EPI_ISL_434468|2020-03-26,#20726#,hCoV-19/Luxembourg/LNS1050653/2020|EPI_ISL_739881|2020-10-26,#25862#,#10812#,hCoV-19/Luxembourg/LNS2510787/2020|EPI_ISL_740133|2020-11-10,hCoV-19/England/MILK-ACD472/2020|EPI_ISL_634314|2020-10-22,hCoV-19/Pakistan/JRCGR-KHI15/2020|EPI_ISL_779275|2020-08-10,#31387#,hCoV-19/Sweden/20-21512/2020|EPI_ISL_582783|2020-08-06,#53838#,#28353#,hCoV-19/USA/MA-JLL-145N/2020|EPI_ISL_632293|2020,#34824#,#53111#,hCoV-19/Canada/AB-25282/2020|EPI_ISL_805000|2020-04-16,#51197#,#34751#,#26176#,#3798#,#18200#,hCoV-19/England/ALDP-952394/2020|EPI_ISL_555581|2020-06-09,#9090#,#45202#,#35803#,hCoV-19/USA/TX-HMH-MCoV-10699/2020|EPI_ISL_789201|2020-07-08,hCoV-19/England/QEUH-9F8E62/2020|EPI_ISL_588818|2020-09-27,#13215#,#25216#,#8532#,hCoV-19/Wales/PHWC-48454D/2020|EPI_ISL_627091|2020-10-19,#21568#,hCoV-19/England/MILK-C2FD80/2020|EPI_ISL_782901|2020-12-07,#53536#,#15317#,hCoV-19/Denmark/DCGC-12963/2020|EPI_ISL_712295|2020-12-07,hCoV-19/USA/CO-CDPHE-2100015982/2020|EPI_ISL_771320|2020-11-20,#51545#,#11536#,#31381#,#5181#,hCoV-19/Netherlands/UT-RIVM-20180/2020|EPI_ISL_723155|2020-11-30,#19860#,#38316#,#23450#,#54457#,#21991#,#40463#,#2320#,#4059#,hCoV-19/England/CAMC-A82558/2020|EPI_ISL_610632|2020-10-12,hCoV-19/Russia/VOR-RII-MH2793S/2020|EPI_ISL_602455|2020-09-28,hCoV-19/England/NORW-F2423/2020|EPI_ISL_627084|2020,hCoV-19/England/MILK-A7B464/2020|EPI_ISL_607371|2020-10-15,#23512#,#54144#,#31688#,hCoV-19/Italy/CAM-IZSM-124821/2020|EPI_ISL_738132|2020-08-30,#45702#,hCoV-19/USA/CA-ALSR-2621/2020|EPI_ISL_635592|2020-07-12,#48640#,hCoV-19/Netherlands/OV-EMC-121/2020|EPI_ISL_763161|2020-11-15,#50711#,#53912#,#33154#,hCoV-19/England/BRIS-1272C0/2020|EPI_ISL_469686|2020-04-23,#2316#,#18126#,#24690#,hCoV-19/Canada/ON-PHL-20-01277/2020|EPI_ISL_548884|2020-06,hCoV-19/Denmark/DCGC-10544/2020|EPI_ISL_669546|2020-11-02,#13121#,hCoV-19/USA/OR-PROV-028/2020|EPI_ISL_482312|2020-03-29,#6545#,hCoV-19/Iceland/4195/2020|EPI_ISL_827889|2020-10-17,#23319#,hCoV-19/USA/CA-ALSR-0492-SAN/2020|EPI_ISL_483177|2020-04-01,#53599#,#45070#,hCoV-19/England/BRIS-12C7EA/2020|EPI_ISL_469492|2020-05-12,#15434#,hCoV-19/Denmark/DCGC-13661/2020|EPI_ISL_712281|2020-11-30,#26327#,#32201#,#13118#,hCoV-19/Germany/HE-Cento-32479386/2020|EPI_ISL_815315|2020-08-12,#35414#,hCoV-19/England/ALDP-CB5D07/2020|EPI_ISL_761141|2020-12-18,#25190#,#23646#,#19699#,hCoV-19/England/QEUH-AABD42/2020|EPI_ISL_651086|2020-10-21,#32303#,#39074#,hCoV-19/Switzerland/GE-32842352/2020|EPI_ISL_847928|2020-12-31,#50658#,#45635#,#26670#,#19659#,hCoV-19/Luxembourg/LNS0181724/2020|EPI_ISL_739731|2020-10-22,#27118#,#1303#,#8620#,#39998#,#16768#,#10623#,hCoV-19/USA/WA-UW-11630/2020|EPI_ISL_570449|2020-06-18,#14192#,#9102#,hCoV-19/Netherlands/NoordBrabant_42/2020|EPI_ISL_415500|2020-03-10,hCoV-19/England/MILK-A916DB/2020|EPI_ISL_704866|2020-10-19,#26532#,hCoV-19/Denmark/DCGC-21275/2020|EPI_ISL_759650|2020-12-21,#34280#,#42829#,#11581#,#54140#,#1848#,hCoV-19/Denmark/DCGC-845/2020|EPI_ISL_614419|2020-04-20,#33710#,hCoV-19/India/GJ-GBRC158/2020|EPI_ISL_461488|2020-05-27,hCoV-19/England/MILK-9D4093/2020|EPI_ISL_601626|2020-09-18,#7289#,hCoV-19/Denmark/DCGC-8018/2020|EPI_ISL_616953|2020-10-26,#5180#,#13391#,#43549#,#17517#,#7241#,#22937#,#20688#,#22928#,#53861#,#53641#,#14733#,#42899#,hCoV-19/USA/TX-HMH-MCoV-18503/2020|EPI_ISL_784851|2020-11-19,#9736#,#42509#,hCoV-19/USA/OR-UW-12762/2020|EPI_ISL_570842|2020-06-27,hCoV-19/USA/FL-BPHL-2017/2020|EPI_ISL_653170|2020-05-29,#16987#,#35158#,#2154#,hCoV-19/Denmark/DCGC-4560/2020|EPI_ISL_621357|2020-09-21,#47309#,#30078#,#29058#,#47964#,hCoV-19/USA/VA-DCLS-0499/2020|EPI_ISL_485816|2020-05-24,hCoV-19/Denmark/DCGC-2309/2020|EPI_ISL_617734|2020-08-10,hCoV-19/USA/AK-PHL676/2020|EPI_ISL_586254|2020-06-29,#16183#,hCoV-19/Denmark/DCGC-2377/2020|EPI_ISL_617557|2020-08-10,#53138#,#40360#,#5373#,#21570#,#9549#,#17038#,#28957#,#48358#,#16765#,#29770#,#17770#,#44567#,#37529#,hCoV-19/Denmark/DCGC-21723/2020|EPI_ISL_757917|2020-12-21,#924#,hCoV-19/England/QEUH-9B4C1D/2020|EPI_ISL_590444|2020-09-03,#44800#,#1600#,#13687#,#10333#,hCoV-19/England/QEUH-9F7355/2020|EPI_ISL_595680|2020-09-27,#35917#,hCoV-19/England/QEUH-A5E27C/2020|EPI_ISL_597516|2020-10-12,#11866#,#54407#,#8737#,#15353#,#53651#,#19281#,#50687#,#32313#,#22889#,#21581#,hCoV-19/Italy/LOM-UniMI01/2020|EPI_ISL_417445|2020-02-24,#18892#,#44830#,hCoV-19/USA/TN-CDC-2-3693580/2020|EPI_ISL_803100|2020-11-25,#28409#,#7035#,#524#,#27381#,#8056#,hCoV-19/England/QEUH-AAC1DC/2020|EPI_ISL_652847|2020-10-21,#20798#,#7337#,#2040#,#2901#,#15070#,hCoV-19/Portugal/PT2163/2020|EPI_ISL_796763|2020-11-10,#50888#,hCoV-19/Spain/VC-FISABIO-170/2020|EPI_ISL_436265|2020-03-20,hCoV-19/Poland/1157821/2020|EPI_ISL_512303|2020-06-09,#2905#,#717#,#15946#,#11610#,#35820#,#40784#,#34622#,hCoV-19/England/ALDP-C3DAF1/2020|EPI_ISL_730950|2020-12-10,hCoV-19/England/BRIS-13090B/2020|EPI_ISL_492539|2020-04-13,#1655#,#17401#,hCoV-19/England/QEUH-A0BC25/2020|EPI_ISL_599461|2020-09-30,#16434#,hCoV-19/India/GJ-GBRC297a/2020|EPI_ISL_495038|2020-06-15,#19756#,hCoV-19/England/QEUH-A9EF1F/2020|EPI_ISL_611323|2020-10-20,#7309#,#15380#,#2537#,hCoV-19/Scotland/QEUH-9AD118/2020|EPI_ISL_560020|2020-09-05,#26569#,#15066#,#767#,hCoV-19/England/QEUH-AD51F8/2020|EPI_ISL_634050|2020-10-26,hCoV-19/USA/WA-S2078/2020|EPI_ISL_497506|2020-06-06,hCoV-19/Denmark/DCGC-9229/2020|EPI_ISL_668606|2020-11-16,#41193#,#22925#,hCoV-19/Germany/BW-UKT-a087/2020|EPI_ISL_723077|2020-04-13,#51093#,#34059#,#47735#,hCoV-19/Germany/SH-ChVir20054/2020|EPI_ISL_729417|2020-11-06,#15405#,#5809#,#18658#,#39837#,#10#,#49958#,hCoV-19/England/QEUH-CCDDB1/2020|EPI_ISL_782156|2020-12-24,#9149#,#11607#,#50492#,hCoV-19/Japan/IC-0147/2020|EPI_ISL_667576|2020-07,#42050#,#1393#,#17361#,#20851#,hCoV-19/USA/WA-S2830/2020|EPI_ISL_574672|2020-09-08,hCoV-19/USA/WA-S1273/2020|EPI_ISL_495723|2020-05-12,#51068#,#44973#,#42416#,#377#,#27622#,#49685#,hCoV-19/India/WB-IK29/2020|EPI_ISL_508359|2020-04-28,#31734#,hCoV-19/USA/WA-S2326/2020|EPI_ISL_496958|2020-06-11,#4612#,hCoV-19/USA/MI-UM-10036806044/2020|EPI_ISL_728394|2020-11-05,hCoV-19/England/ALDP-A67735/2020|EPI_ISL_630373|2020-10-12,#53195#,hCoV-19/Netherlands/ZH-EMC-518/2020|EPI_ISL_577946|2020,#14715#,#13129#,#9375#,#27628#,#21120#,#38908#,#31441#,#38517#,#6527#,#34468#,#39036#,hCoV-19/Denmark/DCGC-27335/2020|EPI_ISL_817360|2020-12-28,#47224#,#54066#,#15409#,#37071#,#54334#,#3743#,#45477#,#34003#,#53236#,#24649#,hCoV-19/Bangladesh/SUST-GEB-Habiganj-4/2020|EPI_ISL_754177|2020-11-25,#31229#,#2544#,#22855#,#48840#,hCoV-19/Latvia/145/2020|EPI_ISL_639642|2020-09-08,hCoV-19/USA/NY-Wadsworth-290724-01/2020|EPI_ISL_767419|2020-12-21,#41598#,#26895#,hCoV-19/Japan/IC-0452/2020|EPI_ISL_768661|2020-12,#27878#,hCoV-19/USA/TX-HMH-1524/2020|EPI_ISL_542773|2020-04-25,hCoV-19/India/WB-IK65/2020|EPI_ISL_508389|2020-05-12,#10701#,hCoV-19/Denmark/DCGC-21433/2020|EPI_ISL_757900|2020-12-21,#21596#,hCoV-19/England/QEUH-A209D8/2020|EPI_ISL_587653|2020-10-01,hCoV-19/USA/MN-MDH-1228/2020|EPI_ISL_482949|2020-05-18,#37942#,hCoV-19/England/ALDP-B7436D/2020|EPI_ISL_662150|2020-11-12,#45386#,#33908#,hCoV-19/England/CAMC-A812E9/2020|EPI_ISL_610900|2020-10-11,#16331#,#523#,#32271#,#13604#,#30551#,#45357#,#39189#,#13277#,#14735#,#27516#,#48401#,#9793#,#33506#,#27573#,#13684#,#2770#,#54062#,#2426#,#16770#,#3318#,#39831#,#17959#,#10283#,#37172#,hCoV-19/Wales/ALDP-CB43BB/2020|EPI_ISL_859417|2020-12-18,hCoV-19/Denmark/DCGC-11189/2020|EPI_ISL_669555|2020-11-02,#39714#,#14018#,#53051#,#22930#,#9737#,#33017#,#5370#,#36295#,#53719#,#12268#,hCoV-19/England/QEUH-9F8E53/2020|EPI_ISL_588928|2020-09-27,hCoV-19/Argentina/INEI099212/2020|EPI_ISL_856757|2020-12-24,hCoV-19/Luxembourg/LNS2156711/2020|EPI_ISL_445074|2020-04-21,#30137#,#41766#,#51741#,hCoV-19/England/QEUH-AAAC28/2020|EPI_ISL_651103|2020-10-21,hCoV-19/Wales/PHWC-484C1B/2020|EPI_ISL_627094|2020-10-17,#22493#,#641#,hCoV-19/Beijing/DT-travelAT01/2020|EPI_ISL_452327|2020-03-13,#7336#,#25592#,#33241#,#11791#,hCoV-19/USA/MD-MDH-0572/2021|EPI_ISL_824954|2021-01-04,#18870#,#31336#,#21645#,hCoV-19/Denmark/DCGC-17670/2020|EPI_ISL_750365|2020-12-14,#26964#,hCoV-19/Denmark/DCGC-15329/2020|EPI_ISL_713286|2020-11-23,#32978#,hCoV-19/Indonesia/JI-ITDua-28257NT/2020|EPI_ISL_759968|2020-10-02,#34619#,#21252#,#26310#,hCoV-19/Netherlands/DR-EMC-6/2020|EPI_ISL_523124|2020-05-29,#1195#,#40154#,hCoV-19/France/IDF-2936/2020|EPI_ISL_420048|2020-03-18,#26874#,hCoV-19/Italy/LOM-UniMI-ICCS1/2020|EPI_ISL_584048|2020-03-21,#20871#,#38241#,#2621#,#48484#,#7341#,#48862#,hCoV-19/USA/TX-HMH-1325/2020|EPI_ISL_542653|2020-04-14,#20010#,hCoV-19/USA/TX-HMH-1443/2020|EPI_ISL_542726|2020-05-02,#7680#,#52022#,#27606#,hCoV-19/England/ALDP-B84BBD/2020|EPI_ISL_675829|2020-11-14,#52634#,hCoV-19/England/ALDP-9B5AF4/2020|EPI_ISL_590277|2020-08-28,#16023#,#46238#,#2795#,hCoV-19/Japan/IC-0678/2021|EPI_ISL_825389|2021-01,#41231#,hCoV-19/India/GJ-GBRC4/2020|EPI_ISL_435051|2020-04-13,#27079#,#9543#,#5133#,hCoV-19/Spain/PV-IBV-98008454/2020|EPI_ISL_654547|2020-10-24,#23702#,hCoV-19/Poland/PL_P32/2020|EPI_ISL_455445|2020-03-13,#34442#,hCoV-19/Germany/HE-ChVir21762/2020|EPI_ISL_849809|2020-12-24,hCoV-19/Iceland/4299/2021|EPI_ISL_827992|2021-01-05,#4091#,#39743#,hCoV-19/Denmark/DCGC-21382/2020|EPI_ISL_757897|2020-12-21,#27093#,hCoV-19/Poland/77136/2020|EPI_ISL_732828|2020-11,#18481#,#11361#,#9640#,#24206#,hCoV-19/India/GJ-GBRC354b/2020|EPI_ISL_514602|2020-06-25,hCoV-19/Luxembourg/LNS2162512/2020|EPI_ISL_740069|2020-11-15,#6066#,#13122#,#4668#,#15412#,#23436#,hCoV-19/India/KA-nimh-17585/2020|EPI_ISL_515963|2020-05-12,#20845#,#80#,#26280#,#17032#,hCoV-19/Denmark/DCGC-6656/2020|EPI_ISL_619559|2020-10-12,#29712#,#9498#,hCoV-19/Japan/PG-0609/2020|EPI_ISL_684219|2020-03,#11553#,#36883#,#53947#,#21416#,#32120#,#15334#,hCoV-19/USA/LA-EVTL092/2020|EPI_ISL_451253|2020-05-06,hCoV-19/Luxembourg/LNS7903628/2020|EPI_ISL_744650|2020-10-23,#37021#,#9386#,hCoV-19/England/QEUH-9BA0DF/2020|EPI_ISL_572726|2020-09-07,hCoV-19/Australia/NSW1217/2020|EPI_ISL_672661|2020-11-13,hCoV-19/USA/NY-NYCPHL-000815/2020|EPI_ISL_632192|2020-03-30,hCoV-19/India/GJ-GBRC139a/2020|EPI_ISL_458097|2020-05-24,hCoV-19/England/QEUH-B9E86E/2020|EPI_ISL_719873|2020-11-18,#7573#,hCoV-19/England/ALDP-4A79DF/2020|EPI_ISL_559450|2020-06-08,#39449#,hCoV-19/England/QEUH-CAB618/2020|EPI_ISL_760840|2020-12-20,#47499#,#7912#,hCoV-19/Mexico/BCN-ALSR-2490/2020|EPI_ISL_635499|2020-05-29,#26037#,hCoV-19/Croatia/Zagreb-27/2020|EPI_ISL_710547|2020-09-03,hCoV-19/Hungary/US-31847w/2020|EPI_ISL_677735|2020-08-31,#7972#,hCoV-19/USA/SD-SDPHL-0010/2020|EPI_ISL_569618|2020-07-25,#45351#,#27888#,#45288#,hCoV-19/England/MILK-B3D166/2020|EPI_ISL_706225|2020-11-01,#21480#,hCoV-19/USA/CO-CDPHE-2100013054/2020|EPI_ISL_771189|2020-11-19,#4622#,hCoV-19/England/NORW-F8B37/2020|EPI_ISL_704914|2020-11-23,#35479#,hCoV-19/Thailand/Bangkok-Ger09/2020|EPI_ISL_708825|2020,#49968#,#54531#,hCoV-19/Gambia/GC19-3814/2020|EPI_ISL_561088|2020-07-27,#32544#,hCoV-19/England/QEUH-B9EFB4/2020|EPI_ISL_719640|2020-11-18,#29480#,#637#,#50212#,#5843#,#22638#,#44545#,#17074#,#47749#,#45115#,#13120#,#33172#,#42085#,#52861#,#12910#,hCoV-19/Denmark/DCGC-12663/2020|EPI_ISL_682844|2020-11-16,#40196#,hCoV-19/Luxembourg/LNS2580720/2020|EPI_ISL_740146|2020-08-13,hCoV-19/England/MILK-B3DB95/2020|EPI_ISL_704885|2020-11-02,#37101#,#1000#,#11995#,hCoV-19/Taiwan/TSGH-17/2020|EPI_ISL_436102|2020-03-19,#35262#,#47039#,#15976#,hCoV-19/USA/VA-DCLS-0512/2020|EPI_ISL_485823|2020-05-29,hCoV-19/India/TG-CCMB-OM22/2020|EPI_ISL_644716|2020-09-20,#22794#,#47329#,hCoV-19/England/NORW-F9FB2/2020|EPI_ISL_741605|2020-12-14,hCoV-19/England/ALDP-9CBB34/2020|EPI_ISL_575502|2020-09-16,hCoV-19/England/QEUH-C33B07/2020|EPI_ISL_733970|2020-12-11,#20938#,#48155#,#53853#,#48686#,#6086#,hCoV-19/USA/UT-UPHL-2009591/2020|EPI_ISL_605269|2020-07-18,hCoV-19/Germany/NI-ChVir21963/2021|EPI_ISL_824985|2021-01-05,#19295#,#35793#,#30579#,#21011#,#36842#,hCoV-19/Beijing/DT-travelFR01/2020|EPI_ISL_452330|2020-03-21,hCoV-19/USA/CA-CZB-9981/2020|EPI_ISL_856979|2020-06-10,#19216#,#21314#,hCoV-19/England/NORW-EFA45/2020|EPI_ISL_549349|2020,#42080#,#7387#,#51847#,hCoV-19/Denmark/DCGC-13093/2020|EPI_ISL_712257|2020-11-30,hCoV-19/USA/CA-ALSR-4484/2020|EPI_ISL_649056|2020-10-06,#45322#,#20300#,#17771#,#34319#,#33788#,#10141#,#38833#,#5804#,#53646#,hCoV-19/Taiwan/TSGH-01/2020|EPI_ISL_426629|2020-02-07,#27399#,#51849#,hCoV-19/England/QEUH-9FF8F4/2020|EPI_ISL_600161|2020-09-30,hCoV-19/Switzerland/BE-ETHZ-310520/2020|EPI_ISL_603588|2020-10-08,#37591#,#31389#,#36423#,hCoV-19/USA/WA-UW-12392/2020|EPI_ISL_570527|2020-06-27,#7837#,#9639#,hCoV-19/England/MILK-B3D236/2020|EPI_ISL_645324|2020-10-31,#4418#,#39104#,hCoV-19/England/MILK-A19538/2020|EPI_ISL_611968|2020-10-02,hCoV-19/USA/WA-S1253/2020|EPI_ISL_495703|2020-05-13,#13474#,#37743#,#24354#,hCoV-19/Germany/BE-ChVir-D1938-8233/2020|EPI_ISL_753786|2020-09-28,hCoV-19/USA/MD-HP12120/2020|EPI_ISL_791433|2020-12-26,hCoV-19/USA/WA-UW-48237/2020|EPI_ISL_824865|2020-12-20,hCoV-19/England/ALDP-A690DE/2020|EPI_ISL_609120|2020-10-12,#37873#,hCoV-19/Denmark/DCGC-12782/2020|EPI_ISL_682963|2020-11-09,hCoV-19/Australia/SAP563/2020|EPI_ISL_654806|2020-11-16,#26838#,#35898#,hCoV-19/England/QEUH-AAB36E/2020|EPI_ISL_651087|2020-10-21,#44660#,#4449#,#9768#,#32128#,hCoV-19/Denmark/DCGC-32157/2021|EPI_ISL_856573|2021-01-04,#999#,hCoV-19/Romania/284168/2020|EPI_ISL_455472|2020-05-13,#24039#,hCoV-19/Australia/SAP565/2020|EPI_ISL_654808|2020-11-16,#46536#,#25548#,#15818#,hCoV-19/England/CAMC-B228BA/2020|EPI_ISL_647199|2020-11-01,#9083#,#35439#,#44787#,#23288#,#45537#,#15685#,#47967#,#10993#,hCoV-19/USA/CA-CSMC284/2020|EPI_ISL_824690|2020-12-07,#24389#,#45525#,hCoV-19/USA/FL-BPHL-1992/2020|EPI_ISL_653145|2020-04-16,hCoV-19/USA/OR-PROV-175/2020|EPI_ISL_482425|2020-05-12,#34069#,#8590#,#38808#,hCoV-19/USA/IL-NM-1371/2020|EPI_ISL_626514|2020-04-01,#4461#,hCoV-19/England/ALDP-BBB555/2020|EPI_ISL_702399|2020-11-20,#23898#,#14915#,#40758#,#28796#,hCoV-19/Russia/OMS-ORINFI-MH10294S/2020|EPI_ISL_733493|2020-11-17,hCoV-19/Finland/17ES5B7/2020|EPI_ISL_756248|2020-08-17,hCoV-19/Latvia/135/2020|EPI_ISL_639632|2020-08-28,#18220#,#18137#,hCoV-19/USA/WA-S2053/2020|EPI_ISL_497481|2020-06-06,#45924#,#48844#,hCoV-19/Netherlands/NA_314/2020|EPI_ISL_422623|2020-04-02,#32420#,#26383#,hCoV-19/USA/CA-CZB-12786/2020|EPI_ISL_648443|2020-10-14,hCoV-19/England/MILK-A7AA72/2020|EPI_ISL_606514|2020-10-15,hCoV-19/USA/WA-S473/2020|EPI_ISL_434233|2020-04-03,hCoV-19/Iceland/4592/2020|EPI_ISL_828284|2020-09-25,#10321#,#766#,#20002#,hCoV-19/England/MILK-C60C3B/2020|EPI_ISL_769429|2020-12-13,hCoV-19/USA/MA-MGH-00014/2020|EPI_ISL_460271|2020-03-23,hCoV-19/Scotland/CVR3002/2020|EPI_ISL_461616|2020-04-23,#43512#,#15760#,#49947#,hCoV-19/India/GJ-GBRC-415a/2020|EPI_ISL_586542|2020-07-11,#21747#,#6064#,hCoV-19/Sweden/20-08976/2020|EPI_ISL_648181|2020-08-13,hCoV-19/England/PRIN-254BCA0/2020|EPI_ISL_509440|2020-04-29,#27444#,#44440#,hCoV-19/Hungary/US-31849w/2020|EPI_ISL_677737|2020-08-31,#28294#,#44803#,hCoV-19/England/NORW-EF5DB/2020|EPI_ISL_549350|2020-09-09,hCoV-19/USA/FL-BPHL-2142/2020|EPI_ISL_653295|2020-06-30,hCoV-19/England/ALDP-E88345/2021|EPI_ISL_836926|2021-01-02,hCoV-19/India/MH-NCCS-NR2246/2020|EPI_ISL_496573|2020-05-21,#32905#,hCoV-19/Germany/NW-UBI-6/2020|EPI_ISL_602287|2020-04-01,hCoV-19/Bahrain/140008296/2020|EPI_ISL_510528|2020-06-23,#29400#,#16718#,#34684#,hCoV-19/Italy/VEN-IZSVe-20RS2161-20_VR/2020|EPI_ISL_747470|2020-11-14,#25963#,hCoV-19/England/ALDP-B1C4BF/2020|EPI_ISL_645669|2020-11-01,#15630#,#12985#,#15509#,#47194#,#51046#,#32956#,#44160#,hCoV-19/USA/FL-BPHL-2073/2020|EPI_ISL_653226|2020-06-29,#6121#,#16257#,hCoV-19/England/ALDP-A2FBC4/2020|EPI_ISL_587275|2020-10-05,hCoV-19/England/204881101/2020|EPI_ISL_754287|2020-11-26,#52076#,#32928#,#51418#,hCoV-19/Netherlands/GE-EMC-177/2020|EPI_ISL_523159|2020-04-16,#8496#,#43828#,#47166#,#36506#,#42847#,#17139#,#27608#,#46090#,#43543#,hCoV-19/USA/WA-UW-22162/2020|EPI_ISL_570567|2020-08-05,hCoV-19/England/ALDP-A2D249/2020|EPI_ISL_586880|2020-10-06,#13654#,#50896#,#46373#,#4863#,#26472#,#31098#,#54508#,#49137#,#7939#,hCoV-19/England/ALDP-C48817/2020|EPI_ISL_736494|2020-12-12,#46923#,#19190#,#37091#,#40497#,#45524#,#53420#,hCoV-19/Luxembourg/LNS9982064/2020|EPI_ISL_745022|2020-07-25,#22219#,#48835#,hCoV-19/Japan/IC-0049/2020|EPI_ISL_591391|2020-06,#5070#,#18544#,hCoV-19/England/MILK-99D63A/2020|EPI_ISL_549888|2020-08-31,#417#,#12277#,hCoV-19/Wales/PHWC-484264/2020|EPI_ISL_627090|2020-10-17,#44458#,hCoV-19/England/ALDP-AA0A91/2020|EPI_ISL_625196|2020-10-22,#33695#,#54372#,hCoV-19/Denmark/DCGC-13107/2020|EPI_ISL_712301|2020-11-30,#3498#,#38697#,#19861#,#15699#,hCoV-19/Japan/IC-0696/2021|EPI_ISL_825429|2021-01,#39570#,hCoV-19/Germany/HE-Cento-30693781/2020|EPI_ISL_815364|2020-07-19,#16780#,#32315#,hCoV-19/India/WB-S16/2020|EPI_ISL_455646|2020-04-03,#4419#,hCoV-19/Australia/SAP520/2020|EPI_ISL_603125|2020-10-24,#51725#,#29676#,hCoV-19/USA/NY-Wadsworth-200235-01/2020|EPI_ISL_677069|2020-07-07,hCoV-19/England/MILK-AB7B1C/2020|EPI_ISL_623739|2020-10-21,#48675#,#48222#,#51830#,#42320#,hCoV-19/England/QEUH-D5349C/2020|EPI_ISL_799190|2020-12-29,hCoV-19/England/ALDP-C23092/2020|EPI_ISL_733877|2020-12-06,hCoV-19/Spain/IB-IBV-99012780/2020|EPI_ISL_819170|2020-12-21,hCoV-19/USA/TX-HMH-MCoV-12558/2020|EPI_ISL_789941|2020-09-30,#37098#,#51927#,#23422#,#43368#,#48203#,hCoV-19/Denmark/DCGC-26353/2021|EPI_ISL_818319|2021-01-04,#2783#,hCoV-19/USA/WA-S2500/2020|EPI_ISL_497132|2020-06-17,hCoV-19/USA/UT-UPHL-2012624197/2020|EPI_ISL_745592|2020-10-02,#4365#,#48035#,#51942#,#52484#,hCoV-19/USA/WA-S2765/2020|EPI_ISL_525755|2020-08-03,hCoV-19/England/QEUH-C57A88/2020|EPI_ISL_736371|2020-12-12,hCoV-19/USA/WA-S2308/2020|EPI_ISL_496940|2020-06-11,#23950#,hCoV-19/USA/MI-UM-10036599544/2020|EPI_ISL_649982|2020-10-23,#41065#,hCoV-19/Denmark/DCGC-14719/2020|EPI_ISL_711263|2020-11-23,#48148#,#16866#,#9819#,#12041#,#28185#,hCoV-19/Peru/CAL-INS-081/2020|EPI_ISL_536480|2020-07-01,#24727#,hCoV-19/England/QEUH-9F7EEB/2020|EPI_ISL_595721|2020-09-27,#51116#,hCoV-19/USA/FL-BPHL-2167/2020|EPI_ISL_653320|2020-08-05,#40226#,#22482#,#38944#,#7264#,#14770#,#50112#,hCoV-19/Spain/CT-HUVH-49385/2020|EPI_ISL_819295|2020-04-29,#38120#,hCoV-19/England/ALDP-A683D6/2020|EPI_ISL_608448|2020-10-12,#37625#,hCoV-19/Nanchang/JX90/2020|EPI_ISL_421245|2020-01-25,hCoV-19/England/MILK-B3B1D1/2020|EPI_ISL_704864|2020-11-01,hCoV-19/Russia/MOS-CRIE-7182855/2020|EPI_ISL_745223|2020-08-24,#24737#,#41657#,hCoV-19/Iceland/3206/2020|EPI_ISL_826898|2020-09-17,#22116#,hCoV-19/England/QEUH-A9FBB0/2020|EPI_ISL_611481|2020-10-20,hCoV-19/India/TG-CCMB-OM25/2020|EPI_ISL_644719|2020-09-20,#46093#,#16616#,hCoV-19/Netherlands/NoordHolland_25/2020|EPI_ISL_461215|2020-05-06,#41404#,#40853#,#47409#,hCoV-19/Scotland/QEUH-E482BD/2021|EPI_ISL_858479|2021-01-03,#5984#,hCoV-19/Luxembourg/LNS2198752/2020|EPI_ISL_740076|2020-10-31,#27321#,#12409#,#1466#,#16150#,#37232#,#4429#,#31251#,#3505#,#9446#,#37960#,#10897#,#22523#,hCoV-19/England/QEUH-9F5560/2020|EPI_ISL_588649|2020-09-24,#48072#,hCoV-19/England/MILK-9958B4/2020|EPI_ISL_551629|2020-08-23,#18281#,#3475#,#10542#,#27428#,hCoV-19/Netherlands/NB-EMC-185/2020|EPI_ISL_523308|2020-05-07,#8118#,#17648#,hCoV-19/Australia/NSW1325/2020|EPI_ISL_767891|2020-12-17,hCoV-19/England/CAMC-A57F9A/2020|EPI_ISL_597180|2020-10-09,hCoV-19/England/ALDP-9C5790/2020|EPI_ISL_581379|2020-09-10,#27545#,#26413#,#4616#,hCoV-19/Scotland/CVR2500/2020|EPI_ISL_484593|2020-04-15,#53510#,#48494#,#49369#,#47041#,hCoV-19/Italy/SAR-ASSL/2020|EPI_ISL_710503|2020-10-19,#51463#,#24765#,hCoV-19/Norway/2798/2020|EPI_ISL_493364|2020-06-26,hCoV-19/Denmark/DCGC-7480/2020|EPI_ISL_618960|2020-10-12,#28552#,hCoV-19/England/QEUH-9CE6D6/2020|EPI_ISL_590132|2020-09-17,#10432#,hCoV-19/Denmark/DCGC-15931/2020|EPI_ISL_714264|2020-11-23,hCoV-19/Thailand/Siriraj_2/2020|EPI_ISL_447907|2020,hCoV-19/Scotland/QEUH-9E3547/2020|EPI_ISL_585507|2020-09-24,#52741#,#32279#,#42118#,hCoV-19/Wales/PHWC-4849D8/2020|EPI_ISL_627093|2020-10-17,hCoV-19/Singapore/1103/2020|EPI_ISL_596493|2020-10-14,#43740#,#124#,#33725#,hCoV-19/USA/RI-CDC-8426/2020|EPI_ISL_801528|2020-12-15,#36108#,#16859#,#44254#,#11464#,hCoV-19/England/CAMC-B38101/2020|EPI_ISL_658788|2020-11-05,hCoV-19/Sweden/20-23684/2020|EPI_ISL_648188|2020-10-06,#31271#,#6029#,#22891#,#17145#,hCoV-19/USA/WA-S1596/2020|EPI_ISL_496022|2020-05-26,#1460#,#49445#,#40650#,#5241#,#14826#,#8860#,hCoV-19/Switzerland/SH-SNRCI-2552/2020|EPI_ISL_857533|2020-12-08,#26196#,hCoV-19/Italy/LAZ-INMI-135/2020|EPI_ISL_765573|2020-12-22,#48629#,#25481#,#11147#,hCoV-19/USA/WA-S2783/2020|EPI_ISL_530140|2020-08-10,#791#,hCoV-19/Scotland/QEUH-95E8C6/2020|EPI_ISL_532364|2020-08-09,hCoV-19/England/MILK-A91AEE/2020|EPI_ISL_704869|2020-10-19,#23346#,hCoV-19/USA/WA-S3345/2020|EPI_ISL_849558|2020-11-25,#50063#,#52116#,hCoV-19/Uganda/UG103/2020|EPI_ISL_738010|2020-07-04,hCoV-19/Denmark/DCGC-7316/2020|EPI_ISL_618957|2020-10-12,#18428#,#7404#,#29696#,#1790#,hCoV-19/Ireland/LH-NVRL-20IRL52389/2020|EPI_ISL_639895|2020-10-01,#10546#,hCoV-19/England/CAMC-AB1338/2020|EPI_ISL_623574|2020-10-23,#51357#,#22429#,#1334#,#45296#,hCoV-19/USA/TX-HMH-MCoV-18602/2020|EPI_ISL_784950|2020-11-19,hCoV-19/Denmark/DCGC-4724/2020|EPI_ISL_622163|2020-09-21,#34400#,hCoV-19/Bangladesh/CU-CTG-38/2020|EPI_ISL_735498|2020-12-04,#29824#,hCoV-19/England/ALDP-B7389C/2020|EPI_ISL_662576|2020-11-12,#11098#,hCoV-19/USA/CA-CSMC199/2020|EPI_ISL_824556|2020-12-27,#32046#,#579#,#21863#,#20380#,hCoV-19/Scotland/EDB3527/2020|EPI_ISL_487769|2020-04-13,hCoV-19/Netherlands/ZE-EMC-57/2020|EPI_ISL_523556|2020-06-15,#11067#,#47861#,#10048#,#33586#,#19040#,#26719#,#4089#,#47423#,#49123#,hCoV-19/Denmark/DCGC-4528/2020|EPI_ISL_621324|2020-09-21,#31253#,#46899#,hCoV-19/England/ALDP-B23D6F/2020|EPI_ISL_646376|2020-11-04,#30733#,hCoV-19/USA/WA-S1960/2020|EPI_ISL_497388|2020-06-03,hCoV-19/Japan/IC-0287/2020|EPI_ISL_667716|2020-11,hCoV-19/England/CAMC-B7B964/2020|EPI_ISL_724041|2020-11-12,#25959#,hCoV-19/England/MILK-C30092/2020|EPI_ISL_782734|2020-12-07,#28609#,#17035#,#14180#,#8184#,#29486#,#27349#,#32957#,#46307#,hCoV-19/USA/FL-BPHL-2011/2020|EPI_ISL_653164|2020-06-12,hCoV-19/Austria/CeMM0696/2020|EPI_ISL_583652|2020-04-22,hCoV-19/USA/VA-DCLS-1643/2020|EPI_ISL_614045|2020-08-20,hCoV-19/Hungary/US-33736w/2020|EPI_ISL_677765|2020-09-03,#36831#,#19303#,#22083#,hCoV-19/Denmark/DCGC-23505/2020|EPI_ISL_793204|2020-12-21,#45951#,#4748#,#6631#,#22947#,#5311#,#19554#,#41002#,#13051#,hCoV-19/Denmark/DCGC-15932/2020|EPI_ISL_714259|2020-11-23,#41383#,hCoV-19/USA/PA-MGEL-00001/2020|EPI_ISL_681929|2020-03-24,#5104#,hCoV-19/Denmark/DCGC-22229/2020|EPI_ISL_757940|2020-12-14,#16931#,#51038#,hCoV-19/USA/TX-HMH-MCoV-12449/2020|EPI_ISL_789937|2020-09-28,hCoV-19/USA/WA-S835/2020|EPI_ISL_463325|2020-04-21,#46557#,#32997#,#29315#,#39888#,#26933#,#32852#,#13718#,#4554#,hCoV-19/England/NORW-F9CD9/2020|EPI_ISL_741594|2020-12-14,#23647#,hCoV-19/Denmark/DCGC-12527/2020|EPI_ISL_682708|2020-11-16,#27501#,#52899#,hCoV-19/England/ALDP-91BD11/2020|EPI_ISL_553710|2020-06-25,#14381#,hCoV-19/USA/WA-S1026/2020|EPI_ISL_463516|2020-04-30,#24813#,#39135#,#37943#,#22851#,#39803#,#7855#,hCoV-19/England/ALDP-B4863C/2020|EPI_ISL_649436|2020-11-06,hCoV-19/India/TG-CCMB-AC511/2020|EPI_ISL_539744|2020-08-19,#9111#,hCoV-19/USA/MI-MDHHS-SC20456/2020|EPI_ISL_459995|2020-05-07,#13309#,#18124#,hCoV-19/USA/FL-BPHL-1583/2020|EPI_ISL_568681|2020-03-23,#41654#,#10019#,#24557#,hCoV-19/Latvia/173/2020|EPI_ISL_639670|2020-09-29,#40647#,#38062#,#27529#,#43920#,#30653#,#9148#,#18198#,hCoV-19/England/SHEF-CFEC7/2020|EPI_ISL_680188|2020-11-10,hCoV-19/England/QEUH-9DCCB5/2020|EPI_ISL_599504|2020-09-21,#51985#,#30655#,hCoV-19/India/GJ-GBRC-393a/2020|EPI_ISL_524760|2020-07-06,#22309#,hCoV-19/Beijing/DT-travelUK04/2020|EPI_ISL_452336|2020-03-20,#17137#,hCoV-19/England/SHEF-CC659/2020|EPI_ISL_585049|2020-09-28,hCoV-19/England/ALDP-94CB68/2020|EPI_ISL_556473|2020-06-14,#31226#,#47361#,#41719#,#23283#,#15212#,#2526#,#376#,hCoV-19/Bangladesh/CU-CTG-76/2020|EPI_ISL_735502|2020-08-26,#44498#,#28430#,hCoV-19/England/ALDP-C57F89/2020|EPI_ISL_735964|2020-12-14,#2785#,hCoV-19/England/CAMC-BC0186/2020|EPI_ISL_704730|2020-11-22,hCoV-19/USA/MD-HP12175/2020|EPI_ISL_791339|2020-12-28,#46422#,#4615#,#53070#,#49877#,#29073#,#13031#,#8717#,hCoV-19/England/QEUH-A34EE1/2020|EPI_ISL_628424|2020-10-05,hCoV-19/England/CAMC-B51560/2020|EPI_ISL_657762|2020-11-08,#46231#,hCoV-19/Japan/DP0645/2020|EPI_ISL_416612|2020-02-17,hCoV-19/USA/PA-MGEL-00447/2020|EPI_ISL_681935|2020-07-24,hCoV-19/USA/TX-HMH-5787/2020|EPI_ISL_547014|2020-06-28,hCoV-19/Denmark/DCGC-16080/2020|EPI_ISL_714266|2020-11-16,hCoV-19/India/WB-IK2/2020|EPI_ISL_508349|2020-03-30,#21816#,#29443#,hCoV-19/Denmark/DCGC-16858/2020|EPI_ISL_750306|2020-12-14,hCoV-19/England/QEUH-AF5295/2020|EPI_ISL_663156|2020-10-30,hCoV-19/Lithuania/C20-05-R7/2020|EPI_ISL_560402|2020-05-18,hCoV-19/Luxembourg/LNS0129194/2020|EPI_ISL_739720|2020-10-22,#18819#,#13859#,hCoV-19/USA/DE-CDC-2-3693752/2020|EPI_ISL_803105|2020-10-20,#5793#,#31626#,#29074#,hCoV-19/USA/LA-EVTL604/2020|EPI_ISL_579008|2020-08-06,#42933#,hCoV-19/India/TG-CCMB-OM21/2020|EPI_ISL_644715|2020-09-20,hCoV-19/England/ALDP-9C536F/2020|EPI_ISL_567622|2020-09-10,#2347#,hCoV-19/USA/CA-CDC-4711/2020|EPI_ISL_535687|2020-06-04,#54456#,hCoV-19/Latvia/176/2020|EPI_ISL_639673|2020-09-29,#45987#,hCoV-19/England/MILK-992671/2020|EPI_ISL_552082|2020-08-27,hCoV-19/Argentina/PAIS-G0018/2020|EPI_ISL_792542|2020-04-10,hCoV-19/England/QEUH-D51285/2020|EPI_ISL_798142|2020-12-29,hCoV-19/England/MILK-DB0363/2020|EPI_ISL_797349|2020-12-29,hCoV-19/USA/CA-CHLA-PLM87208720/2020|EPI_ISL_753276|2020-11-03,#27346#,#15827#,hCoV-19/Denmark/DCGC-24784/2020|EPI_ISL_795208|2020-12-28,#28004#,#25344#,#28295#,hCoV-19/England/ALDP-CB456A/2020|EPI_ISL_761011|2020-12-19,hCoV-19/England/ALDP-D412F1/2020|EPI_ISL_798609|2020-12-27,#28428#,hCoV-19/USA/MN-MDH-2265/2020|EPI_ISL_802586|2020-12-27,#46425#,#6758#,#53722#,hCoV-19/England/QEUH-CB338F/2020|EPI_ISL_761067|2020-12-01,#15740#,#35274#,#13865#,#31629#,#9040#,#43530#,#13780#,#20786#,hCoV-19/India/WB-IK80/2020|EPI_ISL_508401|2020-05-17,#2161#,hCoV-19/Japan/IC-0660/2021|EPI_ISL_825394|2021-01,#30836#,#49733#,hCoV-19/England/ALDP-9D9007/2020|EPI_ISL_576690|2020-09-18,hCoV-19/Netherlands/UT-RIVM-21203/2020|EPI_ISL_823994|2020-12-29,#40254#,#43912#,hCoV-19/England/CAMC-B32C9D/2020|EPI_ISL_659713|2020-11-05,#6638#,#37502#,hCoV-19/England/CAMC-B79E94/2020|EPI_ISL_741057|2020-11-12,hCoV-19/England/MILK-B3D421/2020|EPI_ISL_741371|2020-10-31,#2724#,#15703#,#51851#,#48188#,#29071#,hCoV-19/England/CAMC-9ECB79/2020|EPI_ISL_594642|2020-09-23,hCoV-19/USA/CA-IGI-0075/2020|EPI_ISL_511829|2020-06-02,#16856#,hCoV-19/England/MILK-99CC66/2020|EPI_ISL_549934|2020-08-30,#31601#,#22791#,#37148#,#32992#,#47210#,hCoV-19/USA/TX-HMH-MCoV-9375/2020|EPI_ISL_780490|2020-07-03,#40319#,hCoV-19/Russia/MOS-CRIE-13381937/2020|EPI_ISL_732665|2020-11-06,hCoV-19/Bangladesh/BCSIR-NILMRC-284/2020|EPI_ISL_504176|2020-07-21,#40104#,hCoV-19/India/MH-ACTREC-562/2020|EPI_ISL_700207|2020-08-31,#25527#,#42468#,#17065#,#26526#,#2420#,hCoV-19/England/QEUH-9C984E/2020|EPI_ISL_567407|2020-09-10,#44824#,#1899#,#33227#,#18933#,#43910#,#37800#,#37027#,hCoV-19/Scotland/EDB764/2020|EPI_ISL_433237|2020-04-02,#52500#,#54528#,hCoV-19/England/MILK-99A80A/2020|EPI_ISL_550263|2020-08-29,#46427#,#2956#,#13431#,hCoV-19/Japan/PG-8502/2020|EPI_ISL_687601|2020-09,hCoV-19/Latvia/138/2020|EPI_ISL_639635|2020-09-02,hCoV-19/England/MILK-ACECB5/2020|EPI_ISL_629308|2020-10-21,#27911#,#20867#,hCoV-19/England/SHEF-10C9E42/2020|EPI_ISL_764105|2020-12-23,#46957#,#52318#,#29019#,hCoV-19/Denmark/DCGC-12251/2020|EPI_ISL_682432|2020-11-16,hCoV-19/USA/WA-S1235/2020|EPI_ISL_495685|2020-05-06,#27457#,#53871#,hCoV-19/Japan/IC-0650/2021|EPI_ISL_803919|2021-01,#8060#,#15549#,hCoV-19/Australia/SAP562/2020|EPI_ISL_654805|2020-11-16,#16456#,#26462#,#1420#,#40884#,hCoV-19/England/ALDP-BB2AF5/2020|EPI_ISL_703009|2020-11-20,hCoV-19/USA/TX-HMH-MCoV-12310/2020|EPI_ISL_789935|2020-09-25,hCoV-19/Denmark/DCGC-5904/2020|EPI_ISL_620169|2020-10-05,#53928#,#24071#,#7330#,#9060#,hCoV-19/Denmark/DCGC-28579/2021|EPI_ISL_844794|2021-01-04,hCoV-19/England/MILK-BAB3E5/2020|EPI_ISL_783275|2020-11-18,hCoV-19/Canada/ON-S1923/2020|EPI_ISL_729266|2020-11-24,#33406#,#1651#,hCoV-19/Luxembourg/LNS7339710/2020|EPI_ISL_744555|2020-10-21,#13760#,#26551#,#7409#,#30713#,hCoV-19/Japan/PG-8504/2020|EPI_ISL_687603|2020-09,hCoV-19/India/GJ-GBRC187a/2020|EPI_ISL_469029|2020-06-05,#4555#,#17846#,hCoV-19/USA/TX-HMH-MCoV-10565/2020|EPI_ISL_789202|2020-07-08,#39588#,hCoV-19/Iceland/5279/2020|EPI_ISL_828964|2020-11-18,#14382#,hCoV-19/England/ALDP-B1C042/2020|EPI_ISL_645931|2020-11-01,#517#,#21669#,hCoV-19/Switzerland/BE-SNRCI-8484/2020|EPI_ISL_857510|2020-12-08,hCoV-19/England/ALDP-953CE3/2020|EPI_ISL_554430|2020-06-13,#8183#,#20100#,#21859#,#16448#,#53269#,hCoV-19/England/QEUH-9F772C/2020|EPI_ISL_595698|2020-09-27,hCoV-19/England/MILK-A0556C/2020|EPI_ISL_600046|2020-09-30,#10893#,hCoV-19/Switzerland/BS-42485976/2020|EPI_ISL_830938|2020-10-15,#9523#,#14001#,#36356#,#25297#,#15349#,#11024#,#7375#,#23791#,#3168#,hCoV-19/Russia/OMS-ORINFI-MH10275S/2020|EPI_ISL_733484|2020-11-02,#27961#,hCoV-19/Latvia/139/2020|EPI_ISL_639636|2020-09-04,#42934#,#17036#,#48590#,#51208#,#33270#,hCoV-19/Denmark/DCGC-25912/2021|EPI_ISL_818466|2021-01-04,#38880#,#5704#,#34377#,hCoV-19/Belgium/ULG-11004/2020|EPI_ISL_707721|2020-11-14,hCoV-19/England/MILK-563A62/2020|EPI_ISL_558252|2020-06-10,hCoV-19/USA/WA-UW-7671/2020|EPI_ISL_570190|2020-04-18,#1737#,#28349#,#15003#,hCoV-19/India/GJ-GBRC150a/2020|EPI_ISL_458112|2020-05-18,#20065#,hCoV-19/England/CAMC-B375CA/2020|EPI_ISL_645408|2020-11-05,hCoV-19/Japan/IC-0676/2021|EPI_ISL_825393|2021-01,#26034#,hCoV-19/USA/FL-AD68/2020|EPI_ISL_513271|2020-06-26,#35357#,#9262#,#49770#,hCoV-19/England/MILK-9931E8/2020|EPI_ISL_551952|2020-08-27,hCoV-19/India/GJ-GBRC357b/2020|EPI_ISL_514607|2020-06-25,#18889#,#7403#,hCoV-19/India/WB-IK38/2020|EPI_ISL_508366|2020-05-03,#8028#,hCoV-19/England/ALDP-9EAC4B/2020|EPI_ISL_579962|2020-09-24,#42814#,hCoV-19/Australia/SAP519/2020|EPI_ISL_603124|2020-10-24,#3463#,hCoV-19/Portugal/IGC4435/2020|EPI_ISL_491252|2020-06-08,#8948#,#25276#,#20835#,#38050#,#21418#,hCoV-19/Italy/APU-IZSPB_459PT/2020|EPI_ISL_794786|2020-12-23,#15692#,#51465#,#35255#,hCoV-19/USA/WA-S2810/2020|EPI_ISL_574652|2020-09-01,hCoV-19/India/GJ-GBRC-414/2020|EPI_ISL_586541|2020-07-18,#14424#,#23948#,#19292#,#41616#,hCoV-19/England/ALDP-AA1E94/2020|EPI_ISL_624379|2020-10-22,hCoV-19/England/MILK-B3CB69/2020|EPI_ISL_704877|2020-11-01,#47862#,hCoV-19/USA/FL-BPHL-1241/2020|EPI_ISL_541164|2020-06-03,hCoV-19/Denmark/DCGC-14293/2020|EPI_ISL_711242|2020-11-30,#39870#,#1412#,#9709#,#26571#,#23007#,hCoV-19/Japan/IC-0512/2020|EPI_ISL_768721|2020-12,#5043#,hCoV-19/Germany/BE-ChVir-D1931-8262/2020|EPI_ISL_753782|2020-10-08,#2590#,#714#,hCoV-19/England/QEUH-A8C66A/2020|EPI_ISL_643237|2020-10-18,hCoV-19/Brazil/RS-6195/2020|EPI_ISL_729794|2020-05-11,#5856#,hCoV-19/England/QEUH-B13BD1/2020|EPI_ISL_641810|2020-11-02,#25138#,#38850#,#31442#,#50255#,#12915#,hCoV-19/England/ALDP-5D1C69/2020|EPI_ISL_558595|2020-06-19,hCoV-19/USA/WA-S2247/2020|EPI_ISL_497675|2020-06-09,#9596#,#24719#,#25968#,#43993#,#53704#,#33495#,#6594#,#48266#,#19869#,hCoV-19/Denmark/DCGC-16934/2020|EPI_ISL_750314|2020-12-14,#21495#,hCoV-19/England/ALDP-C3C2EB/2020|EPI_ISL_731145|2020-12-10,#49375#,hCoV-19/Netherlands/Utrecht_10027/2020|EPI_ISL_454776|2020-04-02,hCoV-19/USA/TX-HMH-MCoV-11551/2020|EPI_ISL_789939|2020-09-11,hCoV-19/England/ALDP-955FAC/2020|EPI_ISL_554110|2020-06-08,hCoV-19/USA/CA-CSMC92/2020|EPI_ISL_475709|2020-04-02,#12112#,hCoV-19/Denmark/DCGC-18034/2020|EPI_ISL_749355|2020-12-14,#30567#,#52676#,#46270#,hCoV-19/Netherlands/ZuidHolland_137/2020|EPI_ISL_461310|2020-05-04,#7108#,#9924#,#41764#,#50403#,#18868#,#16939#,#2425#,hCoV-19/Guangdong/20SF632/2020|EPI_ISL_428468|2020-01-26,#3206#,hCoV-19/Scotland/EDB11672/2020|EPI_ISL_838279|2020-12-29,hCoV-19/France/HDF-2237/2020|EPI_ISL_416496|2020-03-10,#782#,#3335#,hCoV-19/Denmark/DCGC-6032/2020|EPI_ISL_620226|2020-10-05,#236#,#45587#,#29826#,#39924#,#52364#,hCoV-19/France/OCC-144/2020|EPI_ISL_751464|2020-11-20,#13278#,hCoV-19/England/CAMC-AEAC95/2020|EPI_ISL_633153|2020-10-26,#47370#,#21857#,#77#,#2616#,#33805#,hCoV-19/USA/OR-PROV-085/2020|EPI_ISL_482356|2020-04-19,#31415#,hCoV-19/England/OXON-AD15D/2020|EPI_ISL_448567|2020,#52114#,#10682#,#34576#,#32653#,#50776#,#7017#,hCoV-19/England/QEUH-BA3D3A/2020|EPI_ISL_720981|2020-11-17,#50179#,#7432#,#11055#,#5191#,#13792#,#6676#,hCoV-19/USA/WA-S1792/2020|EPI_ISL_496218|2020-06-02,hCoV-19/Scotland/EDB5795/2020|EPI_ISL_487766|2020-04-27,#9399#,#22281#,#6079#,hCoV-19/Germany/BY-IMB04242/2020|EPI_ISL_732555|2020-04-15,#2825#,#14318#,#28884#,hCoV-19/Denmark/DCGC-27714/2020|EPI_ISL_815629|2020-12-21,#32422#,#1089#,#13276#,#21415#,#47783#,#29997#,hCoV-19/England/204541008/2020|EPI_ISL_678666|2020-11-04,hCoV-19/Wales/PHWC-485F11/2020|EPI_ISL_627096|2020-10-22,hCoV-19/Denmark/DCGC-7427/2020|EPI_ISL_619330|2020-10-12,#8302#,hCoV-19/USA/TX-HMH-3110/2020|EPI_ISL_543998|2020-06-10,#26170#,#45944#,#50050#,#4417#,#26750#,#8950#,#54174#,#23855#,hCoV-19/USA/NY-NYUMC325/2020|EPI_ISL_430352|2020-04-01,#27044#,#44252#,#9116#,#25594#,hCoV-19/Italy/SIC-IZSBM169-60/2020|EPI_ISL_582811|2020-06,#2774#,hCoV-19/England/ALDP-508F33/2020|EPI_ISL_559161|2020-06-25,#9144#,hCoV-19/USA/WA-UW-49913/2020|EPI_ISL_837514|2020-12-20,#17053#,#26405#,#17347#,#11886#,#20139#,#33648#,#6063#,#15633#,#42517#,#35326#,#27937#,#12588#,hCoV-19/Australia/SAP556/2020|EPI_ISL_654800|2020-11-16,#35522#,hCoV-19/Italy/VEN-IZSVe-20RS2293-1_VI/2020|EPI_ISL_766574|2020-12-03,hCoV-19/England/NORW-F16E2/2020|EPI_ISL_627080|2020-10-12,#43529#,hCoV-19/USA/WA-S2707/2020|EPI_ISL_497339|2020-06-22,hCoV-19/Hungary/US-32542w/2020|EPI_ISL_677754|2020-09-02,#40774#,hCoV-19/England/MILK-B39908/2020|EPI_ISL_741360|2020-11-01,#16516#,#9088#,#51939#,#25033#,hCoV-19/Luxembourg/LNS0779841/2020|EPI_ISL_739831|2020-10-30,hCoV-19/Singapore/34/2021|EPI_ISL_825072|2021-01-08,#1063#,#28229#,#26408#,#15977#,hCoV-19/England/QEUH-9D0273/2020|EPI_ISL_589981|2020-09-14,#4140#,hCoV-19/England/CAMC-BFB2AD/2020|EPI_ISL_709019|2020-12-04,hCoV-19/USA/WA-S2516/2020|EPI_ISL_497148|2020-06-15,hCoV-19/England/QEUH-C57B94/2020|EPI_ISL_736290|2020-12-12,#27116#,hCoV-19/Denmark/DCGC-5844/2020|EPI_ISL_621031|2020-09-28,#23380#,#9313#,#6480#,#20678#,hCoV-19/Iceland/3732/2020|EPI_ISL_827423|2020-10-16,hCoV-19/India/GJ-GBRC226/2020|EPI_ISL_476863|2020-06-11,#10342#,#25470#,#20837#,#43623#,#30386#,#9500#,#27400#,#33421#,hCoV-19/Denmark/DCGC-2768/2020|EPI_ISL_616602|2020-08-24,#18953#,hCoV-19/Denmark/DCGC-11532/2020|EPI_ISL_670978|2020-11-02,#36507#,#1167#,#4611#,hCoV-19/Japan/PG-5801/2020|EPI_ISL_688612|2020-08,hCoV-19/Denmark/DCGC-29379/2021|EPI_ISL_843426|2021-01-04,#42505#,#34983#,#47647#,hCoV-19/Belgium/rega-0516680/2020|EPI_ISL_738197|2020-05-16,#31379#,#54102#,#43498#,#8446#,hCoV-19/England/OXON-AD937/2020|EPI_ISL_448604|2020,#35356#,#3653#,#8746#,#1857#\n"
     ]
    }
   ],
   "source": [
    "print(merged_table[merged_table.IsToStop == 1][['parent_node', 'child_node']].values.shape)\n",
    "print(len(set(merged_table[merged_table.IsToStop == 1][['parent_node', 'child_node']].values.flatten())))\n",
    "\n",
    "print(','.join(set(merged_table[merged_table.IsToStop == 1][['parent_node', 'child_node']].values.flatten())))"
   ]
  },
  {
   "cell_type": "code",
   "execution_count": 43,
   "id": "spare-signature",
   "metadata": {
    "ExecuteTime": {
     "end_time": "2021-04-27T19:26:02.036524Z",
     "start_time": "2021-04-27T19:26:02.009114Z"
    },
    "collapsed": true
   },
   "outputs": [
    {
     "name": "stdout",
     "output_type": "stream",
     "text": [
      "(1101, 2)\n",
      "1714\n",
      "hCoV-19/Portugal/PT2002/2020|EPI_ISL_732223|2020-11-12,#6062#,hCoV-19/Japan/TK-YE611820/2020|EPI_ISL_486890|2020-04,#20840#,hCoV-19/England/QEUH-B6834E/2020|EPI_ISL_661533|2020-11-11,hCoV-19/England/MILK-B3C02E/2020|EPI_ISL_706114|2020-11-01,#7133#,#2358#,#38620#,hCoV-19/Belgium/HI-0507421/2020|EPI_ISL_462275|2020-05-07,hCoV-19/England/QEUH-AF674A/2020|EPI_ISL_662999|2020-10-30,#47391#,#46325#,hCoV-19/Portugal/PT0517/2020|EPI_ISL_454241|2020-03-21,#9112#,#5995#,#9278#,hCoV-19/England/QEUH-9992B2/2020|EPI_ISL_541840|2020-08-24,hCoV-19/England/ALDP-BB37EE/2020|EPI_ISL_701701|2020-11-19,hCoV-19/USA/MI-QDX-908/2020|EPI_ISL_571627|2020-03-20,#31384#,hCoV-19/Denmark/DCGC-24246/2020|EPI_ISL_795433|2020-12-28,hCoV-19/Scotland/EDB1436/2020|EPI_ISL_433447|2020-04-12,hCoV-19/Portugal/PT0944/2020|EPI_ISL_511494|2020-04-09,#31150#,#12894#,hCoV-19/England/ALDP-B1B878/2020|EPI_ISL_645929|2020-11-01,#6859#,#20239#,#38696#,#27813#,#46616#,hCoV-19/England/QEUH-96022D/2020|EPI_ISL_531901|2020-08-03,#35587#,hCoV-19/USA/WA-S564/2020|EPI_ISL_434324|2020-03-24,#31413#,#49610#,hCoV-19/India/GJ-GBRC-386a/2020|EPI_ISL_524747|2020-07-11,#8074#,hCoV-19/Senegal/68488/2020|EPI_ISL_482877|2020-06-17,hCoV-19/Denmark/DCGC-25913/2021|EPI_ISL_818391|2021-01-04,#25245#,hCoV-19/England/MILK-630B88/2020|EPI_ISL_556263|2020-07-04,#46892#,#31872#,hCoV-19/Australia/VIC17992/2020|EPI_ISL_779607|2020,#9896#,#21975#,hCoV-19/USA/CA-ALSR-4590/2020|EPI_ISL_667025|2020-07-10,#7959#,hCoV-19/Japan/PG-1980/2020|EPI_ISL_685586|2020-03,#6822#,#4415#,hCoV-19/England/ALDP-C48AD5/2020|EPI_ISL_736577|2020-12-12,#33010#,#2828#,hCoV-19/England/ALDP-9E6A45/2020|EPI_ISL_580359|2020-09-24,#4088#,#14500#,#53973#,hCoV-19/USA/WA-S2021/2020|EPI_ISL_497449|2020-06-05,#30701#,#35321#,hCoV-19/Taiwan/CGMH-CGU-11/2020|EPI_ISL_417524|2020-03-14,#11146#,hCoV-19/England/MILK-A7E4DA/2020|EPI_ISL_638490|2020-10-16,#4545#,#54117#,#33934#,hCoV-19/England/ALDP-CB6735/2020|EPI_ISL_761219|2020-12-17,#44184#,#42865#,#29804#,#6219#,hCoV-19/England/ALDP-B84151/2020|EPI_ISL_675287|2020-11-14,#9496#,hCoV-19/Wales/PHWC-49B6F5/2020|EPI_ISL_742373|2020-12-03,#17484#,#27482#,#22722#,#1850#,#30355#,#32084#,#5550#,#43284#,#22647#,hCoV-19/Argentina/PAIS-C0025/2020|EPI_ISL_792426|2020-05-05,hCoV-19/USA/TX-HMH-920/2020|EPI_ISL_545919|2020-04-17,hCoV-19/England/MILK-B3B010/2020|EPI_ISL_679735|2020-11-01,hCoV-19/Spain/MD-HLP-114/2020|EPI_ISL_530043|2020-05-18,#39452#,hCoV-19/Indonesia/JB-EIJK16/2020|EPI_ISL_574606|2020-04-06,#22696#,hCoV-19/Norway/5756/2020|EPI_ISL_708162|2020-10-28,#3032#,hCoV-19/Brazil/SP-170/2020|EPI_ISL_523969|2020-03-31,#41755#,#25921#,#53807#,hCoV-19/Wales/CAMC-A410DC/2020|EPI_ISL_625438|2020-10-06,#3499#,#48885#,hCoV-19/Luxembourg/LNS6199628/2020|EPI_ISL_744380|2020-10-19,#48061#,hCoV-19/USA/MN-MDH-1044/2020|EPI_ISL_462889|2020-05-11,hCoV-19/Iran/Cento-37431805/2020|EPI_ISL_815256|2020-07-16,hCoV-19/USA/DE-DHSS-F917921/2020|EPI_ISL_576226|2020-03-25,#14729#,hCoV-19/Netherlands/NH-RIVM-10254/2020|EPI_ISL_804423|2020-04-13,hCoV-19/USA/WA-S2359/2020|EPI_ISL_496991|2020-06-11,hCoV-19/Cyprus/002/2020|EPI_ISL_463742|2020-03-22,hCoV-19/England/ALDP-A68B56/2020|EPI_ISL_608606|2020-10-12,hCoV-19/Wales/CAMC-BC2F99/2020|EPI_ISL_859554|2020-11-22,#27601#,#12404#,#21143#,#9387#,#20006#,#42189#,#28793#,#50259#,hCoV-19/Sweden/20-13058/2020|EPI_ISL_831950|2020-12-29,#37844#,hCoV-19/USA/NY-NYCPHL-002069/2020|EPI_ISL_857304|2020-12-22,#53894#,#33208#,hCoV-19/Sweden/20-50249/2020|EPI_ISL_455888|2020-03-08,hCoV-19/USA/CA-CZB-10085/2020|EPI_ISL_672209|2020-06-04,hCoV-19/England/MILK-B56219/2020|EPI_ISL_657413|2020-11-06,#30813#,#25951#,#34317#,#40608#,#32077#,#29741#,#38169#,hCoV-19/England/QEUH-9DA8FF/2020|EPI_ISL_601405|2020-09-21,#45421#,#34326#,hCoV-19/Canada/ON-PHL-20-01325/2020|EPI_ISL_548928|2020-06,#45411#,hCoV-19/Sweden/20-53007/2020|EPI_ISL_615120|2020-09-27,#54367#,hCoV-19/USA/WA-UW-2778/2020|EPI_ISL_486034|2020-03-28,#15857#,hCoV-19/SaudiArabia/KAUST-JEDDAH1026/2020|EPI_ISL_512896|2020-06-17,hCoV-19/England/ALDP-C3C3E8/2020|EPI_ISL_730984|2020-12-10,hCoV-19/USA/LA-EVTL750/2020|EPI_ISL_653441|2020-07-20,#20935#,hCoV-19/Netherlands/ZH-RIVM-20990/2020|EPI_ISL_791009|2020-09-23,#44030#,#30262#,#53795#,hCoV-19/Portugal/PT0513/2020|EPI_ISL_454237|2020-03-20,#24099#,#18317#,hCoV-19/USA/NY-NYUMC409/2020|EPI_ISL_435476|2020-03-30,hCoV-19/England/ALDP-A6D016/2020|EPI_ISL_608169|2020-10-14,hCoV-19/England/ALDP-94EA69/2020|EPI_ISL_554944|2020-06-19,hCoV-19/England/CAMC-D3A3DA/2020|EPI_ISL_799238|2020-12-26,#17070#,hCoV-19/England/ALDP-A95ABD/2020|EPI_ISL_624747|2020-10-19,hCoV-19/Japan/PG-2225/2020|EPI_ISL_685830|2020-04,#35928#,#20717#,hCoV-19/Luxembourg/LNS5350981/2020|EPI_ISL_744221|2020-08-05,#43515#,#15688#,#12721#,#21851#,#5788#,#40010#,hCoV-19/USA/UT-UPHL-2009223/2020|EPI_ISL_525223|2020-05-15,#21900#,#36882#,hCoV-19/England/OXON-B2647/2020|EPI_ISL_479162|2020-04-02,#46470#,hCoV-19/England/CAMC-B35517/2020|EPI_ISL_659476|2020-11-05,#30882#,#41872#,hCoV-19/England/ALDP-B47D92/2020|EPI_ISL_649229|2020-11-07,#48821#,#39987#,hCoV-19/Denmark/DCGC-15844/2020|EPI_ISL_714056|2020-11-23,#36673#,#41248#,#24670#,#22670#,#19076#,#31446#,#49722#,#8734#,hCoV-19/England/ALDP-A707C0/2020|EPI_ISL_608248|2020-10-15,#45470#,#16936#,#1193#,#26844#,hCoV-19/England/QEUH-BA05DB/2020|EPI_ISL_719788|2020-11-18,#41269#,#47665#,hCoV-19/USA/CA-ALSR-3751/2020|EPI_ISL_636181|2020-06-01,#34284#,hCoV-19/England/QEUH-A79545/2020|EPI_ISL_638809|2020-10-10,hCoV-19/USA/WA-S641/2020|EPI_ISL_438194|2020-04-18,hCoV-19/USA/WA-S234/2020|EPI_ISL_430272|2020-02-28,#25187#,#780#,hCoV-19/England/ALDP-B2396B/2020|EPI_ISL_646796|2020-11-04,hCoV-19/England/MILK-97560B/2020|EPI_ISL_552474|2020-08-20,hCoV-19/England/QEUH-B302BB/2020|EPI_ISL_659846|2020-11-04,hCoV-19/USA/CA-LACPHL-AA00003/2020|EPI_ISL_710101|2020-07-31,hCoV-19/Japan/PG-5379/2020|EPI_ISL_690482|2020-08,#11291#,#25952#,#22924#,#42031#,#27612#,#21114#,hCoV-19/Denmark/DCGC-28904/2021|EPI_ISL_844891|2021-01-04,#42220#,#1541#,hCoV-19/Denmark/DCGC-12367/2020|EPI_ISL_682548|2020-11-16,#42816#,#46461#,hCoV-19/Netherlands/ZH-RIVM-20492/2020|EPI_ISL_728707|2020-10-26,#11860#,#2129#,#48146#,#41369#,hCoV-19/Canada/LTRI-1064/2020|EPI_ISL_848190|2020-12-24,#49482#,#23783#,#5136#,#28065#,hCoV-19/Scotland/QEUH-9FB5C4/2020|EPI_ISL_600611|2020-09-29,#9257#,#54396#,#34408#,hCoV-19/USA/NJ-NYUMC627/2020|EPI_ISL_444744|2020-04-02,#15463#,hCoV-19/England/MILK-A91A0C/2020|EPI_ISL_706002|2020-10-19,hCoV-19/England/MILK-AB9B74/2020|EPI_ISL_623697|2020-10-22,#47237#,hCoV-19/England/MILK-ACDDC2/2020|EPI_ISL_630111|2020-10-21,#22954#,#43511#,#43081#,#3314#,hCoV-19/England/QEUH-AAB7AE/2020|EPI_ISL_652813|2020-10-21,#13263#,#43179#,hCoV-19/England/ALDP-AA1E3A/2020|EPI_ISL_625061|2020-10-22,hCoV-19/England/ALDP-B1D612/2020|EPI_ISL_646064|2020-10-31,#34495#,hCoV-19/England/MILK-B56BF0/2020|EPI_ISL_657008|2020-11-05,hCoV-19/Vietnam/IBT-NIHE-16/2020|EPI_ISL_479758|2020-03-28,#17691#,hCoV-19/USA/CA-ALSR-1079-SAN/2020|EPI_ISL_483506|2020-06-23,#9382#,#22822#,hCoV-19/England/ALDP-B7492F/2020|EPI_ISL_662131|2020-11-12,hCoV-19/Scotland/QEUH-9967F2/2020|EPI_ISL_559985|2020-08-31,#4597#,#37180#,#36337#,hCoV-19/England/MILK-B3B906/2020|EPI_ISL_706085|2020-11-02,#7675#,#3466#,#21593#,#47497#,hCoV-19/England/204740531/2020|EPI_ISL_693469|2020-11-14,#9491#,#11863#,hCoV-19/Iceland/149/2020|EPI_ISL_417799|2020-03-13,#42697#,hCoV-19/Brazil/PA-IEC173030/2020|EPI_ISL_848621|2020-04-16,hCoV-19/England/QEUH-A78528/2020|EPI_ISL_638758|2020-10-12,hCoV-19/Norway/4474/2020|EPI_ISL_708029|2020-10-18,hCoV-19/Denmark/DCGC-10712/2020|EPI_ISL_670155|2020-11-02,#26566#,#10641#,hCoV-19/USA/TX-HMH-MCoV-19286/2020|EPI_ISL_783742|2020-11-27,#38477#,#31459#,hCoV-19/Russia/SPE-RII-30769S/2020|EPI_ISL_596228|2020-08-20,#22466#,hCoV-19/Chile/Santiago-JCB953K/2020|EPI_ISL_801571|2020-05-06,hCoV-19/USA/WA-S2565/2020|EPI_ISL_497197|2020-06-18,#11358#,hCoV-19/Portugal/IGC4467/2020|EPI_ISL_491254|2020-06-08,#31192#,hCoV-19/England/QEUH-547C8C/2020|EPI_ISL_533420|2020-05-14,hCoV-19/England/205260443/2020|EPI_ISL_766555|2020-12-14,#22242#,#6496#,hCoV-19/England/CAMC-A582FA/2020|EPI_ISL_596967|2020-10-08,#39763#,#34581#,#22568#,#2263#,#10422#,hCoV-19/England/ALDP-9E5B9E/2020|EPI_ISL_589416|2020-09-24,hCoV-19/Australia/NSW1206/2020|EPI_ISL_667804|2020-11-09,hCoV-19/England/QEUH-C315CF/2020|EPI_ISL_731390|2020-12-11,#18249#,hCoV-19/England/MILK-B567ED/2020|EPI_ISL_657531|2020-11-05,hCoV-19/England/QEUH-B7EB89/2020|EPI_ISL_668055|2020-11-14,#48#,#38356#,#40634#,#40861#,#40819#,#13821#,hCoV-19/England/ALDP-9BDAED/2020|EPI_ISL_568162|2020-09-09,hCoV-19/England/ALDP-9CD543/2020|EPI_ISL_566339|2020-09-16,#30384#,#33260#,#45422#,hCoV-19/Netherlands/NB-RIVM-21167/2020|EPI_ISL_824083|2020-12-23,#53770#,#85#,hCoV-19/England/CAMB-7B853/2020|EPI_ISL_442170|2020-04-05,hCoV-19/USA/WA-S920/2020|EPI_ISL_463410|2020-04-25,#17185#,#29440#,#14766#,#25661#,#50683#,hCoV-19/India/GJ-GBRC-382a/2020|EPI_ISL_525419|2020-06-18,#40318#,#34412#,hCoV-19/England/MILK-ACE444/2020|EPI_ISL_629348|2020-10-21,#34143#,#22009#,hCoV-19/USA/WA-S555/2020|EPI_ISL_434315|2020-03-30,hCoV-19/England/QEUH-9F663F/2020|EPI_ISL_588392|2020-09-25,#3116#,hCoV-19/England/OXON-B1EF5/2020|EPI_ISL_479101|2020-04-15,#23314#,#26577#,#37932#,#35060#,hCoV-19/USA/VA-DCLS-0106/2020|EPI_ISL_434598|2020-04-14,#23307#,hCoV-19/India/WB-S3/2020|EPI_ISL_430464|2020-03-21,#44341#,#38239#,#49448#,hCoV-19/Sweden/20-51349/2020|EPI_ISL_455106|2020-05-11,#4859#,hCoV-19/Netherlands/ZH-EMC-1026/2020|EPI_ISL_722658|2020-11-16,#24572#,#20238#,hCoV-19/England/MILK-C30812/2020|EPI_ISL_782750|2020-12-07,#28580#,hCoV-19/Denmark/DCGC-1065/2020|EPI_ISL_614490|2020-05-25,hCoV-19/Austria/Graz-MUG11/2020|EPI_ISL_437300|2020-04-14,hCoV-19/Netherlands/NoordHolland_10006/2020|EPI_ISL_454755|2020-03-03,hCoV-19/Bangladesh/DNAS_DRICM_isl_EK-91/2020|EPI_ISL_774994|2020-07-10,#51541#,hCoV-19/USA/UT-UPHL-201108464/2020|EPI_ISL_648585|2020-05-13,#4319#,hCoV-19/Japan/PG-7368/2020|EPI_ISL_688470|2020-06,#13115#,hCoV-19/Beijing/DT-travelUK03/2020|EPI_ISL_452356|2020-03-21,hCoV-19/Wales/PHWC-2B60D/2020|EPI_ISL_445735|2020-04-13,#42319#,hCoV-19/Sweden/20-08126/2020|EPI_ISL_454442|2020-03-09,#36646#,hCoV-19/USA/CA-ALSR-3193/2020|EPI_ISL_635907|2020-06-02,#10910#,#765#,#45491#,#30596#,#43362#,hCoV-19/USA/MN-MDH-1630/2020|EPI_ISL_539824|2020-04-28,#35801#,#28528#,#33894#,hCoV-19/England/204640953/2020|EPI_ISL_683481|2020-11-09,#44075#,#30067#,hCoV-19/Iraq/USAFSAM-S083/2020|EPI_ISL_812278|2020-06-16,hCoV-19/USA/TX-HMH-MCoV-8272/2020|EPI_ISL_784302|2020-07-05,#14990#,hCoV-19/Scotland/QEUH-9606E5/2020|EPI_ISL_531982|2020-08-05,hCoV-19/England/CAMC-B330CD/2020|EPI_ISL_659281|2020-11-05,hCoV-19/England/LEED-2A9D2E/2020|EPI_ISL_538972|2020-03-29,#9538#,#49690#,#27377#,#2467#,hCoV-19/England/ALDP-BB9F4A/2020|EPI_ISL_701796|2020-11-23,#33261#,#13262#,hCoV-19/England/CAMC-9DFCFE/2020|EPI_ISL_576934|2020-09-21,#21614#,#41290#,#28937#,#43516#,hCoV-19/England/ALDP-4A3539/2020|EPI_ISL_559437|2020-05-27,#27542#,#27600#,#28504#,#48174#,hCoV-19/England/MILK-A7B09D/2020|EPI_ISL_607593|2020-10-14,hCoV-19/Denmark/DCGC-2172/2020|EPI_ISL_617471|2020-08-10,#36799#,#12379#,hCoV-19/England/ALDP-A2D267/2020|EPI_ISL_586641|2020-10-06,hCoV-19/Bangladesh/BCSIR-NILMRC-374/2020|EPI_ISL_514250|2020-07-31,#31438#,hCoV-19/France/CVL-8280/2020|EPI_ISL_560575|2020-04-07,#46056#,hCoV-19/Wales/PHWC-4A4D8B/2020|EPI_ISL_764788|2020-12-09,hCoV-19/USA/NY-MSHSPSP-PV17134/2020|EPI_ISL_802181|2020-08-19,hCoV-19/USA/LA-EVTL808/2020|EPI_ISL_653499|2020-07-24,hCoV-19/Sweden/20-09937/2020|EPI_ISL_788994|2020-12-23,#15230#,#22032#,#29989#,#10320#,#21616#,hCoV-19/Hungary/UD-91623/2020|EPI_ISL_671483|2020-10-06,#44287#,#10537#,hCoV-19/England/ALDP-A6FDB3/2020|EPI_ISL_607147|2020-10-14,#20831#,#44408#,hCoV-19/Denmark/DCGC-23618/2020|EPI_ISL_793853|2020-12-21,hCoV-19/Denmark/DCGC-18926/2020|EPI_ISL_748643|2020-12-07,#44083#,hCoV-19/Luxembourg/LNS8583405/2020|EPI_ISL_771081|2020-12-23,hCoV-19/England/ALDP-A8632D/2020|EPI_ISL_606054|2020-10-17,#44312#,hCoV-19/Netherlands/NA_359/2020|EPI_ISL_455163|2020-04-07,#25300#,#4412#,#40300#,#25476#,#47042#,hCoV-19/Portugal/PT1620/2020|EPI_ISL_693621|2020-07-09,#37930#,#9292#,#5024#,hCoV-19/Japan/PG-3045/2020|EPI_ISL_691168|2020-04,hCoV-19/England/SHEF-C051C/2020|EPI_ISL_420238|2020-03-22,#42032#,hCoV-19/Luxembourg/LNS3483404/2020|EPI_ISL_740314|2020-07-18,hCoV-19/Australia/VIC7012/2020|EPI_ISL_564197|2020-07-24,hCoV-19/Wales/PHWC-48D2A7/2020|EPI_ISL_680600|2020-11-14,#26931#,hCoV-19/USA/WI-UW-183/2020|EPI_ISL_428279|2020-03-22,#38357#,#30079#,hCoV-19/Luxembourg/LNS2500324/2020|EPI_ISL_740131|2020-10-09,#29672#,#16662#,#50422#,#17030#,#49682#,hCoV-19/Netherlands/NB-RIVM-20670/2020|EPI_ISL_790576|2020-12-18,hCoV-19/Japan/IC-0162/2020|EPI_ISL_667591|2020-09,#29815#,hCoV-19/USA/LA-EVTL536/2020|EPI_ISL_578940|2020-06-26,#15123#,#16469#,hCoV-19/Canada/ON-PHL-20-00049/2020|EPI_ISL_548726|2020,#53558#,#35571#,hCoV-19/USA/CA-CZB-1021/2020|EPI_ISL_436662|2020-04-11,hCoV-19/England/MILK-993036/2020|EPI_ISL_552167|2020-08-26,#24173#,hCoV-19/England/ALDP-CB4597/2020|EPI_ISL_760897|2020-12-19,#42645#,#24734#,hCoV-19/USA/WA-S1871/2020|EPI_ISL_496297|2020-05-27,hCoV-19/Uganda/UG121/2020|EPI_ISL_738028|2020-09-01,#15257#,#12857#,#4411#,#17028#,#2705#,#6941#,#43499#,hCoV-19/Netherlands/ZH-EMC-389/2020|EPI_ISL_523729|2020-08-02,hCoV-19/England/ALDP-B24997/2020|EPI_ISL_647092|2020-11-04,hCoV-19/Netherlands/UT-RIVM-20166/2020|EPI_ISL_723332|2020-11-30,#45149#,#27442#,hCoV-19/England/QEUH-AA033C/2020|EPI_ISL_611340|2020-10-20,hCoV-19/USA/LA-EVTL859/2020|EPI_ISL_653550|2020-07-01,hCoV-19/England/ALDP-90FB70/2020|EPI_ISL_557152|2020-06-24,hCoV-19/Denmark/DCGC-2148/2020|EPI_ISL_617446|2020-08-10,#44877#,hCoV-19/Netherlands/NA_394/2020|EPI_ISL_455196|2020-03-31,hCoV-19/Denmark/DCGC-2579/2020|EPI_ISL_616415|2020-08-17,#21292#,hCoV-19/Netherlands/ZH-EMC-1218/2020|EPI_ISL_763288|2020-12-17,hCoV-19/Denmark/DCGC-19228/2020|EPI_ISL_748370|2020-12-07,#9394#,hCoV-19/USA/MD-MDH-0088/2020|EPI_ISL_522824|2020-05-24,hCoV-19/Brazil/PA-IEC173012/2020|EPI_ISL_848618|2020-04-25,#15537#,#37411#,#45158#,hCoV-19/USA/MN-MDH-1930/2020|EPI_ISL_613496|2020-10-09,#19898#,#26898#,#13114#,hCoV-19/USA/MN-MDH-1042/2020|EPI_ISL_462887|2020-05-07,#8178#,#19304#,#48762#,#28618#,hCoV-19/Denmark/DCGC-23809/2020|EPI_ISL_793308|2020-12-21,hCoV-19/England/MILK-C52C78/2020|EPI_ISL_736329|2020-12-12,hCoV-19/USA/CA-CZB-10891/2020|EPI_ISL_583123|2020-08-11,hCoV-19/England/ALDP-B761DA/2020|EPI_ISL_723744|2020-11-12,#27188#,#2975#,#20828#,#7765#,#49774#,hCoV-19/USA/PA-MGEL-00219/2020|EPI_ISL_681967|2020-04-14,hCoV-19/England/MILK-B3A06C/2020|EPI_ISL_706014|2020-10-31,#3736#,#31436#,#20795#,#44802#,hCoV-19/USA/CA-UCLA-219/2020|EPI_ISL_537525|2020-06-03,#23238#,#40000#,hCoV-19/USA/NY-MSHSPSP-PV19205/2020|EPI_ISL_802282|2020-09-27,hCoV-19/Denmark/DCGC-24741/2020|EPI_ISL_795708|2020-12-28,hCoV-19/USA/TX-HMH-MCoV-18379/2020|EPI_ISL_784727|2020-11-18,#52820#,hCoV-19/England/ALDP-B73401/2020|EPI_ISL_662597|2020-11-12,#13117#,#27603#,#10345#,#18084#,#2829#,#21860#,hCoV-19/Denmark/DCGC-2374/2020|EPI_ISL_617714|2020-08-10,hCoV-19/Germany/BE-ChVir8329/2020|EPI_ISL_729584|2020-08-01,hCoV-19/England/20116025603/2020|EPI_ISL_418670|2020-03-11,hCoV-19/USA/WA-S326/2020|EPI_ISL_434086|2020-04-01,hCoV-19/USA/MA-MGH-00028/2020|EPI_ISL_460469|2020-03-25,#45192#,hCoV-19/England/ALDP-B23F2D/2020|EPI_ISL_646309|2020-11-04,#2463#,hCoV-19/Brazil/PA-IEC-164747/2020|EPI_ISL_524783|2020-04-28,#41287#,#51005#,#122#,#21914#,#54530#,hCoV-19/England/MILK-C2FA89/2020|EPI_ISL_733657|2020-12-07,hCoV-19/Scotland/QEUH-AAE2F5/2020|EPI_ISL_652968|2020-10-22,#33432#,#19300#,hCoV-19/Denmark/DCGC-29754/2020|EPI_ISL_843801|2020-12-28,hCoV-19/Brazil/SP-694/2020|EPI_ISL_693237|2020-07-01,#37434#,hCoV-19/USA/WI-UW-1049/2020|EPI_ISL_516475|2020-08-01,hCoV-19/Japan/IC-0276/2020|EPI_ISL_667705|2020-11,#11889#,hCoV-19/England/TFCI-26FA207/2020|EPI_ISL_816768|2020-04-16,#30588#,#17534#,hCoV-19/Canada/ON-PHL-20-00011/2020|EPI_ISL_548694|2020,hCoV-19/Japan/IC-0014/2020|EPI_ISL_591359|2020-03,#50832#,#12394#,hCoV-19/Iceland/3899/2020|EPI_ISL_827595|2020-10-05,hCoV-19/USA/CA-CZB-12945/2020|EPI_ISL_672367|2020-10-19,#49887#,#49424#,#29805#,#22703#,#16984#,#46434#,#45499#,#26181#,hCoV-19/England/ALDP-B2440F/2020|EPI_ISL_646859|2020-11-04,hCoV-19/England/ALDP-A51C8A/2020|EPI_ISL_598179|2020-10-07,#44992#,hCoV-19/Brazil/SP-146/2020|EPI_ISL_468311|2020-03-26,#50356#,#54023#,hCoV-19/Denmark/DCGC-28780/2021|EPI_ISL_845195|2021-01-04,#52268#,hCoV-19/England/CAMC-B98011/2020|EPI_ISL_674847|2020-11-15,#42321#,hCoV-19/USA/NE-11647/2020|EPI_ISL_466680|2020-05-05,#38251#,hCoV-19/Denmark/DCGC-17353/2020|EPI_ISL_750401|2020-12-14,#11498#,#36881#,hCoV-19/England/CAMC-BD1A96/2020|EPI_ISL_702152|2020-11-27,#23852#,#1329#,#21617#,hCoV-19/DRC/4250/2020|EPI_ISL_471415|2020-04-28,#50226#,hCoV-19/USA/WI-UW-462/2020|EPI_ISL_484837|2020-06-06,hCoV-19/USA/WI-WSLH-201579/2020|EPI_ISL_803717|2020-10-22,#7968#,#1187#,hCoV-19/USA/FL-BPHL-1468/2020|EPI_ISL_549250|2020-05-08,hCoV-19/England/CAMC-BC2F6C/2020|EPI_ISL_801031|2020-11-23,hCoV-19/USA/CA-ALSR-1095-SAN/2020|EPI_ISL_483522|2020-06-18,#46812#,hCoV-19/USA/MN-MDH-1004/2020|EPI_ISL_462849|2020-04-30,#5365#,hCoV-19/India/GJ-GBRC250b/2020|EPI_ISL_483834|2020-06-12,#36277#,#38294#,hCoV-19/England/ALDP-AA0A73/2020|EPI_ISL_625103|2020-10-22,#25632#,hCoV-19/England/ALDP-9BEAEC/2020|EPI_ISL_568036|2020-09-09,hCoV-19/England/CAMC-B357A8/2020|EPI_ISL_659546|2020-11-05,#6665#,#26227#,#7335#,hCoV-19/USA/NY-Wadsworth-287496-01/2020|EPI_ISL_767463|2020-12-15,#3460#,#35819#,hCoV-19/Israel/CVL-n-6005/2020|EPI_ISL_474980|2020-03-15,#51802#,#43819#,hCoV-19/England/QEUH-9F5CB6/2020|EPI_ISL_588425|2020-09-25,hCoV-19/England/QEUH-B8250C/2020|EPI_ISL_668366|2020-11-14,hCoV-19/Portugal/IGC4391/2020|EPI_ISL_491244|2020-06-07,#25862#,hCoV-19/England/ALDP-A87878/2020|EPI_ISL_606230|2020-10-17,#40865#,#13261#,hCoV-19/Finland/2A10SVIIC/2020|EPI_ISL_481650|2020-04-02,hCoV-19/USA/UT-UPHL-2008794/2020|EPI_ISL_524821|2020-05-23,#43230#,#31387#,#53838#,#53111#,hCoV-19/Wales/PHWC-49F3BE/2020|EPI_ISL_743207|2020-12-07,hCoV-19/Mexico/CMX-INER-0084/2020|EPI_ISL_837682|2020-04-29,hCoV-19/England/ALDP-B1FAAB/2020|EPI_ISL_646012|2020-11-01,#52133#,#24133#,hCoV-19/England/ALDP-B23682/2020|EPI_ISL_647011|2020-11-04,hCoV-19/USA/CA-ALSR-2620/2020|EPI_ISL_635591|2020-07-10,hCoV-19/England/ALDP-94492A/2020|EPI_ISL_555630|2020-06-07,#10139#,#25216#,#50347#,hCoV-19/Australia/VIC8876/2020|EPI_ISL_565255|2020-07-24,#47910#,hCoV-19/Brazil/SP-256/2020|EPI_ISL_534320|2020-05-05,#51545#,#11536#,hCoV-19/England/QEUH-D1243F/2020|EPI_ISL_799462|2020-12-27,#32580#,hCoV-19/India/GJ-GBRC254a/2020|EPI_ISL_483840|2020-06-12,#15973#,#44340#,#54144#,hCoV-19/England/ALDP-B75EA7/2020|EPI_ISL_740946|2020-11-12,hCoV-19/England/QEUH-AF49A0/2020|EPI_ISL_662936|2020-10-30,#41027#,#53912#,#33154#,#2316#,#18126#,#51207#,#8113#,#15434#,#4414#,#23052#,#32201#,hCoV-19/England/QEUH-A00561/2020|EPI_ISL_584888|2020-10-02,hCoV-19/England/ALDP-AC5E30/2020|EPI_ISL_631035|2020-10-14,#9490#,#23646#,#32303#,#16572#,#50658#,#45635#,#26670#,#46790#,#39998#,#14965#,hCoV-19/USA/CA-CZB-10876/2020|EPI_ISL_583115|2020-08-03,#14192#,#22777#,hCoV-19/USA/NY-NYCPHL-001440/2020|EPI_ISL_683805|2020-11-23,#42829#,#14402#,#5180#,hCoV-19/Denmark/DCGC-13097/2020|EPI_ISL_712322|2020-11-30,#43549#,#17517#,hCoV-19/USA/VA-DCLS-0406/2020|EPI_ISL_467800|2020-04-22,hCoV-19/Luxembourg/LNS4455115/2020|EPI_ISL_740471|2020-08-06,#20688#,hCoV-19/Beijing/DT-travelIT01/2020|EPI_ISL_452352|2020-03-05,hCoV-19/England/ALDP-BBB458/2020|EPI_ISL_701924|2020-11-21,hCoV-19/Denmark/DCGC-24898/2020|EPI_ISL_795277|2020-12-28,#53641#,#42899#,hCoV-19/Wales/ALDP-C39A40/2020|EPI_ISL_767198|2020-12-08,#42509#,hCoV-19/Iraq/USAFSAM-S076/2020|EPI_ISL_812271|2020-06-16,#21813#,#47309#,hCoV-19/England/ALDP-C6B8C3/2020|EPI_ISL_778517|2020-12-14,hCoV-19/England/MILK-971326/2020|EPI_ISL_553106|2020-08-19,hCoV-19/India/GJ-GBRC-384a/2020|EPI_ISL_524744|2020-06-22,hCoV-19/Wales/PHWC-16F657/2020|EPI_ISL_585999|2020-10-04,#16256#,hCoV-19/Wales/PHWC-49C023/2020|EPI_ISL_742496|2020-12-07,#16612#,#7153#,#13224#,#53138#,#40360#,#25031#,#28957#,#16765#,hCoV-19/USA/WA-S813/2020|EPI_ISL_449983|2020-04-15,#17770#,#35657#,#7750#,#5132#,hCoV-19/USA/NE-11518/2020|EPI_ISL_475225|2020-05-05,#924#,hCoV-19/USA/WA-S2329/2020|EPI_ISL_496961|2020-06-10,#13687#,hCoV-19/England/CAMC-942D11/2020|EPI_ISL_556878|2020-07-23,#35917#,hCoV-19/USA/MN-MDH-1344/2020|EPI_ISL_496930|2020-03-26,#4595#,#54473#,hCoV-19/USA/WA-S2285/2020|EPI_ISL_497713|2020-06-10,#32313#,#22889#,hCoV-19/England/CAMC-BD4644/2020|EPI_ISL_702060|2020-11-27,hCoV-19/England/ALDP-8FEC72/2020|EPI_ISL_551368|2020-06-24,#27381#,#49943#,#30188#,#4800#,hCoV-19/France/ARA-SC184/2020|EPI_ISL_700360|2020-03-30,#7557#,hCoV-19/Scotland/CVR2711/2020|EPI_ISL_484651|2020-04-18,#2901#,hCoV-19/England/QEUH-B0E535/2020|EPI_ISL_641913|2020-11-02,#38907#,hCoV-19/Brazil/SP-391/2020|EPI_ISL_574598|2020-06-20,#11610#,#40784#,hCoV-19/Luxembourg/LNS1689160/2020|EPI_ISL_739978|2020-06-28,hCoV-19/England/MILK-9EF1FC/2020|EPI_ISL_594908|2020-09-24,#24404#,#17401#,hCoV-19/Canada/ON-PHL-20-01808/2020|EPI_ISL_636952|2020-06,hCoV-19/Japan/TKYE622391/2020|EPI_ISL_649130|2020-07,#26569#,#4157#,#41193#,#22925#,hCoV-19/Australia/VIC752/2020|EPI_ISL_427029|2020-03-30,hCoV-19/England/ALDP-CB4DAE/2020|EPI_ISL_761285|2020-12-18,#51093#,#34059#,hCoV-19/USA/IL-NM0103/2020|EPI_ISL_444588|2020-03-21,#5979#,#18658#,#7923#,#39837#,#10#,hCoV-19/England/QEUH-9FA2BF/2020|EPI_ISL_595797|2020-09-25,#1246#,#50492#,hCoV-19/USA/TX-HMH-8008/2020|EPI_ISL_545786|2020-07-07,hCoV-19/Wales/PHWC-1642D6/2020|EPI_ISL_474156|2020-04-29,#20851#,#5789#,#36134#,hCoV-19/Bangladesh/DNAS_DRCIM_isl_HH-12/2020|EPI_ISL_774949|2020-06-30,hCoV-19/Belgium/UGent-69/2020|EPI_ISL_451180|2020-04-14,hCoV-19/England/ALDP-A9409E/2020|EPI_ISL_610974|2020-10-19,#19857#,hCoV-19/England/MILK-BDC55E/2020|EPI_ISL_709588|2020-11-27,hCoV-19/Australia/VIC3266/2020|EPI_ISL_520945|2020-07-10,#38362#,hCoV-19/USA/LA-EVTL499/2020|EPI_ISL_578903|2020-07-30,hCoV-19/England/NORT-28D063/2020|EPI_ISL_665787|2020-10-06,#22081#,#9630#,#27628#,#31441#,hCoV-19/France/OCC-181/2020|EPI_ISL_751499|2020-10-01,#5283#,#38517#,#34468#,#15409#,hCoV-19/USA/MI-UM-10036324614/2020|EPI_ISL_596614|2020-10-07,#40645#,hCoV-19/USA/TX-HMH-4879/2020|EPI_ISL_544397|2020-06-22,#34003#,hCoV-19/USA/WA-S1980/2020|EPI_ISL_497408|2020-06-03,#24649#,hCoV-19/England/ALDP-9FD36E/2020|EPI_ISL_587964|2020-10-02,#9691#,#256#,#36597#,#22855#,#48840#,#9492#,#36338#,#26895#,#8943#,hCoV-19/Brazil/RJ-00409/2020|EPI_ISL_717811|2020-04-16,#49965#,#10701#,hCoV-19/Wales/PHWC-16EC74/2020|EPI_ISL_585844|2020-10-06,#29973#,hCoV-19/Denmark/DCGC-11751/2020|EPI_ISL_671112|2020-10-26,hCoV-19/Iceland/6444/2020|EPI_ISL_830118|2020-09-22,#34507#,#911#,#20244#,hCoV-19/USA/CA-ALSR-1050-SAN/2020|EPI_ISL_483483|2020-06-21,#4413#,#54106#,#45357#,#39189#,#51742#,hCoV-19/Spain/EX-ISCIII-201654/2020|EPI_ISL_539559|2020-03-07,#22387#,hCoV-19/Netherlands/UT-EMC-243/2020|EPI_ISL_801493|2020-12-23,#14735#,#54352#,#49222#,#27516#,#9793#,#6051#,#33506#,#41660#,#2770#,#54062#,#39831#,#10283#,#38684#,hCoV-19/Wales/ALDP-BCA7C6/2020|EPI_ISL_710750|2020-11-23,hCoV-19/Japan/DP0357/2020|EPI_ISL_416598|2020-02-16,#14018#,#37648#,hCoV-19/Luxembourg/LNS4847366/2020|EPI_ISL_744147|2020-07-13,hCoV-19/Japan/IC-0197/2020|EPI_ISL_667626|2020-07,#12268#,hCoV-19/Brazil/RJ-00414/2020|EPI_ISL_717816|2020-09-03,#25937#,hCoV-19/England/CAMC-9B1FEA/2020|EPI_ISL_549404|2020-09-04,hCoV-19/Japan/IC-0272/2020|EPI_ISL_667701|2020-11,#32955#,#51741#,#29313#,hCoV-19/England/NOTT-11469D/2020|EPI_ISL_577187|2020-10-06,#641#,#13683#,#25592#,hCoV-19/Canada/QC-LSPQ-L00235607/2020|EPI_ISL_536102|2020-03-24,#11791#,hCoV-19/England/ALDP-9D792C/2020|EPI_ISL_576599|2020-09-18,#15375#,#18870#,#32978#,#36935#,#21252#,hCoV-19/USA/MN-MDH-1012/2020|EPI_ISL_462857|2020-04-30,hCoV-19/USA/WA-S2413/2020|EPI_ISL_497045|2020-06-15,#7304#,#26874#,hCoV-19/England/MILK-97499A/2020|EPI_ISL_575789|2020-08-20,hCoV-19/England/QEUH-B9F37B/2020|EPI_ISL_721001|2020-11-18,hCoV-19/Luxembourg/LNS1807556/2020|EPI_ISL_739995|2020-07-15,#6050#,hCoV-19/USA/WA-UW-23257/2020|EPI_ISL_576412|2020-08-07,#52022#,hCoV-19/England/MILK-A46602/2020|EPI_ISL_598587|2020-10-05,#9370#,#46238#,hCoV-19/England/MILK-B3CBD2/2020|EPI_ISL_706190|2020-11-01,#24595#,#41231#,#15546#,hCoV-19/England/QEUH-B0E15F/2020|EPI_ISL_641917|2020-11-02,#21385#,#5133#,hCoV-19/France/HDF-5662/2020|EPI_ISL_443287|2020-04-03,#35430#,#27540#,#23702#,hCoV-19/England/ALDP-C392A2/2020|EPI_ISL_731473|2020-12-08,#32990#,hCoV-19/India/GJ-GBRC172/2020|EPI_ISL_467034|2020-06-05,#35604#,#23436#,#16733#,#35658#,hCoV-19/England/MILK-B896C6/2020|EPI_ISL_675938|2020-11-13,#34154#,hCoV-19/England/QEUH-9DDBB7/2020|EPI_ISL_599621|2020-09-21,hCoV-19/USA/TX-HMH-MCoV-15158/2020|EPI_ISL_786642|2020-10-20,#17032#,hCoV-19/USA/TX-HMH-MCoV-15141/2020|EPI_ISL_786625|2020-10-17,hCoV-19/England/ALDP-94D6B1/2020|EPI_ISL_555059|2020-06-15,hCoV-19/Denmark/DCGC-27619/2020|EPI_ISL_815784|2020-12-21,hCoV-19/Brazil/PB-16526/2020|EPI_ISL_792568|2020-06-26,#11553#,#15122#,hCoV-19/USA/LA-EVTL328/2020|EPI_ISL_578734|2020-05-19,#20844#,#21416#,hCoV-19/Peru/LIM-UPCH-0083/2020|EPI_ISL_540961|2020-06-18,#18007#,#15334#,#19996#,#7285#,#37021#,hCoV-19/Germany/BY-Cento-34375620/2020|EPI_ISL_815348|2020-09-28,hCoV-19/India/GJ-GBRC139a/2020|EPI_ISL_458097|2020-05-24,hCoV-19/Luxembourg/LNS4028717/2020|EPI_ISL_740404|2020-07-02,hCoV-19/USA/TX-HMH-MCoV-13805/2020|EPI_ISL_787098|2020-08-18,hCoV-19/Luxembourg/LNS4563609/2020|EPI_ISL_740497|2020-10-29,#39449#,#47499#,#34616#,hCoV-19/England/CAMC-9DFD73/2020|EPI_ISL_576937|2020-09-21,hCoV-19/USA/CA-ALSR-3598/2020|EPI_ISL_636104|2020-06-24,#7912#,#54357#,#19790#,#4656#,hCoV-19/Luxembourg/LNS6959492/2020|EPI_ISL_744486|2020-07-16,hCoV-19/England/LOND-124D952/2020|EPI_ISL_584625|2020,#43600#,#15677#,#20245#,#49968#,#54531#,#1268#,#29480#,#50212#,#6052#,#22638#,#44545#,#13116#,#47749#,hCoV-19/USA/WA-UW-11656/2020|EPI_ISL_570455|2020-06-18,#12910#,#40196#,#26651#,#11995#,hCoV-19/Wales/PHWC-4AC6D3/2020|EPI_ISL_823584|2020-12-13,#18495#,#18430#,#7747#,#223#,#53853#,#44153#,#31188#,#49034#,#11584#,hCoV-19/USA/TX-HMH-6029/2020|EPI_ISL_547178|2020-06-30,#35793#,#30065#,#30579#,hCoV-19/Chile/Santiago-PUC_MVL_0269/2020|EPI_ISL_801751|2020-04-30,hCoV-19/England/NORT-299495/2020|EPI_ISL_492489|2020-04-24,hCoV-19/England/QEUH-543A95/2020|EPI_ISL_533362|2020-05-14,#19216#,#42080#,hCoV-19/England/CAMC-A82D8D/2020|EPI_ISL_610763|2020-10-14,#51847#,hCoV-19/Brazil/PA-IEC173015/2020|EPI_ISL_848620|2020-04-24,hCoV-19/Luxembourg/LNS7680363/2020|EPI_ISL_744612|2020-10-20,#41898#,#42081#,hCoV-19/Australia/NSW05/2020|EPI_ISL_412975|2020-02-28,#38833#,#5804#,#39143#,hCoV-19/England/MILK-B5653E/2020|EPI_ISL_657710|2020-11-06,#13600#,#27399#,#51849#,hCoV-19/Canada/QC-LSPQ-L00242384/2020|EPI_ISL_536319|2020-03-29,#37591#,#31389#,#14912#,hCoV-19/England/MILK-B564C8/2020|EPI_ISL_657688|2020-11-05,#43919#,#9639#,#16405#,#54079#,#39104#,#13474#,#20230#,#44466#,#43620#,hCoV-19/Iceland/3585/2020|EPI_ISL_827277|2020-10-17,hCoV-19/England/BRIS-1854169/2020|EPI_ISL_492383|2020-04-28,hCoV-19/Netherlands/NH-RIVM-20049/2020|EPI_ISL_723234|2020-11-08,#21566#,hCoV-19/Taiwan/812/2021|EPI_ISL_857314|2021-01-02,hCoV-19/England/ALDP-A5140A/2020|EPI_ISL_598155|2020-10-08,#36084#,#12120#,#32128#,#19221#,#33904#,#9083#,#54384#,#15685#,#47967#,#45525#,hCoV-19/Japan/PG-0452/2020|EPI_ISL_480114|2020-03-21,#18116#,#8590#,hCoV-19/USA/NY-Wadsworth-287498-01/2020|EPI_ISL_767464|2020-12-15,#32381#,hCoV-19/Luxembourg/LNS5215473/2020|EPI_ISL_744202|2020-07-28,#17026#,hCoV-19/England/QEUH-9CA6E9/2020|EPI_ISL_567421|2020-09-10,#40758#,#22641#,#18496#,hCoV-19/Algeria/G37318-8849/2020|EPI_ISL_766863|2020-06-15,#31293#,hCoV-19/Wales/PHWC-4A9348/2020|EPI_ISL_815167|2020-12-19,#48844#,#32420#,#26383#,hCoV-19/England/ALDP-A5257F/2020|EPI_ISL_598225|2020-10-07,hCoV-19/USA/MN-MDH-1943/2020|EPI_ISL_613483|2020-09-21,#44953#,hCoV-19/USA/WA-S473/2020|EPI_ISL_434233|2020-04-03,#53413#,#22600#,hCoV-19/USA/NY-NYCPHL-001437/2020|EPI_ISL_683803|2020-11-23,hCoV-19/Japan/PG-6823/2020|EPI_ISL_687931|2020-05,#21747#,hCoV-19/England/QEUH-AF6953/2020|EPI_ISL_662921|2020-10-30,hCoV-19/Turkey/HSGM-1492/2020|EPI_ISL_437320|2020-03-19,#44440#,hCoV-19/Germany/HE-Cento-32407156/2020|EPI_ISL_815263|2020-08-14,#44803#,#33483#,hCoV-19/Tunisia/6736/2020|EPI_ISL_707792|2020-03-31,hCoV-19/England/QEUH-C3240D/2020|EPI_ISL_782506|2020-12-11,#25651#,hCoV-19/England/ALDP-94A9F7/2020|EPI_ISL_555830|2020-06-11,#33682#,hCoV-19/Ukraine/203100318/2020|EPI_ISL_512598|2020-06-23,#25963#,#15630#,#12985#,#27426#,#15509#,hCoV-19/Spain/CT-HUVH-78936/2020|EPI_ISL_824442|2020-07-20,#42603#,#42414#,#46512#,hCoV-19/Denmark/DCGC-17039/2020|EPI_ISL_750394|2020-12-14,hCoV-19/England/C200044483/2020|EPI_ISL_666764|2020-11-06,hCoV-19/Netherlands/NB-EMC-231/2020|EPI_ISL_523354|2020-05-01,#38862#,#16257#,hCoV-19/England/204881101/2020|EPI_ISL_754287|2020-11-26,#52076#,#51418#,#36506#,hCoV-19/England/QEUH-B9FD13/2020|EPI_ISL_721073|2020-11-18,#43828#,#33410#,hCoV-19/England/QEUH-787301/2020|EPI_ISL_533182|2020-07-15,#43543#,hCoV-19/USA/CA-UCLA-224/2020|EPI_ISL_537531|2020-06-15,#46090#,#13386#,#27834#,#22922#,#11967#,hCoV-19/USA/WA-S2405/2020|EPI_ISL_497037|2020-06-15,#5282#,#31098#,hCoV-19/England/QEUH-9F5445/2020|EPI_ISL_638677|2020-09-25,#15758#,#7522#,#27602#,hCoV-19/USA/WI-WSLH-201134/2020|EPI_ISL_803375|2020-10-14,#4596#,hCoV-19/England/CAMB-7D97C/2020|EPI_ISL_441773|2020-04-06,hCoV-19/England/ALDP-94E51D/2020|EPI_ISL_555415|2020-06-16,#14376#,hCoV-19/India/GJ-GBRC-416a/2020|EPI_ISL_586544|2020-07-11,#19190#,hCoV-19/USA/MN-MDH-1002/2020|EPI_ISL_462847|2020-04-30,#17658#,#45524#,#9145#,#35273#,#1689#,#30581#,hCoV-19/USA/LA-EVTL1152/2020|EPI_ISL_768421|2020-12-10,hCoV-19/Netherlands/GE-EMC-237/2020|EPI_ISL_523216|2020,hCoV-19/Denmark/DCGC-12410/2020|EPI_ISL_682591|2020-11-16,#30619#,#48151#,#19396#,#417#,hCoV-19/England/ALDP-A6E18B/2020|EPI_ISL_607652|2020-10-15,hCoV-19/Wales/PHWC-49CDD1/2020|EPI_ISL_742689|2020-12-09,hCoV-19/USA/WA-S2673/2020|EPI_ISL_497305|2020-06-22,hCoV-19/USA/CT-UW-6569/2020|EPI_ISL_437868|2020-04-02,#41879#,#25268#,#54372#,hCoV-19/USA/ME-HETL-J0491/2020|EPI_ISL_832829|2020-12-29,#3498#,#38697#,hCoV-19/Denmark/DCGC-10681/2020|EPI_ISL_670133|2020-11-02,#1647#,#39570#,#30359#,hCoV-19/England/SHEF-C724B/2020|EPI_ISL_453722|2020-04-21,hCoV-19/England/ALDP-982A4B/2020|EPI_ISL_552526|2020-08-09,hCoV-19/Denmark/DCGC-14052/2020|EPI_ISL_711316|2020-11-30,#42320#,#51927#,#23422#,#43368#,#8744#,#45238#,#28390#,hCoV-19/England/QEUH-9FAE51/2020|EPI_ISL_588100|2020-09-25,hCoV-19/England/ALDP-9EA48F/2020|EPI_ISL_580077|2020-09-24,hCoV-19/Denmark/DCGC-18029/2020|EPI_ISL_749383|2020-12-14,hCoV-19/Denmark/DCGC-11726/2020|EPI_ISL_671097|2020-10-26,#36835#,#31034#,#41329#,#19283#,#39873#,#52484#,hCoV-19/England/ALDP-B5C41D/2020|EPI_ISL_655658|2020-11-10,hCoV-19/DRC/4614/2020|EPI_ISL_513605|2020-04-30,hCoV-19/Australia/QLD01/2020|EPI_ISL_407894|2020-01-28,#8354#,#13140#,hCoV-19/England/ALDP-A2E758/2020|EPI_ISL_587121|2020-10-05,hCoV-19/Denmark/DCGC-31165/2021|EPI_ISL_847503|2021-01-04,#38944#,#7264#,#31437#,#38120#,hCoV-19/England/QEUH-AAEDE5/2020|EPI_ISL_653008|2020-10-22,#37625#,#12074#,#24737#,hCoV-19/England/ALDP-9ED158/2020|EPI_ISL_589364|2020-05-05,hCoV-19/Austria/CeMM0905/2020|EPI_ISL_583758|2020-03-31,#41657#,#8492#,#22116#,hCoV-19/England/CAMC-A82DE7/2020|EPI_ISL_610663|2020-10-14,hCoV-19/England/ALDP-B84142/2020|EPI_ISL_675458|2020-11-14,#28657#,#47409#,hCoV-19/England/QEUH-B9FC8F/2020|EPI_ISL_721055|2020-11-18,#49181#,#19220#,hCoV-19/Luxembourg/LNS8803466/2020|EPI_ISL_744811|2020-07-13,#16150#,#37232#,hCoV-19/Wales/PHWC-486E31/2020|EPI_ISL_639136|2020-10-14,#4429#,#37960#,hCoV-19/Brazil/PA-IEC-162802/2020|EPI_ISL_458140|2020-04-07,hCoV-19/Denmark/DCGC-17448/2020|EPI_ISL_750991|2020-12-14,hCoV-19/England/ALDP-9C636E/2020|EPI_ISL_567779|2020-09-10,#10897#,hCoV-19/England/ALDP-DA03FD/2020|EPI_ISL_797017|2020-12-30,hCoV-19/Chile/RM-ISPCH-6/2020|EPI_ISL_445249|2020-03-09,#15687#,hCoV-19/Japan/DP0476/2020|EPI_ISL_416604|2020-02-16,hCoV-19/USA/TX-HMH-MCoV-8193/2020|EPI_ISL_783585|2020-07-07,hCoV-19/Netherlands/UT-RIVM-20220/2020|EPI_ISL_723373|2020-12-04,hCoV-19/India/GJ-GBRC219a/2020|EPI_ISL_475056|2020-06-08,#25950#,#26413#,#50252#,#53510#,#48494#,#47041#,hCoV-19/Japan/PG-2615/2020|EPI_ISL_690749|2020-03,hCoV-19/Bulgaria/37/2020|EPI_ISL_480308|2020-05-11,hCoV-19/England/CAMC-B7A31C/2020|EPI_ISL_741098|2020-11-12,#49128#,hCoV-19/Scotland/EDB2097/2020|EPI_ISL_433195|2020-04-19,hCoV-19/England/QEUH-AAAE5F/2020|EPI_ISL_652749|2020-10-21,hCoV-19/England/ALDP-B85703/2020|EPI_ISL_675347|2020-11-14,hCoV-19/Denmark/DCGC-7799/2020|EPI_ISL_618738|2020-10-19,hCoV-19/England/MILK-9A9C39/2020|EPI_ISL_551064|2020-09-01,#50390#,#32850#,hCoV-19/USA/CA-CSMC7/2020|EPI_ISL_475684|2020-03-27,#21270#,#10654#,#32279#,#43740#,#42049#,#33725#,#52995#,hCoV-19/USA/WA-S494/2020|EPI_ISL_434254|2020-04-01,hCoV-19/Israel/CVL-n17925/2020|EPI_ISL_516890|2020-06-03,hCoV-19/Brazil/RJ-1719/2020|EPI_ISL_456088|2020-04-06,#22923#,#11464#,#14501#,hCoV-19/England/ALDP-CB500E/2020|EPI_ISL_761809|2020-12-18,#21752#,hCoV-19/Belgium/ULG-10672/2020|EPI_ISL_636647|2020-10-26,hCoV-19/England/ALDP-CBF3CF/2020|EPI_ISL_760759|2020-12-18,#49445#,#39382#,hCoV-19/Morocco/FMP-15/2020|EPI_ISL_728322|2020-11,#18318#,hCoV-19/England/NORT-28AE5D/2020|EPI_ISL_492943|2020-04-16,#31179#,hCoV-19/England/MILK-A7DE37/2020|EPI_ISL_638478|2020-10-15,#48629#,#50708#,#25481#,#36527#,#30001#,hCoV-19/England/204240973/2020|EPI_ISL_622849|2020-10-14,hCoV-19/England/ALDP-A68725/2020|EPI_ISL_630579|2020-10-12,#35196#,#40354#,#7404#,#29696#,hCoV-19/Argentina/INEI098418/2020|EPI_ISL_856777|2020-12-04,#1790#,#15837#,hCoV-19/Wales/PHWC-4AD6B4/2020|EPI_ISL_823742|2020-12-23,#10546#,#20830#,#51357#,#22429#,hCoV-19/England/ALDP-9E9ECE/2020|EPI_ISL_580043|2020-09-24,hCoV-19/England/QEUH-AADD22/2020|EPI_ISL_624165|2020-10-22,#7461#,hCoV-19/England/ALDP-9BCE2E/2020|EPI_ISL_573078|2020-09-09,hCoV-19/England/MILK-9C72D9/2020|EPI_ISL_572712|2020-09-08,hCoV-19/USA/NJ-QDX-1221/2020|EPI_ISL_571977|2020-03-16,hCoV-19/England/QEUH-BCD462/2020|EPI_ISL_704338|2020-11-26,#34400#,#29824#,hCoV-19/Brazil/SP-133/2020|EPI_ISL_523957|2020-04-04,#11098#,#579#,#1784#,hCoV-19/Japan/PG-7027/2020|EPI_ISL_688132|2020-08,hCoV-19/England/ALDP-49EC3C/2020|EPI_ISL_559586|2020-05-20,#47861#,#25238#,#33586#,hCoV-19/Denmark/DCGC-13741/2020|EPI_ISL_712994|2020-11-30,#19040#,#45384#,#4089#,#49123#,hCoV-19/Iceland/6262/2020|EPI_ISL_829937|2020-10-12,#46899#,#17029#,hCoV-19/England/QEUH-B125A7/2020|EPI_ISL_642537|2020-11-02,hCoV-19/England/CAMC-B07262/2020|EPI_ISL_643908|2020-10-29,#7644#,#25959#,#28609#,hCoV-19/USA/WA-S2608/2020|EPI_ISL_497240|2020-06-18,#26568#,#14180#,#8184#,#29486#,#12295#,#23495#,#46307#,hCoV-19/Netherlands/OV-RIVM-21131/2020|EPI_ISL_824054|2020-12-23,hCoV-19/England/CAMC-C720FE/2020|EPI_ISL_769082|2020-12-15,hCoV-19/England/CAMC-C44866/2020|EPI_ISL_719372|2020-12-10,#36831#,hCoV-19/Peru/LIM-UPCH-0032/2020|EPI_ISL_540932|2020-06-17,#35016#,#12186#,#38315#,#45951#,hCoV-19/England/ALDP-955D2A/2020|EPI_ISL_554072|2020-06-12,hCoV-19/England/QEUH-B66EA9/2020|EPI_ISL_662077|2020-11-11,#22947#,#8893#,#45921#,#19554#,#9442#,#41383#,#21423#,#9101#,#51038#,hCoV-19/Spain/GA-ISCIII-201965/2020|EPI_ISL_578195|2020-03-10,#32997#,#17938#,#10990#,hCoV-19/Portugal/PT1609/2020|EPI_ISL_693531|2020-07-06,#33903#,hCoV-19/Denmark/DCGC-2222/2020|EPI_ISL_617527|2020-08-10,#50650#,#4246#,hCoV-19/Denmark/DCGC-20967/2020|EPI_ISL_758928|2020-12-21,#52899#,#14381#,hCoV-19/Scotland/EDB2083/2020|EPI_ISL_433182|2020-04-19,#24813#,#43116#,#6522#,#14420#,#13313#,hCoV-19/Brazil/RS-15284/2020|EPI_ISL_729853|2020-08-12,#27345#,#9111#,hCoV-19/Denmark/DCGC-21630/2020|EPI_ISL_758274|2020-12-21,#22921#,#21312#,#13309#,hCoV-19/USA/CA-ALSR-1083-SAN/2020|EPI_ISL_483510|2020-06-23,hCoV-19/Argentina/INEI095579/2020|EPI_ISL_849361|2020-10-16,#10116#,#13426#,#6054#,#27798#,hCoV-19/England/ALDP-B627FD/2020|EPI_ISL_656631|2020-11-08,hCoV-19/England/LOND-12608F2/2020|EPI_ISL_516834|2020-04-04,#40647#,#38062#,#27529#,#40755#,#30653#,hCoV-19/England/ALDP-AA217C/2020|EPI_ISL_624324|2020-10-22,#18198#,hCoV-19/USA/CA-CZB-14596/2020|EPI_ISL_739295|2020-10-14,#33485#,#14374#,hCoV-19/Sweden/20-53830/2020|EPI_ISL_789012|2020-12-16,#22309#,#22742#,#17137#,hCoV-19/Denmark/DCGC-17316/2020|EPI_ISL_750900|2020-12-14,hCoV-19/England/QEUH-A8BEEB/2020|EPI_ISL_643261|2020-10-17,hCoV-19/USA/WA-S2336/2020|EPI_ISL_496968|2020-06-11,hCoV-19/England/QEUH-AACF69/2020|EPI_ISL_652930|2020-10-21,#47361#,#23283#,#30452#,hCoV-19/USA/UT-01986/2020|EPI_ISL_452172|2020-04-16,#41719#,#15212#,#376#,hCoV-19/France/NAQ-isl2/2020|EPI_ISL_707782|2020-03-17,hCoV-19/Luxembourg/LNS1846494/2020|EPI_ISL_740005|2020-08-07,hCoV-19/England/QEUH-AD0CCF/2020|EPI_ISL_634049|2020-10-26,#7013#,#7420#,hCoV-19/Belgium/rega-0620850/2020|EPI_ISL_734773|2020-06-20,#40355#,hCoV-19/France/BRE-9329/2020|EPI_ISL_614268|2020-08-13,#8717#,hCoV-19/England/CAMC-9D70BE/2020|EPI_ISL_584345|2020-09-20,hCoV-19/England/CAMC-A6603B/2020|EPI_ISL_627314|2020-10-10,hCoV-19/Denmark/DCGC-20071/2020|EPI_ISL_747668|2020-12-07,#32842#,#19855#,hCoV-19/England/ALDP-B8386C/2020|EPI_ISL_675349|2020-11-14,#16766#,#13859#,hCoV-19/Italy/APU-IZSPB_407PT/2020|EPI_ISL_794749|2020-11-25,hCoV-19/England/QEUH-9B7E14/2020|EPI_ISL_590605|2020-09-07,hCoV-19/Denmark/DCGC-5939/2020|EPI_ISL_620204|2020-10-05,hCoV-19/England/ALDP-9B62EC/2020|EPI_ISL_572997|2020-08-28,#33484#,#17431#,#25506#,#46290#,#47597#,#19657#,hCoV-19/USA/TX-HMH-MCoV-12350/2020|EPI_ISL_790310|2020-09-27,hCoV-19/USA/WA-S540/2020|EPI_ISL_434300|2020-03-24,#16980#,hCoV-19/Turkey/IST-GLAB-129/2020|EPI_ISL_735275|2020-04-29,#25269#,hCoV-19/Israel/CVL-n14271/2020|EPI_ISL_514311|2020-03-18,hCoV-19/USA/WA-S2158/2020|EPI_ISL_497586|2020-06-08,#28646#,hCoV-19/USA/NM-DOH-2020616663/2020|EPI_ISL_751824|2020-12-12,#19856#,hCoV-19/England/QEUH-AD585D/2020|EPI_ISL_634709|2020-10-26,#35466#,#27346#,#15827#,hCoV-19/England/ALDP-523758/2020|EPI_ISL_559040|2020-06-02,hCoV-19/England/ALDP-BC87B9/2020|EPI_ISL_721318|2020-11-23,#33804#,#53722#,#38651#,hCoV-19/Denmark/DCGC-2831/2020|EPI_ISL_616657|2020-08-24,hCoV-19/Wuhan/HB-WH1-137/2020|EPI_ISL_454914|2020-03-03,#31629#,hCoV-19/USA/CA-ALSR-0923-IPL/2020|EPI_ISL_483415|2020-05-03,#41450#,#49733#,#17059#,#28798#,#16482#,hCoV-19/England/MILK-9759D5/2020|EPI_ISL_552550|2020-08-20,hCoV-19/England/MILK-B3CDBE/2020|EPI_ISL_705483|2020-11-01,hCoV-19/England/MILK-B3D421/2020|EPI_ISL_741371|2020-10-31,#2724#,#29071#,#35946#,#16856#,hCoV-19/England/CAMC-A57862/2020|EPI_ISL_597472|2020-10-07,hCoV-19/USA/CA-CZB-9610/2020|EPI_ISL_672140|2020-04-16,#31601#,hCoV-19/England/MILK-A7B3B2/2020|EPI_ISL_607548|2020-10-14,#47210#,#28383#,#42468#,#14332#,hCoV-19/Denmark/DCGC-17051/2020|EPI_ISL_750395|2020-12-14,#26526#,#2420#,#39561#,#25246#,#44824#,#1899#,hCoV-19/England/ALDP-AA43CF/2020|EPI_ISL_826501|2020-10-21,#33227#,#52967#,#52644#,#34573#,hCoV-19/USA/CA-CHLA-PLM42701908/2020|EPI_ISL_753663|2020-12-10,#37800#,#34095#,#37027#,#39337#,#20867#,#17674#,hCoV-19/USA/CA-CDPH-UC681/2020|EPI_ISL_847765|2020-12-29,#5575#,#31306#,#8944#,hCoV-19/England/SHEF-C4D6B/2020|EPI_ISL_453713|2020-04-23,#27457#,#53871#,#25053#,#14377#,#2042#,#1778#,hCoV-19/Switzerland/GE-SNRCI-6350/2020|EPI_ISL_548175|2020-03,#16456#,#1420#,hCoV-19/England/CAMC-AB18A2/2020|EPI_ISL_623559|2020-10-23,#51543#,hCoV-19/Scotland/QEUH-EFE66F/2021|EPI_ISL_858195|2021-01-06,#11850#,#12856#,#22601#,#54244#,hCoV-19/England/ALDP-A5034A/2020|EPI_ISL_597639|2020-10-07,#14375#,hCoV-19/USA/NY-Wadsworth-213917-01/2020|EPI_ISL_765498|2020-09-08,hCoV-19/England/QEUH-9C95CF/2020|EPI_ISL_567327|2020-09-10,#9060#,#18605#,#34615#,hCoV-19/England/MILK-A7E4F8/2020|EPI_ISL_638492|2020-10-16,#33406#,#1651#,hCoV-19/USA/CA-CZB-10936/2020|EPI_ISL_583165|2020-09-04,#26587#,hCoV-19/England/MILK-B3BC0D/2020|EPI_ISL_679795|2020-10-31,#13599#,#17846#,hCoV-19/Denmark/DCGC-6666/2020|EPI_ISL_619569|2020-10-12,hCoV-19/USA/CA-CZB-3945/2020|EPI_ISL_548538|2020-07-26,#49120#,#39588#,#25965#,#12073#,#8758#,#2383#,#13791#,hCoV-19/India/GJ-GBRC-427a/2020|EPI_ISL_586560|2020-07-14,#25188#,#48479#,#20100#,#21859#,#16448#,hCoV-19/England/MILK-A6C0F9/2020|EPI_ISL_609149|2020-10-09,#10893#,hCoV-19/England/QEUH-C33B61/2020|EPI_ISL_734159|2020-12-11,#30868#,hCoV-19/England/MILK-B56088/2020|EPI_ISL_709902|2020-11-05,hCoV-19/Georgia/Tb-86952/2020|EPI_ISL_754180|2020-09-17,hCoV-19/Tunisia/11-MHT_7/2020|EPI_ISL_855558|2020-09-11,#15349#,#11024#,#7375#,#45942#,#39947#,hCoV-19/USA/CA-CZB-1024/2020|EPI_ISL_436665|2020-04-10,hCoV-19/Netherlands/NB-EMC-244/2020|EPI_ISL_523367|2020-05-14,#27961#,hCoV-19/England/LOND-1286E03/2020|EPI_ISL_541754|2020-04-13,#42934#,hCoV-19/USA/MD-MDH-0128/2020|EPI_ISL_524893|2020-07-08,#51208#,#36085#,hCoV-19/England/QEUH-C5B9E1/2020|EPI_ISL_769334|2020-12-14,#1851#,#34377#,#28349#,hCoV-19/Norway/5389/2020|EPI_ISL_775324|2020-10-22,#20065#,#49770#,#37727#,hCoV-19/Peru/CAL-UPCH-0092/2020|EPI_ISL_540970|2020-06-17,hCoV-19/Luxembourg/LNS2048918/2020|EPI_ISL_740048|2020-07-23,#18889#,#7403#,#40486#,#20835#,#44821#,#33887#,#23948#,hCoV-19/USA/MN-MDH-1066/2020|EPI_ISL_462911|2020-05-14,#19292#,#17526#,#716#,hCoV-19/England/ALDP-9B61EF/2020|EPI_ISL_572992|2020-08-28,#16180#,#6053#,#47862#,hCoV-19/Japan/PG-1140/2020|EPI_ISL_684750|2020-04,#39870#,#26325#,#1071#,#9493#,hCoV-19/Denmark/DCGC-23443/2020|EPI_ISL_793758|2020-12-21,hCoV-19/England/ALDP-66DFA4/2020|EPI_ISL_558003|2020-07-03,#29505#,#2590#,#714#,#25138#,#38850#,#24719#,#43993#,#40874#,hCoV-19/England/QEUH-9BACCC/2020|EPI_ISL_573633|2020-09-07,#21495#,#38478#,#19965#,#15836#,#44832#,#30567#,#52676#,#46270#,hCoV-19/England/ALDP-CB463A/2020|EPI_ISL_761336|2020-12-19,#52730#,#9924#,#50403#,#25636#,#16019#,#7676#,#37777#,#13766#,hCoV-19/France/ARA-105237/2020|EPI_ISL_730651|2020-11-11,#33803#,hCoV-19/England/ALDP-9557E0/2020|EPI_ISL_553400|2020-06-12,#52364#,#10340#,#10435#,hCoV-19/USA/NY-NYCPHL-001783/2020|EPI_ISL_824327|2020-12-14,hCoV-19/USA/CA-CZB-10927/2020|EPI_ISL_583156|2020-08-31,#47370#,#2616#,#10841#,#47162#,hCoV-19/Portugal/PT1610/2020|EPI_ISL_693612|2020-07-07,#10682#,#38695#,hCoV-19/USA/NV-NSPHL-A0151/2020|EPI_ISL_515415|2020-05-14,hCoV-19/England/CAMC-C3FCDB/2020|EPI_ISL_718441|2020-12-10,hCoV-19/England/MILK-B55863/2020|EPI_ISL_657648|2020-11-05,#33162#,#50835#,#37735#,#13792#,hCoV-19/England/QEUH-D1982D/2020|EPI_ISL_800241|2020-12-26,#53967#,#6079#,#6055#,#20379#,#14318#,hCoV-19/England/QEUH-9FF232/2020|EPI_ISL_600219|2020-10-02,#22840#,hCoV-19/Scotland/CVR866/2020|EPI_ISL_439123|2020-03-27,#30066#,#42706#,hCoV-19/Canada/BC-BCCDC-6396/2020|EPI_ISL_740553|2020-10,hCoV-19/India/GJ-GBRC344/2020|EPI_ISL_514586|2020-06-18,#1641#,#45732#,hCoV-19/USA/TX-HMH-MCoV-11962/2020|EPI_ISL_790148|2020-09-17,#21415#,#30092#,hCoV-19/USA/WA-S1938/2020|EPI_ISL_497366|2020-06-03,#4133#,hCoV-19/USA/WI-GMF-20119/2020|EPI_ISL_547850|2020-09-14,#8353#,#45944#,#50050#,#51205#,hCoV-19/Greece/HE11/2020|EPI_ISL_856971|2020,#3794#,#11063#,#54222#,hCoV-19/Wales/ALDP-CBF08C/2020|EPI_ISL_859252|2020-12-19,#9144#,hCoV-19/England/ALDP-95417A/2020|EPI_ISL_553857|2020-06-13,#11886#,#42517#,#16658#,#31259#,#26290#,hCoV-19/USA/LA-EVTL1227/2020|EPI_ISL_768496|2020-12-16,#42092#,#19964#,#1522#,#51633#,hCoV-19/France/CVL-8262/2020|EPI_ISL_560569|2020-03-31,#29762#,hCoV-19/Denmark/DCGC-25908/2021|EPI_ISL_818897|2021-01-04,hCoV-19/USA/UT-01875/2020|EPI_ISL_470699|2020-04-13,hCoV-19/England/204721867/2020|EPI_ISL_825600|2020-11-16,#16516#,#9088#,#23377#,hCoV-19/Denmark/DCGC-27468/2020|EPI_ISL_815550|2020-12-28,hCoV-19/Brazil/PA-IEC-164173/2020|EPI_ISL_458146|2020-04-23,hCoV-19/Chile/Santiago-PUC_MVL_0037/2020|EPI_ISL_801628|2020-03-26,hCoV-19/Wales/PHWC-16A2A3/2020|EPI_ISL_535226|2020-09-07,#4410#,#2793#,#16613#,#8818#,#42938#,hCoV-19/England/QEUH-9B0C5D/2020|EPI_ISL_559856|2020-09-03,#46614#,#25470#,#7383#,#20829#,#17027#,#46404#,#28439#,hCoV-19/Canada/Qc-JEW-Q9030279/2020|EPI_ISL_826002|2020-05-03,hCoV-19/USA/FL-BPHL-1828/2020|EPI_ISL_613914|2020-04-08,#33421#,#18953#,hCoV-19/England/MILK-9E30CE/2020|EPI_ISL_581186|2020-09-21,#11890#,#1167#,#6838#,#44995#,hCoV-19/England/LOND-1262869/2020|EPI_ISL_594876|2020-10-05,#18887#,hCoV-19/USA/TX-HMH-MCoV-8637/2020|EPI_ISL_780666|2020-07-01,hCoV-19/USA/WA-S1599/2020|EPI_ISL_496025|2020-05-26,#21643#,#42505#,#34983#,hCoV-19/England/205260409/2020|EPI_ISL_766530|2020,#47647#,#54102#,#43498#,#8446#,hCoV-19/England/ALDP-C8A0E4/2020|EPI_ISL_762693|2020-12-16,hCoV-19/USA/NY-WCMP2D02P/2020|EPI_ISL_427527|2020-03-12,hCoV-19/England/EXET-1382CC/2020|EPI_ISL_612394|2020,#8746#,hCoV-19/USA/MN-MDH-1656/2020|EPI_ISL_560743|2020-04-01,hCoV-19/England/SHEF-10B2BBE/2020|EPI_ISL_537246|2020-05-05\n"
     ]
    }
   ],
   "source": [
    "print(merged_table[merged_table.IsFromStop == 1][['parent_node', 'child_node']].values.shape)\n",
    "print(len(set(merged_table[merged_table.IsFromStop == 1][['parent_node', 'child_node']].values.flatten())))\n",
    "\n",
    "print(','.join(set(merged_table[merged_table.IsFromStop == 1][['parent_node', 'child_node']].values.flatten())))"
   ]
  },
  {
   "cell_type": "code",
   "execution_count": null,
   "id": "strategic-eight",
   "metadata": {},
   "outputs": [],
   "source": []
  },
  {
   "cell_type": "code",
   "execution_count": null,
   "id": "thirty-summer",
   "metadata": {},
   "outputs": [],
   "source": []
  },
  {
   "cell_type": "markdown",
   "id": "silent-grave",
   "metadata": {},
   "source": [
    "## Nexststrain"
   ]
  },
  {
   "cell_type": "code",
   "execution_count": 22,
   "id": "complicated-architect",
   "metadata": {
    "ExecuteTime": {
     "end_time": "2021-05-31T16:26:13.598422Z",
     "start_time": "2021-05-31T16:26:13.545390Z"
    }
   },
   "outputs": [
    {
     "name": "stdout",
     "output_type": "stream",
     "text": [
      "(23168, 5)\n"
     ]
    },
    {
     "data": {
      "text/html": [
       "<div>\n",
       "<style scoped>\n",
       "    .dataframe tbody tr th:only-of-type {\n",
       "        vertical-align: middle;\n",
       "    }\n",
       "\n",
       "    .dataframe tbody tr th {\n",
       "        vertical-align: top;\n",
       "    }\n",
       "\n",
       "    .dataframe thead th {\n",
       "        text-align: right;\n",
       "    }\n",
       "</style>\n",
       "<table border=\"1\" class=\"dataframe\">\n",
       "  <thead>\n",
       "    <tr style=\"text-align: right;\">\n",
       "      <th></th>\n",
       "      <th>Pos</th>\n",
       "      <th>RefNuc</th>\n",
       "      <th>AltNuc</th>\n",
       "      <th>MutCount</th>\n",
       "      <th>NucInCodon</th>\n",
       "    </tr>\n",
       "  </thead>\n",
       "  <tbody>\n",
       "    <tr>\n",
       "      <th>0</th>\n",
       "      <td>6968</td>\n",
       "      <td>C</td>\n",
       "      <td>A</td>\n",
       "      <td>1</td>\n",
       "      <td>1</td>\n",
       "    </tr>\n",
       "    <tr>\n",
       "      <th>1</th>\n",
       "      <td>11764</td>\n",
       "      <td>T</td>\n",
       "      <td>A</td>\n",
       "      <td>1</td>\n",
       "      <td>3</td>\n",
       "    </tr>\n",
       "  </tbody>\n",
       "</table>\n",
       "</div>"
      ],
      "text/plain": [
       "     Pos RefNuc AltNuc  MutCount NucInCodon\n",
       "0   6968      C      A         1          1\n",
       "1  11764      T      A         1          3"
      ]
     },
     "execution_count": 22,
     "metadata": {},
     "output_type": "execute_result"
    }
   ],
   "source": [
    "_use_cols = ['Pos', 'RefNuc', 'AltNuc', 'MutCount', 'NucInCodon']\n",
    "MutNumNextstrain = pd.read_csv(\n",
    "    \"../data/norm_data_modernized_nextstrain.csv\", \n",
    "    usecols=_use_cols\n",
    ")\n",
    "print(MutNumNextstrain.shape)\n",
    "MutNumNextstrain.head(2)"
   ]
  },
  {
   "cell_type": "code",
   "execution_count": 23,
   "id": "intermediate-stability",
   "metadata": {
    "ExecuteTime": {
     "end_time": "2021-05-31T16:26:14.469606Z",
     "start_time": "2021-05-31T16:26:14.382336Z"
    }
   },
   "outputs": [
    {
     "name": "stdout",
     "output_type": "stream",
     "text": [
      "(18550, 12)\n"
     ]
    },
    {
     "data": {
      "text/html": [
       "<div>\n",
       "<style scoped>\n",
       "    .dataframe tbody tr th:only-of-type {\n",
       "        vertical-align: middle;\n",
       "    }\n",
       "\n",
       "    .dataframe tbody tr th {\n",
       "        vertical-align: top;\n",
       "    }\n",
       "\n",
       "    .dataframe thead th {\n",
       "        text-align: right;\n",
       "    }\n",
       "</style>\n",
       "<table border=\"1\" class=\"dataframe\">\n",
       "  <thead>\n",
       "    <tr style=\"text-align: right;\">\n",
       "      <th></th>\n",
       "      <th>Pos</th>\n",
       "      <th>RefNuc</th>\n",
       "      <th>AltNuc</th>\n",
       "      <th>MutCount</th>\n",
       "      <th>NucInCodon</th>\n",
       "      <th>GenName</th>\n",
       "      <th>GenType</th>\n",
       "      <th>RefCodon</th>\n",
       "      <th>RefAa</th>\n",
       "      <th>AltCodon</th>\n",
       "      <th>AltAa</th>\n",
       "      <th>AaSub</th>\n",
       "    </tr>\n",
       "  </thead>\n",
       "  <tbody>\n",
       "    <tr>\n",
       "      <th>0</th>\n",
       "      <td>6968</td>\n",
       "      <td>C</td>\n",
       "      <td>A</td>\n",
       "      <td>1</td>\n",
       "      <td>1</td>\n",
       "      <td>ORF1ab</td>\n",
       "      <td>translated</td>\n",
       "      <td>CTA</td>\n",
       "      <td>L</td>\n",
       "      <td>ATA</td>\n",
       "      <td>I</td>\n",
       "      <td>NS</td>\n",
       "    </tr>\n",
       "    <tr>\n",
       "      <th>1</th>\n",
       "      <td>11764</td>\n",
       "      <td>T</td>\n",
       "      <td>A</td>\n",
       "      <td>1</td>\n",
       "      <td>3</td>\n",
       "      <td>ORF1ab</td>\n",
       "      <td>translated</td>\n",
       "      <td>AAT</td>\n",
       "      <td>N</td>\n",
       "      <td>AAA</td>\n",
       "      <td>K</td>\n",
       "      <td>NS</td>\n",
       "    </tr>\n",
       "  </tbody>\n",
       "</table>\n",
       "</div>"
      ],
      "text/plain": [
       "     Pos RefNuc AltNuc  MutCount NucInCodon GenName     GenType RefCodon  \\\n",
       "0   6968      C      A         1          1  ORF1ab  translated      CTA   \n",
       "1  11764      T      A         1          3  ORF1ab  translated      AAT   \n",
       "\n",
       "  RefAa AltCodon AltAa AaSub  \n",
       "0     L      ATA     I    NS  \n",
       "1     N      AAA     K    NS  "
      ]
     },
     "execution_count": 23,
     "metadata": {},
     "output_type": "execute_result"
    }
   ],
   "source": [
    "_cols = 'Pos RefNuc GenName GenType RefCodon RefAa AltNuc AltCodon AltAa AaSub'.split()\n",
    "MutNumNextstrainExpanded = pd.merge(MutNumNextstrain, sasha_table[_cols], on=['Pos', 'RefNuc', 'AltNuc'])\n",
    "print(MutNumNextstrainExpanded.shape)\n",
    "MutNumNextstrainExpanded.head(2)"
   ]
  },
  {
   "cell_type": "code",
   "execution_count": 26,
   "id": "limiting-scheduling",
   "metadata": {
    "ExecuteTime": {
     "end_time": "2021-05-31T16:27:50.653362Z",
     "start_time": "2021-05-31T16:27:50.600816Z"
    }
   },
   "outputs": [],
   "source": [
    "mut_types_table_nexts = MutNumNextstrainExpanded[\n",
    "    MutNumNextstrainExpanded.GenType == 'translated'].groupby('GenName').apply(\n",
    "    lambda d: count_mut_types(d, 'RefAa', 'AltAa')).sort_index()\n",
    "\n",
    "mut_types_table_nexts['DnDs'] = mut_types_table_nexts.NonSyn / mut_types_table_nexts.Syn\n",
    "\n",
    "# Count (#ToStop + #FromStop) / (#Syn + #NonSyn)\n",
    "# mut_types_table_nexts['FromStop2NS'] = mut_types_table_nexts.FromStop / mut_types_table_nexts.NonSyn\n",
    "# mut_types_table_nexts['ToStop2NS'] = mut_types_table_nexts.ToStop / mut_types_table_nexts.NonSyn\n",
    "mut_types_table_nexts.loc[gorder]\n",
    "# mut_types_table_nexts.loc[gorder].to_csv('../data/mut_types_table_nextstrain.csv')"
   ]
  },
  {
   "cell_type": "markdown",
   "id": "julian-opportunity",
   "metadata": {},
   "source": [
    "### Check `DnDs` stat diference between our tree and nextstrain"
   ]
  },
  {
   "cell_type": "code",
   "execution_count": 38,
   "id": "incomplete-intranet",
   "metadata": {
    "ExecuteTime": {
     "end_time": "2021-05-25T00:54:14.954299Z",
     "start_time": "2021-05-25T00:54:14.944761Z"
    }
   },
   "outputs": [
    {
     "name": "stdout",
     "output_type": "stream",
     "text": [
      "ShapiroResult(statistic=0.9545800685882568, pvalue=0.7027790546417236)\n",
      "ShapiroResult(statistic=0.951161801815033, pvalue=0.6588314175605774)\n",
      "Normal data\n",
      "\n",
      "Ttest_indResult(statistic=0.44668081541215887, pvalue=0.6599047301324578)\n",
      "No difference\n",
      "Win\n",
      "\n",
      "MannwhitneyuResult(statistic=50.0, pvalue=0.2557029609250582)\n",
      "No difference\n",
      "Win\n"
     ]
    }
   ],
   "source": [
    "from scipy import stats\n",
    "\n",
    "print(stats.shapiro(mut_types_table.DnDs))\n",
    "print(stats.shapiro(mut_types_table_nexts.DnDs))\n",
    "print('Normal data\\n')\n",
    "\n",
    "print(stats.ttest_ind(\n",
    "    mut_types_table.DnDs,\n",
    "    mut_types_table_nexts.DnDs\n",
    "))\n",
    "print('No difference')\n",
    "print('Win\\n')\n",
    "\n",
    "print(stats.mannwhitneyu(\n",
    "    mut_types_table.DnDs,\n",
    "    mut_types_table_nexts.DnDs\n",
    "))\n",
    "print('No difference')\n",
    "print('Win')"
   ]
  },
  {
   "cell_type": "markdown",
   "id": "through-glory",
   "metadata": {},
   "source": [
    "### Check difference in `Stop2Base`"
   ]
  },
  {
   "cell_type": "code",
   "execution_count": 41,
   "id": "stopped-postcard",
   "metadata": {
    "ExecuteTime": {
     "end_time": "2021-05-25T00:55:02.304273Z",
     "start_time": "2021-05-25T00:55:02.296045Z"
    }
   },
   "outputs": [
    {
     "name": "stdout",
     "output_type": "stream",
     "text": [
      "MannwhitneyuResult(statistic=16.0, pvalue=0.0008018236312070514)\n",
      "Yes difference - FromStop2NS\n",
      "\n",
      "MannwhitneyuResult(statistic=55.0, pvalue=0.3706263872341172)\n",
      "No difference - ToStop2NS\n"
     ]
    }
   ],
   "source": [
    "print(stats.mannwhitneyu(\n",
    "    mut_types_table.FromStop2NS,\n",
    "    mut_types_table_nexts.FromStop2NS,\n",
    "))\n",
    "print('Yes difference - FromStop2NS')\n",
    "print()\n",
    "\n",
    "print(stats.mannwhitneyu(\n",
    "    mut_types_table.ToStop2NS,\n",
    "    mut_types_table_nexts.ToStop2NS,\n",
    "))\n",
    "print('No difference - ToStop2NS')"
   ]
  },
  {
   "cell_type": "code",
   "execution_count": 29,
   "id": "prompt-egyptian",
   "metadata": {
    "ExecuteTime": {
     "end_time": "2021-04-27T15:20:13.713270Z",
     "start_time": "2021-04-27T15:20:13.447477Z"
    }
   },
   "outputs": [
    {
     "data": {
      "text/plain": [
       "<AxesSubplot:ylabel='Frequency'>"
      ]
     },
     "execution_count": 29,
     "metadata": {},
     "output_type": "execute_result"
    },
    {
     "data": {
      "image/png": "[encoded data removed]",
      "text/plain": [
       "<Figure size 432x288 with 1 Axes>"
      ]
     },
     "metadata": {
      "needs_background": "light"
     },
     "output_type": "display_data"
    }
   ],
   "source": [
    "mut_types_table.DnDs.plot.hist(alpha=.5)\n",
    "mut_types_table_nexts.DnDs.hist(alpha=.5)"
   ]
  },
  {
   "cell_type": "code",
   "execution_count": null,
   "id": "metallic-travel",
   "metadata": {},
   "outputs": [],
   "source": []
  },
  {
   "cell_type": "code",
   "execution_count": null,
   "id": "enormous-ethnic",
   "metadata": {},
   "outputs": [],
   "source": []
  },
  {
   "cell_type": "code",
   "execution_count": null,
   "id": "differential-bunny",
   "metadata": {},
   "outputs": [],
   "source": []
  },
  {
   "cell_type": "code",
   "execution_count": null,
   "id": "agreed-religious",
   "metadata": {},
   "outputs": [],
   "source": []
  },
  {
   "cell_type": "code",
   "execution_count": 22,
   "id": "palestinian-evaluation",
   "metadata": {
    "ExecuteTime": {
     "end_time": "2021-03-25T13:28:47.582525Z",
     "start_time": "2021-03-25T13:28:47.525349Z"
    }
   },
   "outputs": [],
   "source": [
    "rec = [rec for rec in SeqIO.parse(GENEBANK_PATH, \"genbank\")][0]\n",
    "assert rec.seq == refseq"
   ]
  },
  {
   "cell_type": "code",
   "execution_count": 46,
   "id": "conscious-dressing",
   "metadata": {
    "ExecuteTime": {
     "end_time": "2021-03-25T13:33:55.447274Z",
     "start_time": "2021-03-25T13:33:55.437716Z"
    }
   },
   "outputs": [],
   "source": [
    "genes_aa_merged_seq = \"\".join([str(fea.translate(rec.seq)) for fea in rec.features if fea.type == 'gene'])"
   ]
  },
  {
   "cell_type": "code",
   "execution_count": 47,
   "id": "unavailable-canadian",
   "metadata": {
    "ExecuteTime": {
     "end_time": "2021-03-25T13:33:55.835014Z",
     "start_time": "2021-03-25T13:33:55.830774Z"
    }
   },
   "outputs": [],
   "source": [
    "from collections import Counter"
   ]
  },
  {
   "cell_type": "code",
   "execution_count": 55,
   "id": "broad-biology",
   "metadata": {
    "ExecuteTime": {
     "end_time": "2021-03-25T13:37:44.391471Z",
     "start_time": "2021-03-25T13:37:44.385273Z"
    }
   },
   "outputs": [
    {
     "data": {
      "text/plain": [
       "array([0.03126922, 0.04018864, 0.06868977, 0.12364158, 0.08027476,\n",
       "       0.03424236, 0.04910806, 0.04572483, 0.05003076, 0.05556695,\n",
       "       0.07227804, 0.02347755, 0.04008612, 0.03198688, 0.03834324,\n",
       "       0.05546442, 0.02850113, 0.04121386, 0.06089809, 0.01035473,\n",
       "       0.01865901])"
      ]
     },
     "execution_count": 55,
     "metadata": {},
     "output_type": "execute_result"
    }
   ],
   "source": [
    "aa_counts = np.array(list(Counter(genes_aa_merged_seq).values()))\n",
    "aa_counts = aa_counts / aa_counts.sum()\n",
    "aa_counts"
   ]
  },
  {
   "cell_type": "code",
   "execution_count": 58,
   "id": "dutch-muscle",
   "metadata": {
    "ExecuteTime": {
     "end_time": "2021-03-25T13:38:42.326940Z",
     "start_time": "2021-03-25T13:38:42.317101Z"
    }
   },
   "outputs": [
    {
     "data": {
      "text/plain": [
       "41954.39091375119"
      ]
     },
     "execution_count": 58,
     "metadata": {},
     "output_type": "execute_result"
    }
   ],
   "source": [
    "np.sum(aa_counts ** 2) * 700_000"
   ]
  },
  {
   "cell_type": "code",
   "execution_count": null,
   "id": "hydraulic-touch",
   "metadata": {},
   "outputs": [],
   "source": []
  },
  {
   "cell_type": "code",
   "execution_count": null,
   "id": "surrounded-burlington",
   "metadata": {},
   "outputs": [],
   "source": []
  },
  {
   "cell_type": "code",
   "execution_count": null,
   "id": "isolated-tyler",
   "metadata": {},
   "outputs": [],
   "source": []
  },
  {
   "cell_type": "code",
   "execution_count": null,
   "id": "trying-muslim",
   "metadata": {},
   "outputs": [],
   "source": []
  },
  {
   "cell_type": "code",
   "execution_count": 80,
   "id": "posted-broadcast",
   "metadata": {
    "ExecuteTime": {
     "end_time": "2021-03-25T14:23:14.946895Z",
     "start_time": "2021-03-25T14:23:14.940410Z"
    }
   },
   "outputs": [
    {
     "data": {
      "text/plain": [
       "[SeqFeature(FeatureLocation(ExactPosition(0), ExactPosition(29903), strand=1), type='source'),\n",
       " SeqFeature(FeatureLocation(ExactPosition(0), ExactPosition(265), strand=1), type=\"5'UTR\"),\n",
       " SeqFeature(FeatureLocation(ExactPosition(265), ExactPosition(21555), strand=1), type='gene'),\n",
       " SeqFeature(CompoundLocation([FeatureLocation(ExactPosition(265), ExactPosition(13468), strand=1), FeatureLocation(ExactPosition(13467), ExactPosition(21555), strand=1)], 'join'), type='CDS', location_operator='join'),\n",
       " SeqFeature(FeatureLocation(ExactPosition(265), ExactPosition(805), strand=1), type='mat_peptide'),\n",
       " SeqFeature(FeatureLocation(ExactPosition(805), ExactPosition(2719), strand=1), type='mat_peptide'),\n",
       " SeqFeature(FeatureLocation(ExactPosition(2719), ExactPosition(8554), strand=1), type='mat_peptide'),\n",
       " SeqFeature(FeatureLocation(ExactPosition(8554), ExactPosition(10054), strand=1), type='mat_peptide'),\n",
       " SeqFeature(FeatureLocation(ExactPosition(10054), ExactPosition(10972), strand=1), type='mat_peptide'),\n",
       " SeqFeature(FeatureLocation(ExactPosition(10972), ExactPosition(11842), strand=1), type='mat_peptide'),\n",
       " SeqFeature(FeatureLocation(ExactPosition(11842), ExactPosition(12091), strand=1), type='mat_peptide'),\n",
       " SeqFeature(FeatureLocation(ExactPosition(12091), ExactPosition(12685), strand=1), type='mat_peptide'),\n",
       " SeqFeature(FeatureLocation(ExactPosition(12685), ExactPosition(13024), strand=1), type='mat_peptide'),\n",
       " SeqFeature(FeatureLocation(ExactPosition(13024), ExactPosition(13441), strand=1), type='mat_peptide'),\n",
       " SeqFeature(CompoundLocation([FeatureLocation(ExactPosition(13441), ExactPosition(13468), strand=1), FeatureLocation(ExactPosition(13467), ExactPosition(16236), strand=1)], 'join'), type='mat_peptide', location_operator='join'),\n",
       " SeqFeature(FeatureLocation(ExactPosition(16236), ExactPosition(18039), strand=1), type='mat_peptide'),\n",
       " SeqFeature(FeatureLocation(ExactPosition(18039), ExactPosition(19620), strand=1), type='mat_peptide'),\n",
       " SeqFeature(FeatureLocation(ExactPosition(19620), ExactPosition(20658), strand=1), type='mat_peptide'),\n",
       " SeqFeature(FeatureLocation(ExactPosition(20658), ExactPosition(21552), strand=1), type='mat_peptide'),\n",
       " SeqFeature(FeatureLocation(ExactPosition(265), ExactPosition(13483), strand=1), type='CDS'),\n",
       " SeqFeature(FeatureLocation(ExactPosition(265), ExactPosition(805), strand=1), type='mat_peptide'),\n",
       " SeqFeature(FeatureLocation(ExactPosition(805), ExactPosition(2719), strand=1), type='mat_peptide'),\n",
       " SeqFeature(FeatureLocation(ExactPosition(2719), ExactPosition(8554), strand=1), type='mat_peptide'),\n",
       " SeqFeature(FeatureLocation(ExactPosition(8554), ExactPosition(10054), strand=1), type='mat_peptide'),\n",
       " SeqFeature(FeatureLocation(ExactPosition(10054), ExactPosition(10972), strand=1), type='mat_peptide'),\n",
       " SeqFeature(FeatureLocation(ExactPosition(10972), ExactPosition(11842), strand=1), type='mat_peptide'),\n",
       " SeqFeature(FeatureLocation(ExactPosition(11842), ExactPosition(12091), strand=1), type='mat_peptide'),\n",
       " SeqFeature(FeatureLocation(ExactPosition(12091), ExactPosition(12685), strand=1), type='mat_peptide'),\n",
       " SeqFeature(FeatureLocation(ExactPosition(12685), ExactPosition(13024), strand=1), type='mat_peptide'),\n",
       " SeqFeature(FeatureLocation(ExactPosition(13024), ExactPosition(13441), strand=1), type='mat_peptide'),\n",
       " SeqFeature(FeatureLocation(ExactPosition(13441), ExactPosition(13480), strand=1), type='mat_peptide'),\n",
       " SeqFeature(FeatureLocation(ExactPosition(13475), ExactPosition(13503), strand=1), type='stem_loop'),\n",
       " SeqFeature(FeatureLocation(ExactPosition(13487), ExactPosition(13542), strand=1), type='stem_loop'),\n",
       " SeqFeature(FeatureLocation(ExactPosition(21562), ExactPosition(25384), strand=1), type='gene'),\n",
       " SeqFeature(FeatureLocation(ExactPosition(21562), ExactPosition(25384), strand=1), type='CDS'),\n",
       " SeqFeature(FeatureLocation(ExactPosition(25392), ExactPosition(26220), strand=1), type='gene'),\n",
       " SeqFeature(FeatureLocation(ExactPosition(25392), ExactPosition(26220), strand=1), type='CDS'),\n",
       " SeqFeature(FeatureLocation(ExactPosition(26244), ExactPosition(26472), strand=1), type='gene'),\n",
       " SeqFeature(FeatureLocation(ExactPosition(26244), ExactPosition(26472), strand=1), type='CDS'),\n",
       " SeqFeature(FeatureLocation(ExactPosition(26522), ExactPosition(27191), strand=1), type='gene'),\n",
       " SeqFeature(FeatureLocation(ExactPosition(26522), ExactPosition(27191), strand=1), type='CDS'),\n",
       " SeqFeature(FeatureLocation(ExactPosition(27201), ExactPosition(27387), strand=1), type='gene'),\n",
       " SeqFeature(FeatureLocation(ExactPosition(27201), ExactPosition(27387), strand=1), type='CDS'),\n",
       " SeqFeature(FeatureLocation(ExactPosition(27393), ExactPosition(27759), strand=1), type='gene'),\n",
       " SeqFeature(FeatureLocation(ExactPosition(27393), ExactPosition(27759), strand=1), type='CDS'),\n",
       " SeqFeature(FeatureLocation(ExactPosition(27755), ExactPosition(27887), strand=1), type='gene'),\n",
       " SeqFeature(FeatureLocation(ExactPosition(27755), ExactPosition(27887), strand=1), type='CDS'),\n",
       " SeqFeature(FeatureLocation(ExactPosition(27893), ExactPosition(28259), strand=1), type='gene'),\n",
       " SeqFeature(FeatureLocation(ExactPosition(27893), ExactPosition(28259), strand=1), type='CDS'),\n",
       " SeqFeature(FeatureLocation(ExactPosition(28273), ExactPosition(29533), strand=1), type='gene'),\n",
       " SeqFeature(FeatureLocation(ExactPosition(28273), ExactPosition(29533), strand=1), type='CDS'),\n",
       " SeqFeature(FeatureLocation(ExactPosition(29557), ExactPosition(29674), strand=1), type='gene'),\n",
       " SeqFeature(FeatureLocation(ExactPosition(29557), ExactPosition(29674), strand=1), type='CDS'),\n",
       " SeqFeature(FeatureLocation(ExactPosition(29608), ExactPosition(29644), strand=1), type='stem_loop'),\n",
       " SeqFeature(FeatureLocation(ExactPosition(29628), ExactPosition(29657), strand=1), type='stem_loop'),\n",
       " SeqFeature(FeatureLocation(ExactPosition(29674), ExactPosition(29903), strand=1), type=\"3'UTR\"),\n",
       " SeqFeature(FeatureLocation(ExactPosition(29727), ExactPosition(29768), strand=1), type='stem_loop')]"
      ]
     },
     "execution_count": 80,
     "metadata": {},
     "output_type": "execute_result"
    }
   ],
   "source": [
    "rec.features"
   ]
  },
  {
   "cell_type": "code",
   "execution_count": 28,
   "id": "documented-andrew",
   "metadata": {
    "ExecuteTime": {
     "end_time": "2021-03-25T13:30:38.450678Z",
     "start_time": "2021-03-25T13:30:38.436111Z"
    }
   },
   "outputs": [
    {
     "name": "stdout",
     "output_type": "stream",
     "text": [
      "ORF1ab\t 265\t 21554\n",
      "S\t 21562\t 25383\n",
      "ORF3a\t 25392\t 26219\n",
      "E\t 26244\t 26471\n",
      "M\t 26522\t 27190\n",
      "ORF6\t 27201\t 27386\n",
      "ORF7a\t 27393\t 27758\n",
      "ORF7b\t 27755\t 27886\n",
      "--------------------\n",
      "27758 27755\n",
      "type: gene\n",
      "location: [27755:27887](+)\n",
      "qualifiers:\n",
      "    Key: db_xref, Value: ['GeneID:43740574']\n",
      "    Key: gene, Value: ['ORF7b']\n",
      "    Key: locus_tag, Value: ['GU280_gp08']\n",
      "\n",
      "--------------------\n",
      "ORF8\t 27893\t 28258\n",
      "N\t 28273\t 29532\n",
      "ORF10\t 29557\t 29673\n"
     ]
    }
   ],
   "source": [
    "past_start, past_end = 0, 0\n",
    "\n",
    "for fea in rec.features:\n",
    "    if fea.type == \"gene\":\n",
    "        cur_start = fea.location.start \n",
    "        cur_end = fea.location.end - 1\n",
    "        gene_name = fea.qualifiers['gene'][0]\n",
    "        print(f\"{gene_name}\\t {cur_start}\\t {cur_end}\")\n",
    "        \n",
    "        if cur_start <= past_end:\n",
    "            print('-'*20)\n",
    "            print(past_end, cur_start)\n",
    "            print(fea)\n",
    "            print('-'*20)\n",
    "            \n",
    "        past_start, past_end = cur_start, cur_end"
   ]
  },
  {
   "attachments": {
    "image.png": {
     "image/png": "[encoded data removed]"
    }
   },
   "cell_type": "markdown",
   "id": "authorized-delicious",
   "metadata": {},
   "source": [
    "![image.png](attachment:image.png)"
   ]
  },
  {
   "cell_type": "code",
   "execution_count": 101,
   "id": "blocked-census",
   "metadata": {
    "ExecuteTime": {
     "end_time": "2021-03-24T19:43:16.123411Z",
     "start_time": "2021-03-24T19:43:16.116809Z"
    }
   },
   "outputs": [
    {
     "data": {
      "text/plain": [
       "'ATGA'"
      ]
     },
     "execution_count": 101,
     "metadata": {},
     "output_type": "execute_result"
    }
   ],
   "source": [
    "refseq[27755: 27759]"
   ]
  },
  {
   "cell_type": "code",
   "execution_count": 82,
   "id": "advanced-garlic",
   "metadata": {
    "ExecuteTime": {
     "end_time": "2021-03-24T18:50:45.748492Z",
     "start_time": "2021-03-24T18:50:45.727240Z"
    }
   },
   "outputs": [
    {
     "data": {
      "text/plain": [
       "Seq('MESLVPGFNEKTHVQLSLPVLQVRDVLVRGFGDSVEEVLSEARQHLKDGTCGLV...LTT')"
      ]
     },
     "execution_count": 82,
     "metadata": {},
     "output_type": "execute_result"
    }
   ],
   "source": [
    "fea.translate(rec.seq)"
   ]
  },
  {
   "cell_type": "code",
   "execution_count": 73,
   "id": "honest-stack",
   "metadata": {
    "ExecuteTime": {
     "end_time": "2021-03-24T18:48:44.282897Z",
     "start_time": "2021-03-24T18:48:44.278117Z"
    }
   },
   "outputs": [
    {
     "data": {
      "text/plain": [
       "SeqRecord(seq=Seq('ATTAAAGGTTTATACCTTCCCAGGTAACAAACCAACCAACTTTCGATCTCTTGT...AAA'), id='NC_045512.2', name='NC_045512', description='Severe acute respiratory syndrome coronavirus 2 isolate Wuhan-Hu-1, complete genome', dbxrefs=['BioProject:PRJNA485481'])"
      ]
     },
     "execution_count": 73,
     "metadata": {},
     "output_type": "execute_result"
    }
   ],
   "source": [
    "rec"
   ]
  },
  {
   "cell_type": "code",
   "execution_count": 79,
   "id": "acknowledged-folder",
   "metadata": {
    "ExecuteTime": {
     "end_time": "2021-03-24T18:50:09.805032Z",
     "start_time": "2021-03-24T18:50:09.798530Z"
    }
   },
   "outputs": [
    {
     "data": {
      "text/plain": [
       "Seq('ATGGAGAGCCTTGTCCCTGGTTTCAACGAGAAAACACACGTCCAACTCAGTTTG...TAA')"
      ]
     },
     "execution_count": 79,
     "metadata": {},
     "output_type": "execute_result"
    }
   ],
   "source": [
    "fea.extract(rec.seq)"
   ]
  },
  {
   "cell_type": "code",
   "execution_count": 67,
   "id": "legitimate-memphis",
   "metadata": {
    "ExecuteTime": {
     "end_time": "2021-03-24T18:47:45.444092Z",
     "start_time": "2021-03-24T18:47:45.437813Z"
    }
   },
   "outputs": [
    {
     "data": {
      "text/plain": [
       "21290"
      ]
     },
     "execution_count": 67,
     "metadata": {},
     "output_type": "execute_result"
    }
   ],
   "source": [
    "21555 - 266 + 1"
   ]
  },
  {
   "cell_type": "code",
   "execution_count": null,
   "id": "greatest-application",
   "metadata": {},
   "outputs": [],
   "source": []
  },
  {
   "cell_type": "code",
   "execution_count": null,
   "id": "increasing-tourist",
   "metadata": {},
   "outputs": [],
   "source": []
  },
  {
   "cell_type": "code",
   "execution_count": null,
   "id": "empirical-curve",
   "metadata": {},
   "outputs": [],
   "source": []
  },
  {
   "cell_type": "code",
   "execution_count": null,
   "id": "minor-bikini",
   "metadata": {},
   "outputs": [],
   "source": []
  },
  {
   "cell_type": "code",
   "execution_count": null,
   "id": "forced-statement",
   "metadata": {},
   "outputs": [],
   "source": []
  },
  {
   "cell_type": "code",
   "execution_count": null,
   "id": "formed-crazy",
   "metadata": {},
   "outputs": [],
   "source": []
  },
  {
   "cell_type": "code",
   "execution_count": null,
   "id": "assigned-premiere",
   "metadata": {},
   "outputs": [],
   "source": []
  },
  {
   "cell_type": "code",
   "execution_count": null,
   "id": "bronze-label",
   "metadata": {},
   "outputs": [],
   "source": []
  },
  {
   "cell_type": "code",
   "execution_count": null,
   "id": "everyday-alloy",
   "metadata": {},
   "outputs": [],
   "source": []
  }
 ],
 "metadata": {
  "kernelspec": {
   "display_name": "Python 3.9.5 ('env_bio')",
   "language": "python",
   "name": "python3"
  },
  "language_info": {
   "codemirror_mode": {
    "name": "ipython",
    "version": 3
   },
   "file_extension": ".py",
   "mimetype": "text/x-python",
   "name": "python",
   "nbconvert_exporter": "python",
   "pygments_lexer": "ipython3",
   "version": "3.9.5"
  },
  "vscode": {
   "interpreter": {
    "hash": "c737589ac25c2b5207a58295544dae93bde342e9f173b68ed1d9625ade55517f"
   }
  }
 },
 "nbformat": 4,
 "nbformat_minor": 5
}
