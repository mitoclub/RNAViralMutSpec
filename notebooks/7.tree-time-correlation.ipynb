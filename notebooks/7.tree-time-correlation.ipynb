{
 "cells": [
  {
   "cell_type": "code",
   "execution_count": 5,
   "metadata": {},
   "outputs": [],
   "source": [
    "import pandas as pd\n",
    "import matplotlib.pyplot as plt"
   ]
  },
  {
   "cell_type": "markdown",
   "metadata": {},
   "source": [
    "Strains and even IDs in metadata are dublicated. But for this analysis it doesn't matter, we want only date, not patient info, that could be different in dublicates by strain.  \n",
    "Thus, we drop dublicates by strains"
   ]
  },
  {
   "cell_type": "code",
   "execution_count": 46,
   "metadata": {},
   "outputs": [],
   "source": [
    "path_to_mut = \"../data/mutation_dists.csv\"\n",
    "path_to_metadata = \"../data/gisaid/metadata_clean.csv\"\n",
    "\n",
    "df = pd.read_csv(path_to_mut)\n",
    "meta = pd.read_csv(path_to_metadata, parse_dates=[2])\n",
    "meta = meta.drop_duplicates(\"strain\")"
   ]
  },
  {
   "cell_type": "code",
   "execution_count": 36,
   "metadata": {},
   "outputs": [
    {
     "data": {
      "text/html": [
       "<div>\n",
       "<style scoped>\n",
       "    .dataframe tbody tr th:only-of-type {\n",
       "        vertical-align: middle;\n",
       "    }\n",
       "\n",
       "    .dataframe tbody tr th {\n",
       "        vertical-align: top;\n",
       "    }\n",
       "\n",
       "    .dataframe thead th {\n",
       "        text-align: right;\n",
       "    }\n",
       "</style>\n",
       "<table border=\"1\" class=\"dataframe\">\n",
       "  <thead>\n",
       "    <tr style=\"text-align: right;\">\n",
       "      <th></th>\n",
       "      <th>mut_id</th>\n",
       "      <th>pos</th>\n",
       "      <th>parent_nucl</th>\n",
       "      <th>child_nucl</th>\n",
       "      <th>parent_nucl_context</th>\n",
       "      <th>child_nucl_context</th>\n",
       "      <th>parent_node</th>\n",
       "      <th>child_node</th>\n",
       "      <th>phylo_dist</th>\n",
       "      <th>topology_dist</th>\n",
       "    </tr>\n",
       "  </thead>\n",
       "  <tbody>\n",
       "    <tr>\n",
       "      <th>0</th>\n",
       "      <td>0</td>\n",
       "      <td>1086</td>\n",
       "      <td>G</td>\n",
       "      <td>A</td>\n",
       "      <td>gtGtt</td>\n",
       "      <td>gtAtt</td>\n",
       "      <td>#54520#</td>\n",
       "      <td>#54519#</td>\n",
       "      <td>0.1</td>\n",
       "      <td>0</td>\n",
       "    </tr>\n",
       "    <tr>\n",
       "      <th>1</th>\n",
       "      <td>1</td>\n",
       "      <td>3676</td>\n",
       "      <td>T</td>\n",
       "      <td>C</td>\n",
       "      <td>atTtt</td>\n",
       "      <td>atCtt</td>\n",
       "      <td>#54520#</td>\n",
       "      <td>#54519#</td>\n",
       "      <td>0.1</td>\n",
       "      <td>0</td>\n",
       "    </tr>\n",
       "    <tr>\n",
       "      <th>2</th>\n",
       "      <td>2</td>\n",
       "      <td>7118</td>\n",
       "      <td>C</td>\n",
       "      <td>T</td>\n",
       "      <td>ttCta</td>\n",
       "      <td>ttTta</td>\n",
       "      <td>#54520#</td>\n",
       "      <td>#54519#</td>\n",
       "      <td>0.1</td>\n",
       "      <td>0</td>\n",
       "    </tr>\n",
       "    <tr>\n",
       "      <th>3</th>\n",
       "      <td>3</td>\n",
       "      <td>9564</td>\n",
       "      <td>C</td>\n",
       "      <td>T</td>\n",
       "      <td>ttCtt</td>\n",
       "      <td>ttTtt</td>\n",
       "      <td>#54520#</td>\n",
       "      <td>#54519#</td>\n",
       "      <td>0.1</td>\n",
       "      <td>0</td>\n",
       "    </tr>\n",
       "    <tr>\n",
       "      <th>4</th>\n",
       "      <td>4</td>\n",
       "      <td>10322</td>\n",
       "      <td>A</td>\n",
       "      <td>G</td>\n",
       "      <td>taAgg</td>\n",
       "      <td>taGgg</td>\n",
       "      <td>#54520#</td>\n",
       "      <td>#54519#</td>\n",
       "      <td>0.1</td>\n",
       "      <td>0</td>\n",
       "    </tr>\n",
       "  </tbody>\n",
       "</table>\n",
       "</div>"
      ],
      "text/plain": [
       "   mut_id    pos parent_nucl child_nucl parent_nucl_context  \\\n",
       "0       0   1086           G          A               gtGtt   \n",
       "1       1   3676           T          C               atTtt   \n",
       "2       2   7118           C          T               ttCta   \n",
       "3       3   9564           C          T               ttCtt   \n",
       "4       4  10322           A          G               taAgg   \n",
       "\n",
       "  child_nucl_context parent_node child_node  phylo_dist  topology_dist  \n",
       "0              gtAtt     #54520#    #54519#         0.1              0  \n",
       "1              atCtt     #54520#    #54519#         0.1              0  \n",
       "2              ttTta     #54520#    #54519#         0.1              0  \n",
       "3              ttTtt     #54520#    #54519#         0.1              0  \n",
       "4              taGgg     #54520#    #54519#         0.1              0  "
      ]
     },
     "execution_count": 36,
     "metadata": {},
     "output_type": "execute_result"
    }
   ],
   "source": [
    "df.head()"
   ]
  },
  {
   "cell_type": "code",
   "execution_count": 39,
   "metadata": {},
   "outputs": [
    {
     "data": {
      "text/html": [
       "<div>\n",
       "<style scoped>\n",
       "    .dataframe tbody tr th:only-of-type {\n",
       "        vertical-align: middle;\n",
       "    }\n",
       "\n",
       "    .dataframe tbody tr th {\n",
       "        vertical-align: top;\n",
       "    }\n",
       "\n",
       "    .dataframe thead th {\n",
       "        text-align: right;\n",
       "    }\n",
       "</style>\n",
       "<table border=\"1\" class=\"dataframe\">\n",
       "  <thead>\n",
       "    <tr style=\"text-align: right;\">\n",
       "      <th></th>\n",
       "      <th>strain</th>\n",
       "      <th>gisaid_epi_isl</th>\n",
       "      <th>date</th>\n",
       "      <th>region</th>\n",
       "      <th>country</th>\n",
       "      <th>length</th>\n",
       "      <th>age</th>\n",
       "      <th>sex</th>\n",
       "      <th>pangolin_lineage</th>\n",
       "      <th>GISAID_clade</th>\n",
       "      <th>originating_lab</th>\n",
       "      <th>date_submitted</th>\n",
       "    </tr>\n",
       "  </thead>\n",
       "  <tbody>\n",
       "    <tr>\n",
       "      <th>0</th>\n",
       "      <td>hCoV-19/Wuhan/IVDC-HB-01/2019</td>\n",
       "      <td>EPI_ISL_402119</td>\n",
       "      <td>2019-12-30</td>\n",
       "      <td>Asia</td>\n",
       "      <td>China</td>\n",
       "      <td>29891</td>\n",
       "      <td>49</td>\n",
       "      <td>Female</td>\n",
       "      <td>B</td>\n",
       "      <td>L</td>\n",
       "      <td>National Institute for Viral Disease Control a...</td>\n",
       "      <td>2020-01-10</td>\n",
       "    </tr>\n",
       "    <tr>\n",
       "      <th>1</th>\n",
       "      <td>hCoV-19/Wuhan/IVDC-HB-04/2020</td>\n",
       "      <td>EPI_ISL_402120</td>\n",
       "      <td>2020-01-01</td>\n",
       "      <td>Asia</td>\n",
       "      <td>China</td>\n",
       "      <td>29896</td>\n",
       "      <td>61</td>\n",
       "      <td>Male</td>\n",
       "      <td>B</td>\n",
       "      <td>L</td>\n",
       "      <td>National Institute for Viral Disease Control a...</td>\n",
       "      <td>2020-01-11</td>\n",
       "    </tr>\n",
       "  </tbody>\n",
       "</table>\n",
       "</div>"
      ],
      "text/plain": [
       "                          strain  gisaid_epi_isl       date region country  \\\n",
       "0  hCoV-19/Wuhan/IVDC-HB-01/2019  EPI_ISL_402119 2019-12-30   Asia   China   \n",
       "1  hCoV-19/Wuhan/IVDC-HB-04/2020  EPI_ISL_402120 2020-01-01   Asia   China   \n",
       "\n",
       "   length age     sex pangolin_lineage GISAID_clade  \\\n",
       "0   29891  49  Female                B            L   \n",
       "1   29896  61    Male                B            L   \n",
       "\n",
       "                                     originating_lab date_submitted  \n",
       "0  National Institute for Viral Disease Control a...     2020-01-10  \n",
       "1  National Institute for Viral Disease Control a...     2020-01-11  "
      ]
     },
     "execution_count": 39,
     "metadata": {},
     "output_type": "execute_result"
    }
   ],
   "source": [
    "meta.head(2)"
   ]
  },
  {
   "cell_type": "code",
   "execution_count": 47,
   "metadata": {},
   "outputs": [],
   "source": [
    "dates = meta[[\"strain\", \"date\"]]"
   ]
  },
  {
   "cell_type": "code",
   "execution_count": 52,
   "metadata": {},
   "outputs": [
    {
     "data": {
      "text/html": [
       "<div>\n",
       "<style scoped>\n",
       "    .dataframe tbody tr th:only-of-type {\n",
       "        vertical-align: middle;\n",
       "    }\n",
       "\n",
       "    .dataframe tbody tr th {\n",
       "        vertical-align: top;\n",
       "    }\n",
       "\n",
       "    .dataframe thead th {\n",
       "        text-align: right;\n",
       "    }\n",
       "</style>\n",
       "<table border=\"1\" class=\"dataframe\">\n",
       "  <thead>\n",
       "    <tr style=\"text-align: right;\">\n",
       "      <th></th>\n",
       "      <th>mut_id</th>\n",
       "      <th>pos</th>\n",
       "      <th>parent_nucl</th>\n",
       "      <th>child_nucl</th>\n",
       "      <th>parent_nucl_context</th>\n",
       "      <th>child_nucl_context</th>\n",
       "      <th>parent_node</th>\n",
       "      <th>child_node</th>\n",
       "      <th>phylo_dist</th>\n",
       "      <th>topology_dist</th>\n",
       "      <th>date</th>\n",
       "    </tr>\n",
       "  </thead>\n",
       "  <tbody>\n",
       "    <tr>\n",
       "      <th>0</th>\n",
       "      <td>14</td>\n",
       "      <td>3676</td>\n",
       "      <td>C</td>\n",
       "      <td>T</td>\n",
       "      <td>atCtt</td>\n",
       "      <td>atTtt</td>\n",
       "      <td>#54519#</td>\n",
       "      <td>hCoV-19/England/MILK-B97003/2020</td>\n",
       "      <td>0.2</td>\n",
       "      <td>1</td>\n",
       "      <td>2020-11-13</td>\n",
       "    </tr>\n",
       "    <tr>\n",
       "      <th>1</th>\n",
       "      <td>15</td>\n",
       "      <td>7118</td>\n",
       "      <td>T</td>\n",
       "      <td>C</td>\n",
       "      <td>ttTta</td>\n",
       "      <td>ttCta</td>\n",
       "      <td>#54519#</td>\n",
       "      <td>hCoV-19/England/MILK-B97003/2020</td>\n",
       "      <td>0.2</td>\n",
       "      <td>1</td>\n",
       "      <td>2020-11-13</td>\n",
       "    </tr>\n",
       "  </tbody>\n",
       "</table>\n",
       "</div>"
      ],
      "text/plain": [
       "   mut_id   pos parent_nucl child_nucl parent_nucl_context child_nucl_context  \\\n",
       "0      14  3676           C          T               atCtt              atTtt   \n",
       "1      15  7118           T          C               ttTta              ttCta   \n",
       "\n",
       "  parent_node                        child_node  phylo_dist  topology_dist  \\\n",
       "0     #54519#  hCoV-19/England/MILK-B97003/2020         0.2              1   \n",
       "1     #54519#  hCoV-19/England/MILK-B97003/2020         0.2              1   \n",
       "\n",
       "        date  \n",
       "0 2020-11-13  \n",
       "1 2020-11-13  "
      ]
     },
     "execution_count": 52,
     "metadata": {},
     "output_type": "execute_result"
    }
   ],
   "source": [
    "merged = pd.merge(df, dates, left_on=\"child_node\", right_on=\"strain\")\n",
    "merged.drop(\"strain\", axis=1, inplace=True)\n",
    "merged.head(2)"
   ]
  },
  {
   "cell_type": "code",
   "execution_count": 53,
   "metadata": {},
   "outputs": [
    {
     "data": {
      "text/plain": [
       "((667153, 10), (667153, 11))"
      ]
     },
     "execution_count": 53,
     "metadata": {},
     "output_type": "execute_result"
    }
   ],
   "source": [
    "df[~df.child_node.str.startswith(\"#\")].shape, merged.shape"
   ]
  },
  {
   "cell_type": "code",
   "execution_count": 58,
   "metadata": {},
   "outputs": [
    {
     "data": {
      "image/png": "[encoded data removed]",
      "text/plain": [
       "<Figure size 576x432 with 1 Axes>"
      ]
     },
     "metadata": {
      "needs_background": "light"
     },
     "output_type": "display_data"
    }
   ],
   "source": [
    "plt.figure(figsize=(8, 6))\n",
    "plt.scatter(merged.date, merged.topology_dist, s=1)\n",
    "plt.xlabel(\"Time\")\n",
    "plt.ylabel(\"Topology_dist to root\")\n",
    "plt.show()"
   ]
  },
  {
   "cell_type": "markdown",
   "metadata": {},
   "source": [
    "### Bad result I think. Need to look at number of mutations on edges"
   ]
  },
  {
   "cell_type": "code",
   "execution_count": 66,
   "metadata": {},
   "outputs": [
    {
     "data": {
      "text/plain": [
       "107640"
      ]
     },
     "execution_count": 66,
     "metadata": {},
     "output_type": "execute_result"
    }
   ],
   "source": [
    "df.child_node.nunique()"
   ]
  },
  {
   "cell_type": "code",
   "execution_count": 69,
   "metadata": {},
   "outputs": [
    {
     "data": {
      "text/html": [
       "<div>\n",
       "<style scoped>\n",
       "    .dataframe tbody tr th:only-of-type {\n",
       "        vertical-align: middle;\n",
       "    }\n",
       "\n",
       "    .dataframe tbody tr th {\n",
       "        vertical-align: top;\n",
       "    }\n",
       "\n",
       "    .dataframe thead th {\n",
       "        text-align: right;\n",
       "    }\n",
       "</style>\n",
       "<table border=\"1\" class=\"dataframe\">\n",
       "  <thead>\n",
       "    <tr style=\"text-align: right;\">\n",
       "      <th></th>\n",
       "      <th>mut_id</th>\n",
       "      <th>pos</th>\n",
       "      <th>parent_nucl</th>\n",
       "      <th>child_nucl</th>\n",
       "      <th>parent_nucl_context</th>\n",
       "      <th>child_nucl_context</th>\n",
       "      <th>parent_node</th>\n",
       "      <th>child_node</th>\n",
       "      <th>phylo_dist</th>\n",
       "      <th>topology_dist</th>\n",
       "    </tr>\n",
       "  </thead>\n",
       "  <tbody>\n",
       "    <tr>\n",
       "      <th>0</th>\n",
       "      <td>0</td>\n",
       "      <td>1086</td>\n",
       "      <td>G</td>\n",
       "      <td>A</td>\n",
       "      <td>gtGtt</td>\n",
       "      <td>gtAtt</td>\n",
       "      <td>#54520#</td>\n",
       "      <td>#54519#</td>\n",
       "      <td>0.1</td>\n",
       "      <td>0</td>\n",
       "    </tr>\n",
       "    <tr>\n",
       "      <th>1</th>\n",
       "      <td>1</td>\n",
       "      <td>3676</td>\n",
       "      <td>T</td>\n",
       "      <td>C</td>\n",
       "      <td>atTtt</td>\n",
       "      <td>atCtt</td>\n",
       "      <td>#54520#</td>\n",
       "      <td>#54519#</td>\n",
       "      <td>0.1</td>\n",
       "      <td>0</td>\n",
       "    </tr>\n",
       "    <tr>\n",
       "      <th>2</th>\n",
       "      <td>2</td>\n",
       "      <td>7118</td>\n",
       "      <td>C</td>\n",
       "      <td>T</td>\n",
       "      <td>ttCta</td>\n",
       "      <td>ttTta</td>\n",
       "      <td>#54520#</td>\n",
       "      <td>#54519#</td>\n",
       "      <td>0.1</td>\n",
       "      <td>0</td>\n",
       "    </tr>\n",
       "    <tr>\n",
       "      <th>3</th>\n",
       "      <td>3</td>\n",
       "      <td>9564</td>\n",
       "      <td>C</td>\n",
       "      <td>T</td>\n",
       "      <td>ttCtt</td>\n",
       "      <td>ttTtt</td>\n",
       "      <td>#54520#</td>\n",
       "      <td>#54519#</td>\n",
       "      <td>0.1</td>\n",
       "      <td>0</td>\n",
       "    </tr>\n",
       "    <tr>\n",
       "      <th>4</th>\n",
       "      <td>4</td>\n",
       "      <td>10322</td>\n",
       "      <td>A</td>\n",
       "      <td>G</td>\n",
       "      <td>taAgg</td>\n",
       "      <td>taGgg</td>\n",
       "      <td>#54520#</td>\n",
       "      <td>#54519#</td>\n",
       "      <td>0.1</td>\n",
       "      <td>0</td>\n",
       "    </tr>\n",
       "  </tbody>\n",
       "</table>\n",
       "</div>"
      ],
      "text/plain": [
       "   mut_id    pos parent_nucl child_nucl parent_nucl_context  \\\n",
       "0       0   1086           G          A               gtGtt   \n",
       "1       1   3676           T          C               atTtt   \n",
       "2       2   7118           C          T               ttCta   \n",
       "3       3   9564           C          T               ttCtt   \n",
       "4       4  10322           A          G               taAgg   \n",
       "\n",
       "  child_nucl_context parent_node child_node  phylo_dist  topology_dist  \n",
       "0              gtAtt     #54520#    #54519#         0.1              0  \n",
       "1              atCtt     #54520#    #54519#         0.1              0  \n",
       "2              ttTta     #54520#    #54519#         0.1              0  \n",
       "3              ttTtt     #54520#    #54519#         0.1              0  \n",
       "4              taGgg     #54520#    #54519#         0.1              0  "
      ]
     },
     "execution_count": 69,
     "metadata": {},
     "output_type": "execute_result"
    }
   ],
   "source": [
    "df.head()"
   ]
  },
  {
   "cell_type": "code",
   "execution_count": 74,
   "metadata": {},
   "outputs": [],
   "source": [
    "gr = df.groupby(\"child_node\")\n",
    "gr_snp = df[(df.parent_nucl != '-') & (df.child_nucl != '-')].groupby(\"child_node\")\n",
    "gr_indel = df[(df.parent_nucl == '-') | (df.child_nucl == '-')].groupby(\"child_node\")"
   ]
  },
  {
   "cell_type": "code",
   "execution_count": 76,
   "metadata": {},
   "outputs": [
    {
     "data": {
      "text/plain": [
       "<AxesSubplot:>"
      ]
     },
     "execution_count": 76,
     "metadata": {},
     "output_type": "execute_result"
    },
    {
     "data": {
      "image/png": "[encoded data removed]",
      "text/plain": [
       "<Figure size 432x288 with 1 Axes>"
      ]
     },
     "metadata": {
      "needs_background": "light"
     },
     "output_type": "display_data"
    }
   ],
   "source": [
    "gr.size().hist()"
   ]
  },
  {
   "cell_type": "code",
   "execution_count": 77,
   "metadata": {},
   "outputs": [
    {
     "data": {
      "text/plain": [
       "<AxesSubplot:>"
      ]
     },
     "execution_count": 77,
     "metadata": {},
     "output_type": "execute_result"
    },
    {
     "data": {
      "image/png": "[encoded data removed]",
      "text/plain": [
       "<Figure size 432x288 with 1 Axes>"
      ]
     },
     "metadata": {
      "needs_background": "light"
     },
     "output_type": "display_data"
    }
   ],
   "source": [
    "gr_snp.size().hist()"
   ]
  },
  {
   "cell_type": "code",
   "execution_count": 78,
   "metadata": {},
   "outputs": [
    {
     "data": {
      "text/plain": [
       "<AxesSubplot:>"
      ]
     },
     "execution_count": 78,
     "metadata": {},
     "output_type": "execute_result"
    },
    {
     "data": {
      "image/png": "[encoded data removed]",
      "text/plain": [
       "<Figure size 432x288 with 1 Axes>"
      ]
     },
     "metadata": {
      "needs_background": "light"
     },
     "output_type": "display_data"
    }
   ],
   "source": [
    "gr_indel.size().hist()"
   ]
  },
  {
   "cell_type": "code",
   "execution_count": null,
   "metadata": {},
   "outputs": [],
   "source": []
  },
  {
   "cell_type": "code",
   "execution_count": null,
   "metadata": {},
   "outputs": [],
   "source": [
    "\n"
   ]
  }
 ],
 "metadata": {
  "interpreter": {
   "hash": "83bd03093b1f97d02e95179d11f9204d360d54a8aa0e9fc5b3a7aced7c03bbd9"
  },
  "kernelspec": {
   "display_name": "Python 3.9.5 64-bit ('env': venv)",
   "language": "python",
   "name": "python3"
  },
  "language_info": {
   "codemirror_mode": {
    "name": "ipython",
    "version": 3
   },
   "file_extension": ".py",
   "mimetype": "text/x-python",
   "name": "python",
   "nbconvert_exporter": "python",
   "pygments_lexer": "ipython3",
   "version": "3.9.5"
  },
  "orig_nbformat": 4
 },
 "nbformat": 4,
 "nbformat_minor": 2
}
