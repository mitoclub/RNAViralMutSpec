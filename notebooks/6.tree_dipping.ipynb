{
 "cells": [
  {
   "cell_type": "code",
   "execution_count": 62,
   "metadata": {},
   "outputs": [],
   "source": [
    "import sys\n",
    "from collections import namedtuple\n",
    "\n",
    "import pandas as pd\n",
    "import matplotlib.pyplot as plt\n",
    "from ete3 import PhyloTree\n",
    "import tqdm\n",
    "from queue import Queue\n",
    "\n",
    "sys.path.append('../scripts/')\n",
    "from utils import node_parent\n",
    "\n",
    "\n",
    "def read_tree(path: str, frmt=1) -> PhyloTree:\n",
    "    tree = PhyloTree(path, format=frmt)\n",
    "    return tree\n",
    "\n",
    "\n",
    "def add_dist2root(substitutions: pd.DataFrame, tree: PhyloTree) -> pd.DataFrame:\n",
    "    \"\"\" \n",
    "    calculate distance to root from each node and assign to mutations in table;\n",
    "    mutation has distance of child node of edge\n",
    "    \"\"\"\n",
    "    phylo_dist = dict()\n",
    "    topology_dist = dict()\n",
    "    phylo_dist[tree.name] = 0\n",
    "    topology_dist[tree.name] = 0\n",
    "\n",
    "    for node in tqdm.tqdm(tree.iter_descendants(), total=len(tree.get_descendants())):\n",
    "        pd = tree.get_distance(node)\n",
    "        td = int(tree.get_distance(node, topology_only=True))\n",
    "       \n",
    "        phylo_dist[node.name] = pd\n",
    "        topology_dist[node.name] = td\n",
    "\n",
    "    assert len(phylo_dist) == len(tree.get_descendants()) + 1\n",
    "    assert len(topology_dist) == len(tree.get_descendants()) + 1\n",
    "\n",
    "    substitutions = substitutions.copy()\n",
    "    substitutions['phylo_dist'] = substitutions.child_node.map(phylo_dist)\n",
    "    substitutions['topology_dist'] = substitutions.child_node.map(topology_dist)\n",
    "    return substitutions\n",
    "    \n",
    "\n",
    "def add_id_col(df: pd.DataFrame, col_name=\"id\"):\n",
    "    \"\"\" add index column at first position \"\"\"\n",
    "    df = df.copy()\n",
    "    columns = list(df.columns)\n",
    "    df[col_name] = df.index\n",
    "    new_columns = [col_name] + columns\n",
    "    df = df[new_columns]\n",
    "    return df"
   ]
  },
  {
   "cell_type": "code",
   "execution_count": 51,
   "metadata": {},
   "outputs": [],
   "source": [
    "tree_path = \"../data/mulal.filtered.fasta.prank.anc.dnd\"\n",
    "mut_path = \"../data/mutations.csv\"\n",
    "tree = read_tree(tree_path)\n",
    "df = pd.read_csv(mut_path)"
   ]
  },
  {
   "cell_type": "code",
   "execution_count": 52,
   "metadata": {},
   "outputs": [
    {
     "data": {
      "text/html": [
       "<div>\n",
       "<style scoped>\n",
       "    .dataframe tbody tr th:only-of-type {\n",
       "        vertical-align: middle;\n",
       "    }\n",
       "\n",
       "    .dataframe tbody tr th {\n",
       "        vertical-align: top;\n",
       "    }\n",
       "\n",
       "    .dataframe thead th {\n",
       "        text-align: right;\n",
       "    }\n",
       "</style>\n",
       "<table border=\"1\" class=\"dataframe\">\n",
       "  <thead>\n",
       "    <tr style=\"text-align: right;\">\n",
       "      <th></th>\n",
       "      <th>pos</th>\n",
       "      <th>parent_nucl</th>\n",
       "      <th>child_nucl</th>\n",
       "      <th>parent_nucl_context</th>\n",
       "      <th>child_nucl_context</th>\n",
       "      <th>parent_node</th>\n",
       "      <th>child_node</th>\n",
       "    </tr>\n",
       "  </thead>\n",
       "  <tbody>\n",
       "    <tr>\n",
       "      <th>0</th>\n",
       "      <td>1086</td>\n",
       "      <td>G</td>\n",
       "      <td>A</td>\n",
       "      <td>gtGtt</td>\n",
       "      <td>gtAtt</td>\n",
       "      <td>#54520#</td>\n",
       "      <td>#54519#</td>\n",
       "    </tr>\n",
       "    <tr>\n",
       "      <th>1</th>\n",
       "      <td>3676</td>\n",
       "      <td>T</td>\n",
       "      <td>C</td>\n",
       "      <td>atTtt</td>\n",
       "      <td>atCtt</td>\n",
       "      <td>#54520#</td>\n",
       "      <td>#54519#</td>\n",
       "    </tr>\n",
       "    <tr>\n",
       "      <th>2</th>\n",
       "      <td>7118</td>\n",
       "      <td>C</td>\n",
       "      <td>T</td>\n",
       "      <td>ttCta</td>\n",
       "      <td>ttTta</td>\n",
       "      <td>#54520#</td>\n",
       "      <td>#54519#</td>\n",
       "    </tr>\n",
       "    <tr>\n",
       "      <th>3</th>\n",
       "      <td>9564</td>\n",
       "      <td>C</td>\n",
       "      <td>T</td>\n",
       "      <td>ttCtt</td>\n",
       "      <td>ttTtt</td>\n",
       "      <td>#54520#</td>\n",
       "      <td>#54519#</td>\n",
       "    </tr>\n",
       "    <tr>\n",
       "      <th>4</th>\n",
       "      <td>10322</td>\n",
       "      <td>A</td>\n",
       "      <td>G</td>\n",
       "      <td>taAgg</td>\n",
       "      <td>taGgg</td>\n",
       "      <td>#54520#</td>\n",
       "      <td>#54519#</td>\n",
       "    </tr>\n",
       "  </tbody>\n",
       "</table>\n",
       "</div>"
      ],
      "text/plain": [
       "     pos parent_nucl child_nucl parent_nucl_context child_nucl_context  \\\n",
       "0   1086           G          A               gtGtt              gtAtt   \n",
       "1   3676           T          C               atTtt              atCtt   \n",
       "2   7118           C          T               ttCta              ttTta   \n",
       "3   9564           C          T               ttCtt              ttTtt   \n",
       "4  10322           A          G               taAgg              taGgg   \n",
       "\n",
       "  parent_node child_node  \n",
       "0     #54520#    #54519#  \n",
       "1     #54520#    #54519#  \n",
       "2     #54520#    #54519#  \n",
       "3     #54520#    #54519#  \n",
       "4     #54520#    #54519#  "
      ]
     },
     "execution_count": 52,
     "metadata": {},
     "output_type": "execute_result"
    }
   ],
   "source": [
    "df.head()"
   ]
  },
  {
   "cell_type": "code",
   "execution_count": 55,
   "metadata": {},
   "outputs": [
    {
     "name": "stderr",
     "output_type": "stream",
     "text": [
      "100%|██████████| 109040/109040 [00:11<00:00, 9637.79it/s]\n"
     ]
    }
   ],
   "source": [
    "df = add_dist2root(df, tree)\n",
    "df = add_id_col(df)"
   ]
  },
  {
   "cell_type": "code",
   "execution_count": 56,
   "metadata": {},
   "outputs": [
    {
     "data": {
      "text/html": [
       "<div>\n",
       "<style scoped>\n",
       "    .dataframe tbody tr th:only-of-type {\n",
       "        vertical-align: middle;\n",
       "    }\n",
       "\n",
       "    .dataframe tbody tr th {\n",
       "        vertical-align: top;\n",
       "    }\n",
       "\n",
       "    .dataframe thead th {\n",
       "        text-align: right;\n",
       "    }\n",
       "</style>\n",
       "<table border=\"1\" class=\"dataframe\">\n",
       "  <thead>\n",
       "    <tr style=\"text-align: right;\">\n",
       "      <th></th>\n",
       "      <th>id</th>\n",
       "      <th>pos</th>\n",
       "      <th>parent_nucl</th>\n",
       "      <th>child_nucl</th>\n",
       "      <th>parent_nucl_context</th>\n",
       "      <th>child_nucl_context</th>\n",
       "      <th>parent_node</th>\n",
       "      <th>child_node</th>\n",
       "      <th>phylo_dist</th>\n",
       "      <th>topology_dist</th>\n",
       "    </tr>\n",
       "  </thead>\n",
       "  <tbody>\n",
       "    <tr>\n",
       "      <th>0</th>\n",
       "      <td>0</td>\n",
       "      <td>1086</td>\n",
       "      <td>G</td>\n",
       "      <td>A</td>\n",
       "      <td>gtGtt</td>\n",
       "      <td>gtAtt</td>\n",
       "      <td>#54520#</td>\n",
       "      <td>#54519#</td>\n",
       "      <td>0.1</td>\n",
       "      <td>0</td>\n",
       "    </tr>\n",
       "    <tr>\n",
       "      <th>1</th>\n",
       "      <td>1</td>\n",
       "      <td>3676</td>\n",
       "      <td>T</td>\n",
       "      <td>C</td>\n",
       "      <td>atTtt</td>\n",
       "      <td>atCtt</td>\n",
       "      <td>#54520#</td>\n",
       "      <td>#54519#</td>\n",
       "      <td>0.1</td>\n",
       "      <td>0</td>\n",
       "    </tr>\n",
       "    <tr>\n",
       "      <th>2</th>\n",
       "      <td>2</td>\n",
       "      <td>7118</td>\n",
       "      <td>C</td>\n",
       "      <td>T</td>\n",
       "      <td>ttCta</td>\n",
       "      <td>ttTta</td>\n",
       "      <td>#54520#</td>\n",
       "      <td>#54519#</td>\n",
       "      <td>0.1</td>\n",
       "      <td>0</td>\n",
       "    </tr>\n",
       "    <tr>\n",
       "      <th>3</th>\n",
       "      <td>3</td>\n",
       "      <td>9564</td>\n",
       "      <td>C</td>\n",
       "      <td>T</td>\n",
       "      <td>ttCtt</td>\n",
       "      <td>ttTtt</td>\n",
       "      <td>#54520#</td>\n",
       "      <td>#54519#</td>\n",
       "      <td>0.1</td>\n",
       "      <td>0</td>\n",
       "    </tr>\n",
       "    <tr>\n",
       "      <th>4</th>\n",
       "      <td>4</td>\n",
       "      <td>10322</td>\n",
       "      <td>A</td>\n",
       "      <td>G</td>\n",
       "      <td>taAgg</td>\n",
       "      <td>taGgg</td>\n",
       "      <td>#54520#</td>\n",
       "      <td>#54519#</td>\n",
       "      <td>0.1</td>\n",
       "      <td>0</td>\n",
       "    </tr>\n",
       "  </tbody>\n",
       "</table>\n",
       "</div>"
      ],
      "text/plain": [
       "   id    pos parent_nucl child_nucl parent_nucl_context child_nucl_context  \\\n",
       "0   0   1086           G          A               gtGtt              gtAtt   \n",
       "1   1   3676           T          C               atTtt              atCtt   \n",
       "2   2   7118           C          T               ttCta              ttTta   \n",
       "3   3   9564           C          T               ttCtt              ttTtt   \n",
       "4   4  10322           A          G               taAgg              taGgg   \n",
       "\n",
       "  parent_node child_node  phylo_dist  topology_dist  \n",
       "0     #54520#    #54519#         0.1              0  \n",
       "1     #54520#    #54519#         0.1              0  \n",
       "2     #54520#    #54519#         0.1              0  \n",
       "3     #54520#    #54519#         0.1              0  \n",
       "4     #54520#    #54519#         0.1              0  "
      ]
     },
     "execution_count": 56,
     "metadata": {},
     "output_type": "execute_result"
    }
   ],
   "source": [
    "df.head()"
   ]
  },
  {
   "cell_type": "code",
   "execution_count": 57,
   "metadata": {},
   "outputs": [
    {
     "data": {
      "text/html": [
       "<div>\n",
       "<style scoped>\n",
       "    .dataframe tbody tr th:only-of-type {\n",
       "        vertical-align: middle;\n",
       "    }\n",
       "\n",
       "    .dataframe tbody tr th {\n",
       "        vertical-align: top;\n",
       "    }\n",
       "\n",
       "    .dataframe thead th {\n",
       "        text-align: right;\n",
       "    }\n",
       "</style>\n",
       "<table border=\"1\" class=\"dataframe\">\n",
       "  <thead>\n",
       "    <tr style=\"text-align: right;\">\n",
       "      <th></th>\n",
       "      <th>id</th>\n",
       "      <th>pos</th>\n",
       "      <th>phylo_dist</th>\n",
       "      <th>topology_dist</th>\n",
       "    </tr>\n",
       "  </thead>\n",
       "  <tbody>\n",
       "    <tr>\n",
       "      <th>id</th>\n",
       "      <td>1.000000</td>\n",
       "      <td>-0.002646</td>\n",
       "      <td>0.977783</td>\n",
       "      <td>0.977783</td>\n",
       "    </tr>\n",
       "    <tr>\n",
       "      <th>pos</th>\n",
       "      <td>-0.002646</td>\n",
       "      <td>1.000000</td>\n",
       "      <td>-0.004478</td>\n",
       "      <td>-0.004478</td>\n",
       "    </tr>\n",
       "    <tr>\n",
       "      <th>phylo_dist</th>\n",
       "      <td>0.977783</td>\n",
       "      <td>-0.004478</td>\n",
       "      <td>1.000000</td>\n",
       "      <td>1.000000</td>\n",
       "    </tr>\n",
       "    <tr>\n",
       "      <th>topology_dist</th>\n",
       "      <td>0.977783</td>\n",
       "      <td>-0.004478</td>\n",
       "      <td>1.000000</td>\n",
       "      <td>1.000000</td>\n",
       "    </tr>\n",
       "  </tbody>\n",
       "</table>\n",
       "</div>"
      ],
      "text/plain": [
       "                     id       pos  phylo_dist  topology_dist\n",
       "id             1.000000 -0.002646    0.977783       0.977783\n",
       "pos           -0.002646  1.000000   -0.004478      -0.004478\n",
       "phylo_dist     0.977783 -0.004478    1.000000       1.000000\n",
       "topology_dist  0.977783 -0.004478    1.000000       1.000000"
      ]
     },
     "execution_count": 57,
     "metadata": {},
     "output_type": "execute_result"
    }
   ],
   "source": [
    "df.corr()"
   ]
  },
  {
   "cell_type": "code",
   "execution_count": 67,
   "metadata": {},
   "outputs": [
    {
     "data": {
      "text/plain": [
       "<AxesSubplot:>"
      ]
     },
     "execution_count": 67,
     "metadata": {},
     "output_type": "execute_result"
    },
    {
     "data": {
      "image/png": "[encoded data removed]",
      "text/plain": [
       "<Figure size 432x288 with 1 Axes>"
      ]
     },
     "metadata": {
      "needs_background": "light"
     },
     "output_type": "display_data"
    }
   ],
   "source": [
    "df.topology_dist.hist()"
   ]
  },
  {
   "cell_type": "code",
   "execution_count": 60,
   "metadata": {},
   "outputs": [
    {
     "name": "stderr",
     "output_type": "stream",
     "text": [
      "100%|██████████| 109040/109040 [00:11<00:00, 9563.57it/s]\n"
     ]
    }
   ],
   "source": [
    "# func fragment to calculate dictribution of distances\n",
    "\n",
    "phylo_dist = dict()\n",
    "topology_dist = dict()\n",
    "phylo_dist[tree.name] = 0\n",
    "topology_dist[tree.name] = 0\n",
    "\n",
    "for node in tqdm.tqdm(tree.iter_descendants(), total=len(tree.get_descendants())):\n",
    "    pd = tree.get_distance(node)\n",
    "    td = int(tree.get_distance(node, topology_only=True))\n",
    "    \n",
    "    phylo_dist[node.name] = pd\n",
    "    topology_dist[node.name] = td\n",
    "\n",
    "assert len(phylo_dist) == len(tree.get_descendants()) + 1\n",
    "assert len(topology_dist) == len(tree.get_descendants()) + 1"
   ]
  },
  {
   "cell_type": "code",
   "execution_count": 66,
   "metadata": {},
   "outputs": [
    {
     "data": {
      "image/png": "[encoded data removed]",
      "text/plain": [
       "<Figure size 432x288 with 1 Axes>"
      ]
     },
     "metadata": {
      "needs_background": "light"
     },
     "output_type": "display_data"
    }
   ],
   "source": [
    "plt.hist(list(topology_dist.values()));"
   ]
  },
  {
   "cell_type": "code",
   "execution_count": null,
   "metadata": {},
   "outputs": [
    {
     "data": {
      "text/html": [
       "<div>\n",
       "<style scoped>\n",
       "    .dataframe tbody tr th:only-of-type {\n",
       "        vertical-align: middle;\n",
       "    }\n",
       "\n",
       "    .dataframe tbody tr th {\n",
       "        vertical-align: top;\n",
       "    }\n",
       "\n",
       "    .dataframe thead th {\n",
       "        text-align: right;\n",
       "    }\n",
       "</style>\n",
       "<table border=\"1\" class=\"dataframe\">\n",
       "  <thead>\n",
       "    <tr style=\"text-align: right;\">\n",
       "      <th></th>\n",
       "      <th>strain</th>\n",
       "      <th>gisaid_epi_isl</th>\n",
       "      <th>date</th>\n",
       "      <th>region</th>\n",
       "      <th>country</th>\n",
       "      <th>length</th>\n",
       "      <th>age</th>\n",
       "      <th>sex</th>\n",
       "      <th>pangolin_lineage</th>\n",
       "      <th>GISAID_clade</th>\n",
       "      <th>originating_lab</th>\n",
       "      <th>date_submitted</th>\n",
       "    </tr>\n",
       "  </thead>\n",
       "  <tbody>\n",
       "    <tr>\n",
       "      <th>2380890</th>\n",
       "      <td>hCoV-19/Japan/YCH0356/2021</td>\n",
       "      <td>EPI_ISL_2978731</td>\n",
       "      <td>2021-07-06</td>\n",
       "      <td>Asia</td>\n",
       "      <td>Japan</td>\n",
       "      <td>29816</td>\n",
       "      <td>89</td>\n",
       "      <td>Female</td>\n",
       "      <td>B.1.1.7</td>\n",
       "      <td>O</td>\n",
       "      <td>Genome Analysis Center, Yamanashi Central Hosp...</td>\n",
       "      <td>2021-07-16</td>\n",
       "    </tr>\n",
       "    <tr>\n",
       "      <th>2380891</th>\n",
       "      <td>hCoV-19/Japan/YCH0356/2021</td>\n",
       "      <td>EPI_ISL_2978732</td>\n",
       "      <td>2021-07-06</td>\n",
       "      <td>Asia</td>\n",
       "      <td>Japan</td>\n",
       "      <td>29816</td>\n",
       "      <td>85</td>\n",
       "      <td>Male</td>\n",
       "      <td>B.1.1.7</td>\n",
       "      <td>O</td>\n",
       "      <td>Genome Analysis Center, Yamanashi Central Hosp...</td>\n",
       "      <td>2021-07-16</td>\n",
       "    </tr>\n",
       "    <tr>\n",
       "      <th>2380892</th>\n",
       "      <td>hCoV-19/Japan/YCH0356/2021</td>\n",
       "      <td>EPI_ISL_2978733</td>\n",
       "      <td>2021-07-11</td>\n",
       "      <td>Asia</td>\n",
       "      <td>Japan</td>\n",
       "      <td>29816</td>\n",
       "      <td>22</td>\n",
       "      <td>Male</td>\n",
       "      <td>B.1.1.7</td>\n",
       "      <td>O</td>\n",
       "      <td>Department of Microbiology, Yamanashi Institut...</td>\n",
       "      <td>2021-07-16</td>\n",
       "    </tr>\n",
       "    <tr>\n",
       "      <th>2380893</th>\n",
       "      <td>hCoV-19/Japan/YCH0356/2021</td>\n",
       "      <td>EPI_ISL_2978734</td>\n",
       "      <td>2021-07-12</td>\n",
       "      <td>Asia</td>\n",
       "      <td>Japan</td>\n",
       "      <td>29816</td>\n",
       "      <td>26</td>\n",
       "      <td>Female</td>\n",
       "      <td>B.1.1.7</td>\n",
       "      <td>O</td>\n",
       "      <td>Department of Microbiology, Yamanashi Institut...</td>\n",
       "      <td>2021-07-16</td>\n",
       "    </tr>\n",
       "    <tr>\n",
       "      <th>2380894</th>\n",
       "      <td>hCoV-19/Japan/YCH0356/2021</td>\n",
       "      <td>EPI_ISL_2978735</td>\n",
       "      <td>2021-07-13</td>\n",
       "      <td>Asia</td>\n",
       "      <td>Japan</td>\n",
       "      <td>29816</td>\n",
       "      <td>39</td>\n",
       "      <td>Female</td>\n",
       "      <td>B.1.1.7</td>\n",
       "      <td>O</td>\n",
       "      <td>Department of Microbiology, Yamanashi Institut...</td>\n",
       "      <td>2021-07-16</td>\n",
       "    </tr>\n",
       "    <tr>\n",
       "      <th>2380895</th>\n",
       "      <td>hCoV-19/Japan/YCH0356/2021</td>\n",
       "      <td>EPI_ISL_2978736</td>\n",
       "      <td>2021-07-14</td>\n",
       "      <td>Asia</td>\n",
       "      <td>Japan</td>\n",
       "      <td>29816</td>\n",
       "      <td>22</td>\n",
       "      <td>Male</td>\n",
       "      <td>B.1.1.7</td>\n",
       "      <td>O</td>\n",
       "      <td>Department of Microbiology, Yamanashi Institut...</td>\n",
       "      <td>2021-07-16</td>\n",
       "    </tr>\n",
       "    <tr>\n",
       "      <th>2380896</th>\n",
       "      <td>hCoV-19/Japan/YCH0356/2021</td>\n",
       "      <td>EPI_ISL_2978737</td>\n",
       "      <td>2021-07-14</td>\n",
       "      <td>Asia</td>\n",
       "      <td>Japan</td>\n",
       "      <td>29816</td>\n",
       "      <td>37</td>\n",
       "      <td>Male</td>\n",
       "      <td>B.1.1.7</td>\n",
       "      <td>O</td>\n",
       "      <td>Department of Microbiology, Yamanashi Institut...</td>\n",
       "      <td>2021-07-16</td>\n",
       "    </tr>\n",
       "  </tbody>\n",
       "</table>\n",
       "</div>"
      ],
      "text/plain": [
       "                             strain   gisaid_epi_isl       date region  \\\n",
       "2380890  hCoV-19/Japan/YCH0356/2021  EPI_ISL_2978731 2021-07-06   Asia   \n",
       "2380891  hCoV-19/Japan/YCH0356/2021  EPI_ISL_2978732 2021-07-06   Asia   \n",
       "2380892  hCoV-19/Japan/YCH0356/2021  EPI_ISL_2978733 2021-07-11   Asia   \n",
       "2380893  hCoV-19/Japan/YCH0356/2021  EPI_ISL_2978734 2021-07-12   Asia   \n",
       "2380894  hCoV-19/Japan/YCH0356/2021  EPI_ISL_2978735 2021-07-13   Asia   \n",
       "2380895  hCoV-19/Japan/YCH0356/2021  EPI_ISL_2978736 2021-07-14   Asia   \n",
       "2380896  hCoV-19/Japan/YCH0356/2021  EPI_ISL_2978737 2021-07-14   Asia   \n",
       "\n",
       "        country  length age     sex pangolin_lineage GISAID_clade  \\\n",
       "2380890   Japan   29816  89  Female          B.1.1.7            O   \n",
       "2380891   Japan   29816  85    Male          B.1.1.7            O   \n",
       "2380892   Japan   29816  22    Male          B.1.1.7            O   \n",
       "2380893   Japan   29816  26  Female          B.1.1.7            O   \n",
       "2380894   Japan   29816  39  Female          B.1.1.7            O   \n",
       "2380895   Japan   29816  22    Male          B.1.1.7            O   \n",
       "2380896   Japan   29816  37    Male          B.1.1.7            O   \n",
       "\n",
       "                                           originating_lab date_submitted  \n",
       "2380890  Genome Analysis Center, Yamanashi Central Hosp...     2021-07-16  \n",
       "2380891  Genome Analysis Center, Yamanashi Central Hosp...     2021-07-16  \n",
       "2380892  Department of Microbiology, Yamanashi Institut...     2021-07-16  \n",
       "2380893  Department of Microbiology, Yamanashi Institut...     2021-07-16  \n",
       "2380894  Department of Microbiology, Yamanashi Institut...     2021-07-16  \n",
       "2380895  Department of Microbiology, Yamanashi Institut...     2021-07-16  \n",
       "2380896  Department of Microbiology, Yamanashi Institut...     2021-07-16  "
      ]
     },
     "metadata": {},
     "output_type": "display_data"
    }
   ],
   "source": [
    "meta_clean[meta_clean.strain == \"hCoV-19/Japan/YCH0356/2021\"]"
   ]
  },
  {
   "cell_type": "code",
   "execution_count": null,
   "metadata": {},
   "outputs": [],
   "source": []
  },
  {
   "cell_type": "code",
   "execution_count": null,
   "metadata": {},
   "outputs": [],
   "source": []
  },
  {
   "cell_type": "code",
   "execution_count": null,
   "metadata": {},
   "outputs": [],
   "source": [
    "\n",
    "dist = dict()\n",
    "q = Queue()\n",
    "dist[tree.name] = 0\n",
    "for child in tree.children:\n",
    "    q.put(child)\n",
    "\n",
    "while not q.empty():\n",
    "    node: PhyloTree = q.get()\n",
    "    dist[node.name] = dist[node_parent(node).name] + 1\n",
    "    for child in node.children:\n",
    "        q.put(child)\n",
    "\n",
    "assert len(dist) == len(tree.get_descendants()) + 1\n"
   ]
  },
  {
   "cell_type": "code",
   "execution_count": 11,
   "metadata": {},
   "outputs": [
    {
     "data": {
      "image/png": "[encoded data removed]",
      "text/plain": [
       "<Figure size 432x288 with 1 Axes>"
      ]
     },
     "metadata": {
      "needs_background": "light"
     },
     "output_type": "display_data"
    }
   ],
   "source": [
    "d = list(dist.values())\n",
    "\n",
    "plt.hist(d);"
   ]
  }
 ],
 "metadata": {
  "kernelspec": {
   "display_name": "Python 3.9.5 ('env_bio')",
   "language": "python",
   "name": "python3"
  },
  "language_info": {
   "codemirror_mode": {
    "name": "ipython",
    "version": 3
   },
   "file_extension": ".py",
   "mimetype": "text/x-python",
   "name": "python",
   "nbconvert_exporter": "python",
   "pygments_lexer": "ipython3",
   "version": "3.9.5"
  },
  "orig_nbformat": 4,
  "vscode": {
   "interpreter": {
    "hash": "c737589ac25c2b5207a58295544dae93bde342e9f173b68ed1d9625ade55517f"
   }
  }
 },
 "nbformat": 4,
 "nbformat_minor": 2
}
