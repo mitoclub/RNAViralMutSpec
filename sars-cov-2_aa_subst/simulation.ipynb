{
 "cells": [
  {
   "cell_type": "code",
   "execution_count": 1,
   "id": "e2f5b111",
   "metadata": {},
   "outputs": [],
   "source": [
    "import numpy as np\n",
    "import pandas as pd\n",
    "import matplotlib.pyplot as plt\n"
   ]
  },
  {
   "cell_type": "code",
   "execution_count": 15,
   "id": "a229aece",
   "metadata": {},
   "outputs": [],
   "source": [
    "# Assuming you have:\n",
    "# transition_matrix - 64x64 numpy array\n",
    "# initial_vector - 1x64 numpy array (or 64x1, will need to transpose if needed)\n",
    "\n",
    "def simulate_markov(transition_matrix, initial_vector, num_iterations):\n",
    "    current_state = initial_vector\n",
    "    for _ in range(num_iterations):\n",
    "        current_state = np.dot(current_state, transition_matrix)\n",
    "        print(f\"Current state after iteration: {current_state[:5]}\")\n",
    "    return current_state\n",
    "\n",
    "\n",
    "def simulate_markov_power(transition_matrix, initial_vector, num_iterations):\n",
    "    powered_matrix = np.linalg.matrix_power(transition_matrix, num_iterations)\n",
    "    return np.dot(initial_vector, powered_matrix)"
   ]
  },
  {
   "cell_type": "code",
   "execution_count": null,
   "id": "361bc837",
   "metadata": {},
   "outputs": [],
   "source": [
    "# read cds of full proteome\n",
    "# caclulate transition matrix from spectrum\n"
   ]
  },
  {
   "cell_type": "code",
   "execution_count": 17,
   "id": "3540c5d3",
   "metadata": {},
   "outputs": [
    {
     "name": "stdout",
     "output_type": "stream",
     "text": [
      "Current state after iteration: [0.01415406 0.01631691 0.01646024 0.014585   0.01564774]\n",
      "Current state after iteration: [0.0147629  0.01641658 0.01719909 0.01479115 0.01601034]\n",
      "Current state after iteration: [0.01477424 0.0164538  0.01712154 0.01480823 0.01602121]\n",
      "Current state after iteration: [0.01477343 0.0164477  0.01712531 0.01480268 0.01602277]\n",
      "Current state after iteration: [0.01477353 0.01644763 0.0171254  0.01480216 0.01602277]\n",
      "Current state after iteration: [0.01477355 0.0164476  0.01712541 0.01480213 0.01602277]\n",
      "Current state after iteration: [0.01477355 0.0164476  0.01712541 0.01480212 0.01602277]\n",
      "Current state after iteration: [0.01477355 0.0164476  0.01712541 0.01480212 0.01602277]\n",
      "Current state after iteration: [0.01477355 0.0164476  0.01712541 0.01480212 0.01602277]\n",
      "Current state after iteration: [0.01477355 0.0164476  0.01712541 0.01480212 0.01602277]\n",
      "Current state after iteration: [0.01477355 0.0164476  0.01712541 0.01480212 0.01602277]\n",
      "Current state after iteration: [0.01477355 0.0164476  0.01712541 0.01480212 0.01602277]\n",
      "Current state after iteration: [0.01477355 0.0164476  0.01712541 0.01480212 0.01602277]\n",
      "Current state after iteration: [0.01477355 0.0164476  0.01712541 0.01480212 0.01602277]\n",
      "Current state after iteration: [0.01477355 0.0164476  0.01712541 0.01480212 0.01602277]\n",
      "Current state after iteration: [0.01477355 0.0164476  0.01712541 0.01480212 0.01602277]\n",
      "Current state after iteration: [0.01477355 0.0164476  0.01712541 0.01480212 0.01602277]\n",
      "Current state after iteration: [0.01477355 0.0164476  0.01712541 0.01480212 0.01602277]\n",
      "Current state after iteration: [0.01477355 0.0164476  0.01712541 0.01480212 0.01602277]\n",
      "Current state after iteration: [0.01477355 0.0164476  0.01712541 0.01480212 0.01602277]\n",
      "Current state after iteration: [0.01477355 0.0164476  0.01712541 0.01480212 0.01602277]\n",
      "Current state after iteration: [0.01477355 0.0164476  0.01712541 0.01480212 0.01602277]\n",
      "Current state after iteration: [0.01477355 0.0164476  0.01712541 0.01480212 0.01602277]\n",
      "Current state after iteration: [0.01477355 0.0164476  0.01712541 0.01480212 0.01602277]\n",
      "Current state after iteration: [0.01477355 0.0164476  0.01712541 0.01480212 0.01602277]\n",
      "Current state after iteration: [0.01477355 0.0164476  0.01712541 0.01480212 0.01602277]\n",
      "Current state after iteration: [0.01477355 0.0164476  0.01712541 0.01480212 0.01602277]\n",
      "Current state after iteration: [0.01477355 0.0164476  0.01712541 0.01480212 0.01602277]\n",
      "Current state after iteration: [0.01477355 0.0164476  0.01712541 0.01480212 0.01602277]\n",
      "Current state after iteration: [0.01477355 0.0164476  0.01712541 0.01480212 0.01602277]\n",
      "Current state after iteration: [0.01477355 0.0164476  0.01712541 0.01480212 0.01602277]\n",
      "Current state after iteration: [0.01477355 0.0164476  0.01712541 0.01480212 0.01602277]\n",
      "Current state after iteration: [0.01477355 0.0164476  0.01712541 0.01480212 0.01602277]\n",
      "Current state after iteration: [0.01477355 0.0164476  0.01712541 0.01480212 0.01602277]\n",
      "Current state after iteration: [0.01477355 0.0164476  0.01712541 0.01480212 0.01602277]\n",
      "Current state after iteration: [0.01477355 0.0164476  0.01712541 0.01480212 0.01602277]\n",
      "Current state after iteration: [0.01477355 0.0164476  0.01712541 0.01480212 0.01602277]\n",
      "Current state after iteration: [0.01477355 0.0164476  0.01712541 0.01480212 0.01602277]\n",
      "Current state after iteration: [0.01477355 0.0164476  0.01712541 0.01480212 0.01602277]\n",
      "Current state after iteration: [0.01477355 0.0164476  0.01712541 0.01480212 0.01602277]\n",
      "Current state after iteration: [0.01477355 0.0164476  0.01712541 0.01480212 0.01602277]\n",
      "Current state after iteration: [0.01477355 0.0164476  0.01712541 0.01480212 0.01602277]\n",
      "Current state after iteration: [0.01477355 0.0164476  0.01712541 0.01480212 0.01602277]\n",
      "Current state after iteration: [0.01477355 0.0164476  0.01712541 0.01480212 0.01602277]\n",
      "Current state after iteration: [0.01477355 0.0164476  0.01712541 0.01480212 0.01602277]\n",
      "Current state after iteration: [0.01477355 0.0164476  0.01712541 0.01480212 0.01602277]\n",
      "Current state after iteration: [0.01477355 0.0164476  0.01712541 0.01480212 0.01602277]\n",
      "Current state after iteration: [0.01477355 0.0164476  0.01712541 0.01480212 0.01602277]\n",
      "Current state after iteration: [0.01477355 0.0164476  0.01712541 0.01480212 0.01602277]\n",
      "Current state after iteration: [0.01477355 0.0164476  0.01712541 0.01480212 0.01602277]\n",
      "Current state after iteration: [0.01477355 0.0164476  0.01712541 0.01480212 0.01602277]\n",
      "Current state after iteration: [0.01477355 0.0164476  0.01712541 0.01480212 0.01602277]\n",
      "Current state after iteration: [0.01477355 0.0164476  0.01712541 0.01480212 0.01602277]\n",
      "Current state after iteration: [0.01477355 0.0164476  0.01712541 0.01480212 0.01602277]\n",
      "Current state after iteration: [0.01477355 0.0164476  0.01712541 0.01480212 0.01602277]\n",
      "Current state after iteration: [0.01477355 0.0164476  0.01712541 0.01480212 0.01602277]\n",
      "Current state after iteration: [0.01477355 0.0164476  0.01712541 0.01480212 0.01602277]\n",
      "Current state after iteration: [0.01477355 0.0164476  0.01712541 0.01480212 0.01602277]\n",
      "Current state after iteration: [0.01477355 0.0164476  0.01712541 0.01480212 0.01602277]\n",
      "Current state after iteration: [0.01477355 0.0164476  0.01712541 0.01480212 0.01602277]\n",
      "Current state after iteration: [0.01477355 0.0164476  0.01712541 0.01480212 0.01602277]\n",
      "Current state after iteration: [0.01477355 0.0164476  0.01712541 0.01480212 0.01602277]\n",
      "Current state after iteration: [0.01477355 0.0164476  0.01712541 0.01480212 0.01602277]\n",
      "Current state after iteration: [0.01477355 0.0164476  0.01712541 0.01480212 0.01602277]\n",
      "Current state after iteration: [0.01477355 0.0164476  0.01712541 0.01480212 0.01602277]\n",
      "Current state after iteration: [0.01477355 0.0164476  0.01712541 0.01480212 0.01602277]\n",
      "Current state after iteration: [0.01477355 0.0164476  0.01712541 0.01480212 0.01602277]\n",
      "Current state after iteration: [0.01477355 0.0164476  0.01712541 0.01480212 0.01602277]\n",
      "Current state after iteration: [0.01477355 0.0164476  0.01712541 0.01480212 0.01602277]\n",
      "Current state after iteration: [0.01477355 0.0164476  0.01712541 0.01480212 0.01602277]\n",
      "Current state after iteration: [0.01477355 0.0164476  0.01712541 0.01480212 0.01602277]\n",
      "Current state after iteration: [0.01477355 0.0164476  0.01712541 0.01480212 0.01602277]\n",
      "Current state after iteration: [0.01477355 0.0164476  0.01712541 0.01480212 0.01602277]\n",
      "Current state after iteration: [0.01477355 0.0164476  0.01712541 0.01480212 0.01602277]\n",
      "Current state after iteration: [0.01477355 0.0164476  0.01712541 0.01480212 0.01602277]\n",
      "Current state after iteration: [0.01477355 0.0164476  0.01712541 0.01480212 0.01602277]\n",
      "Current state after iteration: [0.01477355 0.0164476  0.01712541 0.01480212 0.01602277]\n",
      "Current state after iteration: [0.01477355 0.0164476  0.01712541 0.01480212 0.01602277]\n",
      "Current state after iteration: [0.01477355 0.0164476  0.01712541 0.01480212 0.01602277]\n",
      "Current state after iteration: [0.01477355 0.0164476  0.01712541 0.01480212 0.01602277]\n",
      "Current state after iteration: [0.01477355 0.0164476  0.01712541 0.01480212 0.01602277]\n",
      "Current state after iteration: [0.01477355 0.0164476  0.01712541 0.01480212 0.01602277]\n",
      "Current state after iteration: [0.01477355 0.0164476  0.01712541 0.01480212 0.01602277]\n",
      "Current state after iteration: [0.01477355 0.0164476  0.01712541 0.01480212 0.01602277]\n",
      "Current state after iteration: [0.01477355 0.0164476  0.01712541 0.01480212 0.01602277]\n",
      "Current state after iteration: [0.01477355 0.0164476  0.01712541 0.01480212 0.01602277]\n",
      "Current state after iteration: [0.01477355 0.0164476  0.01712541 0.01480212 0.01602277]\n",
      "Current state after iteration: [0.01477355 0.0164476  0.01712541 0.01480212 0.01602277]\n",
      "Current state after iteration: [0.01477355 0.0164476  0.01712541 0.01480212 0.01602277]\n",
      "Current state after iteration: [0.01477355 0.0164476  0.01712541 0.01480212 0.01602277]\n",
      "Current state after iteration: [0.01477355 0.0164476  0.01712541 0.01480212 0.01602277]\n",
      "Current state after iteration: [0.01477355 0.0164476  0.01712541 0.01480212 0.01602277]\n",
      "Current state after iteration: [0.01477355 0.0164476  0.01712541 0.01480212 0.01602277]\n",
      "Current state after iteration: [0.01477355 0.0164476  0.01712541 0.01480212 0.01602277]\n",
      "Current state after iteration: [0.01477355 0.0164476  0.01712541 0.01480212 0.01602277]\n",
      "Current state after iteration: [0.01477355 0.0164476  0.01712541 0.01480212 0.01602277]\n",
      "Current state after iteration: [0.01477355 0.0164476  0.01712541 0.01480212 0.01602277]\n",
      "Current state after iteration: [0.01477355 0.0164476  0.01712541 0.01480212 0.01602277]\n",
      "Current state after iteration: [0.01477355 0.0164476  0.01712541 0.01480212 0.01602277]\n",
      "Current state after iteration: [0.01477355 0.0164476  0.01712541 0.01480212 0.01602277]\n"
     ]
    }
   ],
   "source": [
    "# Create a random 64x64 transition matrix (rows sum to 1)\n",
    "transition_matrix = np.random.rand(64, 64)\n",
    "transition_matrix = transition_matrix / transition_matrix.sum(axis=1, keepdims=True)\n",
    "\n",
    "# Create a random initial probability vector (sums to 1)\n",
    "initial_vector = np.random.rand(64)\n",
    "initial_vector = initial_vector / initial_vector.sum()\n",
    "\n",
    "# Run 100 iterations\n",
    "result = simulate_markov(transition_matrix, initial_vector, 100)\n",
    "# print(result)"
   ]
  },
  {
   "cell_type": "code",
   "execution_count": null,
   "id": "f9801106",
   "metadata": {},
   "outputs": [
    {
     "name": "stdout",
     "output_type": "stream",
     "text": [
      "[0.01766681 0.01493436 0.01730691 0.01456401 0.01806449 0.01593828\n",
      " 0.01585003 0.01682262 0.01629439 0.01531913 0.01395805 0.01568287\n",
      " 0.01583625 0.01624106 0.01671092 0.01744115 0.01606366 0.01801877\n",
      " 0.01523116 0.01648605 0.01442255 0.01409631 0.01544474 0.01680914\n",
      " 0.01659947 0.01715618 0.01413501 0.01592202 0.01434678 0.01508118\n",
      " 0.01434343 0.0145671  0.01596697 0.01424543 0.01572329 0.01401728\n",
      " 0.01419798 0.01600666 0.01484067 0.01482251 0.01491952 0.01592255\n",
      " 0.01600862 0.01566378 0.0160215  0.01598121 0.01529994 0.01415771\n",
      " 0.01446273 0.0156333  0.01578723 0.01529678 0.01637806 0.01558807\n",
      " 0.01628312 0.01632156 0.01558149 0.01426011 0.01594996 0.01589215\n",
      " 0.01672819 0.01529541 0.01433922 0.01505212]\n"
     ]
    }
   ],
   "source": [
    "# Run 100 iterations\n",
    "result = simulate_markov_power(transition_matrix, initial_vector, 1)\n",
    "print(result)"
   ]
  }
 ],
 "metadata": {
  "kernelspec": {
   "display_name": ".venv_bio",
   "language": "python",
   "name": "python3"
  },
  "language_info": {
   "codemirror_mode": {
    "name": "ipython",
    "version": 3
   },
   "file_extension": ".py",
   "mimetype": "text/x-python",
   "name": "python",
   "nbconvert_exporter": "python",
   "pygments_lexer": "ipython3",
   "version": "3.13.3"
  }
 },
 "nbformat": 4,
 "nbformat_minor": 5
}
